{
  "nbformat": 4,
  "nbformat_minor": 0,
  "metadata": {
    "colab": {
      "provenance": [],
      "include_colab_link": true
    },
    "kernelspec": {
      "name": "python3",
      "display_name": "Python 3"
    },
    "language_info": {
      "name": "python"
    }
  },
  "cells": [
    {
      "cell_type": "markdown",
      "metadata": {
        "id": "view-in-github",
        "colab_type": "text"
      },
      "source": [
        "<a href=\"https://colab.research.google.com/github/Dyl-cmyk/datascience/blob/Notes/Copy_of_Unit1NotesSF.ipynb\" target=\"_parent\"><img src=\"https://colab.research.google.com/assets/colab-badge.svg\" alt=\"Open In Colab\"/></a>"
      ]
    },
    {
      "cell_type": "markdown",
      "source": [
        "# Unit 1: Python Crash Course\n",
        "\n",
        "This is a crash course in the basics of python and data manipulation.\n",
        "\n",
        "Our goal is get vulnerable and exposed to some common ways to manipulate data in python, and learn some practical skills along the way.\n",
        "\n",
        "We will:\n",
        "\n",
        "1. Use variables to do basic operations.\n",
        "2. Explore the built in data structures we'll use: int, float, string, list, and dict\n",
        "3. Create and Manipulate Numpy Arrays\n",
        "4. Import and Manipulate Pandas Dataframes (plus cover bools)\n",
        "5. Use for loops to support Dataframe queries\n",
        "6. Export Data from Colab\n",
        "\n",
        "Will this unit cover all the python you'll need to ace this course?\n",
        "\n",
        "No.\n",
        "\n",
        "Will this feel like way too much information?\n",
        "\n",
        "Probably.\n",
        "\n",
        "But don't worry, you've got this! We'll learn as we go, and as we go you'll see me consisitently type \"how to \\___ in python\" or \"how to \\___ with pandas\" into google. You will learn to do the same.\n",
        "\n",
        "Let this be Lesson 0: **you don't need to know everything, you just need to know enough to ask for what you need**.\n"
      ],
      "metadata": {
        "id": "8NmSIRxdEMOm"
      }
    },
    {
      "cell_type": "markdown",
      "source": [
        "##Arithmetic with ints\n",
        "Let's start your journey into the world of data science with good ole' fashion addition, subtraction, and mutliplication. Let yourself wonder why I'm saving division for later."
      ],
      "metadata": {
        "id": "xlniv8ZUrj4S"
      }
    },
    {
      "cell_type": "code",
      "source": [
        "#Adding in python works inuitively. Not that python automatically prints the result of any operation\n",
        "3 + 2"
      ],
      "metadata": {
        "id": "lA_t51FKsBnR",
        "colab": {
          "base_uri": "https://localhost:8080/"
        },
        "outputId": "23071974-2f40-40e8-b0b4-774633c202dd"
      },
      "execution_count": 1,
      "outputs": [
        {
          "output_type": "execute_result",
          "data": {
            "text/plain": [
              "5"
            ]
          },
          "metadata": {},
          "execution_count": 1
        }
      ]
    },
    {
      "cell_type": "code",
      "source": [
        "#same with subtraction\n",
        "3 - 2"
      ],
      "metadata": {
        "id": "ud6x_r7KsMWN",
        "colab": {
          "base_uri": "https://localhost:8080/"
        },
        "outputId": "a5511149-6324-4e6f-cac6-692992d2620a"
      },
      "execution_count": 2,
      "outputs": [
        {
          "output_type": "execute_result",
          "data": {
            "text/plain": [
              "1"
            ]
          },
          "metadata": {},
          "execution_count": 2
        }
      ]
    },
    {
      "cell_type": "code",
      "source": [
        "# multiplication use the astrisk symbol, \"*\"\n",
        "3 * 2"
      ],
      "metadata": {
        "id": "O84xxJdhsYRP",
        "colab": {
          "base_uri": "https://localhost:8080/"
        },
        "outputId": "6f6a50cc-c897-4e07-fd19-1ded24fcf145"
      },
      "execution_count": 3,
      "outputs": [
        {
          "output_type": "execute_result",
          "data": {
            "text/plain": [
              "6"
            ]
          },
          "metadata": {},
          "execution_count": 3
        }
      ]
    },
    {
      "cell_type": "code",
      "source": [
        "# exponetiation is quick too--just use the multiplication symbol twice\n",
        "3 ** 2"
      ],
      "metadata": {
        "id": "72OwsHmVsnTR",
        "colab": {
          "base_uri": "https://localhost:8080/"
        },
        "outputId": "777f092d-1feb-4bee-b090-1cfb09ba3856"
      },
      "execution_count": 4,
      "outputs": [
        {
          "output_type": "execute_result",
          "data": {
            "text/plain": [
              "9"
            ]
          },
          "metadata": {},
          "execution_count": 4
        }
      ]
    },
    {
      "cell_type": "markdown",
      "source": [
        "This next code block introduces our first built in function, \"type\". Functions take in an input through parentheses, and then return an output."
      ],
      "metadata": {
        "id": "4X_T6eXCHXTh"
      }
    },
    {
      "cell_type": "code",
      "source": [
        "type(3)"
      ],
      "metadata": {
        "id": "Z2BqqcRZHQTJ",
        "colab": {
          "base_uri": "https://localhost:8080/"
        },
        "outputId": "885ac3ec-32ec-4f8d-d3e9-a509ca71f12a"
      },
      "execution_count": 5,
      "outputs": [
        {
          "output_type": "execute_result",
          "data": {
            "text/plain": [
              "int"
            ]
          },
          "metadata": {},
          "execution_count": 5
        }
      ]
    },
    {
      "cell_type": "markdown",
      "source": [
        "For example, the absolute value function is \"abs\" in python, and works exactly like you think it would. Use the dash key \"-\" in front of a number (int or float) to make it negative"
      ],
      "metadata": {
        "id": "ET-zNOKTIMI8"
      }
    },
    {
      "cell_type": "code",
      "source": [
        "abs(- 2)"
      ],
      "metadata": {
        "id": "K9ZORCw-MBR-",
        "colab": {
          "base_uri": "https://localhost:8080/"
        },
        "outputId": "f2dc6967-7a81-4da0-ec77-f68f64bfd995"
      },
      "execution_count": 6,
      "outputs": [
        {
          "output_type": "execute_result",
          "data": {
            "text/plain": [
              "2"
            ]
          },
          "metadata": {},
          "execution_count": 6
        }
      ]
    },
    {
      "cell_type": "markdown",
      "source": [
        "I can stores these numbers in a variable for later use."
      ],
      "metadata": {
        "id": "2hbre6KZqDgl"
      }
    },
    {
      "cell_type": "code",
      "source": [
        "# I store \"-5\" in the variable x\n",
        "x = -5\n",
        "# I store \"2\" in the variable thingamabob\n",
        "thing = 2\n",
        "\n",
        "#I print the content of the variables x and thing\n",
        "x, thing"
      ],
      "metadata": {
        "id": "tbAT1c2NqAtK",
        "colab": {
          "base_uri": "https://localhost:8080/"
        },
        "outputId": "0178ef06-7591-49d1-c0b4-934b1341b92a"
      },
      "execution_count": 7,
      "outputs": [
        {
          "output_type": "execute_result",
          "data": {
            "text/plain": [
              "(-5, 2)"
            ]
          },
          "metadata": {},
          "execution_count": 7
        }
      ]
    },
    {
      "cell_type": "markdown",
      "source": [
        "We can update the content of these variables whenever we want."
      ],
      "metadata": {
        "id": "z-M49yHXqUDI"
      }
    },
    {
      "cell_type": "code",
      "source": [
        "# add \"-5\" to \"2\" using the variables x and thing\n",
        "x = x + thing\n",
        "\n",
        "#print the contents of x\n",
        "x"
      ],
      "metadata": {
        "id": "rTK7DypRsGPD",
        "colab": {
          "base_uri": "https://localhost:8080/"
        },
        "outputId": "bbd5b8b8-9ba6-46bd-b806-3d5fc90de246"
      },
      "execution_count": 8,
      "outputs": [
        {
          "output_type": "execute_result",
          "data": {
            "text/plain": [
              "-3"
            ]
          },
          "metadata": {},
          "execution_count": 8
        }
      ]
    },
    {
      "cell_type": "markdown",
      "source": [
        "Notice that we managed to get our computer to calculate $-5 +2$ without having to write $-5$ or $2$.\n",
        "\n",
        "What happens if we run the same code block?"
      ],
      "metadata": {
        "id": "S2c3KdXxsndl"
      }
    },
    {
      "cell_type": "code",
      "source": [
        "# add the contents x and thingamabob\n",
        "x = x + thing\n",
        "\n",
        "#print the contents of x\n",
        "x"
      ],
      "metadata": {
        "id": "nhtggrhms_mE",
        "colab": {
          "base_uri": "https://localhost:8080/"
        },
        "outputId": "57447e67-9dab-40d2-a758-885ff336e61c"
      },
      "execution_count": 9,
      "outputs": [
        {
          "output_type": "execute_result",
          "data": {
            "text/plain": [
              "-1"
            ]
          },
          "metadata": {},
          "execution_count": 9
        }
      ]
    },
    {
      "cell_type": "markdown",
      "source": [
        "**Task1**:\n",
        "\n",
        "Explain why the variable x's value is now -1."
      ],
      "metadata": {
        "id": "7-jJWgbYt9AC"
      }
    },
    {
      "cell_type": "markdown",
      "source": [
        "**Answer1**:\n",
        "\n",
        "Because the new x-value is stored as -3\n"
      ],
      "metadata": {
        "id": "6PXkfOytuMY9"
      }
    },
    {
      "cell_type": "markdown",
      "source": [
        "Computers are only ever capable of doing exactly what we tell them to do, and its always possible to tell them to do something we don't underestand. This can be a\n",
        "\n",
        "- feature: a good thing we may or may not have intended to happen.\n",
        "\n",
        "or a\n",
        "\n",
        "- bug: a bad thing we didn't want to happen, but are never the less entirely responsible for."
      ],
      "metadata": {
        "id": "t9gOJClYtfFi"
      }
    },
    {
      "cell_type": "markdown",
      "source": [
        "Every piece of code you'll ever write is either a feature, a bug, or confusing. Keep this in mind as we move through the course."
      ],
      "metadata": {
        "id": "3U7N5dZmulbB"
      }
    },
    {
      "cell_type": "markdown",
      "source": [
        "### Division\n",
        "\n",
        "Let's look at an example of division, the other mathematical operation I left out."
      ],
      "metadata": {
        "id": "MMc63SWHvvgn"
      }
    },
    {
      "cell_type": "code",
      "source": [
        "#use a backslash for division\n",
        "-4 / 2"
      ],
      "metadata": {
        "id": "YGEdLrscv7Ak",
        "colab": {
          "base_uri": "https://localhost:8080/"
        },
        "outputId": "ca3888ae-4fe7-4db3-fd54-4be62b47c628"
      },
      "execution_count": 10,
      "outputs": [
        {
          "output_type": "execute_result",
          "data": {
            "text/plain": [
              "-2.0"
            ]
          },
          "metadata": {},
          "execution_count": 10
        }
      ]
    },
    {
      "cell_type": "markdown",
      "source": [
        "That number has a decimal; let's check to see if it's still an int."
      ],
      "metadata": {
        "id": "c9H_FkDGwFep"
      }
    },
    {
      "cell_type": "code",
      "source": [
        "type(-4 / 2)"
      ],
      "metadata": {
        "id": "oEaWL39VwFHC",
        "colab": {
          "base_uri": "https://localhost:8080/"
        },
        "outputId": "9ce82b52-0930-4ca0-d6a0-79766112df46"
      },
      "execution_count": 11,
      "outputs": [
        {
          "output_type": "execute_result",
          "data": {
            "text/plain": [
              "float"
            ]
          },
          "metadata": {},
          "execution_count": 11
        }
      ]
    },
    {
      "cell_type": "markdown",
      "source": [
        "### Libraries\n",
        "\n",
        "To better deal with this new float thing, I'll call a library of functions called numpy, and nickname it np for short.\n",
        "\n",
        "I need to use numpy for two reasons:\n",
        "\n",
        "- floats, as we'll see, do not behave as nicely as ints, and need to be treated with care. We'll only ever use libraries that show our floats the proper care and attention they need\n",
        "- python doesn't really have any built in math functions; abs() is basically the only one."
      ],
      "metadata": {
        "id": "4IQCcfbL0zuu"
      }
    },
    {
      "cell_type": "code",
      "source": [
        "import numpy as np"
      ],
      "metadata": {
        "id": "GYfyC8nl2Bb7"
      },
      "execution_count": 8,
      "outputs": []
    },
    {
      "cell_type": "markdown",
      "source": [
        "With that our of the way, let's learn why we need to be cautious with floats."
      ],
      "metadata": {
        "id": "retVUltb186a"
      }
    },
    {
      "cell_type": "markdown",
      "source": [
        "##Floats, and the perils of infinite math with finite computers\n",
        "\n",
        "We often represent the real numbers, like $\\pi$ and $\\sqrt{2}$, using another data type called a float. That's short for floating point number."
      ],
      "metadata": {
        "id": "veFeLs4v4Ncz"
      }
    },
    {
      "cell_type": "code",
      "source": [
        "#numpy has pi to a considerable number of digits stored, and ready to use\n",
        "np.pi"
      ],
      "metadata": {
        "id": "lLuGuEqWzRDi",
        "colab": {
          "base_uri": "https://localhost:8080/"
        },
        "outputId": "d020ca4b-76d0-48bf-e819-7488fbaa6f4d"
      },
      "execution_count": 13,
      "outputs": [
        {
          "output_type": "execute_result",
          "data": {
            "text/plain": [
              "3.141592653589793"
            ]
          },
          "metadata": {},
          "execution_count": 13
        }
      ]
    },
    {
      "cell_type": "code",
      "source": [
        "#it has a decimal, which in python means its a float\n",
        "type(np.pi)"
      ],
      "metadata": {
        "id": "c2voof0DpobX",
        "colab": {
          "base_uri": "https://localhost:8080/"
        },
        "outputId": "77eb4a1d-ce32-418d-8d1f-ac7c6713ee83"
      },
      "execution_count": 14,
      "outputs": [
        {
          "output_type": "execute_result",
          "data": {
            "text/plain": [
              "float"
            ]
          },
          "metadata": {},
          "execution_count": 14
        }
      ]
    },
    {
      "cell_type": "markdown",
      "source": [
        "In the abstract world of math, $\\pi$ has a precise, if infinitely long, answer.\n",
        "\n",
        "Infinity is problematic for our finite computers.\n",
        "\n",
        "3.141592653589793 is an accurate approximation, but if we multiply $\\pi$  by itself enough--say, 31 times--then we can run into trouble.\n",
        "\n",
        "I'm going to show you three different operations, all of which are mathematically equivalent to $\\pi^{31}$.\n",
        "\n",
        "Don't worry about understanding what the code blocks are doing. Just choose to believe me when I say that all of them should, theoretically, output the same thing.\n",
        "\n",
        "\n",
        "\n"
      ],
      "metadata": {
        "id": "mwlVCPCSpn8T"
      }
    },
    {
      "cell_type": "markdown",
      "source": [
        "First, regular exponetiation."
      ],
      "metadata": {
        "id": "xoVH5ffeyi5V"
      }
    },
    {
      "cell_type": "code",
      "source": [
        "# I multipy pi by itself 31 times. In other words, I take pi to the 31st power\n",
        "pi_1 = np.pi**(31)\n",
        "pi_1"
      ],
      "metadata": {
        "id": "5tr814s_fS2N",
        "colab": {
          "base_uri": "https://localhost:8080/"
        },
        "outputId": "bcf09068-1452-4829-8c68-542b56889967"
      },
      "execution_count": 15,
      "outputs": [
        {
          "output_type": "execute_result",
          "data": {
            "text/plain": [
              "2580156526864955.5"
            ]
          },
          "metadata": {},
          "execution_count": 15
        }
      ]
    },
    {
      "cell_type": "markdown",
      "source": [
        "Next, some expontial and logarithm shenanigans to turn exponetiaon into multiplication\n",
        "\n",
        "Note: $e^{x}=\\exp{(x)}$"
      ],
      "metadata": {
        "id": "-4CZ6kKxtBnQ"
      }
    },
    {
      "cell_type": "code",
      "source": [
        "# this is mathematically equivalent to pi times itself 31 times\n",
        "pi_2 = np.exp(31  * np.log(np.pi))\n",
        "pi_2"
      ],
      "metadata": {
        "id": "_hHT9lfPhDtF",
        "colab": {
          "base_uri": "https://localhost:8080/"
        },
        "outputId": "e79f87b0-d303-4022-8528-28a76ecd26d7"
      },
      "execution_count": 9,
      "outputs": [
        {
          "output_type": "execute_result",
          "data": {
            "text/plain": [
              "2580156526864956.0"
            ]
          },
          "metadata": {},
          "execution_count": 9
        }
      ]
    },
    {
      "cell_type": "markdown",
      "source": [
        "More exponential and logarithmic shenanigans, this time so that we aren't even multiplying, just adding.\n",
        "\n"
      ],
      "metadata": {
        "id": "qxI3sCOVxA2s"
      }
    },
    {
      "cell_type": "code",
      "source": [
        "# this is mathematically equivalent to pi times itself 31 times\n",
        "pi_3 = np.exp(np.exp(np.log(31) + np.log(np.log(np.pi))))\n",
        "pi_3"
      ],
      "metadata": {
        "id": "ypGDm4wYj6_K",
        "colab": {
          "base_uri": "https://localhost:8080/"
        },
        "outputId": "55a308fa-4ab3-4041-da41-b51fb9b666ad"
      },
      "execution_count": 17,
      "outputs": [
        {
          "output_type": "execute_result",
          "data": {
            "text/plain": [
              "2580156526864974.5"
            ]
          },
          "metadata": {},
          "execution_count": 17
        }
      ]
    },
    {
      "cell_type": "markdown",
      "source": [
        "**Task2**:\n",
        "\n",
        "Look at the output numbers. Are they the same? Why or why not?"
      ],
      "metadata": {
        "id": "mSGBRoCHvUfu"
      }
    },
    {
      "cell_type": "markdown",
      "source": [
        "**Answer2**:\n",
        "\n",
        "They are not the same. Likley because the computer percieves them as different opperations and calculates them differently"
      ],
      "metadata": {
        "id": "IFsA_ffFn2V0"
      }
    },
    {
      "cell_type": "markdown",
      "source": [
        "##Strings, Lists, and Dicts\n",
        "Before we get more into those libraires like numpy, let's return to base python.\n",
        "Everything in this section can be done without importing a library."
      ],
      "metadata": {
        "id": "vPH20lfw-j4t"
      }
    },
    {
      "cell_type": "markdown",
      "source": [
        "###Strings\n",
        "Let's start with strings. We can define a string by putting ' ' or \" \" around any character, including numbers"
      ],
      "metadata": {
        "id": "g3hNcIF72f05"
      }
    },
    {
      "cell_type": "code",
      "source": [
        "'5', type('5'), 5, type(5)"
      ],
      "metadata": {
        "id": "uBBrfiQr2oa8",
        "colab": {
          "base_uri": "https://localhost:8080/"
        },
        "outputId": "d8d10b22-8391-46a4-9979-558b522fd092"
      },
      "execution_count": 18,
      "outputs": [
        {
          "output_type": "execute_result",
          "data": {
            "text/plain": [
              "('5', str, 5, int)"
            ]
          },
          "metadata": {},
          "execution_count": 18
        }
      ]
    },
    {
      "cell_type": "code",
      "source": [
        "'type(5)', type('type(5)')"
      ],
      "metadata": {
        "id": "SH1YJUPE3FI3",
        "colab": {
          "base_uri": "https://localhost:8080/"
        },
        "outputId": "87f6f9b8-854d-44fe-dc66-35f02d704060"
      },
      "execution_count": 19,
      "outputs": [
        {
          "output_type": "execute_result",
          "data": {
            "text/plain": [
              "('type(5)', str)"
            ]
          },
          "metadata": {},
          "execution_count": 19
        }
      ]
    },
    {
      "cell_type": "markdown",
      "source": [
        "We'll use strings to define labels for our models and graphs, and to represent non-numerical data.\n",
        "\n",
        "For right now though, they are our first example of an iterable data type. In other words, python keeps track of the individual characters in string, their order, and how many characters there are."
      ],
      "metadata": {
        "id": "O0zDg6_P3u8U"
      }
    },
    {
      "cell_type": "code",
      "source": [
        "\"dog\""
      ],
      "metadata": {
        "id": "5Q4UeShB5Nix",
        "colab": {
          "base_uri": "https://localhost:8080/",
          "height": 35
        },
        "outputId": "4243b9ae-106e-4d2b-e4b0-945ff22178e2"
      },
      "execution_count": 20,
      "outputs": [
        {
          "output_type": "execute_result",
          "data": {
            "text/plain": [
              "'dog'"
            ],
            "application/vnd.google.colaboratory.intrinsic+json": {
              "type": "string"
            }
          },
          "metadata": {},
          "execution_count": 20
        }
      ]
    },
    {
      "cell_type": "code",
      "source": [
        "#find the length of an iterable object\n",
        "len('dog')"
      ],
      "metadata": {
        "id": "cM8fOMKv4lrL",
        "colab": {
          "base_uri": "https://localhost:8080/"
        },
        "outputId": "37434f02-2da9-4be3-c602-13489e82f840"
      },
      "execution_count": 21,
      "outputs": [
        {
          "output_type": "execute_result",
          "data": {
            "text/plain": [
              "3"
            ]
          },
          "metadata": {},
          "execution_count": 21
        }
      ]
    },
    {
      "cell_type": "code",
      "source": [
        "#grab the first character in the string 'cat'\n",
        "'dog'[0]"
      ],
      "metadata": {
        "id": "hT3_vg_b4urp",
        "colab": {
          "base_uri": "https://localhost:8080/",
          "height": 35
        },
        "outputId": "2f0df88f-31b7-41cc-d9e6-6f41e2617d0f"
      },
      "execution_count": 22,
      "outputs": [
        {
          "output_type": "execute_result",
          "data": {
            "text/plain": [
              "'d'"
            ],
            "application/vnd.google.colaboratory.intrinsic+json": {
              "type": "string"
            }
          },
          "metadata": {},
          "execution_count": 22
        }
      ]
    },
    {
      "cell_type": "markdown",
      "source": [
        "Variables are not strings. We'll get an error if we make that mistake"
      ],
      "metadata": {
        "id": "GehBqP5r47Ak"
      }
    },
    {
      "cell_type": "code",
      "source": [
        "dog"
      ],
      "metadata": {
        "id": "ERSeuNwc4_oQ",
        "colab": {
          "base_uri": "https://localhost:8080/",
          "height": 141
        },
        "outputId": "4d27d998-896a-460e-e03b-5ebe23ca2eeb"
      },
      "execution_count": 10,
      "outputs": [
        {
          "output_type": "error",
          "ename": "NameError",
          "evalue": "name 'dog' is not defined",
          "traceback": [
            "\u001b[0;31m---------------------------------------------------------------------------\u001b[0m",
            "\u001b[0;31mNameError\u001b[0m                                 Traceback (most recent call last)",
            "\u001b[0;32m<ipython-input-10-ee8ca7a80229>\u001b[0m in \u001b[0;36m<cell line: 1>\u001b[0;34m()\u001b[0m\n\u001b[0;32m----> 1\u001b[0;31m \u001b[0mdog\u001b[0m\u001b[0;34m\u001b[0m\u001b[0;34m\u001b[0m\u001b[0m\n\u001b[0m",
            "\u001b[0;31mNameError\u001b[0m: name 'dog' is not defined"
          ]
        }
      ]
    },
    {
      "cell_type": "markdown",
      "source": [
        "That said, I can assign a string to a variable."
      ],
      "metadata": {
        "id": "KgXEQM7X5bkz"
      }
    },
    {
      "cell_type": "code",
      "source": [
        "#assign the string 'dog' to variable x\n",
        "x = 'dog'\n",
        "#grab the second and third characters of the string\n",
        "x[1:3]"
      ],
      "metadata": {
        "id": "R111JN8r5gjg",
        "colab": {
          "base_uri": "https://localhost:8080/",
          "height": 35
        },
        "outputId": "6803054c-2f62-49e0-8a29-979103b995a2"
      },
      "execution_count": 11,
      "outputs": [
        {
          "output_type": "execute_result",
          "data": {
            "text/plain": [
              "'og'"
            ],
            "application/vnd.google.colaboratory.intrinsic+json": {
              "type": "string"
            }
          },
          "metadata": {},
          "execution_count": 11
        }
      ]
    },
    {
      "cell_type": "markdown",
      "source": [
        "Using the [ ] directly behind an iterable object, or directly behind a varable that points to an iterable object, splices the object according to some built in rules. Let's practice to see how it works."
      ],
      "metadata": {
        "id": "VAE-zDld52Dv"
      }
    },
    {
      "cell_type": "markdown",
      "source": [
        "**Task3**:\n",
        "\n",
        "Splice the string 'Hippopotomonstrosesquippedaliophobia' to output 'monstro' using a single line of code.\n",
        "\n",
        "Note: with data science, its not important to get it right on the first try. Just try stuff and see what happens."
      ],
      "metadata": {
        "id": "jRtb8JwP6ecc"
      }
    },
    {
      "cell_type": "code",
      "source": [
        "#ANSWER3\n",
        "x= 'Hippopotomonstrosesquippedaliophobia'\n",
        "\n",
        "x[9:16]\n"
      ],
      "metadata": {
        "id": "hdzJ-sST7idE",
        "colab": {
          "base_uri": "https://localhost:8080/",
          "height": 35
        },
        "outputId": "5dd21531-b540-44c2-cb5e-c7b8b1232ca7"
      },
      "execution_count": 12,
      "outputs": [
        {
          "output_type": "execute_result",
          "data": {
            "text/plain": [
              "'monstro'"
            ],
            "application/vnd.google.colaboratory.intrinsic+json": {
              "type": "string"
            }
          },
          "metadata": {},
          "execution_count": 12
        }
      ]
    },
    {
      "cell_type": "markdown",
      "source": [
        "There's one more thing about strings you must know: strings are immutable, unchangeable. Anytime it looks like you're changing a string, you're actaully creating a new string based off the old, still extant, string.\n",
        "\n",
        "This means that we, as data scientists, will rarely, if ever, store our data in strings. They're also really hard to look at when they get larger, as Task3 showed."
      ],
      "metadata": {
        "id": "BFxALqJ_8__R"
      }
    },
    {
      "cell_type": "markdown",
      "source": [
        "###Lists\n",
        "\n",
        "This brings us to our next data type, lists. They are iterable like strings, but they are mutable (changable), and can hold all types of data, not just characters."
      ],
      "metadata": {
        "id": "HkkqnEof-HK-"
      }
    },
    {
      "cell_type": "code",
      "source": [
        "#define my list with brackets\n",
        "my_list = [\"dog\", x, 5]\n",
        "#print my list\n",
        "my_list"
      ],
      "metadata": {
        "id": "0LnTNA_b-k0A",
        "colab": {
          "base_uri": "https://localhost:8080/"
        },
        "outputId": "55e46d59-f29e-47b4-ee99-74bab3352f03"
      },
      "execution_count": 13,
      "outputs": [
        {
          "output_type": "execute_result",
          "data": {
            "text/plain": [
              "['dog', 'Hippopotomonstrosesquippedaliophobia', 5]"
            ]
          },
          "metadata": {},
          "execution_count": 13
        }
      ]
    },
    {
      "cell_type": "markdown",
      "source": [
        "Notice that when I put a variable in my list, the list reports the contents of the variable. Let's see how that works"
      ],
      "metadata": {
        "id": "KBAs9WwF-_5-"
      }
    },
    {
      "cell_type": "code",
      "source": [
        "b_list = ['Hippopotomonstrosesquippedaliophobia'[9:16], 4/2 , len(my_list), my_list]\n",
        "\n",
        "b_list"
      ],
      "metadata": {
        "id": "3m0hddna_f_Q",
        "colab": {
          "base_uri": "https://localhost:8080/"
        },
        "outputId": "e8c74924-a208-48ae-b515-05111c50ecf4"
      },
      "execution_count": 14,
      "outputs": [
        {
          "output_type": "execute_result",
          "data": {
            "text/plain": [
              "['monstro', 2.0, 3, ['dog', 'Hippopotomonstrosesquippedaliophobia', 5]]"
            ]
          },
          "metadata": {},
          "execution_count": 14
        }
      ]
    },
    {
      "cell_type": "code",
      "source": [
        "#add another item to the end of my list\n",
        "my_list.append(pi_3)"
      ],
      "metadata": {
        "id": "HNz2Yei7_7Ln",
        "colab": {
          "base_uri": "https://localhost:8080/",
          "height": 159
        },
        "outputId": "8b9b13df-8b32-49d2-d77d-bd3017fe50ca"
      },
      "execution_count": 18,
      "outputs": [
        {
          "output_type": "error",
          "ename": "NameError",
          "evalue": "name 'pi_3' is not defined",
          "traceback": [
            "\u001b[0;31m---------------------------------------------------------------------------\u001b[0m",
            "\u001b[0;31mNameError\u001b[0m                                 Traceback (most recent call last)",
            "\u001b[0;32m<ipython-input-18-51c389e59a8c>\u001b[0m in \u001b[0;36m<cell line: 2>\u001b[0;34m()\u001b[0m\n\u001b[1;32m      1\u001b[0m \u001b[0;31m#add another item to the end of my list\u001b[0m\u001b[0;34m\u001b[0m\u001b[0;34m\u001b[0m\u001b[0m\n\u001b[0;32m----> 2\u001b[0;31m \u001b[0mmy_list\u001b[0m\u001b[0;34m.\u001b[0m\u001b[0mappend\u001b[0m\u001b[0;34m(\u001b[0m\u001b[0mpi_3\u001b[0m\u001b[0;34m)\u001b[0m\u001b[0;34m\u001b[0m\u001b[0;34m\u001b[0m\u001b[0m\n\u001b[0m",
            "\u001b[0;31mNameError\u001b[0m: name 'pi_3' is not defined"
          ]
        }
      ]
    },
    {
      "cell_type": "code",
      "source": [
        "b_list"
      ],
      "metadata": {
        "id": "4IIAegX7AICW",
        "colab": {
          "base_uri": "https://localhost:8080/"
        },
        "outputId": "da8a8fc6-0e86-45a3-85f7-34245dbb2c62"
      },
      "execution_count": 17,
      "outputs": [
        {
          "output_type": "execute_result",
          "data": {
            "text/plain": [
              "['monstro', 2.0, 3, ['dog', 'Hippopotomonstrosesquippedaliophobia', 5]]"
            ]
          },
          "metadata": {},
          "execution_count": 17
        }
      ]
    },
    {
      "cell_type": "markdown",
      "source": [
        "**Task4**:\n",
        "\n",
        "Explain what happened in the last three code blocks; why is 2580156526864974.5 in b_list now?"
      ],
      "metadata": {
        "id": "n13RCo86AVGZ"
      }
    },
    {
      "cell_type": "markdown",
      "source": [
        "**Answer4**:\n",
        "\n",
        "block 31 shows how my_list was added to the b_list with len\n",
        "block 32 shows pi_3 being added to my_list using append\n",
        "pi_3 is the stored value of the 3rd Pi to the 31 math equation we ran earlier\n"
      ],
      "metadata": {
        "id": "SjxYvKC3AihR"
      }
    },
    {
      "cell_type": "markdown",
      "source": [
        "Let's practice splicing once more before moving on."
      ],
      "metadata": {
        "id": "fvLSQQt9BNor"
      }
    },
    {
      "cell_type": "markdown",
      "source": [
        "**Task5**:\n",
        "\n",
        "Using one line of code, grab the last three entries of my_list without writing my_list anywhere in your code.\n",
        "\n",
        "This task is a little harder than the others, so make sure you're working together. Don't be shy about googling 'how to splice lists in python' either."
      ],
      "metadata": {
        "id": "iftRvhTLBRZL"
      }
    },
    {
      "cell_type": "code",
      "source": [
        "#ANSWER5\n",
        "b_list[3:6]"
      ],
      "metadata": {
        "id": "TWu4b5eVBljg",
        "colab": {
          "base_uri": "https://localhost:8080/"
        },
        "outputId": "2726e4a5-6fef-43f2-aed9-3a942b35257f"
      },
      "execution_count": 19,
      "outputs": [
        {
          "output_type": "execute_result",
          "data": {
            "text/plain": [
              "[['dog', 'Hippopotomonstrosesquippedaliophobia', 5]]"
            ]
          },
          "metadata": {},
          "execution_count": 19
        }
      ]
    },
    {
      "cell_type": "markdown",
      "source": [
        "###Dicts\n",
        "\n",
        "Like lists, dicts can hold any and all types of data. What differentiaties them from lists is that data in a dict is stored as a key/value pair called an item."
      ],
      "metadata": {
        "id": "mCVql9lfCXmv"
      }
    },
    {
      "cell_type": "code",
      "source": [
        "#make my dict\n",
        "my_dict = {'one':4/2, 2:my_list, '3':b_list[0]}\n",
        "my_dict"
      ],
      "metadata": {
        "id": "fmksWP1hJ4F2",
        "colab": {
          "base_uri": "https://localhost:8080/"
        },
        "outputId": "f081d862-d7e9-4240-ca2c-1a2948cc69ec"
      },
      "execution_count": 20,
      "outputs": [
        {
          "output_type": "execute_result",
          "data": {
            "text/plain": [
              "{'one': 2.0,\n",
              " 2: ['dog', 'Hippopotomonstrosesquippedaliophobia', 5],\n",
              " '3': 'monstro'}"
            ]
          },
          "metadata": {},
          "execution_count": 20
        }
      ]
    },
    {
      "cell_type": "markdown",
      "source": [
        "Dicts aren't entirely iterable."
      ],
      "metadata": {
        "id": "BLYdbXSpKkF4"
      }
    },
    {
      "cell_type": "code",
      "source": [
        "my_dict[0]"
      ],
      "metadata": {
        "id": "3ipy3XswKavQ",
        "colab": {
          "base_uri": "https://localhost:8080/",
          "height": 141
        },
        "outputId": "37ff2c6c-7b58-4510-bd1e-3caf0e10f6ca"
      },
      "execution_count": 21,
      "outputs": [
        {
          "output_type": "error",
          "ename": "KeyError",
          "evalue": "0",
          "traceback": [
            "\u001b[0;31m---------------------------------------------------------------------------\u001b[0m",
            "\u001b[0;31mKeyError\u001b[0m                                  Traceback (most recent call last)",
            "\u001b[0;32m<ipython-input-21-2e042f7087f7>\u001b[0m in \u001b[0;36m<cell line: 1>\u001b[0;34m()\u001b[0m\n\u001b[0;32m----> 1\u001b[0;31m \u001b[0mmy_dict\u001b[0m\u001b[0;34m[\u001b[0m\u001b[0;36m0\u001b[0m\u001b[0;34m]\u001b[0m\u001b[0;34m\u001b[0m\u001b[0;34m\u001b[0m\u001b[0m\n\u001b[0m",
            "\u001b[0;31mKeyError\u001b[0m: 0"
          ]
        }
      ]
    },
    {
      "cell_type": "markdown",
      "source": [
        "Instead of splicing, we acces the values of a dict using its keys."
      ],
      "metadata": {
        "id": "NSm5uTbSKprj"
      }
    },
    {
      "cell_type": "code",
      "source": [
        "my_dict['one'], my_dict['3'], my_dict[2.]"
      ],
      "metadata": {
        "id": "q7gBFLcgK0wo",
        "colab": {
          "base_uri": "https://localhost:8080/"
        },
        "outputId": "96e243b9-e2f2-42ab-9706-439637a8930c"
      },
      "execution_count": 22,
      "outputs": [
        {
          "output_type": "execute_result",
          "data": {
            "text/plain": [
              "(2.0, 'monstro', ['dog', 'Hippopotomonstrosesquippedaliophobia', 5])"
            ]
          },
          "metadata": {},
          "execution_count": 22
        }
      ]
    },
    {
      "cell_type": "code",
      "source": [
        "#dicts can recognize when floats are equivalent to ints\n",
        "my_dict[2]"
      ],
      "metadata": {
        "id": "1wL5QtHkLJqt"
      },
      "execution_count": null,
      "outputs": []
    },
    {
      "cell_type": "markdown",
      "source": [
        "If we want to iterate a dict, we need its keys. We can also just grab the values directly"
      ],
      "metadata": {
        "id": "BzcUpk73MFAE"
      }
    },
    {
      "cell_type": "code",
      "source": [
        "my_dict.keys()"
      ],
      "metadata": {
        "id": "4s26s4OMMMK4",
        "colab": {
          "base_uri": "https://localhost:8080/"
        },
        "outputId": "6ef3e44a-145a-4926-f632-95c8e36c6a48"
      },
      "execution_count": 23,
      "outputs": [
        {
          "output_type": "execute_result",
          "data": {
            "text/plain": [
              "dict_keys(['one', 2, '3'])"
            ]
          },
          "metadata": {},
          "execution_count": 23
        }
      ]
    },
    {
      "cell_type": "code",
      "source": [
        "my_dict.values()"
      ],
      "metadata": {
        "id": "FyfaQT4RMTk0",
        "colab": {
          "base_uri": "https://localhost:8080/"
        },
        "outputId": "e78b4649-1bcb-40df-fd7f-c3a500adcf56"
      },
      "execution_count": 24,
      "outputs": [
        {
          "output_type": "execute_result",
          "data": {
            "text/plain": [
              "dict_values([2.0, ['dog', 'Hippopotomonstrosesquippedaliophobia', 5], 'monstro'])"
            ]
          },
          "metadata": {},
          "execution_count": 24
        }
      ]
    },
    {
      "cell_type": "markdown",
      "source": [
        "There are two other basic iterable data types in python: sets and tuples. We don't need to know much about them for this course though, so we'll move on to some data structures that we will use *a lot*."
      ],
      "metadata": {
        "id": "RkArvD60Mvyd"
      }
    },
    {
      "cell_type": "markdown",
      "source": [
        "## Numpy Arrays\n",
        "\n",
        "Nearly all scientific computing and data science in python uses numpy arrays, or something built out of numpy arrays. Numpy arrays are similar to lists, except they are imutable, and only hold one data type at a time"
      ],
      "metadata": {
        "id": "3vUOOe4wNvdR"
      }
    },
    {
      "cell_type": "code",
      "source": [
        "first_array = np.array([x,'dog', 'montro'])\n",
        "first_array"
      ],
      "metadata": {
        "id": "xpS4CyPsN1wE",
        "colab": {
          "base_uri": "https://localhost:8080/"
        },
        "outputId": "866cb2bb-bb37-4417-8c05-8d81e0528946"
      },
      "execution_count": 25,
      "outputs": [
        {
          "output_type": "execute_result",
          "data": {
            "text/plain": [
              "array(['Hippopotomonstrosesquippedaliophobia', 'dog', 'montro'],\n",
              "      dtype='<U36')"
            ]
          },
          "metadata": {},
          "execution_count": 25
        }
      ]
    },
    {
      "cell_type": "code",
      "source": [
        "hoo_array = np.array([np.pi, 11, 2 - 7])\n",
        "hoo_array"
      ],
      "metadata": {
        "id": "3Kfkr0QcPHJ8",
        "colab": {
          "base_uri": "https://localhost:8080/"
        },
        "outputId": "5f8a6135-f572-4517-92ad-35eff3843183"
      },
      "execution_count": 26,
      "outputs": [
        {
          "output_type": "execute_result",
          "data": {
            "text/plain": [
              "array([ 3.14159265, 11.        , -5.        ])"
            ]
          },
          "metadata": {},
          "execution_count": 26
        }
      ]
    },
    {
      "cell_type": "markdown",
      "source": [
        "hoo_array converted the two ints, 11 and -5, into floats, to ensure that everything is the same data type.\n",
        "\n",
        "A similar thing happens when you try to mix floats and ints with strings."
      ],
      "metadata": {
        "id": "aMJY5Q1RPPGd"
      }
    },
    {
      "cell_type": "markdown",
      "source": [
        "**Task6**:\n",
        "\n",
        "What happens when you make an numpy array with floats, strings, and ints?"
      ],
      "metadata": {
        "id": "36yrr-YlQL0v"
      }
    },
    {
      "cell_type": "code",
      "source": [
        "#ANSWER6\n",
        "\n",
        "#[*write your answer here*]"
      ],
      "metadata": {
        "id": "o2qCieLlPiCw"
      },
      "execution_count": null,
      "outputs": []
    },
    {
      "cell_type": "markdown",
      "source": [
        "**Answer6 cont.**:\n",
        "\n",
        "[*write your answer here*]"
      ],
      "metadata": {
        "id": "OY6nERNPQYjD"
      }
    },
    {
      "cell_type": "markdown",
      "source": [
        "Why make such a big deal out of numpy arrays, if they have this weird behavior?\n",
        "\n",
        "Two reasons:\n",
        "- ensuring that arrays are always of the same data type makes operations with arrays fast, which is essential when dealing with even moderately sized data sets.\n",
        "- The automatic syncing of data formats has other benefits; see below"
      ],
      "metadata": {
        "id": "Ool262SkQqeh"
      }
    },
    {
      "cell_type": "code",
      "source": [
        "#the smaller numbers are written in scitific notation, just like the larger one\n",
        "#This encourages us to think about the relative scale of our values\n",
        "tood_array = np.array([pi_3, 11, 2 - 7])\n",
        "tood_array"
      ],
      "metadata": {
        "colab": {
          "base_uri": "https://localhost:8080/",
          "height": 193
        },
        "id": "WO4ZFH8VOBOD",
        "outputId": "77a5a583-460b-40ca-ea92-dee5e068a555"
      },
      "execution_count": 27,
      "outputs": [
        {
          "output_type": "error",
          "ename": "NameError",
          "evalue": "name 'pi_3' is not defined",
          "traceback": [
            "\u001b[0;31m---------------------------------------------------------------------------\u001b[0m",
            "\u001b[0;31mNameError\u001b[0m                                 Traceback (most recent call last)",
            "\u001b[0;32m<ipython-input-27-8941f63c8432>\u001b[0m in \u001b[0;36m<cell line: 3>\u001b[0;34m()\u001b[0m\n\u001b[1;32m      1\u001b[0m \u001b[0;31m#the smaller numbers are written in scitific notation, just like the larger one\u001b[0m\u001b[0;34m\u001b[0m\u001b[0;34m\u001b[0m\u001b[0m\n\u001b[1;32m      2\u001b[0m \u001b[0;31m#This encourages us to think about the relative scale of our values\u001b[0m\u001b[0;34m\u001b[0m\u001b[0;34m\u001b[0m\u001b[0m\n\u001b[0;32m----> 3\u001b[0;31m \u001b[0mtood_array\u001b[0m \u001b[0;34m=\u001b[0m \u001b[0mnp\u001b[0m\u001b[0;34m.\u001b[0m\u001b[0marray\u001b[0m\u001b[0;34m(\u001b[0m\u001b[0;34m[\u001b[0m\u001b[0mpi_3\u001b[0m\u001b[0;34m,\u001b[0m \u001b[0;36m11\u001b[0m\u001b[0;34m,\u001b[0m \u001b[0;36m2\u001b[0m \u001b[0;34m-\u001b[0m \u001b[0;36m7\u001b[0m\u001b[0;34m]\u001b[0m\u001b[0;34m)\u001b[0m\u001b[0;34m\u001b[0m\u001b[0;34m\u001b[0m\u001b[0m\n\u001b[0m\u001b[1;32m      4\u001b[0m \u001b[0mtood_array\u001b[0m\u001b[0;34m\u001b[0m\u001b[0;34m\u001b[0m\u001b[0m\n",
            "\u001b[0;31mNameError\u001b[0m: name 'pi_3' is not defined"
          ]
        }
      ]
    },
    {
      "cell_type": "markdown",
      "source": [
        "Actually there's more reasons to love numpy arrays."
      ],
      "metadata": {
        "id": "Pyp-Wt0NRxsU"
      }
    },
    {
      "cell_type": "markdown",
      "source": [
        "Arrays support element wise multiplication, addition, subtraction, and division by constants. Which is just what would happen to vectors, the mathematical object arrays were modeled after."
      ],
      "metadata": {
        "id": "q0OA_dk_SJLR"
      }
    },
    {
      "cell_type": "code",
      "source": [
        "2 * hoo_array + 1"
      ],
      "metadata": {
        "id": "GIYrGdr3SAtW",
        "colab": {
          "base_uri": "https://localhost:8080/"
        },
        "outputId": "7d7b32b1-ba7f-4214-e383-7ac0e4628d88"
      },
      "execution_count": 56,
      "outputs": [
        {
          "output_type": "execute_result",
          "data": {
            "text/plain": [
              "array([ 7.28318531, 23.        , -9.        ])"
            ]
          },
          "metadata": {},
          "execution_count": 56
        }
      ]
    },
    {
      "cell_type": "markdown",
      "source": [
        "Regular multiplication with arrays executes element wise multiplication"
      ],
      "metadata": {
        "id": "UodMsbZzcLa2"
      }
    },
    {
      "cell_type": "code",
      "source": [
        "hoo_array * hoo_array"
      ],
      "metadata": {
        "id": "TBHNfz31cFVj",
        "colab": {
          "base_uri": "https://localhost:8080/"
        },
        "outputId": "0138ef96-83c2-4a62-ddea-a3d68402bd30"
      },
      "execution_count": 28,
      "outputs": [
        {
          "output_type": "execute_result",
          "data": {
            "text/plain": [
              "array([  9.8696044, 121.       ,  25.       ])"
            ]
          },
          "metadata": {},
          "execution_count": 28
        }
      ]
    },
    {
      "cell_type": "markdown",
      "source": [
        "Numpy arrays also handle matrix multiplication. What's that? Don't worry about it for now, just now that it exists."
      ],
      "metadata": {
        "id": "Yq_6ND-_ctm8"
      }
    },
    {
      "cell_type": "code",
      "source": [
        "# define a new array, with easy to follow numbers\n",
        "pl_array = np.array([1,2,3])"
      ],
      "metadata": {
        "id": "0-9__1ALfkE8"
      },
      "execution_count": 57,
      "outputs": []
    },
    {
      "cell_type": "code",
      "source": [
        "#inner product, dot product\n",
        "pl_array @ pl_array"
      ],
      "metadata": {
        "id": "lQ7p1i06c8kt",
        "colab": {
          "base_uri": "https://localhost:8080/"
        },
        "outputId": "e6662b4e-46b8-4f6f-a9b0-3bda5d633907"
      },
      "execution_count": 58,
      "outputs": [
        {
          "output_type": "execute_result",
          "data": {
            "text/plain": [
              "14"
            ]
          },
          "metadata": {},
          "execution_count": 58
        }
      ]
    },
    {
      "cell_type": "code",
      "source": [
        "#matmul works as a dot product/ inner product as well\n",
        "np.matmul(pl_array,pl_array)"
      ],
      "metadata": {
        "id": "zhNg5teigA6H"
      },
      "execution_count": null,
      "outputs": []
    },
    {
      "cell_type": "code",
      "source": [
        "#use np.outer for outer product\n",
        "first_matrix = np.outer(pl_array,pl_array)\n",
        "first_matrix"
      ],
      "metadata": {
        "id": "8ONBvwbFhEfY",
        "colab": {
          "base_uri": "https://localhost:8080/"
        },
        "outputId": "5218b6ae-f5b9-4605-e454-645cd0146fd4"
      },
      "execution_count": 59,
      "outputs": [
        {
          "output_type": "execute_result",
          "data": {
            "text/plain": [
              "array([[1, 2, 3],\n",
              "       [2, 4, 6],\n",
              "       [3, 6, 9]])"
            ]
          },
          "metadata": {},
          "execution_count": 59
        }
      ]
    },
    {
      "cell_type": "markdown",
      "source": [
        "### Array Creation\n",
        "\n",
        "One of the great things about computers is that they can do tedious tasks for me, like make a 100 by 100 matrix."
      ],
      "metadata": {
        "id": "b7ravYUmi59e"
      }
    },
    {
      "cell_type": "code",
      "source": [
        "#feel the power\n",
        "some_ones = np.ones((100,100))\n",
        "some_ones"
      ],
      "metadata": {
        "id": "6GXoMBvUkmfh",
        "colab": {
          "base_uri": "https://localhost:8080/"
        },
        "outputId": "57c3e165-2f72-4071-b19d-54ec9c7b9673"
      },
      "execution_count": 60,
      "outputs": [
        {
          "output_type": "execute_result",
          "data": {
            "text/plain": [
              "array([[1., 1., 1., ..., 1., 1., 1.],\n",
              "       [1., 1., 1., ..., 1., 1., 1.],\n",
              "       [1., 1., 1., ..., 1., 1., 1.],\n",
              "       ...,\n",
              "       [1., 1., 1., ..., 1., 1., 1.],\n",
              "       [1., 1., 1., ..., 1., 1., 1.],\n",
              "       [1., 1., 1., ..., 1., 1., 1.]])"
            ]
          },
          "metadata": {},
          "execution_count": 60
        }
      ]
    },
    {
      "cell_type": "code",
      "source": [
        "#zeros works the same way, except with zeros\n",
        "np.zeros(3)"
      ],
      "metadata": {
        "id": "MaOPiDRQk2ZX",
        "colab": {
          "base_uri": "https://localhost:8080/"
        },
        "outputId": "6dabbd58-cc5b-403c-ba74-f77344ba78d2"
      },
      "execution_count": 29,
      "outputs": [
        {
          "output_type": "execute_result",
          "data": {
            "text/plain": [
              "array([0., 0., 0.])"
            ]
          },
          "metadata": {},
          "execution_count": 29
        }
      ]
    },
    {
      "cell_type": "markdown",
      "source": [
        "Here are examples of other ways to make arrays. You can find even more [here](https://numpy.org/doc/stable/reference/routines.array-creation.html)."
      ],
      "metadata": {
        "id": "vr3rE7ROlWZe"
      }
    },
    {
      "cell_type": "code",
      "source": [
        "#creates an array of 21 values, evenly spaced from -10 to 10, inclusive\n",
        "#notice how it always generates floats\n",
        "np.linspace(-10,10,21)"
      ],
      "metadata": {
        "id": "dR137gollgY8",
        "colab": {
          "base_uri": "https://localhost:8080/"
        },
        "outputId": "6f3471a5-f6c0-4053-ce79-3986ccc405aa"
      },
      "execution_count": 30,
      "outputs": [
        {
          "output_type": "execute_result",
          "data": {
            "text/plain": [
              "array([-10.,  -9.,  -8.,  -7.,  -6.,  -5.,  -4.,  -3.,  -2.,  -1.,   0.,\n",
              "         1.,   2.,   3.,   4.,   5.,   6.,   7.,   8.,   9.,  10.])"
            ]
          },
          "metadata": {},
          "execution_count": 30
        }
      ]
    },
    {
      "cell_type": "code",
      "source": [
        "#also creates evely spaced values over a specificed range.\n",
        "#similar to linspace, but less stable, and requires less inputs\n",
        "#sometimes it generates floats, sometimes it generates ints\n",
        "x_array = np.arange(10)\n",
        "x_array"
      ],
      "metadata": {
        "id": "MIKaa4nimBBc",
        "colab": {
          "base_uri": "https://localhost:8080/"
        },
        "outputId": "d3263b9b-176c-4d2e-fc1a-659e695f2df7"
      },
      "execution_count": 31,
      "outputs": [
        {
          "output_type": "execute_result",
          "data": {
            "text/plain": [
              "array([0, 1, 2, 3, 4, 5, 6, 7, 8, 9])"
            ]
          },
          "metadata": {},
          "execution_count": 31
        }
      ]
    },
    {
      "cell_type": "code",
      "source": [
        "#makes an array of 15 4s\n",
        "np.repeat(4,15)"
      ],
      "metadata": {
        "id": "PJAWfZ91mZoI",
        "colab": {
          "base_uri": "https://localhost:8080/"
        },
        "outputId": "69d9b06e-ec99-4dbd-d86e-65e200c94fd5"
      },
      "execution_count": 32,
      "outputs": [
        {
          "output_type": "execute_result",
          "data": {
            "text/plain": [
              "array([4, 4, 4, 4, 4, 4, 4, 4, 4, 4, 4, 4, 4, 4, 4])"
            ]
          },
          "metadata": {},
          "execution_count": 32
        }
      ]
    },
    {
      "cell_type": "markdown",
      "source": [
        "**Task7**:\n",
        "\n",
        "Make an array from 87 to 104 (inclusive) with exactly 50 entries."
      ],
      "metadata": {
        "id": "HkRdH9nXVN1e"
      }
    },
    {
      "cell_type": "code",
      "source": [
        "#ANSWER7\n",
        "\n",
        "#[*write your answer here*]"
      ],
      "metadata": {
        "id": "wjQQMzlrWx_N"
      },
      "execution_count": null,
      "outputs": []
    },
    {
      "cell_type": "markdown",
      "source": [
        "Splicing works the same for arrays and lists."
      ],
      "metadata": {
        "id": "D_HYihKoXXDL"
      }
    },
    {
      "cell_type": "markdown",
      "source": [
        "**Task8**:\n",
        "\n",
        "Grab the first through fifth entries of x_array."
      ],
      "metadata": {
        "id": "YopMOoy-Xap9"
      }
    },
    {
      "cell_type": "code",
      "source": [
        "#ANSWER8\n",
        "\n",
        "#[*write your answer here*]"
      ],
      "metadata": {
        "id": "yxCDEKDGXkvw"
      },
      "execution_count": null,
      "outputs": []
    },
    {
      "cell_type": "markdown",
      "source": [
        "### Vectorized Operations\n",
        "\n",
        "Numpy arrays come with many built in methods, many of which are vectorized operations. All you need to knnow about 'vectorized operations' is that: they are usually much faster than any other option, and how to use them.\n",
        "\n",
        "There are two examples below. You can see others [here](https://numpy.org/doc/stable/reference/arrays.ndarray.html#array-methods)."
      ],
      "metadata": {
        "id": "zQgQJUEdjg-7"
      }
    },
    {
      "cell_type": "code",
      "source": [
        "#finds the most positive (largest) value in the array\n",
        "x_array.max()"
      ],
      "metadata": {
        "id": "LRMtaF4Uj-ol",
        "colab": {
          "base_uri": "https://localhost:8080/"
        },
        "outputId": "bb1867a9-cc18-4117-d4d1-db457e5cefb3"
      },
      "execution_count": 33,
      "outputs": [
        {
          "output_type": "execute_result",
          "data": {
            "text/plain": [
              "9"
            ]
          },
          "metadata": {},
          "execution_count": 33
        }
      ]
    },
    {
      "cell_type": "code",
      "source": [
        "#finds the average of the values in x_array\n",
        "x_array.mean()"
      ],
      "metadata": {
        "id": "Mul5TjVGj3bX",
        "colab": {
          "base_uri": "https://localhost:8080/"
        },
        "outputId": "1103d7cd-bdb4-402f-ed6c-a9e98505f282"
      },
      "execution_count": 34,
      "outputs": [
        {
          "output_type": "execute_result",
          "data": {
            "text/plain": [
              "4.5"
            ]
          },
          "metadata": {},
          "execution_count": 34
        }
      ]
    },
    {
      "cell_type": "markdown",
      "source": [
        "## Pandas Dataframes\n",
        "\n",
        "These are the data structure we will most often directly manipulate in this class. Paying special attention to this section will make your life easier later.\n",
        "\n",
        "Like numpy, we need to import pandas, and we often use an abreviation."
      ],
      "metadata": {
        "id": "vkWoeIclXkE3"
      }
    },
    {
      "cell_type": "code",
      "source": [
        "import pandas as pd"
      ],
      "metadata": {
        "id": "vpng4PWJY8dF"
      },
      "execution_count": 35,
      "outputs": []
    },
    {
      "cell_type": "markdown",
      "source": [
        "We can make a pandas dataframe from any numpy array."
      ],
      "metadata": {
        "id": "dSkZCWaRY_x0"
      }
    },
    {
      "cell_type": "code",
      "source": [
        "x_df = pd.DataFrame(x_array)\n",
        "x_df"
      ],
      "metadata": {
        "id": "SqwgQYkRZUIt",
        "colab": {
          "base_uri": "https://localhost:8080/",
          "height": 1447
        },
        "outputId": "e6e3a19f-8085-4b99-c072-f7fa24089e41"
      },
      "execution_count": 36,
      "outputs": [
        {
          "output_type": "execute_result",
          "data": {
            "text/plain": [
              "   0\n",
              "0  0\n",
              "1  1\n",
              "2  2\n",
              "3  3\n",
              "4  4\n",
              "5  5\n",
              "6  6\n",
              "7  7\n",
              "8  8\n",
              "9  9"
            ],
            "text/html": [
              "\n",
              "  <div id=\"df-b96b411b-09b8-4082-ae3d-68593aed3cef\" class=\"colab-df-container\">\n",
              "    <div>\n",
              "<style scoped>\n",
              "    .dataframe tbody tr th:only-of-type {\n",
              "        vertical-align: middle;\n",
              "    }\n",
              "\n",
              "    .dataframe tbody tr th {\n",
              "        vertical-align: top;\n",
              "    }\n",
              "\n",
              "    .dataframe thead th {\n",
              "        text-align: right;\n",
              "    }\n",
              "</style>\n",
              "<table border=\"1\" class=\"dataframe\">\n",
              "  <thead>\n",
              "    <tr style=\"text-align: right;\">\n",
              "      <th></th>\n",
              "      <th>0</th>\n",
              "    </tr>\n",
              "  </thead>\n",
              "  <tbody>\n",
              "    <tr>\n",
              "      <th>0</th>\n",
              "      <td>0</td>\n",
              "    </tr>\n",
              "    <tr>\n",
              "      <th>1</th>\n",
              "      <td>1</td>\n",
              "    </tr>\n",
              "    <tr>\n",
              "      <th>2</th>\n",
              "      <td>2</td>\n",
              "    </tr>\n",
              "    <tr>\n",
              "      <th>3</th>\n",
              "      <td>3</td>\n",
              "    </tr>\n",
              "    <tr>\n",
              "      <th>4</th>\n",
              "      <td>4</td>\n",
              "    </tr>\n",
              "    <tr>\n",
              "      <th>5</th>\n",
              "      <td>5</td>\n",
              "    </tr>\n",
              "    <tr>\n",
              "      <th>6</th>\n",
              "      <td>6</td>\n",
              "    </tr>\n",
              "    <tr>\n",
              "      <th>7</th>\n",
              "      <td>7</td>\n",
              "    </tr>\n",
              "    <tr>\n",
              "      <th>8</th>\n",
              "      <td>8</td>\n",
              "    </tr>\n",
              "    <tr>\n",
              "      <th>9</th>\n",
              "      <td>9</td>\n",
              "    </tr>\n",
              "  </tbody>\n",
              "</table>\n",
              "</div>\n",
              "    <div class=\"colab-df-buttons\">\n",
              "\n",
              "  <div class=\"colab-df-container\">\n",
              "    <button class=\"colab-df-convert\" onclick=\"convertToInteractive('df-b96b411b-09b8-4082-ae3d-68593aed3cef')\"\n",
              "            title=\"Convert this dataframe to an interactive table.\"\n",
              "            style=\"display:none;\">\n",
              "\n",
              "  <svg xmlns=\"http://www.w3.org/2000/svg\" height=\"24px\" viewBox=\"0 -960 960 960\">\n",
              "    <path d=\"M120-120v-720h720v720H120Zm60-500h600v-160H180v160Zm220 220h160v-160H400v160Zm0 220h160v-160H400v160ZM180-400h160v-160H180v160Zm440 0h160v-160H620v160ZM180-180h160v-160H180v160Zm440 0h160v-160H620v160Z\"/>\n",
              "  </svg>\n",
              "    </button>\n",
              "\n",
              "  <style>\n",
              "    .colab-df-container {\n",
              "      display:flex;\n",
              "      gap: 12px;\n",
              "    }\n",
              "\n",
              "    .colab-df-convert {\n",
              "      background-color: #E8F0FE;\n",
              "      border: none;\n",
              "      border-radius: 50%;\n",
              "      cursor: pointer;\n",
              "      display: none;\n",
              "      fill: #1967D2;\n",
              "      height: 32px;\n",
              "      padding: 0 0 0 0;\n",
              "      width: 32px;\n",
              "    }\n",
              "\n",
              "    .colab-df-convert:hover {\n",
              "      background-color: #E2EBFA;\n",
              "      box-shadow: 0px 1px 2px rgba(60, 64, 67, 0.3), 0px 1px 3px 1px rgba(60, 64, 67, 0.15);\n",
              "      fill: #174EA6;\n",
              "    }\n",
              "\n",
              "    .colab-df-buttons div {\n",
              "      margin-bottom: 4px;\n",
              "    }\n",
              "\n",
              "    [theme=dark] .colab-df-convert {\n",
              "      background-color: #3B4455;\n",
              "      fill: #D2E3FC;\n",
              "    }\n",
              "\n",
              "    [theme=dark] .colab-df-convert:hover {\n",
              "      background-color: #434B5C;\n",
              "      box-shadow: 0px 1px 3px 1px rgba(0, 0, 0, 0.15);\n",
              "      filter: drop-shadow(0px 1px 2px rgba(0, 0, 0, 0.3));\n",
              "      fill: #FFFFFF;\n",
              "    }\n",
              "  </style>\n",
              "\n",
              "    <script>\n",
              "      const buttonEl =\n",
              "        document.querySelector('#df-b96b411b-09b8-4082-ae3d-68593aed3cef button.colab-df-convert');\n",
              "      buttonEl.style.display =\n",
              "        google.colab.kernel.accessAllowed ? 'block' : 'none';\n",
              "\n",
              "      async function convertToInteractive(key) {\n",
              "        const element = document.querySelector('#df-b96b411b-09b8-4082-ae3d-68593aed3cef');\n",
              "        const dataTable =\n",
              "          await google.colab.kernel.invokeFunction('convertToInteractive',\n",
              "                                                    [key], {});\n",
              "        if (!dataTable) return;\n",
              "\n",
              "        const docLinkHtml = 'Like what you see? Visit the ' +\n",
              "          '<a target=\"_blank\" href=https://colab.research.google.com/notebooks/data_table.ipynb>data table notebook</a>'\n",
              "          + ' to learn more about interactive tables.';\n",
              "        element.innerHTML = '';\n",
              "        dataTable['output_type'] = 'display_data';\n",
              "        await google.colab.output.renderOutput(dataTable, element);\n",
              "        const docLink = document.createElement('div');\n",
              "        docLink.innerHTML = docLinkHtml;\n",
              "        element.appendChild(docLink);\n",
              "      }\n",
              "    </script>\n",
              "  </div>\n",
              "\n",
              "\n",
              "<div id=\"df-52910f40-6ffd-4809-878c-460c65416b43\">\n",
              "  <button class=\"colab-df-quickchart\" onclick=\"quickchart('df-52910f40-6ffd-4809-878c-460c65416b43')\"\n",
              "            title=\"Suggest charts\"\n",
              "            style=\"display:none;\">\n",
              "\n",
              "<svg xmlns=\"http://www.w3.org/2000/svg\" height=\"24px\"viewBox=\"0 0 24 24\"\n",
              "     width=\"24px\">\n",
              "    <g>\n",
              "        <path d=\"M19 3H5c-1.1 0-2 .9-2 2v14c0 1.1.9 2 2 2h14c1.1 0 2-.9 2-2V5c0-1.1-.9-2-2-2zM9 17H7v-7h2v7zm4 0h-2V7h2v10zm4 0h-2v-4h2v4z\"/>\n",
              "    </g>\n",
              "</svg>\n",
              "  </button>\n",
              "\n",
              "<style>\n",
              "  .colab-df-quickchart {\n",
              "      --bg-color: #E8F0FE;\n",
              "      --fill-color: #1967D2;\n",
              "      --hover-bg-color: #E2EBFA;\n",
              "      --hover-fill-color: #174EA6;\n",
              "      --disabled-fill-color: #AAA;\n",
              "      --disabled-bg-color: #DDD;\n",
              "  }\n",
              "\n",
              "  [theme=dark] .colab-df-quickchart {\n",
              "      --bg-color: #3B4455;\n",
              "      --fill-color: #D2E3FC;\n",
              "      --hover-bg-color: #434B5C;\n",
              "      --hover-fill-color: #FFFFFF;\n",
              "      --disabled-bg-color: #3B4455;\n",
              "      --disabled-fill-color: #666;\n",
              "  }\n",
              "\n",
              "  .colab-df-quickchart {\n",
              "    background-color: var(--bg-color);\n",
              "    border: none;\n",
              "    border-radius: 50%;\n",
              "    cursor: pointer;\n",
              "    display: none;\n",
              "    fill: var(--fill-color);\n",
              "    height: 32px;\n",
              "    padding: 0;\n",
              "    width: 32px;\n",
              "  }\n",
              "\n",
              "  .colab-df-quickchart:hover {\n",
              "    background-color: var(--hover-bg-color);\n",
              "    box-shadow: 0 1px 2px rgba(60, 64, 67, 0.3), 0 1px 3px 1px rgba(60, 64, 67, 0.15);\n",
              "    fill: var(--button-hover-fill-color);\n",
              "  }\n",
              "\n",
              "  .colab-df-quickchart-complete:disabled,\n",
              "  .colab-df-quickchart-complete:disabled:hover {\n",
              "    background-color: var(--disabled-bg-color);\n",
              "    fill: var(--disabled-fill-color);\n",
              "    box-shadow: none;\n",
              "  }\n",
              "\n",
              "  .colab-df-spinner {\n",
              "    border: 2px solid var(--fill-color);\n",
              "    border-color: transparent;\n",
              "    border-bottom-color: var(--fill-color);\n",
              "    animation:\n",
              "      spin 1s steps(1) infinite;\n",
              "  }\n",
              "\n",
              "  @keyframes spin {\n",
              "    0% {\n",
              "      border-color: transparent;\n",
              "      border-bottom-color: var(--fill-color);\n",
              "      border-left-color: var(--fill-color);\n",
              "    }\n",
              "    20% {\n",
              "      border-color: transparent;\n",
              "      border-left-color: var(--fill-color);\n",
              "      border-top-color: var(--fill-color);\n",
              "    }\n",
              "    30% {\n",
              "      border-color: transparent;\n",
              "      border-left-color: var(--fill-color);\n",
              "      border-top-color: var(--fill-color);\n",
              "      border-right-color: var(--fill-color);\n",
              "    }\n",
              "    40% {\n",
              "      border-color: transparent;\n",
              "      border-right-color: var(--fill-color);\n",
              "      border-top-color: var(--fill-color);\n",
              "    }\n",
              "    60% {\n",
              "      border-color: transparent;\n",
              "      border-right-color: var(--fill-color);\n",
              "    }\n",
              "    80% {\n",
              "      border-color: transparent;\n",
              "      border-right-color: var(--fill-color);\n",
              "      border-bottom-color: var(--fill-color);\n",
              "    }\n",
              "    90% {\n",
              "      border-color: transparent;\n",
              "      border-bottom-color: var(--fill-color);\n",
              "    }\n",
              "  }\n",
              "</style>\n",
              "\n",
              "  <script>\n",
              "    async function quickchart(key) {\n",
              "      const quickchartButtonEl =\n",
              "        document.querySelector('#' + key + ' button');\n",
              "      quickchartButtonEl.disabled = true;  // To prevent multiple clicks.\n",
              "      quickchartButtonEl.classList.add('colab-df-spinner');\n",
              "      try {\n",
              "        const charts = await google.colab.kernel.invokeFunction(\n",
              "            'suggestCharts', [key], {});\n",
              "      } catch (error) {\n",
              "        console.error('Error during call to suggestCharts:', error);\n",
              "      }\n",
              "      quickchartButtonEl.classList.remove('colab-df-spinner');\n",
              "      quickchartButtonEl.classList.add('colab-df-quickchart-complete');\n",
              "    }\n",
              "    (() => {\n",
              "      let quickchartButtonEl =\n",
              "        document.querySelector('#df-52910f40-6ffd-4809-878c-460c65416b43 button');\n",
              "      quickchartButtonEl.style.display =\n",
              "        google.colab.kernel.accessAllowed ? 'block' : 'none';\n",
              "    })();\n",
              "  </script>\n",
              "</div>\n",
              "\n",
              "  <div id=\"id_1c1a2981-9f42-43ab-be19-4106801055e9\">\n",
              "    <style>\n",
              "      .colab-df-generate {\n",
              "        background-color: #E8F0FE;\n",
              "        border: none;\n",
              "        border-radius: 50%;\n",
              "        cursor: pointer;\n",
              "        display: none;\n",
              "        fill: #1967D2;\n",
              "        height: 32px;\n",
              "        padding: 0 0 0 0;\n",
              "        width: 32px;\n",
              "      }\n",
              "\n",
              "      .colab-df-generate:hover {\n",
              "        background-color: #E2EBFA;\n",
              "        box-shadow: 0px 1px 2px rgba(60, 64, 67, 0.3), 0px 1px 3px 1px rgba(60, 64, 67, 0.15);\n",
              "        fill: #174EA6;\n",
              "      }\n",
              "\n",
              "      [theme=dark] .colab-df-generate {\n",
              "        background-color: #3B4455;\n",
              "        fill: #D2E3FC;\n",
              "      }\n",
              "\n",
              "      [theme=dark] .colab-df-generate:hover {\n",
              "        background-color: #434B5C;\n",
              "        box-shadow: 0px 1px 3px 1px rgba(0, 0, 0, 0.15);\n",
              "        filter: drop-shadow(0px 1px 2px rgba(0, 0, 0, 0.3));\n",
              "        fill: #FFFFFF;\n",
              "      }\n",
              "    </style>\n",
              "    <button class=\"colab-df-generate\" onclick=\"generateWithVariable('x_df')\"\n",
              "            title=\"Generate code using this dataframe.\"\n",
              "            style=\"display:none;\">\n",
              "\n",
              "  <svg xmlns=\"http://www.w3.org/2000/svg\" height=\"24px\"viewBox=\"0 0 24 24\"\n",
              "       width=\"24px\">\n",
              "    <path d=\"M7,19H8.4L18.45,9,17,7.55,7,17.6ZM5,21V16.75L18.45,3.32a2,2,0,0,1,2.83,0l1.4,1.43a1.91,1.91,0,0,1,.58,1.4,1.91,1.91,0,0,1-.58,1.4L9.25,21ZM18.45,9,17,7.55Zm-12,3A5.31,5.31,0,0,0,4.9,8.1,5.31,5.31,0,0,0,1,6.5,5.31,5.31,0,0,0,4.9,4.9,5.31,5.31,0,0,0,6.5,1,5.31,5.31,0,0,0,8.1,4.9,5.31,5.31,0,0,0,12,6.5,5.46,5.46,0,0,0,6.5,12Z\"/>\n",
              "  </svg>\n",
              "    </button>\n",
              "    <script>\n",
              "      (() => {\n",
              "      const buttonEl =\n",
              "        document.querySelector('#id_1c1a2981-9f42-43ab-be19-4106801055e9 button.colab-df-generate');\n",
              "      buttonEl.style.display =\n",
              "        google.colab.kernel.accessAllowed ? 'block' : 'none';\n",
              "\n",
              "      buttonEl.onclick = () => {\n",
              "        google.colab.notebook.generateWithVariable('x_df');\n",
              "      }\n",
              "      })();\n",
              "    </script>\n",
              "  </div>\n",
              "\n",
              "    </div>\n",
              "  </div>\n"
            ],
            "application/vnd.google.colaboratory.intrinsic+json": {
              "type": "dataframe",
              "variable_name": "x_df",
              "summary": "{\n  \"name\": \"x_df\",\n  \"rows\": 10,\n  \"fields\": [\n    {\n      \"column\": 0,\n      \"properties\": {\n        \"dtype\": \"number\",\n        \"std\": 3,\n        \"min\": 0,\n        \"max\": 9,\n        \"num_unique_values\": 10,\n        \"samples\": [\n          8,\n          1,\n          5\n        ],\n        \"semantic_type\": \"\",\n        \"description\": \"\"\n      }\n    }\n  ]\n}"
            }
          },
          "metadata": {},
          "execution_count": 36
        },
        {
          "output_type": "display_data",
          "data": {
            "text/plain": [
              "<google.colab._quickchart_helpers.SectionTitle at 0x78a102028700>"
            ],
            "text/html": [
              "<h4 class=\"colab-quickchart-section-title\">Distributions</h4>\n",
              "<style>\n",
              "  .colab-quickchart-section-title {\n",
              "      clear: both;\n",
              "  }\n",
              "</style>"
            ]
          },
          "metadata": {}
        },
        {
          "output_type": "display_data",
          "data": {
            "text/plain": [
              "from matplotlib import pyplot as plt\n",
              "_df_0['index'].plot(kind='hist', bins=20, title='index')\n",
              "plt.gca().spines[['top', 'right',]].set_visible(False)"
            ],
            "text/html": [
              "      <div class=\"colab-quickchart-chart-with-code\" id=\"chart-56195b0a-af6f-412e-a1f4-89deb971230e\">\n",
              "        <img style=\"width: 180px;\" src=\"data:image/png;base64,iVBORw0KGgoAAAANSUhEUgAAAioAAAGrCAYAAADuNLxTAAAAOXRFWHRTb2Z0d2FyZQBNYXRwbG90\n",
              "bGliIHZlcnNpb24zLjcuMSwgaHR0cHM6Ly9tYXRwbG90bGliLm9yZy/bCgiHAAAACXBIWXMAAA9h\n",
              "AAAPYQGoP6dpAAAd4UlEQVR4nO3df5BV9X3/8deFTTaJivgDArqsRmFRExUxUAasNTJONY1owelE\n",
              "QwKt/NCmtRmcaoixRU2EpG0aayZ1FYdqmBodoCnVGKdGTTRBAWMMYhRQ110NitWRtY2u7rLfP5zs\n",
              "N/tF+nXJXu5n5fGYOTN7z3728L5zs84z5569p9Ld3d0dAIACDar1AAAAuyJUAIBiCRUAoFhCBQAo\n",
              "llABAIolVACAYgkVAKBYQgUAKJZQAQCKJVSAqjnjjDNy1VVX7fbPn3TSSVm0aFH/DQQMOHW1HgB4\n",
              "77rzzjtrPQIwwDmjAgAUS6gAVXPKKafky1/+cpKkUqnk2muvzZQpU7Lvvvvm2GOPzQMPPNCztrOz\n",
              "M5dccklGjBiRYcOGZeHChTsd7/nnn895552XQw89NMOHD8+5556bl156KUly3333ZZ999sm6deuS\n",
              "JN3d3fmjP/qjnHnmmXHvVRi4hAqwxyxdujQ33XRTXn311UydOjWf+cxner739a9/Pbfddlvuueee\n",
              "PPfcc6mrq8tDDz3U8/2Ojo5MnTo1hxxySDZt2pSnn346dXV1Oe+885K8HUWLFi3KOeeck5dffjlX\n",
              "XXVVnnjiiXznO99JpVLZ488V6B9CBdhjLr744owePTp1dXWZO3duWltb8+KLLyZJli1blosvvjjH\n",
              "HHNM6uvrs2jRohxwwAE9P3vHHXfktddey9/93d9ln332yb777pslS5bk7rvvznPPPZck+eu//utM\n",
              "mDAhU6dOzde//vWsXLkyQ4cOrcVTBfqJi2mBPeaQQw7p+XqfffZJkrz22mv58Ic/nOeeey4f+chH\n",
              "er4/ePDgNDY29jzevHlzXnzxxV7xkiT19fVpbW1NQ0NDkmTBggWZMmVKzj333IwbN66KzwbYE4QK\n",
              "UISGhoa0tLT0PO7q6kpbW1vP4xEjRuSwww7LU089tctjbN++PbNmzcr555+f2267Lf/xH/+RM888\n",
              "s5pjA1XmrR+gCLNmzco//MM/5IknnkhHR0euvPLKvPLKKz3fnz59et56661cfvnl2b59e5Jk27Zt\n",
              "ufXWW5O8ffHsrFmzMnbs2Nxwww1pbm7O5z73uTz99NM1eT5A/xAqQBEuvfTSTJ8+PX/wB3+QhoaG\n",
              "vPnmm/m93/u9nu/vt99+WbNmTVpbW3PsscdmyJAhmTx5cn784x8nSb72ta/lF7/4Rc/Fs+eee25m\n",
              "zpyZGTNm5PXXX6/V0wJ+R5Vuf7cHABTKGRUAoFhCBQAollABAIolVACAYgkVAKBYQgUAKJZQAQCK\n",
              "9Z4IlWuuuabWIwAAVfCeCJVnn3221iMAAFXwnggVAOC9SagAAMUSKgBAsYQKAFAsoQIAFEuoAADF\n",
              "EioAQLGECgBQLKECABRLqAAAxRIqAECxhAoAUKyqhspFF12Uww8/PJVKJT//+c93ue7GG2/MmDFj\n",
              "cuSRR2bu3Ll56623qjkWADBAVDVUzjnnnDzwwAM57LDDdrnmmWeeyeWXX577778/W7ZsyYsvvpjr\n",
              "r7++mmMBAANEVUPl5JNPTkNDw/+6ZsWKFZk2bVpGjBiRSqWSCy64ILfccssu13d0dKS9vb3X1tXV\n",
              "1d+jAwAFqKv1AK2trb3OuBx++OFpbW3d5frFixfniiuu6LVv0qRJVZnt8C/eUZXjJknLkj+qynEH\n",
              "4sxJ9eY2c28DceZqGYi/KwNx5mRg/u/OzP9XrX+/B9zFtAsXLsz27dt7bRMnTqz1WABAFdT8jEpj\n",
              "Y2OeeuqpnsctLS1pbGzc5fr6+vrU19f32jd48OCqzQcA1E7Nz6jMmDEjq1evzgsvvJDu7u5cd911\n",
              "+fSnP13rsQCAAlQ1VObPn5+GhoY899xz+cM//MOMHj06STJnzpysXr06SXLEEUfkiiuuyJQpUzJ6\n",
              "9OgMGzYs8+fPr+ZYAMAAUdW3fpqbm99x/9KlS3s9njt3bubOnVvNUQCAAajmb/0AAOyKUAEAiiVU\n",
              "AIBiCRUAoFhCBQAollABAIolVACAYgkVAKBYQgUAKJZQAQCKJVQAgGIJFQCgWEIFACiWUAEAiiVU\n",
              "AIBiCRUAoFhCBQAollABAIolVACAYgkVAKBYQgUAKJZQAQCKJVQAgGIJFQCgWEIFACiWUAEAiiVU\n",
              "AIBiCRUAoFhCBQAollABAIolVACAYgkVAKBYQgUAKJZQAQCKJVQAgGIJFQCgWEIFACiWUAEAiiVU\n",
              "AIBiCRUAoFhCBQAollABAIolVACAYgkVAKBYQgUAKJZQAQCKJVQAgGIJFQCgWEIFACiWUAEAiiVU\n",
              "AIBiCRUAoFhCBQAollABAIolVACAYgkVAKBYQgUAKJZQAQCKJVQAgGIJFQCgWEIFAChWVUNl8+bN\n",
              "mTx5cpqamjJhwoRs3LhxpzU7duzIggULcswxx+S4447LJz7xiWzZsqWaYwEAA0RVQ2X+/PmZN29e\n",
              "Nm3alEsvvTSzZ8/eac3q1avzk5/8JI8++mh+8YtfZOrUqfnSl75UzbEAgAGiaqGybdu2rF+/PjNn\n",
              "zkySzJgxI21tbTudLalUKuno6Mgbb7yR7u7utLe3p6GhoVpjAQADSF21DtzW1paRI0emru7tf6JS\n",
              "qaSxsTGtra0ZPXp0z7ozzzwz9957b0aMGJH99tsvhx56aH70ox/t8rgdHR3p6Ojota+rq6s6TwIA\n",
              "qKmaX0y7fv36PPbYY3n++efzq1/9KlOnTs0FF1ywy/WLFy/O/vvv32tbu3btHpwYANhTqhYqo0aN\n",
              "ytatW9PZ2Zkk6e7uTmtraxobG3utu/nmm3Pqqadm6NChGTRoUGbNmpV77713l8dduHBhtm/f3mub\n",
              "OHFitZ4GAFBDVQuV4cOHZ/z48Vm+fHmSZOXKlWloaOj1tk+SHHHEEbnnnnvy5ptvJkluv/32fOxj\n",
              "H9vlcevr6zNkyJBe2+DBg6v1NACAGqraNSpJ0tzcnNmzZ+fqq6/OkCFDsmzZsiTJnDlzMm3atEyb\n",
              "Ni2f//zn88tf/jLHH3983ve+92XEiBG57rrrqjkWADBAVDVUxo4dmzVr1uy0f+nSpT1f19fX54Yb\n",
              "bqjmGADAAFXzi2kBAHZFqAAAxRIqAECxhAoAUCyhAgAUS6gAAMUSKgBAsYQKAFAsoQIAFEuoAADF\n",
              "EioAQLGECgBQLKECABRLqAAAxRIqAECxhAoAUCyhAgAUS6gAAMUSKgBAsYQKAFAsoQIAFEuoAADF\n",
              "EioAQLGECgBQLKECABRLqAAAxRIqAECxhAoAUCyhAgAUS6gAAMUSKgBAsYQKAFAsoQIAFEuoAADF\n",
              "EioAQLGECgBQLKECABRLqAAAxRIqAECxhAoAUCyhAgAUS6gAAMUSKgBAsYQKAFAsoQIAFEuoAADF\n",
              "EioAQLGECgBQLKECABRLqAAAxRIqAECxhAoAUCyhAgAUS6gAAMUSKgBAsYQKAFAsoQIAFEuoAADF\n",
              "EioAQLGECgBQLKECABRLqAAAxapqqGzevDmTJ09OU1NTJkyYkI0bN77jug0bNuSUU07J0UcfnaOP\n",
              "PjqrVq2q5lgAwABRV82Dz58/P/Pmzcvs2bOzYsWKzJ49O+vWreu15te//nXOOuus3HzzzTnppJPS\n",
              "1dWVV155pZpjAQADRNXOqGzbti3r16/PzJkzkyQzZsxIW1tbtmzZ0mvdv/7rv2bSpEk56aSTkiSD\n",
              "Bw/OsGHDdnncjo6OtLe399q6urqq9TQAgBqqWqi0tbVl5MiRqat7+6RNpVJJY2NjWltbe617/PHH\n",
              "U19fn0996lMZN25cPve5z+Wll17a5XEXL16c/fffv9e2du3aaj0NAKCG+hwqd911V78O0NnZmbvv\n",
              "vjvNzc155JFHcuihh+bCCy/c5fqFCxdm+/btvbaJEyf260wAQBn6HCpXXnllxo4dm2uuuSbt7e27\n",
              "XDdq1Khs3bo1nZ2dSZLu7u60tramsbGx17rGxsZ84hOfyKGHHppKpZKZM2fmwQcf3OVx6+vrM2TI\n",
              "kF7b4MGD+/o0AIABoM+h8pOf/CTf/e5389hjj6WpqSl//ud/nscff3yndcOHD8/48eOzfPnyJMnK\n",
              "lSvT0NCQ0aNH91r3J3/yJ1m3bl1P9Hz/+9/P8ccfvzvPBQB4j9mta1ROOOGE3HDDDfnBD36Q22+/\n",
              "Pccdd1xOO+20bNiwode65ubmNDc3p6mpKUuWLMmyZcuSJHPmzMnq1auTvH1G5Utf+lImT56c4447\n",
              "Lvfcc0+uu+663/FpAQDvBbv158l33313rr322mzYsCGf//znc/755+e+++7LH//xH/f6q56xY8dm\n",
              "zZo1O/380qVLez3+7Gc/m89+9rO7MwoA8B7W51A5+uijc/DBB+eiiy7K9OnTe64POeecc3LjjTf2\n",
              "+4AAwN6rz6GyfPnynHjiie/4vTvvvPN3HggA4Df6fI3Kww8/3OuTY19++eXccMMN/ToUAECyG6Hy\n",
              "7W9/OwceeGDP44MOOijf/va3+3UoAIBkN0Klu7t7p30+wh4AqIY+h8rIkSNz22239Ty+9dZbM3Lk\n",
              "yH4dCgAg2Y2Lab/5zW/mrLPOyiWXXJIk+dCHPpR///d/7/fBAAD6HCpHHXVUHn/88Tz55JNJ3v6s\n",
              "FB9hDwBUw2594FulUsnQoUPT2dmZ559/Pkl2uocPAMDvqs+h8i//8i+56KKL8r73vS+DBr19iUul\n",
              "Usm2bdv6fTgAYO/W51C56qqrsm7duowdO7Ya8wAA9OjzX/0cfPDBIgUA2CP6HCpnn312vvnNb2bb\n",
              "tm1pb2/v2QAA+luf3/q57LLLkiQLFixIpVJJd3d3KpWKD30DAPpdn0Nlx44d1ZgDAGAnfX7rJ3n7\n",
              "xoTf+c53kiSvvvpqtm7d2q9DAQAku3lTwj/7sz/LokWLkrx99+Tzzjuvv+cCAOh7qFx//fV58MEH\n",
              "M2TIkCTJkUcemZdeeqnfBwMA6HOo1NfX54Mf/GCvfXV1u/UBtwAA/6s+h8qwYcOyadOmVCqVJG9/\n",
              "Uq2PzwcAqmG37p587rnn5oknnsioUaMyZMiQ3H777dWYDQDYy/U5VEaPHp2HHnooTz75ZLq7u909\n",
              "GQComj6HSmtra5Jkn332SRJ3TwYAqqbPoXLiiSf2fCLtG2+8kV//+tc56KCD3D0ZAOh3fQ6V//dP\n",
              "kVetWpVHH3203wYCAPiN3fpk2t82ffr03HHHHf0xCwBAL30+o/Lbd0ru6urKQw895O7JAEBV9DlU\n",
              "hg4d2nONyuDBgzNmzJj80z/9UzVmAwD2cu6eDAAU63e+RgUAoFr6fEZl0KBBPR+f/9u6u7tTqVTS\n",
              "1dXVL4MBAPQ5VK688sq8/vrrufDCC5Mk1113XT74wQ/mC1/4Qn/PBgDs5focKv/2b/+Whx9+uOfx\n",
              "V77ylZx44om57LLL+nUwAIA+X6Py2muv9foU2m3btuW1117r16EAAJLdOKNy8cUX5/jjj88nP/nJ\n",
              "JMkPfvCDLFq0qL/nAgDoe6jMnz8/U6ZMyb333pskWbBgQT760Y/2+2AAAH0OlSQ56KCDcuyxx+aU\n",
              "U05JZ2dn3nzzzbz//e/v79kAgL1cn69RWbFiRSZNmpQ//dM/TZJs3LgxZ599dn/PBQDQ91BZvHhx\n",
              "fvazn2Xo0KFJkuOPPz7PPvtsf88FAND3UBk8eHAOOuigXvu87QMAVEOfQ2W//fbLiy++2PPptD/8\n",
              "4Q9z4IEH9vtgAAB9vpj2a1/7Ws4444w8/fTTOemkk/LMM8/kjjvuqMZsAMBerk+hsmPHjnR1deXe\n",
              "e+/NT3/603R3d2fy5Mk916sAAPSnPoXKoEGDMm/evDz66KM544wzqjUTAECS3bhGZcyYMdmyZUs1\n",
              "ZgEA6KXP16i88sorGTduXCZPnpx99923Z/+qVav6dTAAgHcdKvPmzcv111+fWbNmZdq0aTnggAOq\n",
              "ORcAwLsPlfXr1ydJZs2alfHjx+dnP/tZ1YYCAEh24xqVJOnu7u7vOQAAdvKuz6i8/vrr2bBhQ7q7\n",
              "u/PGG2/0fP0bxx13XFUGBAD2Xn0KlWnTpvU8/u2vK5VKnn766f6dDADY673rUGlpaaniGAAAO9ut\n",
              "a1QAAPYEoQIAFEuoAADFEioAQLGECgBQLKECABRLqAAAxRIqAECxhAoAUKyqhsrmzZszefLkNDU1\n",
              "ZcKECdm4ceMu13Z3d+fUU0/N0KFDqzkSADCAVDVU5s+fn3nz5mXTpk259NJLM3v27F2u/cd//Mcc\n",
              "eeSR1RwHABhgqhYq27Zty/r16zNz5swkyYwZM9LW1pYtW7bstHbjxo353ve+ly9+8Yv/3+N2dHSk\n",
              "vb2919bV1dXv8wMAtVe1UGlra8vIkSNTV/f2fQ8rlUoaGxvT2traa91bb72VuXPnprm5OYMHD/7/\n",
              "Hnfx4sXZf//9e21r166tynMAAGqr5hfTXnHFFZk+fXqOPvrod7V+4cKF2b59e69t4sSJVZ4SAKiF\n",
              "umodeNSoUdm6dWs6OztTV1eX7u7utLa2prGxsde6H/3oR2ltbc23vvWtdHZ2pr29PYcffnjWrVuX\n",
              "YcOG7XTc+vr61NfX99r3bs7EAAADT9XOqAwfPjzjx4/P8uXLkyQrV65MQ0NDRo8e3Wvd/fffn2ef\n",
              "fTYtLS154IEHMmTIkLS0tLxjpAAAe5eqvvXT3Nyc5ubmNDU1ZcmSJVm2bFmSZM6cOVm9enU1/2kA\n",
              "4D2gam/9JMnYsWOzZs2anfYvXbr0HdcffvjhefXVV6s5EgAwgNT8YloAgF0RKgBAsYQKAFAsoQIA\n",
              "FEuoAADFEioAQLGECgBQLKECABRLqAAAxRIqAECxhAoAUCyhAgAUS6gAAMUSKgBAsYQKAFAsoQIA\n",
              "FEuoAADFEioAQLGECgBQLKECABRLqAAAxRIqAECxhAoAUCyhAgAUS6gAAMUSKgBAsYQKAFAsoQIA\n",
              "FEuoAADFEioAQLGECgBQLKECABRLqAAAxRIqAECxhAoAUCyhAgAUS6gAAMUSKgBAsYQKAFAsoQIA\n",
              "FEuoAADFEioAQLGECgBQLKECABRLqAAAxRIqAECxhAoAUCyhAgAUS6gAAMUSKgBAsYQKAFAsoQIA\n",
              "FEuoAADFEioAQLGECgBQLKECABRLqAAAxRIqAECxhAoAUCyhAgAUS6gAAMUSKgBAsaoaKps3b87k\n",
              "yZPT1NSUCRMmZOPGjTutueeeezJx4sQcc8wx+ehHP5pLLrkkO3bsqOZYAMAAUdVQmT9/fubNm5dN\n",
              "mzbl0ksvzezZs3dac8ABB+S73/1uHn/88Tz88MP56U9/mptvvrmaYwEAA0TVQmXbtm1Zv359Zs6c\n",
              "mSSZMWNG2trasmXLll7rTjjhhBxxxBFJkg984AMZN25cWlpadnncjo6OtLe399q6urqq9TQAgBqq\n",
              "Wqi0tbVl5MiRqaurS5JUKpU0NjamtbV1lz/zwgsvZMWKFfnUpz61yzWLFy/O/vvv32tbu3Ztv88P\n",
              "ANReMRfTtre358wzz8wll1ySj3/847tct3Dhwmzfvr3XNnHixD04KQCwp9RV68CjRo3K1q1b09nZ\n",
              "mbq6unR3d6e1tTWNjY07rX3ttddy+umn56yzzsqCBQv+1+PW19envr6+177Bgwf36+wAQBmqdkZl\n",
              "+PDhGT9+fJYvX54kWblyZRoaGjJ69Ohe6/77v/87p59+ek4//fR8+ctfrtY4AMAAVNW3fpqbm9Pc\n",
              "3JympqYsWbIky5YtS5LMmTMnq1evTpJcc801Wbt2bVatWpVx48Zl3Lhx+epXv1rNsQCAAaJqb/0k\n",
              "ydixY7NmzZqd9i9durTn68suuyyXXXZZNccAAAaoYi6mBQD4fwkVAKBYQgUAKJZQAQCKJVQAgGIJ\n",
              "FQCgWEIFACiWUAEAiiVUAIBiCRUAoFhCBQAollABAIolVACAYgkVAKBYQgUAKJZQAQCKJVQAgGIJ\n",
              "FQCgWEIFACiWUAEAiiVUAIBiCRUAoFhCBQAollABAIolVACAYgkVAKBYQgUAKJZQAQCKJVQAgGIJ\n",
              "FQCgWEIFACiWUAEAiiVUAIBiCRUAoFhCBQAollABAIolVACAYgkVAKBYQgUAKJZQAQCKJVQAgGIJ\n",
              "FQCgWEIFACiWUAEAiiVUAIBiCRUAoFhCBQAollABAIolVACAYgkVAKBYQgUAKJZQAQCKJVQAgGIJ\n",
              "FQCgWEIFACiWUAEAiiVUAIBiCRUAoFhCBQAollABAIolVACAYlU1VDZv3pzJkyenqakpEyZMyMaN\n",
              "G99x3Y033pgxY8bkyCOPzNy5c/PWW29VcywAYICoaqjMnz8/8+bNy6ZNm3LppZdm9uzZO6155pln\n",
              "cvnll+f+++/Pli1b8uKLL+b666+v5lgAwABRtVDZtm1b1q9fn5kzZyZJZsyYkba2tmzZsqXXuhUr\n",
              "VmTatGkZMWJEKpVKLrjggtxyyy27PG5HR0fa29t7bV1dXdV6GgBADVW6u7u7q3Hghx9+OOedd16e\n",
              "fPLJnn0TJ07MkiVLcuqpp/bs+8u//MsccsghWbhwYZLk8ccfz+mnn57W1tZ3PO6iRYtyxRVX9Np3\n",
              "1FFH5YwzzujX+bu6urJ27dpMnDgxgwcP7tdjs3u8JmXxepTF61EWr8e7c9hhh+Wv/uqv/tc1dXto\n",
              "ln6zcOHCLFiwoNe++vr61NfX9+u/097env333z933XVXhgwZ0q/HZvd4Tcri9SiL16MsXo/+U7VQ\n",
              "GTVqVLZu3ZrOzs7U1dWlu7s7ra2taWxs7LWusbExTz31VM/jlpaWndb8tmpECQBQpqpdozJ8+PCM\n",
              "Hz8+y5cvT5KsXLkyDQ0NGT16dK91M2bMyOrVq/PCCy+ku7s71113XT796U9XaywAYACp6l/9NDc3\n",
              "p7m5OU1NTVmyZEmWLVuWJJkzZ05Wr16dJDniiCNyxRVXZMqUKRk9enSGDRuW+fPnV3MsAGCAqOo1\n",
              "KmPHjs2aNWt22r906dJej+fOnZu5c+dWc5Q+q6+vz9/+7d96m6kgXpOyeD3K4vUoi9ej/1Ttr34A\n",
              "AH5XPkIfACiWUAEAiiVUAIBiCRUAoFhCZRfe7Z2fqb433ngjZ599dpqamnL88cfntNNO2+meUdTG\n",
              "smXLUqlU8r3vfa/Wo+zVOjo68hd/8RcZM2ZMjj322J57rFEb3//+9zN+/PiMGzcuH/vYx3LTTTfV\n",
              "eqQBbcB9hP6e8ps7P8+ePTsrVqzI7Nmzs27dulqPtdeaN29ezjjjjFQqlXzrW9/KnDlzct9999V6\n",
              "rL1aS0tLbrjhhkyaNKnWo+z1vvjFL6ZSqWTTpk2pVCp54YUXaj3SXqu7uzszZ87Mfffdl+OOOy4t\n",
              "LS056qijMn369Oy33361Hm9AckblHbzbOz+zZ3zgAx/IJz/5yVQqlSTJpEmT0tLSUtuh9nI7duzI\n",
              "nDlzcu211/qciBr7n//5n9x444356le/2vM7MmLEiBpPtXerVCp59dVXk7x9z5+DDjrI78nvQKi8\n",
              "g7a2towcOTJ1dW+fcKpUKmlsbNzlHZ3Zs6655pqcddZZtR5jr/aNb3wjU6ZMyYknnljrUfZ6Tz31\n",
              "VA488MBcffXV+fjHP57f//3fzw9/+MNaj7XXqlQqufXWWzN9+vQcdthhOemkk3LTTTfl/e9/f61H\n",
              "G7C89cOAcvXVV2fLli3+Q1xDjz32WFauXJkf//jHtR6FJJ2dnXn22WdzzDHHZMmSJXnkkUdy2mmn\n",
              "ZePGjfnwhz9c6/H2Op2dnfnKV76SVatW5eSTT866desybdq0bNiwIQcffHCtxxuQnFF5B7995+ck\n",
              "u7zzM3vW3//932fVqlW5884786EPfajW4+y17r///rS0tGTMmDE5/PDD8+CDD2bevHn553/+51qP\n",
              "tldqbGzMoEGD8pnPfCZJcsIJJ+QjH/lINmzYUOPJ9k4///nP86tf/Sonn3xykmTChAlpaGjII488\n",
              "UuPJBi6h8g7e7Z2f2XO+8Y1v5JZbbsl//ud/ZujQobUeZ6924YUXZuvWrWlpaUlLS0smTZqU66+/\n",
              "PhdeeGGtR9srHXzwwZk6dWruuuuuJMkzzzyTZ555JkcffXSNJ9s7/eb/6P7yl79MkmzZsiVPPfVU\n",
              "xo4dW+PJBi73+tmFJ598MrNnz87LL7+cIUOGZNmyZTn22GNrPdZe6bnnnsuoUaNyxBFH9Fw1X19f\n",
              "n4ceeqjGk5Ekp5xySr7whS/k7LPPrvUoe62nn346559/fv7rv/4rgwYNyt/8zd9kxowZtR5rr3XL\n",
              "Lbfk6quvzqBBg7Jjx44sXLgw5513Xq3HGrCECgBQLG/9AADFEioAQLGECgBQLKECABRLqAAAxRIq\n",
              "AECxhAoAUCyhAgAUS6gAAMUSKgBAsf4PmXmWqfi9lD0AAAAASUVORK5CYII=\n",
              "\">\n",
              "      </div>\n",
              "      <script type=\"text/javascript\">\n",
              "        (() => {\n",
              "          const chartElement = document.getElementById(\"chart-56195b0a-af6f-412e-a1f4-89deb971230e\");\n",
              "          async function getCodeForChartHandler(event) {\n",
              "            const chartCodeResponse =  await google.colab.kernel.invokeFunction(\n",
              "                'getCodeForChart', [\"chart-56195b0a-af6f-412e-a1f4-89deb971230e\"], {});\n",
              "            const responseJson = chartCodeResponse.data['application/json'];\n",
              "            await google.colab.notebook.addCell(responseJson.code, 'code');\n",
              "          }\n",
              "          chartElement.onclick = getCodeForChartHandler;\n",
              "        })();\n",
              "      </script>\n",
              "      <style>\n",
              "        .colab-quickchart-chart-with-code  {\n",
              "            display: block;\n",
              "            float: left;\n",
              "            border: 1px solid transparent;\n",
              "        }\n",
              "\n",
              "        .colab-quickchart-chart-with-code:hover {\n",
              "            cursor: pointer;\n",
              "            border: 1px solid #aaa;\n",
              "        }\n",
              "      </style>"
            ]
          },
          "metadata": {}
        },
        {
          "output_type": "display_data",
          "data": {
            "text/plain": [
              "from matplotlib import pyplot as plt\n",
              "_df_1[0].plot(kind='hist', bins=20, title=0)\n",
              "plt.gca().spines[['top', 'right',]].set_visible(False)"
            ],
            "text/html": [
              "      <div class=\"colab-quickchart-chart-with-code\" id=\"chart-c01d45ff-c23f-482e-afbd-38f56ef25ff2\">\n",
              "        <img style=\"width: 180px;\" src=\"data:image/png;base64,iVBORw0KGgoAAAANSUhEUgAAAioAAAGZCAYAAACnhhr1AAAAOXRFWHRTb2Z0d2FyZQBNYXRwbG90\n",
              "bGliIHZlcnNpb24zLjcuMSwgaHR0cHM6Ly9tYXRwbG90bGliLm9yZy/bCgiHAAAACXBIWXMAAA9h\n",
              "AAAPYQGoP6dpAAAa0UlEQVR4nO3df5BV9X3/8dcFkk3SuhARCnVZKS6LmCiIgWHQOv6YTDXfBixk\n",
              "OqklddsCq01rM3RGQ2xaSROhMx0b20zKIg6NZWrSAZoymtRpoklNggJGrUIqrLLuJgFJk5G1Tdy4\n",
              "y/3+4YRv9oukLtnL/az7eMycGe7xw+F954rz9Nyz51Sq1Wo1AAAFGlPvAQAATkaoAADFEioAQLGE\n",
              "CgBQLKECABRLqAAAxRIqAECxhAoAUCyhAgAU6w0RKnfeeWe9RwAAauANESrPP/98vUcAAGrgDREq\n",
              "AMAbk1ABAIolVACAYgkVAKBYQgUAKJZQAQCKJVQAgGIJFQCgWEIFACiWUAEAiiVUAIBiCRUAoFg1\n",
              "DZWbbrop06dPT6VSyRNPPHHSdXfffXdmzpyZc889NytXrswrr7xSy7EAgBGipqHyvve9L1/72tdy\n",
              "zjnnnHTNwYMH89GPfjQPP/xwOjs788ILL2Tjxo21HAsAGCFqGiqXXXZZmpqafuaarVu3ZvHixZky\n",
              "ZUoqlUpuuOGG3HvvvSdd39fXl97e3kHbwMDAcI8OABRgXL0H6O7uHnTGZfr06enu7j7p+nXr1mXt\n",
              "2rWD9i1cuLAms03/8P01OW6SdK3/PzU57kicOand3GYebCTOXCsj8e/KSJw5GZn/3pn5/6n33+8R\n",
              "dzHtmjVrcvTo0UHbggUL6j0WAFADdT+j0tzcnGefffb4666urjQ3N590fUNDQxoaGgbtGzt2bM3m\n",
              "AwDqp+5nVJYtW5YdO3bk8OHDqVar2bBhQ97//vfXeywAoAA1DZX29vY0NTXl29/+dn7t134tLS0t\n",
              "SZIVK1Zkx44dSZIZM2Zk7dq1ueSSS9LS0pJJkyalvb29lmMBACNETb/66ejoeM39mzZtGvR65cqV\n",
              "WblyZS1HAQBGoLp/9QMAcDJCBQAollABAIolVACAYgkVAKBYQgUAKJZQAQCKJVQAgGIJFQCgWEIF\n",
              "ACiWUAEAiiVUAIBiCRUAoFhCBQAollABAIolVACAYgkVAKBYQgUAKJZQAQCKJVQAgGIJFQCgWEIF\n",
              "ACiWUAEAiiVUAIBiCRUAoFhCBQAollABAIolVACAYgkVAKBYQgUAKJZQAQCKJVQAgGIJFQCgWEIF\n",
              "ACiWUAEAiiVUAIBiCRUAoFhCBQAollABAIolVACAYgkVAKBYQgUAKJZQAQCKJVQAgGIJFQCgWEIF\n",
              "ACiWUAEAiiVUAIBiCRUAoFhCBQAollABAIolVACAYgkVAKBYQgUAKJZQAQCKJVQAgGIJFQCgWEIF\n",
              "ACiWUAEAiiVUAIBiCRUAoFg1DZUDBw5k0aJFaW1tzfz587N3794T1hw7diyrV6/O+eefnwsvvDBX\n",
              "XHFFOjs7azkWADBC1DRU2tvbs2rVquzfvz+33HJL2traTlizY8eOfP3rX8+TTz6Z//iP/8hVV12V\n",
              "j3zkI7UcCwAYIWoWKkeOHMmePXuyfPnyJMmyZcvS09NzwtmSSqWSvr6+vPzyy6lWq+nt7U1TU1Ot\n",
              "xgIARpBxtTpwT09Ppk6dmnHjXv0jKpVKmpub093dnZaWluPr3vve9+ahhx7KlClTcsYZZ+Tss8/O\n",
              "V7/61ZMet6+vL319fYP2DQwM1OZNAAB1VfeLaffs2ZOnn3463/nOd/Ld7343V111VW644YaTrl+3\n",
              "bl3Gjx8/aNu1a9dpnBgAOF1qFirTpk3LoUOH0t/fnySpVqvp7u5Oc3PzoHX33HNPrrzyykyYMCFj\n",
              "xozJ9ddfn4ceeuikx12zZk2OHj06aFuwYEGt3gYAUEc1C5XJkydn3rx52bJlS5Jk27ZtaWpqGvS1\n",
              "T5LMmDEjDz74YH784x8nSe677768853vPOlxGxoa0tjYOGgbO3Zsrd4GAFBHNbtGJUk6OjrS1taW\n",
              "22+/PY2Njdm8eXOSZMWKFVm8eHEWL16cD37wg/nWt76VOXPm5E1velOmTJmSDRs21HIsAGCEqGmo\n",
              "zJo1Kzt37jxh/6ZNm47/uqGhIXfddVctxwAARqi6X0wLAHAyQgUAKJZQAQCKJVQAgGIJFQCgWEIF\n",
              "ACiWUAEAiiVUAIBiCRUAoFhCBQAollABAIolVACAYgkVAKBYQgUAKJZQAQCKJVQAgGIJFQCgWEIF\n",
              "ACiWUAEAiiVUAIBiCRUAoFhCBQAollABAIolVACAYgkVAKBYQgUAKJZQAQCKJVQAgGIJFQCgWEIF\n",
              "ACiWUAEAiiVUAIBiCRUAoFhCBQAollABAIolVACAYgkVAKBYQgUAKJZQAQCKJVQAgGIJFQCgWEIF\n",
              "ACiWUAEAiiVUAIBiCRUAoFhCBQAollABAIolVACAYgkVAKBYQgUAKJZQAQCKJVQAgGIJFQCgWEIF\n",
              "ACiWUAEAiiVUAIBiCRUAoFhCBQAollABAIolVACAYgkVAKBYNQ2VAwcOZNGiRWltbc38+fOzd+/e\n",
              "11z31FNP5fLLL8/s2bMze/bsbN++vZZjAQAjxLhaHry9vT2rVq1KW1tbtm7dmra2tuzevXvQmh/+\n",
              "8IdZsmRJ7rnnnlx66aUZGBjID37wg1qOBQCMEDU7o3LkyJHs2bMny5cvT5IsW7YsPT096ezsHLTu\n",
              "H//xH7Nw4cJceumlSZKxY8dm0qRJtRoLABhBahYqPT09mTp1asaNe/WkTaVSSXNzc7q7uwet27dv\n",
              "XxoaGvLrv/7rmTt3bn7nd34n3/ve90563L6+vvT29g7aBgYGavU2AIA6qvvFtP39/fnSl76Ujo6O\n",
              "PP744zn77LNz4403nnT9unXrMn78+EHbrl27TuPEAMDpMuRQeeCBB17XumnTpuXQoUPp7+9PklSr\n",
              "1XR3d6e5uXnQuubm5lxxxRU5++yzU6lUsnz58jzyyCMnPe6aNWty9OjRQduCBQuG+jYAgBFgyKHy\n",
              "sY99LLNmzcqdd96Z3t7ek66bPHly5s2bly1btiRJtm3blqamprS0tAxa95u/+ZvZvXv38WN94Qtf\n",
              "yJw5c0563IaGhjQ2Ng7axo4dO9S3AQCMAEMOla9//ev57Gc/m6effjqtra35gz/4g+zbt+8113Z0\n",
              "dKSjoyOtra1Zv359Nm/enCRZsWJFduzYkeTVMyof+chHsmjRolx44YV58MEHs2HDhp/jLQEAbxSn\n",
              "9OPJF110Ue6666488cQTWbx4cTZu3Jgrrrgid9xxRy644ILj62bNmpWdO3ee8Ps3bdo06PUHPvCB\n",
              "fOADHziVUQCAN7BTupj2S1/6UpYsWZKlS5fmgx/8YA4fPpz29vb8xm/8xnDPBwCMYkM+ozJ79uyc\n",
              "ddZZuemmm7J06dLj14e8733vy9133z3sAwIAo9eQQ2XLli25+OKLX/OfffGLX/y5BwIA+Ikhf/Xz\n",
              "2GOPDbrF/fe///3cddddwzoUAEByCqHy6U9/Omeeeebx1xMnTsynP/3pYR0KACA5hVCpVqsn7HML\n",
              "ewCgFoYcKlOnTs0//dM/HX/9uc99LlOnTh3WoQAAklO4mPaTn/xklixZkptvvjlJ8ra3vS3/8i//\n",
              "MuyDAQAMOVTOO++87Nu3L88880ySV2/q5hb2AEAtnNKdaSuVSiZMmJD+/v585zvfSZITHjYIAPDz\n",
              "GnKo/P3f/31uuummvOlNb8qYMa9e4lKpVHLkyJFhHw4AGN2GHCp/8Rd/kd27d2fWrFm1mAcA4Lgh\n",
              "/9TPWWedJVIAgNNiyKFy7bXX5pOf/GSOHDmS3t7e4xsAwHAb8lc/t956a5Jk9erVqVQqqVarqVQq\n",
              "bvoGAAy7IYfKsWPHajEHAMAJhvzVT/Lqgwn/4R/+IUny4osv5tChQ8M6FABAcooPJfy93/u93Hbb\n",
              "bUlefXryddddN9xzAQAMPVQ2btyYRx55JI2NjUmSc889N9/73veGfTAAgCGHSkNDQ9761rcO2jdu\n",
              "3Cnd4BYA4GcacqhMmjQp+/fvT6VSSfLqnWrdPh8AqIVTenryb/3Wb+U///M/M23atDQ2Nua+++6r\n",
              "xWwAwCg35FBpaWnJo48+mmeeeSbVatXTkwGAmhlyqHR3dydJfuEXfiFJPD0ZAKiZIYfKxRdffPyO\n",
              "tC+//HJ++MMfZuLEiZ6eDAAMuyGHyv//o8jbt2/Pk08+OWwDAQD8xCndmfanLV26NPfff/9wzAIA\n",
              "MMiQz6j89JOSBwYG8uijj3p6MgBQE0MOlQkTJhy/RmXs2LGZOXNm/uZv/qYWswEAo5ynJwMAxfq5\n",
              "r1EBAKiVIZ9RGTNmzPHb5/+0arWaSqWSgYGBYRkMAGDIofKxj30sP/rRj3LjjTcmSTZs2JC3vvWt\n",
              "+dCHPjTcswEAo9yQQ+Wf//mf89hjjx1//fGPfzwXX3xxbr311mEdDABgyNeovPTSS4PuQnvkyJG8\n",
              "9NJLwzoUAEByCmdU/uRP/iRz5szJe97zniTJv/7rv+a2224b7rkAAIYeKu3t7bnkkkvy0EMPJUlW\n",
              "r16dd7zjHcM+GADAkEMlSSZOnJgLLrggl19+efr7+/PjH/84b37zm4d7NgBglBvyNSpbt27NwoUL\n",
              "87u/+7tJkr179+baa68d7rkAAIYeKuvWrcs3v/nNTJgwIUkyZ86cPP/888M9FwDA0ENl7NixmThx\n",
              "4qB9vvYBAGphyKFyxhln5IUXXjh+d9ovf/nLOfPMM4d9MACAIV9M+5d/+Ze55ppr8txzz+XSSy/N\n",
              "wYMHc//999diNgBglBtSqBw7diwDAwN56KGH8o1vfCPVajWLFi06fr0KAMBwGlKojBkzJqtWrcqT\n",
              "Tz6Za665plYzAQAkOYVrVGbOnJnOzs5azAIAMMiQr1H5wQ9+kLlz52bRokX5xV/8xeP7t2/fPqyD\n",
              "AQC87lBZtWpVNm7cmOuvvz6LFy/O29/+9lrOBQDw+kNlz549SZLrr78+8+bNyze/+c2aDQUAkJzC\n",
              "NSpJUq1Wh3sOAIATvO4zKj/60Y/y1FNPpVqt5uWXXz7+65+48MILazIgADB6DSlUFi9efPz1T/+6\n",
              "UqnkueeeG97JAIBR73WHSldXVw3HAAA40SldowIAcDoIFQCgWEIFACiWUAEAiiVUAIBiCRUAoFhC\n",
              "BQAollABAIolVACAYtU0VA4cOJBFixaltbU18+fPz969e0+6tlqt5sorr8yECRNqORIAMILUNFTa\n",
              "29uzatWq7N+/P7fcckva2tpOuvav//qvc+6559ZyHABghKlZqBw5ciR79uzJ8uXLkyTLli1LT09P\n",
              "Ojs7T1i7d+/efP7zn8+HP/zh//W4fX196e3tHbQNDAwM+/wAQP3VLFR6enoyderUjBv36nMPK5VK\n",
              "mpub093dPWjdK6+8kpUrV6ajoyNjx479X4+7bt26jB8/ftC2a9eumrwHAKC+6n4x7dq1a7N06dLM\n",
              "nj37da1fs2ZNjh49OmhbsGBBjacEAOphXK0OPG3atBw6dCj9/f0ZN25cqtVquru709zcPGjdV7/6\n",
              "1XR3d+dTn/pU+vv709vbm+nTp2f37t2ZNGnSCcdtaGhIQ0PDoH2v50wMADDy1OyMyuTJkzNv3rxs\n",
              "2bIlSbJt27Y0NTWlpaVl0LqHH344zz//fLq6uvK1r30tjY2N6erqes1IAQBGl5p+9dPR0ZGOjo60\n",
              "trZm/fr12bx5c5JkxYoV2bFjRy3/aADgDaBmX/0kyaxZs7Jz584T9m/atOk110+fPj0vvvhiLUcC\n",
              "AEaQul9MCwBwMkIFACiWUAEAiiVUAIBiCRUAoFhCBQAollABAIolVACAYgkVAKBYQgUAKJZQAQCK\n",
              "JVQAgGIJFQCgWEIFACiWUAEAiiVUAIBiCRUAoFhCBQAollABAIolVACAYgkVAKBYQgUAKJZQAQCK\n",
              "JVQAgGIJFQCgWEIFACiWUAEAiiVUAIBiCRUAoFhCBQAollABAIolVACAYgkVAKBYQgUAKJZQAQCK\n",
              "JVQAgGIJFQCgWEIFACiWUAEAiiVUAIBiCRUAoFhCBQAollABAIolVACAYgkVAKBYQgUAKJZQAQCK\n",
              "JVQAgGIJFQCgWEIFACiWUAEAiiVUAIBiCRUAoFhCBQAollABAIolVACAYgkVAKBYQgUAKJZQAQCK\n",
              "JVQAgGIJFQCgWDUNlQMHDmTRokVpbW3N/Pnzs3fv3hPWPPjgg1mwYEHOP//8vOMd78jNN9+cY8eO\n",
              "1XIsAGCEqGmotLe3Z9WqVdm/f39uueWWtLW1nbDm7W9/ez772c9m3759eeyxx/KNb3wj99xzTy3H\n",
              "AgBGiJqFypEjR7Jnz54sX748SbJs2bL09PSks7Nz0LqLLrooM2bMSJK85S1vydy5c9PV1VWrsQCA\n",
              "EWRcrQ7c09OTqVOnZty4V/+ISqWS5ubmdHd3p6Wl5TV/z+HDh7N169bcd999Jz1uX19f+vr6Bu0b\n",
              "GBgYvsEBgGIUczFtb29v3vve9+bmm2/Ou971rpOuW7duXcaPHz9o27Vr12mcFAA4XWoWKtOmTcuh\n",
              "Q4fS39+fJKlWq+nu7k5zc/MJa1966aVcffXVWbJkSVavXv0zj7tmzZocPXp00LZgwYKavAcAoL5q\n",
              "FiqTJ0/OvHnzsmXLliTJtm3b0tTUdMLXPv/93/+dq6++OldffXX+9E//9H89bkNDQxobGwdtY8eO\n",
              "rcl7AADqq6Zf/XR0dKSjoyOtra1Zv359Nm/enCRZsWJFduzYkSS58847s2vXrmzfvj1z587N3Llz\n",
              "84lPfKKWYwEAI0TNLqZNklmzZmXnzp0n7N+0adPxX99666259dZbazkGADBCFXMxLQDA/0+oAADF\n",
              "EioAQLGECgBQLKECABRLqAAAxRIqAECxhAoAUCyhAgAUS6gAAMUSKgBAsYQKAFAsoQIAFEuoAADF\n",
              "EioAQLGECgBQLKECABRLqAAAxRIqAECxhAoAUCyhAgAUS6gAAMUSKgBAsYQKAFAsoQIAFEuoAADF\n",
              "EioAQLGECgBQLKECABRLqAAAxRIqAECxhAoAUCyhAgAUS6gAAMUSKgBAsYQKAFAsoQIAFEuoAADF\n",
              "EioAQLGECgBQLKECABRLqAAAxRIqAECxhAoAUCyhAgAUS6gAAMUSKgBAsYQKAFAsoQIAFEuoAADF\n",
              "EioAQLGECgBQLKECABRLqAAAxRIqAECxhAoAUCyhAgAUS6gAAMUSKgBAsYQKAFAsoQIAFEuoAADF\n",
              "qmmoHDhwIIsWLUpra2vmz5+fvXv3vua6u+++OzNnzsy5556blStX5pVXXqnlWADACFHTUGlvb8+q\n",
              "Vauyf//+3HLLLWlrazthzcGDB/PRj340Dz/8cDo7O/PCCy9k48aNtRwLABghahYqR44cyZ49e7J8\n",
              "+fIkybJly9LT05POzs5B67Zu3ZrFixdnypQpqVQqueGGG3Lvvfee9Lh9fX3p7e0dtA0MDNTqbQAA\n",
              "dVSpVqvVWhz4sccey3XXXZdnnnnm+L4FCxZk/fr1ufLKK4/v+6M/+qP88i//ctasWZMk2bdvX66+\n",
              "+up0d3e/5nFvu+22rF27dtC+8847L9dcc82wzj8wMJBdu3ZlwYIFGTt27LAem1PjMymLz6MsPo+y\n",
              "+Dxen3POOSd//Md//DPXjDtNswybNWvWZPXq1YP2NTQ0pKGhYVj/nN7e3owfPz4PPPBAGhsbh/XY\n",
              "nBqfSVl8HmXxeZTF5zF8ahYq06ZNy6FDh9Lf359x48alWq2mu7s7zc3Ng9Y1Nzfn2WefPf66q6vr\n",
              "hDU/rRZRAgCUqWbXqEyePDnz5s3Lli1bkiTbtm1LU1NTWlpaBq1btmxZduzYkcOHD6darWbDhg15\n",
              "//vfX6uxAIARpKY/9dPR0ZGOjo60trZm/fr12bx5c5JkxYoV2bFjR5JkxowZWbt2bS655JK0tLRk\n",
              "0qRJaW9vr+VYAMAIUdNrVGbNmpWdO3eesH/Tpk2DXq9cuTIrV66s5ShD1tDQkD//8z/3NVNBfCZl\n",
              "8XmUxedRFp/H8KnZT/0AAPy83EIfACiWUAEAiiVUAIBiCZWTeL0PVKT2Xn755Vx77bVpbW3NnDlz\n",
              "8u53v/uERzFQH5s3b06lUsnnP//5eo8yqvX19eUP//APM3PmzFxwwQXHH11CfXzhC1/IvHnzMnfu\n",
              "3Lzzne/MZz7zmXqPNKKNuDvTni4/eaBiW1tbtm7dmra2tuzevbveY41aq1atyjXXXJNKpZJPfepT\n",
              "WbFiRb7yla/Ue6xRraurK3fddVcWLlxY71FGvQ9/+MOpVCrZv39/KpVKDh8+XO+RRq1qtZrly5fn\n",
              "K1/5Si688MJ0dXXlvPPOy9KlS3PGGWfUe7wRyRmV1/B6H6jI6fGWt7wl73nPe1KpVJIkCxcuTFdX\n",
              "V32HGuWOHTuWFStW5G//9m/9+GWd/c///E/uvvvufOITnzj+d2TKlCl1nmp0q1QqefHFF5O8eiv9\n",
              "iRMn+nvycxAqr6GnpydTp07NuHGvnnCqVCppbm4+6YMSOb3uvPPOLFmypN5jjGp33HFHLrnkklx8\n",
              "8cX1HmXUe/bZZ3PmmWfm9ttvz7ve9a786q/+ar785S/Xe6xRq1Kp5HOf+1yWLl2ac845J5deemk+\n",
              "85nP5M1vfnO9RxuxfPXDiHL77bens7PTf4jr6Omnn862bdvy7//+7/UehST9/f15/vnnc/7552f9\n",
              "+vV5/PHH8+53vzt79+7NL/3SL9V7vFGnv78/H//4x7N9+/Zcdtll2b17dxYvXpynnnoqZ511Vr3H\n",
              "G5GcUXkNP/1AxSQnfaAip9df/dVfZfv27fniF7+Yt73tbfUeZ9R6+OGH09XVlZkzZ2b69Ol55JFH\n",
              "smrVqvzd3/1dvUcblZqbmzNmzJj89m//dpLkoosuyq/8yq/kqaeeqvNko9MTTzyR7373u7nsssuS\n",
              "JPPnz09TU1Mef/zxOk82cgmV1/B6H6jI6XPHHXfk3nvvzb/9279lwoQJ9R5nVLvxxhtz6NChdHV1\n",
              "paurKwsXLszGjRtz44031nu0Uemss87KVVddlQceeCBJcvDgwRw8eDCzZ8+u82Sj00/+R/db3/pW\n",
              "kqSzszPPPvtsZs2aVefJRi630D+JZ555Jm1tbfn+97+fxsbGbN68ORdccEG9xxqVvv3tb2fatGmZ\n",
              "MWPG8avmGxoa8uijj9Z5MpLk8ssvz4c+9KFce+219R5l1Hruuefy+7//+/mv//qvjBkzJn/2Z3+W\n",
              "ZcuW1XusUevee+/N7bffnjFjxuTYsWNZs2ZNrrvuunqPNWIJFQCgWL76AQCKJVQAgGIJFQCgWEIF\n",
              "ACiWUAEAiiVUAIBiCRUAoFhCBQAollABAIolVACAYgkVAKBY/xe366kapT8NlQAAAABJRU5ErkJg\n",
              "gg==\n",
              "\">\n",
              "      </div>\n",
              "      <script type=\"text/javascript\">\n",
              "        (() => {\n",
              "          const chartElement = document.getElementById(\"chart-c01d45ff-c23f-482e-afbd-38f56ef25ff2\");\n",
              "          async function getCodeForChartHandler(event) {\n",
              "            const chartCodeResponse =  await google.colab.kernel.invokeFunction(\n",
              "                'getCodeForChart', [\"chart-c01d45ff-c23f-482e-afbd-38f56ef25ff2\"], {});\n",
              "            const responseJson = chartCodeResponse.data['application/json'];\n",
              "            await google.colab.notebook.addCell(responseJson.code, 'code');\n",
              "          }\n",
              "          chartElement.onclick = getCodeForChartHandler;\n",
              "        })();\n",
              "      </script>\n",
              "      <style>\n",
              "        .colab-quickchart-chart-with-code  {\n",
              "            display: block;\n",
              "            float: left;\n",
              "            border: 1px solid transparent;\n",
              "        }\n",
              "\n",
              "        .colab-quickchart-chart-with-code:hover {\n",
              "            cursor: pointer;\n",
              "            border: 1px solid #aaa;\n",
              "        }\n",
              "      </style>"
            ]
          },
          "metadata": {}
        },
        {
          "output_type": "display_data",
          "data": {
            "text/plain": [
              "<google.colab._quickchart_helpers.SectionTitle at 0x78a102187f40>"
            ],
            "text/html": [
              "<h4 class=\"colab-quickchart-section-title\">2-d distributions</h4>\n",
              "<style>\n",
              "  .colab-quickchart-section-title {\n",
              "      clear: both;\n",
              "  }\n",
              "</style>"
            ]
          },
          "metadata": {}
        },
        {
          "output_type": "error",
          "ename": "KeyError",
          "evalue": "'0'",
          "traceback": [
            "\u001b[0;31m---------------------------------------------------------------------------\u001b[0m",
            "\u001b[0;31mKeyError\u001b[0m                                  Traceback (most recent call last)",
            "\u001b[0;32m/usr/local/lib/python3.10/dist-packages/pandas/core/indexes/base.py\u001b[0m in \u001b[0;36mget_loc\u001b[0;34m(self, key)\u001b[0m\n\u001b[1;32m   3790\u001b[0m         \u001b[0;32mtry\u001b[0m\u001b[0;34m:\u001b[0m\u001b[0;34m\u001b[0m\u001b[0;34m\u001b[0m\u001b[0m\n\u001b[0;32m-> 3791\u001b[0;31m             \u001b[0;32mreturn\u001b[0m \u001b[0mself\u001b[0m\u001b[0;34m.\u001b[0m\u001b[0m_engine\u001b[0m\u001b[0;34m.\u001b[0m\u001b[0mget_loc\u001b[0m\u001b[0;34m(\u001b[0m\u001b[0mcasted_key\u001b[0m\u001b[0;34m)\u001b[0m\u001b[0;34m\u001b[0m\u001b[0;34m\u001b[0m\u001b[0m\n\u001b[0m\u001b[1;32m   3792\u001b[0m         \u001b[0;32mexcept\u001b[0m \u001b[0mKeyError\u001b[0m \u001b[0;32mas\u001b[0m \u001b[0merr\u001b[0m\u001b[0;34m:\u001b[0m\u001b[0;34m\u001b[0m\u001b[0;34m\u001b[0m\u001b[0m\n",
            "\u001b[0;32mindex.pyx\u001b[0m in \u001b[0;36mpandas._libs.index.IndexEngine.get_loc\u001b[0;34m()\u001b[0m\n",
            "\u001b[0;32mindex.pyx\u001b[0m in \u001b[0;36mpandas._libs.index.IndexEngine.get_loc\u001b[0;34m()\u001b[0m\n",
            "\u001b[0;32mpandas/_libs/hashtable_class_helper.pxi\u001b[0m in \u001b[0;36mpandas._libs.hashtable.PyObjectHashTable.get_item\u001b[0;34m()\u001b[0m\n",
            "\u001b[0;32mpandas/_libs/hashtable_class_helper.pxi\u001b[0m in \u001b[0;36mpandas._libs.hashtable.PyObjectHashTable.get_item\u001b[0;34m()\u001b[0m\n",
            "\u001b[0;31mKeyError\u001b[0m: '0'",
            "\nThe above exception was the direct cause of the following exception:\n",
            "\u001b[0;31mKeyError\u001b[0m                                  Traceback (most recent call last)",
            "\u001b[0;32m/usr/local/lib/python3.10/dist-packages/IPython/core/formatters.py\u001b[0m in \u001b[0;36m__call__\u001b[0;34m(self, obj)\u001b[0m\n\u001b[1;32m    343\u001b[0m             \u001b[0mmethod\u001b[0m \u001b[0;34m=\u001b[0m \u001b[0mget_real_method\u001b[0m\u001b[0;34m(\u001b[0m\u001b[0mobj\u001b[0m\u001b[0;34m,\u001b[0m \u001b[0mself\u001b[0m\u001b[0;34m.\u001b[0m\u001b[0mprint_method\u001b[0m\u001b[0;34m)\u001b[0m\u001b[0;34m\u001b[0m\u001b[0;34m\u001b[0m\u001b[0m\n\u001b[1;32m    344\u001b[0m             \u001b[0;32mif\u001b[0m \u001b[0mmethod\u001b[0m \u001b[0;32mis\u001b[0m \u001b[0;32mnot\u001b[0m \u001b[0;32mNone\u001b[0m\u001b[0;34m:\u001b[0m\u001b[0;34m\u001b[0m\u001b[0;34m\u001b[0m\u001b[0m\n\u001b[0;32m--> 345\u001b[0;31m                 \u001b[0;32mreturn\u001b[0m \u001b[0mmethod\u001b[0m\u001b[0;34m(\u001b[0m\u001b[0;34m)\u001b[0m\u001b[0;34m\u001b[0m\u001b[0;34m\u001b[0m\u001b[0m\n\u001b[0m\u001b[1;32m    346\u001b[0m             \u001b[0;32mreturn\u001b[0m \u001b[0;32mNone\u001b[0m\u001b[0;34m\u001b[0m\u001b[0;34m\u001b[0m\u001b[0m\n\u001b[1;32m    347\u001b[0m         \u001b[0;32melse\u001b[0m\u001b[0;34m:\u001b[0m\u001b[0;34m\u001b[0m\u001b[0;34m\u001b[0m\u001b[0m\n",
            "\u001b[0;32m/usr/local/lib/python3.10/dist-packages/google/colab/_quickchart_helpers.py\u001b[0m in \u001b[0;36m_repr_html_\u001b[0;34m(self)\u001b[0m\n\u001b[1;32m    200\u001b[0m       \u001b[0;32mwith\u001b[0m \u001b[0mmpl\u001b[0m\u001b[0;34m.\u001b[0m\u001b[0mrc_context\u001b[0m\u001b[0;34m(\u001b[0m\u001b[0mdict\u001b[0m\u001b[0;34m(\u001b[0m\u001b[0m_MPL_STYLE_OPTIONS\u001b[0m\u001b[0;34m)\u001b[0m\u001b[0;34m)\u001b[0m\u001b[0;34m:\u001b[0m\u001b[0;34m\u001b[0m\u001b[0;34m\u001b[0m\u001b[0m\n\u001b[1;32m    201\u001b[0m         \u001b[0mdata\u001b[0m \u001b[0;34m=\u001b[0m \u001b[0mself\u001b[0m\u001b[0;34m.\u001b[0m\u001b[0m_plot_func\u001b[0m\u001b[0;34m(\u001b[0m\u001b[0;34m'df'\u001b[0m\u001b[0;34m,\u001b[0m \u001b[0;34m*\u001b[0m\u001b[0mself\u001b[0m\u001b[0;34m.\u001b[0m\u001b[0m_args\u001b[0m\u001b[0;34m,\u001b[0m \u001b[0;34m**\u001b[0m\u001b[0mself\u001b[0m\u001b[0;34m.\u001b[0m\u001b[0m_kwargs\u001b[0m\u001b[0;34m)\u001b[0m\u001b[0;34m\u001b[0m\u001b[0;34m\u001b[0m\u001b[0m\n\u001b[0;32m--> 202\u001b[0;31m         \u001b[0mexec\u001b[0m\u001b[0;34m(\u001b[0m\u001b[0mdata\u001b[0m\u001b[0;34m.\u001b[0m\u001b[0mcode\u001b[0m\u001b[0;34m,\u001b[0m \u001b[0;34m{\u001b[0m\u001b[0;34m'df'\u001b[0m\u001b[0;34m:\u001b[0m \u001b[0mself\u001b[0m\u001b[0;34m.\u001b[0m\u001b[0m_df\u001b[0m\u001b[0;34m}\u001b[0m\u001b[0;34m)\u001b[0m  \u001b[0;31m# pylint: disable=exec-used\u001b[0m\u001b[0;34m\u001b[0m\u001b[0;34m\u001b[0m\u001b[0m\n\u001b[0m\u001b[1;32m    203\u001b[0m         \u001b[0mself\u001b[0m\u001b[0;34m.\u001b[0m\u001b[0m_chart\u001b[0m \u001b[0;34m=\u001b[0m \u001b[0m_quickchart_lib\u001b[0m\u001b[0;34m.\u001b[0m\u001b[0mautoviz\u001b[0m\u001b[0;34m.\u001b[0m\u001b[0mMplChart\u001b[0m\u001b[0;34m.\u001b[0m\u001b[0mfrom_current_mpl_state\u001b[0m\u001b[0;34m(\u001b[0m\u001b[0;34m)\u001b[0m\u001b[0;34m\u001b[0m\u001b[0;34m\u001b[0m\u001b[0m\n\u001b[1;32m    204\u001b[0m \u001b[0;34m\u001b[0m\u001b[0m\n",
            "\u001b[0;32m<string>\u001b[0m in \u001b[0;36m<module>\u001b[0;34m\u001b[0m\n",
            "\u001b[0;32m/usr/local/lib/python3.10/dist-packages/pandas/plotting/_core.py\u001b[0m in \u001b[0;36m__call__\u001b[0;34m(self, *args, **kwargs)\u001b[0m\n\u001b[1;32m    974\u001b[0m         \u001b[0;32mif\u001b[0m \u001b[0mkind\u001b[0m \u001b[0;32min\u001b[0m \u001b[0mself\u001b[0m\u001b[0;34m.\u001b[0m\u001b[0m_dataframe_kinds\u001b[0m\u001b[0;34m:\u001b[0m\u001b[0;34m\u001b[0m\u001b[0;34m\u001b[0m\u001b[0m\n\u001b[1;32m    975\u001b[0m             \u001b[0;32mif\u001b[0m \u001b[0misinstance\u001b[0m\u001b[0;34m(\u001b[0m\u001b[0mdata\u001b[0m\u001b[0;34m,\u001b[0m \u001b[0mABCDataFrame\u001b[0m\u001b[0;34m)\u001b[0m\u001b[0;34m:\u001b[0m\u001b[0;34m\u001b[0m\u001b[0;34m\u001b[0m\u001b[0m\n\u001b[0;32m--> 976\u001b[0;31m                 \u001b[0;32mreturn\u001b[0m \u001b[0mplot_backend\u001b[0m\u001b[0;34m.\u001b[0m\u001b[0mplot\u001b[0m\u001b[0;34m(\u001b[0m\u001b[0mdata\u001b[0m\u001b[0;34m,\u001b[0m \u001b[0mx\u001b[0m\u001b[0;34m=\u001b[0m\u001b[0mx\u001b[0m\u001b[0;34m,\u001b[0m \u001b[0my\u001b[0m\u001b[0;34m=\u001b[0m\u001b[0my\u001b[0m\u001b[0;34m,\u001b[0m \u001b[0mkind\u001b[0m\u001b[0;34m=\u001b[0m\u001b[0mkind\u001b[0m\u001b[0;34m,\u001b[0m \u001b[0;34m**\u001b[0m\u001b[0mkwargs\u001b[0m\u001b[0;34m)\u001b[0m\u001b[0;34m\u001b[0m\u001b[0;34m\u001b[0m\u001b[0m\n\u001b[0m\u001b[1;32m    977\u001b[0m             \u001b[0;32melse\u001b[0m\u001b[0;34m:\u001b[0m\u001b[0;34m\u001b[0m\u001b[0;34m\u001b[0m\u001b[0m\n\u001b[1;32m    978\u001b[0m                 \u001b[0;32mraise\u001b[0m \u001b[0mValueError\u001b[0m\u001b[0;34m(\u001b[0m\u001b[0;34mf\"plot kind {kind} can only be used for data frames\"\u001b[0m\u001b[0;34m)\u001b[0m\u001b[0;34m\u001b[0m\u001b[0;34m\u001b[0m\u001b[0m\n",
            "\u001b[0;32m/usr/local/lib/python3.10/dist-packages/pandas/plotting/_matplotlib/__init__.py\u001b[0m in \u001b[0;36mplot\u001b[0;34m(data, kind, **kwargs)\u001b[0m\n\u001b[1;32m     69\u001b[0m             \u001b[0mkwargs\u001b[0m\u001b[0;34m[\u001b[0m\u001b[0;34m\"ax\"\u001b[0m\u001b[0;34m]\u001b[0m \u001b[0;34m=\u001b[0m \u001b[0mgetattr\u001b[0m\u001b[0;34m(\u001b[0m\u001b[0max\u001b[0m\u001b[0;34m,\u001b[0m \u001b[0;34m\"left_ax\"\u001b[0m\u001b[0;34m,\u001b[0m \u001b[0max\u001b[0m\u001b[0;34m)\u001b[0m\u001b[0;34m\u001b[0m\u001b[0;34m\u001b[0m\u001b[0m\n\u001b[1;32m     70\u001b[0m     \u001b[0mplot_obj\u001b[0m \u001b[0;34m=\u001b[0m \u001b[0mPLOT_CLASSES\u001b[0m\u001b[0;34m[\u001b[0m\u001b[0mkind\u001b[0m\u001b[0;34m]\u001b[0m\u001b[0;34m(\u001b[0m\u001b[0mdata\u001b[0m\u001b[0;34m,\u001b[0m \u001b[0;34m**\u001b[0m\u001b[0mkwargs\u001b[0m\u001b[0;34m)\u001b[0m\u001b[0;34m\u001b[0m\u001b[0;34m\u001b[0m\u001b[0m\n\u001b[0;32m---> 71\u001b[0;31m     \u001b[0mplot_obj\u001b[0m\u001b[0;34m.\u001b[0m\u001b[0mgenerate\u001b[0m\u001b[0;34m(\u001b[0m\u001b[0;34m)\u001b[0m\u001b[0;34m\u001b[0m\u001b[0;34m\u001b[0m\u001b[0m\n\u001b[0m\u001b[1;32m     72\u001b[0m     \u001b[0mplot_obj\u001b[0m\u001b[0;34m.\u001b[0m\u001b[0mdraw\u001b[0m\u001b[0;34m(\u001b[0m\u001b[0;34m)\u001b[0m\u001b[0;34m\u001b[0m\u001b[0;34m\u001b[0m\u001b[0m\n\u001b[1;32m     73\u001b[0m     \u001b[0;32mreturn\u001b[0m \u001b[0mplot_obj\u001b[0m\u001b[0;34m.\u001b[0m\u001b[0mresult\u001b[0m\u001b[0;34m\u001b[0m\u001b[0;34m\u001b[0m\u001b[0m\n",
            "\u001b[0;32m/usr/local/lib/python3.10/dist-packages/pandas/plotting/_matplotlib/core.py\u001b[0m in \u001b[0;36mgenerate\u001b[0;34m(self)\u001b[0m\n\u001b[1;32m    451\u001b[0m         \u001b[0mself\u001b[0m\u001b[0;34m.\u001b[0m\u001b[0m_compute_plot_data\u001b[0m\u001b[0;34m(\u001b[0m\u001b[0;34m)\u001b[0m\u001b[0;34m\u001b[0m\u001b[0;34m\u001b[0m\u001b[0m\n\u001b[1;32m    452\u001b[0m         \u001b[0mself\u001b[0m\u001b[0;34m.\u001b[0m\u001b[0m_setup_subplots\u001b[0m\u001b[0;34m(\u001b[0m\u001b[0;34m)\u001b[0m\u001b[0;34m\u001b[0m\u001b[0;34m\u001b[0m\u001b[0m\n\u001b[0;32m--> 453\u001b[0;31m         \u001b[0mself\u001b[0m\u001b[0;34m.\u001b[0m\u001b[0m_make_plot\u001b[0m\u001b[0;34m(\u001b[0m\u001b[0;34m)\u001b[0m\u001b[0;34m\u001b[0m\u001b[0;34m\u001b[0m\u001b[0m\n\u001b[0m\u001b[1;32m    454\u001b[0m         \u001b[0mself\u001b[0m\u001b[0;34m.\u001b[0m\u001b[0m_add_table\u001b[0m\u001b[0;34m(\u001b[0m\u001b[0;34m)\u001b[0m\u001b[0;34m\u001b[0m\u001b[0;34m\u001b[0m\u001b[0m\n\u001b[1;32m    455\u001b[0m         \u001b[0mself\u001b[0m\u001b[0;34m.\u001b[0m\u001b[0m_make_legend\u001b[0m\u001b[0;34m(\u001b[0m\u001b[0;34m)\u001b[0m\u001b[0;34m\u001b[0m\u001b[0;34m\u001b[0m\u001b[0m\n",
            "\u001b[0;32m/usr/local/lib/python3.10/dist-packages/pandas/plotting/_matplotlib/core.py\u001b[0m in \u001b[0;36m_make_plot\u001b[0;34m(self)\u001b[0m\n\u001b[1;32m   1266\u001b[0m         scatter = ax.scatter(\n\u001b[1;32m   1267\u001b[0m             \u001b[0mdata\u001b[0m\u001b[0;34m[\u001b[0m\u001b[0mx\u001b[0m\u001b[0;34m]\u001b[0m\u001b[0;34m.\u001b[0m\u001b[0mvalues\u001b[0m\u001b[0;34m,\u001b[0m\u001b[0;34m\u001b[0m\u001b[0;34m\u001b[0m\u001b[0m\n\u001b[0;32m-> 1268\u001b[0;31m             \u001b[0mdata\u001b[0m\u001b[0;34m[\u001b[0m\u001b[0my\u001b[0m\u001b[0;34m]\u001b[0m\u001b[0;34m.\u001b[0m\u001b[0mvalues\u001b[0m\u001b[0;34m,\u001b[0m\u001b[0;34m\u001b[0m\u001b[0;34m\u001b[0m\u001b[0m\n\u001b[0m\u001b[1;32m   1269\u001b[0m             \u001b[0mc\u001b[0m\u001b[0;34m=\u001b[0m\u001b[0mc_values\u001b[0m\u001b[0;34m,\u001b[0m\u001b[0;34m\u001b[0m\u001b[0;34m\u001b[0m\u001b[0m\n\u001b[1;32m   1270\u001b[0m             \u001b[0mlabel\u001b[0m\u001b[0;34m=\u001b[0m\u001b[0mlabel\u001b[0m\u001b[0;34m,\u001b[0m\u001b[0;34m\u001b[0m\u001b[0;34m\u001b[0m\u001b[0m\n",
            "\u001b[0;32m/usr/local/lib/python3.10/dist-packages/pandas/core/frame.py\u001b[0m in \u001b[0;36m__getitem__\u001b[0;34m(self, key)\u001b[0m\n\u001b[1;32m   3891\u001b[0m             \u001b[0;32mif\u001b[0m \u001b[0mself\u001b[0m\u001b[0;34m.\u001b[0m\u001b[0mcolumns\u001b[0m\u001b[0;34m.\u001b[0m\u001b[0mnlevels\u001b[0m \u001b[0;34m>\u001b[0m \u001b[0;36m1\u001b[0m\u001b[0;34m:\u001b[0m\u001b[0;34m\u001b[0m\u001b[0;34m\u001b[0m\u001b[0m\n\u001b[1;32m   3892\u001b[0m                 \u001b[0;32mreturn\u001b[0m \u001b[0mself\u001b[0m\u001b[0;34m.\u001b[0m\u001b[0m_getitem_multilevel\u001b[0m\u001b[0;34m(\u001b[0m\u001b[0mkey\u001b[0m\u001b[0;34m)\u001b[0m\u001b[0;34m\u001b[0m\u001b[0;34m\u001b[0m\u001b[0m\n\u001b[0;32m-> 3893\u001b[0;31m             \u001b[0mindexer\u001b[0m \u001b[0;34m=\u001b[0m \u001b[0mself\u001b[0m\u001b[0;34m.\u001b[0m\u001b[0mcolumns\u001b[0m\u001b[0;34m.\u001b[0m\u001b[0mget_loc\u001b[0m\u001b[0;34m(\u001b[0m\u001b[0mkey\u001b[0m\u001b[0;34m)\u001b[0m\u001b[0;34m\u001b[0m\u001b[0;34m\u001b[0m\u001b[0m\n\u001b[0m\u001b[1;32m   3894\u001b[0m             \u001b[0;32mif\u001b[0m \u001b[0mis_integer\u001b[0m\u001b[0;34m(\u001b[0m\u001b[0mindexer\u001b[0m\u001b[0;34m)\u001b[0m\u001b[0;34m:\u001b[0m\u001b[0;34m\u001b[0m\u001b[0;34m\u001b[0m\u001b[0m\n\u001b[1;32m   3895\u001b[0m                 \u001b[0mindexer\u001b[0m \u001b[0;34m=\u001b[0m \u001b[0;34m[\u001b[0m\u001b[0mindexer\u001b[0m\u001b[0;34m]\u001b[0m\u001b[0;34m\u001b[0m\u001b[0;34m\u001b[0m\u001b[0m\n",
            "\u001b[0;32m/usr/local/lib/python3.10/dist-packages/pandas/core/indexes/base.py\u001b[0m in \u001b[0;36mget_loc\u001b[0;34m(self, key)\u001b[0m\n\u001b[1;32m   3796\u001b[0m             ):\n\u001b[1;32m   3797\u001b[0m                 \u001b[0;32mraise\u001b[0m \u001b[0mInvalidIndexError\u001b[0m\u001b[0;34m(\u001b[0m\u001b[0mkey\u001b[0m\u001b[0;34m)\u001b[0m\u001b[0;34m\u001b[0m\u001b[0;34m\u001b[0m\u001b[0m\n\u001b[0;32m-> 3798\u001b[0;31m             \u001b[0;32mraise\u001b[0m \u001b[0mKeyError\u001b[0m\u001b[0;34m(\u001b[0m\u001b[0mkey\u001b[0m\u001b[0;34m)\u001b[0m \u001b[0;32mfrom\u001b[0m \u001b[0merr\u001b[0m\u001b[0;34m\u001b[0m\u001b[0;34m\u001b[0m\u001b[0m\n\u001b[0m\u001b[1;32m   3799\u001b[0m         \u001b[0;32mexcept\u001b[0m \u001b[0mTypeError\u001b[0m\u001b[0;34m:\u001b[0m\u001b[0;34m\u001b[0m\u001b[0;34m\u001b[0m\u001b[0m\n\u001b[1;32m   3800\u001b[0m             \u001b[0;31m# If we have a listlike key, _check_indexing_error will raise\u001b[0m\u001b[0;34m\u001b[0m\u001b[0;34m\u001b[0m\u001b[0m\n",
            "\u001b[0;31mKeyError\u001b[0m: '0'"
          ]
        },
        {
          "output_type": "display_data",
          "data": {
            "text/plain": [
              "from matplotlib import pyplot as plt\n",
              "_df_2.plot(kind='scatter', x='index', y='0', s=32, alpha=.8)\n",
              "plt.gca().spines[['top', 'right',]].set_visible(False)"
            ]
          },
          "metadata": {}
        },
        {
          "output_type": "display_data",
          "data": {
            "text/plain": [
              "<google.colab._quickchart_helpers.SectionTitle at 0x78a102028b20>"
            ],
            "text/html": [
              "<h4 class=\"colab-quickchart-section-title\">Time series</h4>\n",
              "<style>\n",
              "  .colab-quickchart-section-title {\n",
              "      clear: both;\n",
              "  }\n",
              "</style>"
            ]
          },
          "metadata": {}
        },
        {
          "output_type": "display_data",
          "data": {
            "text/plain": [
              "from matplotlib import pyplot as plt\n",
              "import seaborn as sns\n",
              "def _plot_series(series, series_name, series_index=0):\n",
              "  palette = list(sns.palettes.mpl_palette('Dark2'))\n",
              "  counted = (series['index']\n",
              "                .value_counts()\n",
              "              .reset_index(name='counts')\n",
              "              .rename({'index': 'index'}, axis=1)\n",
              "              .sort_values('index', ascending=True))\n",
              "  xs = counted['index']\n",
              "  ys = counted['counts']\n",
              "  plt.plot(xs, ys, label=series_name, color=palette[series_index % len(palette)])\n",
              "\n",
              "fig, ax = plt.subplots(figsize=(10, 5.2), layout='constrained')\n",
              "df_sorted = _df_3.sort_values('index', ascending=True)\n",
              "_plot_series(df_sorted, '')\n",
              "sns.despine(fig=fig, ax=ax)\n",
              "plt.xlabel('index')\n",
              "_ = plt.ylabel('count()')"
            ],
            "text/html": [
              "      <div class=\"colab-quickchart-chart-with-code\" id=\"chart-04fe5c8b-3b7a-4a57-a835-a8213ff23adb\">\n",
              "        <img style=\"width: 180px;\" src=\"data:image/png;base64,iVBORw0KGgoAAAANSUhEUgAAA/MAAAITCAYAAABLz0yVAAAAOXRFWHRTb2Z0d2FyZQBNYXRwbG90\n",
              "bGliIHZlcnNpb24zLjcuMSwgaHR0cHM6Ly9tYXRwbG90bGliLm9yZy/bCgiHAAAACXBIWXMAAA9h\n",
              "AAAPYQGoP6dpAAAiYklEQVR4nO3de5DV9X3/8dcB4nqpXFIQ7KwLIqAiELwx3gK2JiOmkShYaw3J\n",
              "bCuCmThaqVWZhlRzQdNYDDVplQxjvUxNM0AdJk3baU21KKZgAWvwusi6oKIxo6yxgix7fn843d9v\n",
              "f4KyyR4OH3k8Zr4ze77fzzn7PjNnGJ77/e53K9VqtRoAAACgGH3qPQAAAADQM2IeAAAACiPmAQAA\n",
              "oDBiHgAAAAoj5gEAAKAwYh4AAAAKI+YBAACgMGIeAAAACvORj/lFixbVewQAAADoVR/5mH/xxRfr\n",
              "PQIAAAD0qo98zAMAAMBHjZgHAACAwoh5AAAAKIyYBwAAgMKIeQAAACiMmAcAAIDCiHkAAAAojJgH\n",
              "AACAwoh5AAAAKIyYBwAAgMKIeQAAACiMmAcAAIDCiHkAAAAojJgHAACAwoh5AAAAKIyYBwAAgMKI\n",
              "eQAAACiMmAcAAIDCiHkAAAAojJgHAACAwoh5AAAAKIyYBwAAgMKIeQAAACiMmAcAAIDCiHkAAAAo\n",
              "jJgHAACAwoh5AAAAKIyYBwAAgMKIeQAAACiMmAcAAIDCiHkAAAAojJgHAACAwoh5AAAAKIyYBwAA\n",
              "gMKIeQAAACiMmAcAAIDCiHkAAAAojJgHAACAwoh5AAAAKIyYBwAAgMKIeQAAACiMmAcAAIDCiHkA\n",
              "AAAojJgHAACAwoh5AAAAKIyYBwAAgMKIeQAAACiMmAcAAIDCiHkAAAAojJgHAACAwoh5AAAAKIyY\n",
              "BwAAgMKIeQAAACiMmAcAAIDCiHkAAAAojJgHAACAwoh5AAAAKIyYBwAAgMKIeQAAACiMmAcAAIDC\n",
              "iHkAAAAoTE1j/qqrrsqIESNSqVSyfv36Pa5bsmRJRo8enWOOOSaXX355du7c2e14tVrN7/zO72Tg\n",
              "wIG1HBcAAACKUNOYv+iii/LII49k+PDhe1yzadOmzJ8/PytXrkxLS0teffXVLF68uNua2267Lccc\n",
              "c0wtRwUAAIBi1DTmJ0+enMbGxg9cs3Tp0kybNi3Dhg1LpVLJFVdckfvvv7/r+IYNG/LAAw/khhtu\n",
              "+NDvt2PHjrS3t3fbdu3a9Wu/DwAAANif1P135tva2rqduR8xYkTa2tqSJDt37szll1+eO++8M337\n",
              "9v3Q17r55pszYMCAbtvq1atrNjsAAADUQ91j/oPcdNNNmT59eo4//vi9Wj9v3rxs27at2zZp0qQa\n",
              "TwkAAAD7Vr96D9DU1JSNGzd2PW5tbU1TU1OS5OGHH05bW1u++93vpqOjI+3t7RkxYkTWrFmTIUOG\n",
              "vO+1Ghoa0tDQ0G3f3pzRBwAAgJLU/cz8jBkzsmLFimzdujXVajV33HFHLrnkkiTJypUr8+KLL6a1\n",
              "tTWPPPJI+vfvn9bW1t2GPAAAABwoahrzc+bMSWNjY7Zs2ZJzzz03o0aNSpLMmjUrK1asSJKMHDky\n",
              "N910U84888yMGjUqQ4YMyZw5c2o5FgAAABStUq1Wq/Ueopbmzp2bhQsX1nsMAAAA6DV1v8weAAAA\n",
              "6BkxDwAAAIUR8wAAAFAYMQ8AAACFEfMAAABQGDEPAAAAhRHzAAAAUBgxDwAAAIUR8wAAAFAYMQ8A\n",
              "AACFEfMAAABQGDEPAAAAhRHzAAAAUBgxDwAAAIUR8wAAAFAYMQ8AAACFEfMAAABQGDEPAAAAhRHz\n",
              "AAAAUBgxDwAAAIUR8wAAAFAYMQ8AAACFEfMAAABQGDEPAAAAhRHzAAAAUBgxDwAAAIUR8wAAAFAY\n",
              "MQ8AAACFEfMAAABQGDEPAAAAhRHzAAAAUBgxDwAAAIUR8wAAAFAYMQ8AAACFEfMAAABQGDEPAAAA\n",
              "hRHzAAAAUBgxDwAAAIUR8wAAAFAYMQ8AAACFEfMAAABQGDEPAAAAhRHzAAAAUBgxDwAAAIUR8wAA\n",
              "AFAYMQ8AAACFEfMAAABQGDEPAAAAhRHzAAAAUBgxDwAAAIUR8wAAAFAYMQ8AAACFEfMAAABQGDEP\n",
              "AAAAhRHzAAAAUBgxDwAAAIUR8wAAAFAYMQ8AAACFEfMAAABQGDEPAAAAhRHzAAAAUBgxDwAAAIUR\n",
              "8wAAAFAYMQ8AAACFEfMAAABQGDEPAAAAhRHzAAAAUBgxDwAAAIUR8wAAAFAYMQ8AAACFEfMAAABQ\n",
              "GDEPAAAAhRHzAAAAUBgxDwAAAIUR8wAAAFAYMQ8AAACFEfMAAABQGDEPAAAAhalpzF911VUZMWJE\n",
              "KpVK1q9fv8d1S5YsyejRo3PMMcfk8ssvz86dO5MkP/nJTzJp0qSMHTs2J5xwQq677rp0dnbWcmQA\n",
              "AADY79U05i+66KI88sgjGT58+B7XbNq0KfPnz8/KlSvT0tKSV199NYsXL06SDBo0KD/4wQ/y1FNP\n",
              "5b/+67+yatWq3HPPPbUcGQAAAPZ7NY35yZMnp7Gx8QPXLF26NNOmTcuwYcNSqVRyxRVX5P7770+S\n",
              "nHjiiRk5cmSS5OCDD87EiRPT2tq6x9fasWNH2tvbu227du3qtfcDAAAA+4O6/858W1tbtzP3I0aM\n",
              "SFtb2/vWbd26NUuXLs1nP/vZPb7WzTffnAEDBnTbVq9eXZO5AQAAoF7qHvN7o729Peeff36uu+66\n",
              "nHLKKXtcN2/evGzbtq3bNmnSpH04KQAAANRev3oP0NTUlI0bN3Y9bm1tTVNTU9fjt956K1OnTs3n\n",
              "Pve5zJ079wNfq6GhIQ0NDd329e3bt3cHBgAAgDqr+5n5GTNmZMWKFdm6dWuq1WruuOOOXHLJJUmS\n",
              "X/7yl5k6dWqmTp2ar3zlK3WeFAAAAPYPNY35OXPmpLGxMVu2bMm5556bUaNGJUlmzZqVFStWJElG\n",
              "jhyZm266KWeeeWZGjRqVIUOGZM6cOUmSRYsWZfXq1Vm+fHkmTpyYiRMn5pvf/GYtRwYAAID9XqVa\n",
              "rVbrPUQtzZ07NwsXLqz3GAAAANBr6n6ZPQAAANAzYh4AAAAKI+YBAACgMGIeAAAACiPmAQAAoDBi\n",
              "HgAAAAoj5gEAAKAwYh4AAAAKI+YBAACgMGIeAAAACiPmAQAAoDBiHgAAAAoj5gEAAKAwYh4AAAAK\n",
              "I+YBAACgMGIeAAAACiPmAQAAoDBiHgAAAAoj5gEAAKAwYh4AAAAKI+YBAACgMGIeAAAACiPmAQAA\n",
              "oDBiHgAAAAoj5gEAAKAwYh4AAAAKI+YBAACgMGIeAAAACiPmAQAAoDBiHgAAAAoj5gEAAKAwYh4A\n",
              "AAAKI+YBAACgMGIeAAAACiPmAQAAoDBiHgAAAAoj5gEAAKAwYh4AAAAKI+YBAACgMGIeAAAACiPm\n",
              "AQAAoDBiHgAAAAoj5gEAAKAwYh4AAAAKI+YBAACgMGIeAAAACiPmAQAAoDBiHgAAAAoj5gEAAKAw\n",
              "Yh4AAAAKI+YBAACgMGIeAAAACiPmAQAAoDBiHgAAAAoj5gEAAKAwYh4AAAAKI+YBAACgMGIeAAAA\n",
              "CiPmAQAAoDBiHgAAAAoj5gEAAKAwYh4AAAAKI+YBAACgMGIeAAAACtPvV3nSU089lS1btuSQQw7J\n",
              "+PHjM3DgwF4eCwAAANiTvY75t956K7feemu+//3v59BDD83QoUOzffv2bNy4MZMmTcr111+fc845\n",
              "p5azAgAAAOlBzP/2b/92vvjFL2bdunUZOnRo1/7Ozs6sXLkyd9xxR1paWjJnzpyaDAoAAAC8Z69j\n",
              "/tFHH01DQ8P79vfp0ydTpkzJlClTsmPHjl4dDgAAAHi/vb4B3u5C/ldZAwAAAPx69jrmP/vZz2bV\n",
              "qlW7Pfbmm2/mL//yL3PnnXf22mAAAADA7u31ZfYLFizIvHnz8tRTT+XUU0/tugHeM888k5deeilf\n",
              "/vKX80d/9Ee1nBUAAABID2J+woQJ+cd//Mds3rw5Dz/8cLZs2ZJDDz00n//853PWWWelX79f6a/c\n",
              "AQAAAD3U4wJ/4403MnPmzG77/vu//zsTJkzotaEAAACAPdvr35n/X83NzXu1DwAAAKiNvT4z/9pr\n",
              "r2Xr1q1555138uSTT6ZarSZJtm3blrfffrtmAwIAAADd7XXM33///fnOd76Tl19+OdOmTevaP2DA\n",
              "gFx33XU1GQ4AAAB4v72O+auvvjpXX311vv71r2f+/Pm1nAkAAAD4AD2+Ad78+fPT2dmZrVu3pqOj\n",
              "o2t/U1NTrw4GAAAA7F6Pb4B39913Z+DAgRk/fnxOPvnknHzyyTnllFN2u/aqq67KiBEjUqlUsn79\n",
              "+j2+5pIlSzJ69Ogcc8wxufzyy7Nz5869OgYAAAAHoh7H/Ne+9rWsWbMmv/jFL/Lzn/88P//5z/Pa\n",
              "a6/tdu1FF12URx55JMOHD9/j623atCnz58/PypUr09LSkldffTWLFy/+0GMAAABwoOrxZfaDBw/O\n",
              "scceu1drJ0+e/KFrli5dmmnTpmXYsGFJkiuuuCILFizIl7/85Q889lFSrVbzTocrDgAAAGrpkH4f\n",
              "S6VSqfcYvaLHMX/BBRfkO9/5Ti699NIcfPDBXfv79+//Kw3Q1tbW7cz9iBEj0tbW9qHHdmfHjh3Z\n",
              "sWNHt327du36lebal97p2Jkx93213mMAAAB8pD0382s59GMH1XuMXtHjy+z/7M/+LHPnzs2wYcMy\n",
              "aNCgDBw4MIMGDarFbD128803Z8CAAd221atX13ssAAAA6FU9PjPf2dnZqwM0NTVl48aNXY9bW1u7\n",
              "7oz/Qcd2Z968eZk7d263fSX8Gb1D+n0sz838Wr3HAAAA+Eg7pN/H6j1Cr+lxzPe2GTNm5KyzzsqN\n",
              "N96YoUOH5o477sgll1zyocd2p6GhIQ0NDd329e3bt6bz94ZKpfKRudQDAACA2uvxZfZ9+vRJ3759\n",
              "37ftzpw5c9LY2JgtW7bk3HPPzahRo5Iks2bNyooVK5IkI0eOzE033ZQzzzwzo0aNypAhQzJnzpwP\n",
              "PQYAAAAHqkq1Wq325Alvv/1219fvvPNO7rnnnuzatSt/+qd/2uvD9Ya5c+dm4cKF9R4DAAAAek2P\n",
              "z8wfdthhXdvgwYMzd+7cLF26tBazAQAAALvR45j//z3zzDN5/fXXe2MWAAAAYC/0+AZ4gwYNSqVS\n",
              "SZJ0dHQkSW6//fbenQoAAADYox7H/Pr16//vk/v1y7Bhw4q4YzwAAAB8VPQ45ocPH57/+Z//6Yr6\n",
              "QYMG5dBDD+3tuQAAAIA96HHMr1q1KjNmzMiwYcOSJK+++mqWLVuW008/vdeHAwAAAN6vxzH/v3ev\n",
              "P/PMM5O8F/fXXHNNfvrTn/b6cAAAAMD79fhu9u+8805XyCfJGWecke3bt/fqUAAAAMCe9Tjmf+M3\n",
              "fiP/9m//1vX4wQcfzGGHHdarQwEAAAB71uPL7P/qr/4q06dP77qDfWdnZ5YvX97rgwEAAAC71+OY\n",
              "f/nll/P444/n1VdfTZIMHTo0q1ev7vXBAAAAgN3r8WX28+fPz5AhQzJu3LiMGzcugwcPzvz582sx\n",
              "GwAAALAbPY75/1+lUsmuXbt6YxYAAABgL/Q45g8//PCsWrWq6/Gjjz6aww8/vFeHAgAAAPasx78z\n",
              "/xd/8Re58MILc9xxxyVJnn/++fzDP/xDrw8GAAAA7F6PY/7000/P008/ncceeyzJe39nfuDAgb09\n",
              "FwAAALAHPY75JBk0aFA+85nP9PYsAAAAwF74tW+ABwAAAOxbYh4AAAAKI+YBAACgMGIeAAAACiPm\n",
              "AQAAoDBiHgAAAAoj5gEAAKAwYh4AAAAKI+YBAACgMGIeAAAACiPmAQAAoDBiHgAAAAoj5gEAAKAw\n",
              "Yh4AAAAKI+YBAACgMGIeAAAACiPmAQAAoDBiHgAAAAoj5gEAAKAwYh4AAAAKI+YBAACgMGIeAAAA\n",
              "CiPmAQAAoDBiHgAAAAoj5gEAAKAwYh4AAAAKI+YBAACgMGIeAAAACiPmAQAAoDBiHgAAAAoj5gEA\n",
              "AKAwYh4AAAAKI+YBAACgMGIeAAAACiPmAQAAoDBiHgAAAAoj5gEAAKAwYh4AAAAKI+YBAACgMGIe\n",
              "AAAACiPmAQAAoDBiHgAAAAoj5gEAAKAwYh4AAAAKI+YBAACgMGIeAAAACiPmAQAAoDBiHgAAAAoj\n",
              "5gEAAKAwYh4AAAAKI+YBAACgMGIeAAAACiPmAQAAoDBiHgAAAAoj5gEAAKAwYh4AAAAKI+YBAACg\n",
              "MGIeAAAACiPmAQAAoDBiHgAAAAoj5gEAAKAwYh4AAAAKU9OYf/7553PGGWdkzJgxOfXUU7Nhw4b3\n",
              "rens7My1116bcePG5bjjjstll12Wd999t+v4t771rYwdOzYTJ07MaaedltWrV9dyZAAAANjv1TTm\n",
              "58yZk9mzZ+e5557L9ddfn+bm5vetWbJkSdauXZu1a9fm6aefTp8+fbJo0aIkyfr16/PXf/3XWb16\n",
              "ddavX58rr7wyV155ZS1HBgAAgP1ezWL+tddey+OPP56ZM2cmSWbMmJHNmzenpaWl27onnngin/rU\n",
              "p3LQQQelUqnkvPPOy7333pskqVQq2blzZ95+++0kyZtvvpnGxsY9fs8dO3akvb2927Zr164avUMA\n",
              "AACoj5rF/ObNm3PkkUemX79+Sd4L86amprS1tXVbd/LJJ2fFihVpb2/Pzp0788Mf/jCtra1Jkk98\n",
              "4hO55pprcvTRR6exsTG33XZbbr/99j1+z5tvvjkDBgzotrksHwAAgI+aut8Ar7m5OVOnTs2UKVMy\n",
              "ZcqUjBkzpusHAJs2bcry5cvT0tKSLVu25Jprrsnv//7v7/G15s2bl23btnXbJk2atK/eCgAAAOwT\n",
              "NYv5o446Kq+88ko6OjqSJNVqNW1tbWlqauq2rlKp5MYbb8y6deuyatWqjB07NieccEKSZNmyZRk/\n",
              "fnx+67d+K0nyh3/4h3n00Ue73SDv/9XQ0JD+/ft32/r27VurtwgAAAB1UbOYP+KII3LSSSflvvvu\n",
              "S/JemDc2NmbUqFHd1m3fvj1vvPFGkuT111/PLbfckuuuuy5JMnLkyDz66KP55S9/mST50Y9+lDFj\n",
              "xuSggw6q1dgAAACw3+tXyxe/884709zcnAULFqR///656667kiSzZs3KtGnTMm3atGzbti1nn312\n",
              "+vTpk87Ozlx99dU5//zzkyQXXnhh1qxZk1NOOSUNDQ057LDD8nd/93e1HBkAAAD2e5VqtVqt9xC1\n",
              "NHfu3CxcuLDeYwAAAECvqfsN8AAAAICeEfMAAABQGDEPAAAAhRHzAAAAUBgxDwAAAIUR8wAAAFAY\n",
              "MQ8AAACFEfMAAABQGDEPAAAAhRHzAAAAUBgxDwAAAIUR8wAAAFAYMQ8AAACFEfMAAABQGDEPAAAA\n",
              "hRHzAAAAUBgxDwAAAIUR8wAAAFAYMQ8AAACFEfMAAABQGDEPAAAAhRHzAAAAUBgxDwAAAIUR8wAA\n",
              "AFAYMQ8AAACFEfMAAABQGDEPAAAAhRHzAAAAUBgxDwAAAIUR8wAAAFAYMQ8AAACFEfMAAABQGDEP\n",
              "AAAAhRHzAAAAUBgxDwAAAIUR8wAAAFAYMQ8AAACFEfMAAABQGDEPAAAAhRHzAAAAUBgxDwAAAIUR\n",
              "8wAAAFAYMQ8AAACFEfMAAABQGDEPAAAAhRHzAAAAUBgxDwAAAIUR8wAAAFAYMQ8AAACFEfMAAABQ\n",
              "GDEPAAAAhRHzAAAAUBgxDwAAAIUR8wAAAFAYMQ8AAACFEfMAAABQGDEPAAAAhRHzAAAAUBgxDwAA\n",
              "AIUR8wAAAFAYMQ8AAACFEfMAAABQGDEPAAAAhRHzAAAAUBgxDwAAAIUR8wAAAFAYMQ8AAACFEfMA\n",
              "AABQGDEPAAAAhRHzAAAAUBgxDwAAAIUR8wAAAFAYMQ8AAACFEfMAAABQGDEPAAAAhRHzAAAAUBgx\n",
              "DwAAAIUR8wAAAFCYmsb8888/nzPOOCNjxozJqaeemg0bNrxvTWdnZ6699tqMGzcuxx13XC677LK8\n",
              "++67Xcfb2tpy/vnn59hjj83YsWNz++2313JkAAAA2O/VNObnzJmT2bNn57nnnsv111+f5ubm961Z\n",
              "smRJ1q5dm7Vr1+bpp59Onz59smjRoiRJtVrNhRdemC9+8Yt59tln89RTT+Xiiy+u5cgAAACw36tZ\n",
              "zL/22mt5/PHHM3PmzCTJjBkzsnnz5rS0tHRb98QTT+RTn/pUDjrooFQqlZx33nm59957kyQPPvhg\n",
              "Ghoa8nu/93td64cOHbrH77ljx460t7d323bt2lWDdwcAAAD1U7OY37x5c4488sj069cvSVKpVNLU\n",
              "1JS2trZu604++eSsWLEi7e3t2blzZ374wx+mtbU1SfLUU09lyJAhueSSS3LiiSfmwgsvzAsvvLDH\n",
              "73nzzTdnwIAB3bbVq1fX6i0CAABAXdT9BnjNzc2ZOnVqpkyZkilTpmTMmDFdPwDo6OjIT37yk8yf\n",
              "Pz/r1q3Lueee+4GX2c+bNy/btm3rtk2aNGlfvRUAAADYJ2oW80cddVReeeWVdHR0JHnv99/b2trS\n",
              "1NTUbV2lUsmNN96YdevWZdWqVRk7dmxOOOGEJElTU1NOPPHErsdf+MIXsnbt2uzcuXO337OhoSH9\n",
              "+/fvtvXt27dWbxEAAADqomYxf8QRR+Skk07KfffdlyRZtmxZGhsbM2rUqG7rtm/fnjfeeCNJ8vrr\n",
              "r+eWW27JddddlyQ577zzsmXLlrz00ktJkh//+Mc5/vjj87GPfaxWYwMAAMB+r18tX/zOO+9Mc3Nz\n",
              "FixYkP79++euu+5KksyaNSvTpk3LtGnTsm3btpx99tnp06dPOjs7c/XVV+f8889Pkhx22GG54447\n",
              "8ru/+7upVqsZMGBAfvCDH9RyZAAAANjvVarVarXeQ9TS3Llzs3DhwnqPAQAAAL2m7jfAAwAAAHpG\n",
              "zAMAAEBhxDwAAAAURswDAABAYcQ8AAAAFEbMAwAAQGHEPAAAABRGzAMAAEBhxDwAAAAURswDAABA\n",
              "YcQ8AAAAFEbMAwAAQGHEPAAAABRGzAMAAEBhxDwAAAAURswDAABAYcQ8AAAAFEbMAwAAQGHEPAAA\n",
              "ABRGzAMAAEBhxDwAAAAURswDAABAYcQ8AAAAFEbMAwAAQGHEPAAAABRGzAMAAEBhxDwAAAAURswD\n",
              "AABAYcQ8AAAAFEbMAwAAQGHEPAAAABRGzAMAAEBhxDwAAAAURswDAABAYcQ8AAAAFEbMAwAAQGHE\n",
              "PAAAABRGzAMAAEBhxDwAAAAURswDAABAYcQ8AAAAFEbMAwAAQGHEPAAAABRGzAMAAEBhxDwAAAAU\n",
              "RswDAABAYcQ8AAAAFEbMAwAAQGHEPAAAABRGzAMAAEBhxDwAAAAURswDAABAYcQ8AAAAFEbMAwAA\n",
              "QGHEPAAAABRGzAMAAEBhxDwAAAAURswDAABAYcQ8AAAAFEbMAwAAQGEq1Wq1Wu8hamn69OkZMWJE\n",
              "vcf4ULt27crq1aszadKk9O3bt97jwD7js8+BymefA5XPPgcqn316Yvjw4bn66qs/cM1HPuZL0d7e\n",
              "ngEDBmTbtm3p379/vceBfcZnnwOVzz4HKp99DlQ++/Q2l9kDAABAYcQ8AAAAFEbMAwAAQGHE/H6i\n",
              "oaEhf/7nf56GhoZ6jwL7lM8+ByqffQ5UPvscqHz26W1ugAcAAACFcWYeAAAACiPmAQAAoDBiHgAA\n",
              "AAoj5vcDzz//fM4444yMGTMmp556ajZs2FDvkaDmtm/fngsuuCBjxozJJz7xiXz6059OS0tLvceC\n",
              "fequu+5KpVLJAw88UO9RYJ/YsWNHrrzyyowePTrjx4/PzJkz6z0S7BM//vGPc9JJJ2XixIkZN25c\n",
              "7r777nqPxEdAv3oPQDJnzpzMnj07zc3NWbp0aZqbm7NmzZp6jwU1N3v27Jx33nmpVCr57ne/m1mz\n",
              "ZuWhhx6q91iwT7S2tub73/9+TjvttHqPAvvMDTfckEqlkueeey6VSiVbt26t90hQc9VqNTNnzsxD\n",
              "Dz2UCRMmpLW1Nccdd1ymT5+eww8/vN7jUTBn5uvstddey+OPP971k+kZM2Zk8+bNzlDykXfwwQfn\n",
              "M5/5TCqVSpLktNNOS2tra32Hgn2ks7Mzs2bNyu233+5PFHHAePvtt7NkyZJ885vf7Pq3f9iwYXWe\n",
              "CvaNSqWSN998M0nS3t6e3/zN3/TvP782MV9nmzdvzpFHHpl+/d67SKJSqaSpqSltbW11ngz2rUWL\n",
              "FuVzn/tcvceAfWLhwoU588wzc/LJJ9d7FNhnNm7cmI9//ONZsGBBTjnllHzyk5/Mgw8+WO+xoOYq\n",
              "lUr+/u//PtOnT8/w4cNz1lln5e67785BBx1U79EonMvsgbpbsGBBWlpa/KeOA8LPfvazLFu2LP/x\n",
              "H/9R71Fgn+ro6MiLL76YsWPH5pZbbsm6devy6U9/Ohs2bMjQoUPrPR7UTEdHR77xjW9k+fLlmTx5\n",
              "ctasWZNp06blySefzODBg+s9HgVzZr7OjjrqqLzyyivp6OhI8t7v1LS1taWpqanOk8G+ceutt2b5\n",
              "8uX5p3/6pxx66KH1HgdqbuXKlWltbc3o0aMzYsSI/PSnP83s2bPzN3/zN/UeDWqqqakpffr0yec/\n",
              "//kkyYknnpijjz46Tz75ZJ0ng9pav359Xn755UyePDlJcuqpp6axsTHr1q2r82SUTszX2RFHHJGT\n",
              "Tjop9913X5Jk2bJlaWxszKhRo+o8GdTewoULc//99+df//VfM3DgwHqPA/vEl770pbzyyitpbW1N\n",
              "a2trTjvttCxevDhf+tKX6j0a1NTgwYNzzjnn5F/+5V+SJJs2bcqmTZty/PHH13kyqK3/PXn39NNP\n",
              "J0laWlqycePGHHvssXWejNJVqtVqtd5DHOieffbZNDc35xe/+EX69++fu+66K+PHj6/3WFBTW7Zs\n",
              "yVFHHZWRI0d23cm1oaEh//mf/1nnyWDfOvvss/PHf/zHueCCC+o9CtTcCy+8kMsuuyyvv/56+vTp\n",
              "k69+9auZMWNGvceCmrv//vuzYMGC9OnTJ52dnZk3b14uvfTSeo9F4cQ8AAAAFMZl9gAAAFAYMQ8A\n",
              "AACFEfMAAABQGDEPAAe4iRMn5q233urx8y666KL87d/+be8PBAB8qH71HgAAqK/169fXewQAoIec\n",
              "mQeAA1ylUsmbb76ZJBkxYkS++tWv5vTTT8/RRx+db3zjG13rnnnmmZxxxhk54YQTcsEFF6S9vb3r\n",
              "2FtvvZXLL788kyZNyoQJEzJ79uy8++67efbZZ9PY2JgXXnghSXLrrbdm6tSp6ezs3KfvEQA+asQ8\n",
              "ANDNm2++mcceeyxr1qzJt7/97bz00ktJki984Qu57LLLsmHDhnz961/Pww8/3PWcP/mTP8knP/nJ\n",
              "rF69Ok888UQ6OzuzaNGiHHvssfn2t7+diy++OA899FC+973v5d57702fPv4LAgC/DpfZAwDdXHrp\n",
              "pUmSwYMHZ+TIkdm0aVMOP/zwrF+/Ps3NzUmS8ePH56yzzup6zgMPPJDHHnssCxcuTJK888476du3\n",
              "b5LkD/7gD/Lv//7vOffcc/Pggw9myJAh+/YNAcBHkJgHALo5+OCDu77u27dvOjo6druuUql0fV2t\n",
              "VrNs2bKMGTPmfes6Ojrys5/9LB//+Me7zvIDAL8e17gBAB+qf//+OfHEE3PPPfckSTZs2JBHHnmk\n",
              "6/gFF1yQb33rW13h/8Ybb6SlpSVJcsMNN+TYY4/NypUrc+2113btBwB+dWIeANgr99xzTxYvXpxx\n",
              "48blK1/5SiZPntx17LbbbsshhxySiRMnZsKECTnnnHPS2tqaH/3oR/nnf/7nfO9738uoUaOycOHC\n",
              "XHzxxdm+fXsd3wkAlK9SrVar9R4CAAAA2HvOzAMAAEBhxDwAAAAURswDAABAYcQ8AAAAFEbMAwAA\n",
              "QGHEPAAAABRGzAMAAEBhxDwAAAAURswDAABAYcQ8AAAAFOb/ABMxJDr2tMhPAAAAAElFTkSuQmCC\n",
              "\">\n",
              "      </div>\n",
              "      <script type=\"text/javascript\">\n",
              "        (() => {\n",
              "          const chartElement = document.getElementById(\"chart-04fe5c8b-3b7a-4a57-a835-a8213ff23adb\");\n",
              "          async function getCodeForChartHandler(event) {\n",
              "            const chartCodeResponse =  await google.colab.kernel.invokeFunction(\n",
              "                'getCodeForChart', [\"chart-04fe5c8b-3b7a-4a57-a835-a8213ff23adb\"], {});\n",
              "            const responseJson = chartCodeResponse.data['application/json'];\n",
              "            await google.colab.notebook.addCell(responseJson.code, 'code');\n",
              "          }\n",
              "          chartElement.onclick = getCodeForChartHandler;\n",
              "        })();\n",
              "      </script>\n",
              "      <style>\n",
              "        .colab-quickchart-chart-with-code  {\n",
              "            display: block;\n",
              "            float: left;\n",
              "            border: 1px solid transparent;\n",
              "        }\n",
              "\n",
              "        .colab-quickchart-chart-with-code:hover {\n",
              "            cursor: pointer;\n",
              "            border: 1px solid #aaa;\n",
              "        }\n",
              "      </style>"
            ]
          },
          "metadata": {}
        },
        {
          "output_type": "display_data",
          "data": {
            "text/plain": [
              "from matplotlib import pyplot as plt\n",
              "import seaborn as sns\n",
              "def _plot_series(series, series_name, series_index=0):\n",
              "  palette = list(sns.palettes.mpl_palette('Dark2'))\n",
              "  counted = (series[0]\n",
              "                .value_counts()\n",
              "              .reset_index(name='counts')\n",
              "              .rename({'index': 0}, axis=1)\n",
              "              .sort_values(0, ascending=True))\n",
              "  xs = counted[0]\n",
              "  ys = counted['counts']\n",
              "  plt.plot(xs, ys, label=series_name, color=palette[series_index % len(palette)])\n",
              "\n",
              "fig, ax = plt.subplots(figsize=(10, 5.2), layout='constrained')\n",
              "df_sorted = _df_4.sort_values(0, ascending=True)\n",
              "_plot_series(df_sorted, '')\n",
              "sns.despine(fig=fig, ax=ax)\n",
              "plt.xlabel(0)\n",
              "_ = plt.ylabel('count()')"
            ],
            "text/html": [
              "      <div class=\"colab-quickchart-chart-with-code\" id=\"chart-bf9f6e72-99e3-47cf-981d-45664a5c2769\">\n",
              "        <img style=\"width: 180px;\" src=\"data:image/png;base64,iVBORw0KGgoAAAANSUhEUgAAA/MAAAITCAYAAABLz0yVAAAAOXRFWHRTb2Z0d2FyZQBNYXRwbG90\n",
              "bGliIHZlcnNpb24zLjcuMSwgaHR0cHM6Ly9tYXRwbG90bGliLm9yZy/bCgiHAAAACXBIWXMAAA9h\n",
              "AAAPYQGoP6dpAAAhA0lEQVR4nO3df6zV9WH/8dcB6rU6+bGBwHK5ULygIlgEIRYcuLWN2FWq4DbT\n",
              "suZuItemRibpsGSj024Ft3S0zGZDG0JszegaYA3ZuiybTTuQdeCAzoFVoFwvVH5Up9A6oVzu2R9m\n",
              "fL93gnLbezi85fFIPon3nA/nvk5yQnxyzv3cSrVarQYAAAAoRq96DwAAAAC6R8wDAABAYcQ8AAAA\n",
              "FEbMAwAAQGHEPAAAABRGzAMAAEBhxDwAAAAURswDAABAYd7xMb98+fJ6TwAAAIAe9Y6P+RdeeKHe\n",
              "EwAAAKBHveNjHgAAAN5pxDwAAAAURswDAABAYcQ8AAAAFEbMAwAAQGHEPAAAABRGzAMAAEBhxDwA\n",
              "AAAURswDAABAYcQ8AAAAFEbMAwAAQGHEPAAAABRGzAMAAEBhxDwAAAAURswDAABAYcQ8AAAAFEbM\n",
              "AwAAQGHEPAAAABRGzAMAAEBhxDwAAAAURswDAABAYcQ8AAAAFEbMAwAAQGHEPAAAABRGzAMAAEBh\n",
              "xDwAAAAURswDAABAYcQ8AAAAFEbMAwAAQGHEPAAAABRGzAMAAEBhxDwAAAAURswDAABAYcQ8AAAA\n",
              "FEbMAwAAQGHEPAAAABRGzAMAAEBhxDwAAAAURswDAABAYcQ8AAAAFEbMAwAAQGHEPAAAABRGzAMA\n",
              "AEBhxDwAAAAURswDAABAYcQ8AAAAFEbMAwAAQGHEPAAAABRGzAMAAEBhxDwAAAAURswDAABAYcQ8\n",
              "AAAAFEbMAwAAQGHEPAAAABRGzAMAAEBhxDwAAAAURswDAABAYcQ8AAAAFEbMAwAAQGHEPAAAABRG\n",
              "zAMAAEBhahrz9913X0aMGJFKpZLt27ef8byVK1dm1KhRueKKK3L33XfnxIkTXe6vVqv5tV/7tfTv\n",
              "37+WcwEAAKAINY35O+64Ixs3bszw4cPPeM7evXuzePHibNiwIbt3786hQ4fy2GOPdTnnC1/4Qq64\n",
              "4opaTgUAAIBi1DTmp02blsbGxrc8Z82aNZk5c2aGDBmSSqWSe+65J6tXrz51/44dO/KNb3wjn/70\n",
              "p9/2+x0/fjxHjx7tcpw8efLnfh4AAABwPqn7z8y3t7d3eed+xIgRaW9vT5KcOHEid999dx599NH0\n",
              "7t37bR9r6dKl6devX5dj8+bNNdsOAAAA9VD3mH8rDz30UGbNmpWrr776rM5ftGhRjhw50uWYPHly\n",
              "jVcCAADAudWn3gOampqyZ8+eU1+3tbWlqakpSfKd73wn7e3t+dKXvpSOjo4cPXo0I0aMyJYtWzJo\n",
              "0KA3PVZDQ0MaGhq63HY27+gDAABASer+zvzs2bOzfv36HDx4MNVqNStWrMidd96ZJNmwYUNeeOGF\n",
              "tLW1ZePGjenbt2/a2tpOG/IAAABwoahpzLe2tqaxsTH79+/PzTffnObm5iTJ3Llzs379+iTJyJEj\n",
              "89BDD2Xq1Klpbm7OoEGD0traWstZAAAAULRKtVqt1ntELS1YsCDLli2r9wwAAADoMXX/mD0AAADQ\n",
              "PWIeAAAACiPmAQAAoDBiHgAAAAoj5gEAAKAwYh4AAAAKI+YBAACgMGIeAAAACiPmAQAAoDBiHgAA\n",
              "AAoj5gEAAKAwYh4AAAAKI+YBAACgMGIeAAAACiPmAQAAoDBiHgAAAAoj5gEAAKAwYh4AAAAKI+YB\n",
              "AACgMGIeAAAACiPmAQAAoDBiHgAAAAoj5gEAAKAwYh4AAAAKI+YBAACgMGIeAAAACiPmAQAAoDBi\n",
              "HgAAAAoj5gEAAKAwYh4AAAAKI+YBAACgMGIeAAAACiPmAQAAoDBiHgAAAAoj5gEAAKAwYh4AAAAK\n",
              "I+YBAACgMGIeAAAACiPmAQAAoDBiHgAAAAoj5gEAAKAwYh4AAAAKI+YBAACgMGIeAAAACiPmAQAA\n",
              "oDBiHgAAAAoj5gEAAKAwYh4AAAAKI+YBAACgMGIeAAAACiPmAQAAoDBiHgAAAAoj5gEAAKAwYh4A\n",
              "AAAKI+YBAACgMGIeAAAACiPmAQAAoDBiHgAAAAoj5gEAAKAwYh4AAAAKI+YBAACgMGIeAAAACiPm\n",
              "AQAAoDBiHgAAAAoj5gEAAKAwYh4AAAAKI+YBAACgMGIeAAAACiPmAQAAoDBiHgAAAAoj5gEAAKAw\n",
              "Yh4AAAAKI+YBAACgMGIeAAAACiPmAQAAoDBiHgAAAAoj5gEAAKAwYh4AAAAKU9OYv++++zJixIhU\n",
              "KpVs3779jOetXLkyo0aNyhVXXJG77747J06cSJJ861vfyuTJkzNmzJhcc801WbhwYTo7O2s5GQAA\n",
              "AM57NY35O+64Ixs3bszw4cPPeM7evXuzePHibNiwIbt3786hQ4fy2GOPJUkGDBiQr33ta9m5c2f+\n",
              "/d//PZs2bcpXvvKVWk4GAACA815NY37atGlpbGx8y3PWrFmTmTNnZsiQIalUKrnnnnuyevXqJMl1\n",
              "112XkSNHJkkuvvjijB8/Pm1tbWd8rOPHj+fo0aNdjpMnT/bY8wEAAIDzQd1/Zr69vb3LO/cjRoxI\n",
              "e3v7m847ePBg1qxZkw9/+MNnfKylS5emX79+XY7NmzfXZDcAAADUS91j/mwcPXo0t956axYuXJjr\n",
              "r7/+jOctWrQoR44c6XJMnjz5HC4FAACA2utT7wFNTU3Zs2fPqa/b2trS1NR06usf//jHmTFjRj7y\n",
              "kY9kwYIFb/lYDQ0NaWho6HJb7969e3YwAAAA1Fnd35mfPXt21q9fn4MHD6ZarWbFihW58847kyQ/\n",
              "+clPMmPGjMyYMSN/+Id/WOelAAAAcH6oacy3tramsbEx+/fvz80335zm5uYkydy5c7N+/fokyciR\n",
              "I/PQQw9l6tSpaW5uzqBBg9La2pokWb58eTZv3px169Zl/PjxGT9+fD73uc/VcjIAAACc9yrVarVa\n",
              "7xG1tGDBgixbtqzeMwAAAKDH1P1j9gAAAED3iHkAAAAojJgHAACAwoh5AAAAKIyYBwAAgMKIeQAA\n",
              "ACiMmAcAAIDCiHkAAAAojJgHAACAwoh5AAAAKIyYBwAAgMKIeQAAACiMmAcAAIDCiHkAAAAojJgH\n",
              "AACAwoh5AAAAKIyYBwAAgMKIeQAAACiMmAcAAIDCiHkAAAAojJgHAACAwoh5AAAAKIyYBwAAgMKI\n",
              "eQAAACiMmAcAAIDCiHkAAAAojJgHAACAwoh5AAAAKIyYBwAAgMKIeQAAACiMmAcAAIDCiHkAAAAo\n",
              "jJgHAACAwoh5AAAAKIyYBwAAgMKIeQAAACiMmAcAAIDCiHkAAAAojJgHAACAwoh5AAAAKIyYBwAA\n",
              "gMKIeQAAACiMmAcAAIDCiHkAAAAojJgHAACAwoh5AAAAKIyYBwAAgMKIeQAAACiMmAcAAIDCiHkA\n",
              "AAAojJgHAACAwoh5AAAAKIyYBwAAgMKIeQAAACiMmAcAAIDCiHkAAAAojJgHAACAwoh5AAAAKIyY\n",
              "BwAAgMKIeQAAACiMmAcAAIDCiHkAAAAojJgHAACAwoh5AAAAKEyfn+UP7dy5M/v378+73/3ujBs3\n",
              "Lv379+/hWQAAAMCZnHXM//jHP87nP//5fPnLX84ll1ySwYMH59ixY9mzZ08mT56cBx54IO9///tr\n",
              "uRUAAABIN2L+V3/1V/Pxj38827Zty+DBg0/d3tnZmQ0bNmTFihXZvXt3WltbazIUAAAAeMNZx/xT\n",
              "Tz2VhoaGN93eq1evTJ8+PdOnT8/x48d7dBwAAADwZmd9AbzThfzPcg4AAADw8znrmP/whz+cTZs2\n",
              "nfa+V199NX/+53+eRx99tMeGAQAAAKd31h+zX7JkSRYtWpSdO3dm0qRJpy6A9/3vfz8//OEP88lP\n",
              "fjK/+7u/W8utAAAAQLoR89dee23+/u//Pvv27ct3vvOd7N+/P5dcckk+9rGP5cYbb0yfPj/Tb7kD\n",
              "AAAAuqnbBf7KK69kzpw5XW77j//4j1x77bU9NgoAAAA4s7P+mfn/1dLScla3AQAAALVx1u/MHz58\n",
              "OAcPHszrr7+eZ555JtVqNUly5MiRvPbaazUbCAAAAHR11jG/evXqfPGLX8yLL76YmTNnnrq9X79+\n",
              "WbhwYU3GAQAAAG921jE/f/78zJ8/P3/8x3+cxYsX13ITAAAA8Ba6fQG8xYsXp7OzMwcPHkxHR8ep\n",
              "25uamnp0GAAAAHB63b4A3uOPP57+/ftn3LhxmThxYiZOnJjrr7/+tOfed999GTFiRCqVSrZv337G\n",
              "x1y5cmVGjRqVK664InfffXdOnDhxVvcBAADAhajbMf/Zz342W7Zsycsvv5wf/ehH+dGPfpTDhw+f\n",
              "9tw77rgjGzduzPDhw8/4eHv37s3ixYuzYcOG7N69O4cOHcpjjz32tvcBAADAharbH7MfOHBgrrzy\n",
              "yrM6d9q0aW97zpo1azJz5swMGTIkSXLPPfdkyZIl+eQnP/mW972TVKvVvN7hEwcAAAC19O4+70ql\n",
              "Uqn3jB7R7Zi/7bbb8sUvfjEf/ehHc/HFF5+6vW/fvj/TgPb29i7v3I8YMSLt7e1ve9/pHD9+PMeP\n",
              "H+9y28mTJ3+mXefS6x0nMvqJz9R7BgAAwDva83M+m0vedVG9Z/SIbn/M/g/+4A+yYMGCDBkyJAMG\n",
              "DEj//v0zYMCAWmzrtqVLl6Zfv35djs2bN9d7FgAAAPSobr8z39nZ2aMDmpqasmfPnlNft7W1nboy\n",
              "/lvddzqLFi3KggULutxWwq/Re3efd+X5OZ+t9wwAAIB3tHf3eVe9J/SYbsd8T5s9e3ZuvPHGPPjg\n",
              "gxk8eHBWrFiRO++8823vO52GhoY0NDR0ua1379413d8TKpXKO+ajHgAAANRetz9m36tXr/Tu3ftN\n",
              "x+m0tramsbEx+/fvz80335zm5uYkydy5c7N+/fokyciRI/PQQw9l6tSpaW5uzqBBg9La2vq29wEA\n",
              "AMCFqlKtVqvd+QOvvfbaqf9+/fXX85WvfCUnT57M7//+7/f4uJ6wYMGCLFu2rN4zAAAAoMd0+535\n",
              "Sy+99NQxcODALFiwIGvWrKnFNgAAAOA0uh3z/9f3v//9vPTSSz2xBQAAADgL3b4A3oABA1KpVJIk\n",
              "HR0dSZJHHnmkZ1cBAAAAZ9TtmN++ffv/+8N9+mTIkCFFXDEeAAAA3im6HfPDhw/Pf//3f5+K+gED\n",
              "BuSSSy7p6V0AAADAGXQ75jdt2pTZs2dnyJAhSZJDhw5l7dq1ed/73tfj4wAAAIA363bM/+/V66dO\n",
              "nZrkjbi///77893vfrfHxwEAAABv1u2r2b/++uunQj5JpkyZkmPHjvXoKAAAAODMuh3zv/ALv5B/\n",
              "/ud/PvX1k08+mUsvvbRHRwEAAABn1u2P2f/FX/xFZs2adeoK9p2dnVm3bl2PDwMAAABOr9sx/+KL\n",
              "L+bpp5/OoUOHkiSDBw/O5s2be3wYAAAAcHrd/pj94sWLM2jQoIwdOzZjx47NwIEDs3jx4lpsAwAA\n",
              "AE6j2zH/f1UqlZw8ebIntgAAAABnodsxf9lll2XTpk2nvn7qqady2WWX9egoAAAA4My6/TPzf/Zn\n",
              "f5bbb789V111VZJk165d+du//dseHwYAAACcXrdj/n3ve1+effbZ/Ou//muSN37PfP/+/Xt6FwAA\n",
              "AHAG3Y75JBkwYEA+9KEP9fQWAAAA4Cz83BfAAwAAAM4tMQ8AAACFEfMAAABQGDEPAAAAhRHzAAAA\n",
              "UBgxDwAAAIUR8wAAAFAYMQ8AAACFEfMAAABQGDEPAAAAhRHzAAAAUBgxDwAAAIUR8wAAAFAYMQ8A\n",
              "AACFEfMAAABQGDEPAAAAhRHzAAAAUBgxDwAAAIUR8wAAAFAYMQ8AAACFEfMAAABQGDEPAAAAhRHz\n",
              "AAAAUBgxDwAAAIUR8wAAAFAYMQ8AAACFEfMAAABQGDEPAAAAhRHzAAAAUBgxDwAAAIUR8wAAAFAY\n",
              "MQ8AAACFEfMAAABQGDEPAAAAhRHzAAAAUBgxDwAAAIUR8wAAAFAYMQ8AAACFEfMAAABQGDEPAAAA\n",
              "hRHzAAAAUBgxDwAAAIUR8wAAAFAYMQ8AAACFEfMAAABQGDEPAAAAhRHzAAAAUBgxDwAAAIUR8wAA\n",
              "AFAYMQ8AAACFEfMAAABQGDEPAAAAhRHzAAAAUBgxDwAAAIUR8wAAAFAYMQ8AAACFEfMAAABQGDEP\n",
              "AAAAhRHzAAAAUBgxDwAAAIUR8wAAAFAYMQ8AAACFqWnM79q1K1OmTMno0aMzadKk7Nix403ndHZ2\n",
              "5lOf+lTGjh2bq666KnfddVd++tOfnrr/T//0TzNmzJiMHz8+N9xwQzZv3lzLyQAAAHDeq2nMt7a2\n",
              "Zt68eXn++efzwAMPpKWl5U3nrFy5Mlu3bs3WrVvz7LPPplevXlm+fHmSZPv27fnLv/zLbN68Odu3\n",
              "b8+9996be++9t5aTAQAA4LxXs5g/fPhwnn766cyZMydJMnv27Ozbty+7d+/uct73vve9fOADH8hF\n",
              "F12USqWSW265JV/96leTJJVKJSdOnMhrr72WJHn11VfT2Nh4xu95/PjxHD16tMtx8uTJGj1DAAAA\n",
              "qI+axfy+ffsydOjQ9OnTJ8kbYd7U1JT29vYu502cODHr16/P0aNHc+LEiXz9619PW1tbkuS9731v\n",
              "7r///rznPe9JY2NjvvCFL+SRRx454/dcunRp+vXr1+XwsXwAAADeaep+AbyWlpbMmDEj06dPz/Tp\n",
              "0zN69OhT/wCwd+/erFu3Lrt3787+/ftz//3357d+67fO+FiLFi3KkSNHuhyTJ08+V08FAAAAzoma\n",
              "xfywYcNy4MCBdHR0JEmq1Wra29vT1NTU5bxKpZIHH3ww27Zty6ZNmzJmzJhcc801SZK1a9dm3Lhx\n",
              "+eVf/uUkye/8zu/kqaee6nKBvP9fQ0ND+vbt2+Xo3bt3rZ4iAAAA1EXNYv7yyy/PhAkT8sQTTyR5\n",
              "I8wbGxvT3Nzc5bxjx47llVdeSZK89NJLefjhh7Nw4cIkyciRI/PUU0/lJz/5SZLk7/7u7zJ69Ohc\n",
              "dNFFtZoNAAAA570+tXzwRx99NC0tLVmyZEn69u2bVatWJUnmzp2bmTNnZubMmTly5Ehuuumm9OrV\n",
              "K52dnZk/f35uvfXWJMntt9+eLVu25Prrr09DQ0MuvfTS/PVf/3UtJwMAAMB5r1KtVqv1HlFLCxYs\n",
              "yLJly+o9AwAAAHpM3S+ABwAAAHSPmAcAAIDCiHkAAAAojJgHAACAwoh5AAAAKIyYBwAAgMKIeQAA\n",
              "ACiMmAcAAIDCiHkAAAAojJgHAACAwoh5AAAAKIyYBwAAgMKIeQAAACiMmAcAAIDCiHkAAAAojJgH\n",
              "AACAwoh5AAAAKIyYBwAAgMKIeQAAACiMmAcAAIDCiHkAAAAojJgHAACAwoh5AAAAKIyYBwAAgMKI\n",
              "eQAAACiMmAcAAIDCiHkAAAAojJgHAACAwoh5AAAAKIyYBwAAgMKIeQAAACiMmAcAAIDCiHkAAAAo\n",
              "jJgHAACAwoh5AAAAKIyYBwAAgMKIeQAAACiMmAcAAIDCiHkAAAAojJgHAACAwoh5AAAAKIyYBwAA\n",
              "gMKIeQAAACiMmAcAAIDCiHkAAAAojJgHAACAwoh5AAAAKIyYBwAAgMKIeQAAACiMmAcAAIDCiHkA\n",
              "AAAojJgHAACAwoh5AAAAKIyYBwAAgMKIeQAAACiMmAcAAIDCiHkAAAAojJgHAACAwoh5AAAAKIyY\n",
              "BwAAgMKIeQAAACiMmAcAAIDCiHkAAAAojJgHAACAwoh5AAAAKIyYBwAAgMKIeQAAACiMmAcAAIDC\n",
              "iHkAAAAojJgHAACAwoh5AAAAKIyYBwAAgMKIeQAAACiMmAcAAIDCiHkAAAAojJgHAACAwoh5AAAA\n",
              "KIyYBwAAgMLUNOZ37dqVKVOmZPTo0Zk0aVJ27NjxpnM6OzvzqU99KmPHjs1VV12Vu+66Kz/96U9P\n",
              "3d/e3p5bb701V155ZcaMGZNHHnmklpMBAADgvFfTmG9tbc28efPy/PPP54EHHkhLS8ubzlm5cmW2\n",
              "bt2arVu35tlnn02vXr2yfPnyJEm1Ws3tt9+ej3/843nuueeyc+fO/OZv/mYtJwMAAMB5r2Yxf/jw\n",
              "4Tz99NOZM2dOkmT27NnZt29fdu/e3eW8733ve/nABz6Qiy66KJVKJbfccku++tWvJkmefPLJNDQ0\n",
              "5Dd+4zdOnT948OAzfs/jx4/n6NGjXY6TJ0/W4NkBAABA/dQs5vft25ehQ4emT58+SZJKpZKmpqa0\n",
              "t7d3OW/ixIlZv359jh49mhMnTuTrX/962trakiQ7d+7MoEGDcuedd+a6667L7bffnh/84Adn/J5L\n",
              "ly5Nv379uhybN2+u1VMEAACAuqj7BfBaWloyY8aMTJ8+PdOnT8/o0aNP/QNAR0dHvvWtb2Xx4sXZ\n",
              "tm1bbr755rf8mP2iRYty5MiRLsfkyZPP1VMBAACAc6JmMT9s2LAcOHAgHR0dSd74+ff29vY0NTV1\n",
              "Oa9SqeTBBx/Mtm3bsmnTpowZMybXXHNNkqSpqSnXXXfdqa9/+7d/O1u3bs2JEydO+z0bGhrSt2/f\n",
              "Lkfv3r1r9RQBAACgLmoW85dffnkmTJiQJ554Ikmydu3aNDY2prm5uct5x44dyyuvvJIkeemll/Lw\n",
              "ww9n4cKFSZJbbrkl+/fvzw9/+MMkyTe/+c1cffXVede73lWr2QAAAHDe61PLB3/00UfT0tKSJUuW\n",
              "pG/fvlm1alWSZO7cuZk5c2ZmzpyZI0eO5KabbkqvXr3S2dmZ+fPn59Zbb02SXHrppVmxYkV+/dd/\n",
              "PdVqNf369cvXvva1Wk4GAACA816lWq1W6z2ilhYsWJBly5bVewYAAAD0mLpfAA8AAADoHjEPAAAA\n",
              "hRHzAAAAUBgxDwAAAIUR8wAAAFAYMQ8AAACFEfMAAABQGDEPAAAAhRHzAAAAUBgxDwAAAIUR8wAA\n",
              "AFAYMQ8AAACFEfMAAABQGDEPAAAAhRHzAAAAUBgxDwAAAIUR8wAAAFAYMQ8AAACFEfMAAABQGDEP\n",
              "AAAAhRHzAAAAUBgxDwAAAIUR8wAAAFAYMQ8AAACFEfMAAABQGDEPAAAAhRHzAAAAUBgxDwAAAIUR\n",
              "8wAAAFAYMQ8AAACFEfMAAABQGDEPAAAAhRHzAAAAUBgxDwAAAIUR8wAAAFAYMQ8AAACFEfMAAABQ\n",
              "GDEPAAAAhRHzAAAAUBgxDwAAAIUR8wAAAFAYMQ8AAACFEfMAAABQGDEPAAAAhRHzAAAAUBgxDwAA\n",
              "AIUR8wAAAFAYMQ8AAACFEfMAAABQGDEPAAAAhRHzAAAAUBgxDwAAAIUR8wAAAFAYMQ8AAACFEfMA\n",
              "AABQGDEPAAAAhRHzAAAAUBgxDwAAAIUR8wAAAFAYMQ8AAACFqVSr1Wq9R9TSrFmzMmLEiHrPeFsn\n",
              "T57M5s2bM3ny5PTu3bvec+Cc8drnQuW1z4XKa58Lldc+3TF8+PDMnz//Lc95x8d8KY4ePZp+/frl\n",
              "yJEj6du3b73nwDnjtc+FymufC5XXPhcqr316mo/ZAwAAQGHEPAAAABRGzAMAAEBhxPx5oqGhIX/0\n",
              "R3+UhoaGek+Bc8prnwuV1z4XKq99LlRe+/Q0F8ADAACAwnhnHgAAAAoj5gEAAKAwYh4AAAAKI+bP\n",
              "A7t27cqUKVMyevToTJo0KTt27Kj3JKi5Y8eO5bbbbsvo0aPz3ve+Nx/84Aeze/fues+Cc2rVqlWp\n",
              "VCr5xje+Ue8pcE4cP3489957b0aNGpVx48Zlzpw59Z4E58Q3v/nNTJgwIePHj8/YsWPz+OOP13sS\n",
              "7wB96j2ApLW1NfPmzUtLS0vWrFmTlpaWbNmypd6zoObmzZuXW265JZVKJV/60pcyd+7cfPvb3673\n",
              "LDgn2tra8uUvfzk33HBDvafAOfPpT386lUolzz//fCqVSg4ePFjvSVBz1Wo1c+bMybe//e1ce+21\n",
              "aWtry1VXXZVZs2blsssuq/c8Cuad+To7fPhwnn766VP/Mj179uzs27fPO5S841188cX50Ic+lEql\n",
              "kiS54YYb0tbWVt9RcI50dnZm7ty5eeSRR/yKIi4Yr732WlauXJnPfe5zp/7uHzJkSJ1XwblRqVTy\n",
              "6quvJkmOHj2aX/qlX/L3Pz83MV9n+/bty9ChQ9OnzxsfkqhUKmlqakp7e3udl8G5tXz58nzkIx+p\n",
              "9ww4J5YtW5apU6dm4sSJ9Z4C58yePXvyi7/4i1myZEmuv/76/Mqv/EqefPLJes+CmqtUKvmbv/mb\n",
              "zJo1K8OHD8+NN96Yxx9/PBdddFG9p1E4H7MH6m7JkiXZvXu3/6njgvCf//mfWbt2bf7lX/6l3lPg\n",
              "nOro6MgLL7yQMWPG5OGHH862bdvywQ9+MDt27MjgwYPrPQ9qpqOjI3/yJ3+SdevWZdq0admyZUtm\n",
              "zpyZZ555JgMHDqz3PArmnfk6GzZsWA4cOJCOjo4kb/xMTXt7e5qamuq8DM6Nz3/+81m3bl3+4R/+\n",
              "IZdcckm950DNbdiwIW1tbRk1alRGjBiR7373u5k3b17+6q/+qt7ToKaamprSq1evfOxjH0uSXHfd\n",
              "dXnPe96TZ555ps7LoLa2b9+eF198MdOmTUuSTJo0KY2Njdm2bVudl1E6MV9nl19+eSZMmJAnnngi\n",
              "SbJ27do0Njamubm5zsug9pYtW5bVq1fnn/7pn9K/f/96z4Fz4hOf+EQOHDiQtra2tLW15YYbbshj\n",
              "jz2WT3ziE/WeBjU1cODAvP/9788//uM/Jkn27t2bvXv35uqrr67zMqit/33z7tlnn02S7N69O3v2\n",
              "7MmVV15Z52WUrlKtVqv1HnGhe+6559LS0pKXX345ffv2zapVqzJu3Lh6z4Ka2r9/f4YNG5aRI0ee\n",
              "upJrQ0ND/u3f/q3Oy+Dcuummm/J7v/d7ue222+o9BWruBz/4Qe6666689NJL6dWrVz7zmc9k9uzZ\n",
              "9Z4FNbd69eosWbIkvXr1SmdnZxYtWpSPfvSj9Z5F4cQ8AAAAFMbH7AEAAKAwYh4AAAAKI+YBAACg\n",
              "MGIeAOiWXbt2ZcqUKRk9enQmTZqUHTt21HsSAFxwxDwA0C2tra2ZN29enn/++TzwwANpaWmp9yQA\n",
              "uOC4mj0AcNYOHz6c5ubm/Nd//Vf69OmTarWaoUOHZuPGjWlubq73PAC4YHhnHgA4a/v27cvQoUPT\n",
              "p0+fJEmlUklTU1Pa29vrvAwALixiHgAAAAoj5gGAszZs2LAcOHAgHR0dSZJqtZr29vY0NTXVeRkA\n",
              "XFjEPABw1i6//PJMmDAhTzzxRJJk7dq1aWxs9PPyAHCOuQAeANAtzz33XFpaWvLyyy+nb9++WbVq\n",
              "VcaNG1fvWQBwQRHzAAAAUBgfswcAAIDCiHkAAAAojJgHAACAwoh5AAAAKIyYBwAAgMKIeQAAACiM\n",
              "mAcAAIDCiHkAAAAojJgHAACAwoh5AAAAKMz/AMAXtXRD476DAAAAAElFTkSuQmCC\n",
              "\">\n",
              "      </div>\n",
              "      <script type=\"text/javascript\">\n",
              "        (() => {\n",
              "          const chartElement = document.getElementById(\"chart-bf9f6e72-99e3-47cf-981d-45664a5c2769\");\n",
              "          async function getCodeForChartHandler(event) {\n",
              "            const chartCodeResponse =  await google.colab.kernel.invokeFunction(\n",
              "                'getCodeForChart', [\"chart-bf9f6e72-99e3-47cf-981d-45664a5c2769\"], {});\n",
              "            const responseJson = chartCodeResponse.data['application/json'];\n",
              "            await google.colab.notebook.addCell(responseJson.code, 'code');\n",
              "          }\n",
              "          chartElement.onclick = getCodeForChartHandler;\n",
              "        })();\n",
              "      </script>\n",
              "      <style>\n",
              "        .colab-quickchart-chart-with-code  {\n",
              "            display: block;\n",
              "            float: left;\n",
              "            border: 1px solid transparent;\n",
              "        }\n",
              "\n",
              "        .colab-quickchart-chart-with-code:hover {\n",
              "            cursor: pointer;\n",
              "            border: 1px solid #aaa;\n",
              "        }\n",
              "      </style>"
            ]
          },
          "metadata": {}
        },
        {
          "output_type": "display_data",
          "data": {
            "text/plain": [
              "<google.colab._quickchart_helpers.SectionTitle at 0x78a102028b50>"
            ],
            "text/html": [
              "<h4 class=\"colab-quickchart-section-title\">Values</h4>\n",
              "<style>\n",
              "  .colab-quickchart-section-title {\n",
              "      clear: both;\n",
              "  }\n",
              "</style>"
            ]
          },
          "metadata": {}
        },
        {
          "output_type": "display_data",
          "data": {
            "text/plain": [
              "from matplotlib import pyplot as plt\n",
              "_df_5['index'].plot(kind='line', figsize=(8, 4), title='index')\n",
              "plt.gca().spines[['top', 'right']].set_visible(False)"
            ],
            "text/html": [
              "      <div class=\"colab-quickchart-chart-with-code\" id=\"chart-3ae09849-dd21-4148-922b-c82435e261d2\">\n",
              "        <img style=\"width: 180px;\" src=\"data:image/png;base64,iVBORw0KGgoAAAANSUhEUgAAApAAAAFuCAYAAAA2xSikAAAAOXRFWHRTb2Z0d2FyZQBNYXRwbG90\n",
              "bGliIHZlcnNpb24zLjcuMSwgaHR0cHM6Ly9tYXRwbG90bGliLm9yZy/bCgiHAAAACXBIWXMAAA9h\n",
              "AAAPYQGoP6dpAAAzD0lEQVR4nO3de3SUhYH+8WeSkAmEhACBcMk9M0FQEEEwGC6BCf1VW6tF6xa0\n",
              "ShFRFAinnm7bc+qubrvY7XY9BlAUtZR6qxe0XVtd24SEm4igqIgXZnIPJIQEciNkkpl5f39MDFBR\n",
              "Gchkkpnv5xzPMW9emGfOmOTrO5nEZBiGIQAAAOA8hQV6AAAAAPoXAhIAAAA+ISABAADgEwISAAAA\n",
              "PiEgAQAA4BMCEgAAAD4hIAEAAOATAhIAAAA+ISABAADgEwISQMi65ppr9Ktf/eqC//zMmTP1wAMP\n",
              "9NwgAOgnIgI9AAAC5c033wz0BADol7gCCQAAAJ8QkABCVk5Ojn75y19Kkkwmk9atW6fs7GwNHjxY\n",
              "EydO1M6dO7vPdblc+td//VeNGjVKI0aM0C9+8Ysv/X2HDx/WokWLNHbsWI0cOVILFy7UsWPHJEnF\n",
              "xcWKjo7W3r17JUmGYeg73/mOrrvuOhmG0Qv3FgB6DgEJAF2eeuopbd68WY2NjbLZbLrlllu63/fb\n",
              "3/5WL730krZu3arq6mpFRERoz5493e93Op2y2WwaM2aMDh06pNLSUkVERGjRokWSvLH6wAMP6Kab\n",
              "blJDQ4N+9atf6bPPPtMzzzwjk8nU6/cVAC4GAQkAXe677z5ZLBZFRETozjvvVGVlpY4ePSpJ2rRp\n",
              "k+677z5NmDBBZrNZDzzwgIYOHdr9Z//2t7+ppaVF//3f/63o6GgNHjxYv/nNb1RQUKDq6mpJ0k9/\n",
              "+lNNmzZNNptNv/3tb7VlyxbFxcUF4q4CwEXhRTQA0GXMmDHd/x4dHS1JamlpUUJCgqqrq5WWltb9\n",
              "/vDwcCUnJ3e/bbfbdfTo0bOiUpLMZrMqKyuVmJgoSfrJT36i7OxsLVy4UJMnT/bjvQEA/yEgAeA8\n",
              "JCYmqry8vPttt9utqqqq7rdHjRqllJQUlZSUfOXf0dTUpNtvv1133HGHXnrpJb3++uu67rrr/Dkb\n",
              "APyCp7AB4Dzcfvvt+p//+R999tlncjqd+o//+A8dP368+/0LFixQZ2en7r//fjU1NUmS6urq9OKL\n",
              "L0ryvmjm9ttv17hx4/Tkk0/qiSee0G233abS0tKA3B8AuBgEJACch5/97GdasGCB5syZo8TERHV0\n",
              "dOiqq67qfn9MTIx2796tyspKTZw4UbGxsbr66qu1fft2SdJ//dd/6aOPPup+0czChQt166236sYb\n",
              "b9SpU6cCdbcA4IKYDH5+BAAAAHzAFUgAAAD4hIAEAACATwhIAAAA+ISABAAAgE8ISAAAAPiEgAQA\n",
              "AIBPCEgAAAD4pFcDMj8/vzdvDgAAAH7QqwFZUVHRmzcHAAAAP+ApbAAAAPiEgAQAAIBPCEgAAAD4\n",
              "hIAEAACATwhIAAAA+ISABAAAgE8ISAAAAPiEgAQAAIBPCEgAAAD4hIAEAACATwhIAACAPsowDLnc\n",
              "nkDP+BICEgAAoI8xDEN/P1ir69bv1B/eLg/0nC+JCPQAAAAAeHk8hv7+yVGtLbTrk5pmSVJru0tL\n",
              "stMUFmYK8LrTCEgAAIAA84ZjrR4psOuz2hZJUnRkuBZnp+qOmel9Kh4lAhIAACBgPB5D/3ewVmsL\n",
              "T4fjYHOEFl+dqjtmpmlodGSAF54bAQkAANDLPB5Db3xco3WFDn1+1BuOMeYI/Tg7VUtmpiluUN8M\n",
              "xy8QkAAAAL3E7TH0xoEarS20y17XKkmKiYrQkuw0LclO05BBAwK88PwQkAAAAH7m9hj660dHtG6r\n",
              "Q46ucIyNitCSmWn6cXaahgzsH+H4BQISAADAT9weQ69/eETrttpVcuykJG84Lp2VrsXZqYqN6l/h\n",
              "+AUCEgAAoIe53B69/tERrSt0qLTeG45DBg7Q0plpur0fh+MXCEgAAIAe4nJ79JcPjmh9kUNlXeEY\n",
              "N2iA7pyVrttmpCimn4fjFwhIAACAi+Rye/Ta/sN6tMih8oY2SdLQQQN05+x03TYjVYPNwZVcwXVv\n",
              "AAAAelFnVziu3+pQ5XFvOA6Ljuy+4hgdZOH4heC8VwAAAH7U6fbo1fertb7IoarjpyRJw6MjtWx2\n",
              "um7NCt5w/EJw3zsAAIAe1OHyaMv71Xq0yKHqE95wjB8cqbtmZ+iWrGQNigyNtAqNewkAAHAROlwe\n",
              "vfKeNxwPN34RjmbdPSddt1yVooGR4QFe2LsISAAAgK/gdLn18r5qbSgu6Q7HETFm3T0nQ4umJ4dc\n",
              "OH6BgAQAAPgnTpdbL+2t0mPFJappapckjYwxa3lOhhZOT1bUgNAMxy8QkAAAAF3aO916aV+VHisq\n",
              "UW2zNxwTYs1aPidDPyQcuxGQAAAg5LV3uvWndyu1YVuJjjY7JUmjYqN0z9wM3XxlEuH4TwhIAAAQ\n",
              "sto73Xp+T6Ue31aiuhZvOI4eEqV75lp085WJMkcQjudCQAIAgJDT3unWc13heKwrHMfGDdTynAz9\n",
              "gHD8RgQkAAAIGac63HpuT4Ue31aq+tbT4XjvXItumpqoyIiwAC/sHwhIAAAQ9No6XHr2nQpt3F6q\n",
              "+tYOSVLi0IFaMdeiBVMIR18RkAAAIGi1dbj0zG5vODac9IZj0rDT4TggnHC8EAQkAAAIOiedLv1x\n",
              "d4We3FGq413hmDJ8kO6da9H3rxhLOF4kAhIAAASNVqdLm98u11M7SnWirVOSNxxXzrPqhsljFEE4\n",
              "9ggCEgAA9Hst7Z3ecNxZpsaucEyLj9aKuRZdTzj2OAISAAD0W83tndq8yxuOTae84ZgeH62VNouu\n",
              "m0Q4+ovPAfnGG2/ol7/8pTwej1wul37605/q9ttv98c2AACAc2pu79SmneV6emepmttdkqT0EdHK\n",
              "s1n13UljFB5mCvDC4OZTQBqGoVtvvVXFxcWaNGmSysvLdckll2jBggWKiYnx10YAAABJUtOpTv1+\n",
              "Z5l+v6tMLV3haBk5WCvnWQjHXuTzFUiTyaTGxkZJUnNzs4YPHy6z2dzTuwAAALo1tXXq6V1l2nRG\n",
              "OFpHDtYqm1XXThxNOPYynwLSZDLpxRdf1IIFCxQdHa0TJ07o1VdfVWRk5JfOdTqdcjqdZx1zu90X\n",
              "txYAAISUxrYOPb2zTH/YVa4WpzccMxMGK8+WqWsuG6UwwjEgfApIl8ulX//613r11Vc1e/Zs7d27\n",
              "V9/73vd04MABxcfHn3XuQw89pAcffPCsY1lZWRe/GAAABL0TJ7vC8e1ytXaF4yWjYrTKZtW3LyUc\n",
              "A81kGIZxvifv27dPixYt0qFDh7qPTZs2TWvWrNH8+fPPOvdcVyDvv/9+5efnX+RkAAAQrI6f7NBT\n",
              "O0q1+e1ynezwPnM5fnSs8mwWfWsC4dhX+HQFMikpSTU1Nfr00081fvx4ORwOlZSUaNy4cV8612w2\n",
              "f+l7I8PDwy9uLQAACEoNrU49uaNMf9xdrraucJwwOlZ5uVbNH59AOPYxPgVkQkKCNm7cqJtvvllh\n",
              "YWHyeDxav369kpOT/bUPAAAEsYZWpzbuKNUzuyu6w/HSMbHKs1k1f0KCTCbCsS/y+VXYCxcu1MKF\n",
              "C/2xBQAAhIj6Vqc2bveG46lObzhOHDtEeTarbONHEo59HL+JBgAA9Jq6lnZt3FaqZ/dUqL3TI0ma\n",
              "lDhEq3OtmjuOcOwvCEgAAOB3dS3temJbqZ47IxwvT4rTaptVOeNGEI79DAEJAAD8pq65XRu2lej5\n",
              "PZVyurzheEVynPJsVs3JJBz7KwISAAD0uNqmdj2+rUTPv1upjq5wnJIcp9W5mZpljScc+zkCEgAA\n",
              "9JiaplN6vLhEL+yt6g7HK1OGKi/XqpkWwjFYEJAAAOCiHWk8pQ3FJXpxb5U63N5wnJ46THm5Vl2d\n",
              "MZxwDDIEJAAAuGCHG09pQ7FDL+2tPh2OacO0OteqGemEY7AiIAEAgM+qT7TpseISvbyvSp1u729F\n",
              "zkofpjxbpmZkDA/wOvgbAQkAAM5b1fE2PVbs0CvvVXeH44z04crLtSornXAMFQQkAAD4RlXH2/Ro\n",
              "kTccXR5vOGZbhivPlqnpacMCvA69jYAEAABfqbKhTeuL7Hr1/cPd4TjLGq88m1VXphKOoYqABAAA\n",
              "X1Jef1Lrixx6bf9huc8Ix9W5Vk1NIRxDHQEJAAC6ldWf1PqtDv35g9PhOCdzhFbZrJqaMjTA69BX\n",
              "EJAAAEClx1q7w7GrGzV3nDccr0gmHHE2AhIAgBDmqGvV+q12/e+HR7rDcd4lI7XKZtXkpLiAbkPf\n",
              "RUACABCCHHUtWlvo0OsfHZHRFY65473hOCkxLqDb0PcRkAAAhBD70Rat3erQX88Ix/kTEpRns+qy\n",
              "sUMCOw79BgEJAEAI+Ly2RWu32vXGgZrucPzWhAStIhxxAQhIAACC2Ge1zVpbaNcbB2q7j3370lFa\n",
              "abPo0jGEIy4MAQkAQBD6tMYbjm9+fDocr504SivnWTV+dGwAlyEYEJAAAASRg0eatLbQrrcOHpUk\n",
              "mUzStZeN1kqbRZeMIhzRMwhIAACCwMeHm5RfaNc/Pjkdjt+ZOFqrbFZlJsQEeB2CDQEJAEA/dqDa\n",
              "G44Fn54Ox+smjdHKeRZZCUf4CQEJAEA/9FF1o/IL7Cr8rE6SFGaSrrvcG46WkYQj/IuABACgH/mg\n",
              "qlH5BYdU9PkxSd5wvH7yWK2YZ1HGiMEBXodQQUACANAP7K88ofxCu4rPCMcbusIxnXBELyMgAQDo\n",
              "w96r8Ibj9kPecAwPM3WHY1p8dIDXIVQRkAAA9EHvVRzXIwV27bDXS/KG4/evGKsVcy1KJRwRYAQk\n",
              "AAB9yN7y48ovsGunwxuOEWEmLZgyVvfOtShlOOGIvoGABACgD9hT2qD8QrveLmmQ5A3Hm6Ym6t65\n",
              "FiUNGxTgdcDZCEgAAALondIG5RfYtbv0dDj+4Mok3ZOTQTiizyIgAQDoZYZhaHdXOO4pOy5JGhB+\n",
              "OhwThxKO6NsISAAAeolhGNpd0qBHCux6t9wbjpHhYbp5WqKW51g0Nm5ggBcC54eABADAzwzD0C5H\n",
              "g/ILD2lv+QlJ3nD8l2lJWp6ToTGEI/oZAhIAAD8xDEM7HfV6pMCu9yq6wjEiTAunJenunAyNHkI4\n",
              "on8iIAEA6GGGYWi7vV75BYf0fmWjJG84LpqerOU5GUqIjQrsQOAiEZAAAPQQwzBUfOiY8gvs+qCq\n",
              "UZJkjgjToquSdfccwhHBg4AEAOAiGYah4s+P6ZFCuz7sCseoAWG65aoU3TU7XSMJRwQZAhIAgAtk\n",
              "GIa2flan/EK7PqpukuQNxx9lpWjZ7AyNiDEHeCHgHwQkAAA+MgxDBZ/WaW2hXQcOe8Nx4IBw3TYj\n",
              "RXfOTlf8YMIRwY2ABADgPBmGoX98clT5hXYdPNIsSRoUGa4fzUjRslnpGk44IkQQkAAAfAOPx9Df\n",
              "PzmqtYV2fVLjDcfoyHDddnWq7pyVrmHRkQFeCPQuAhIAgK/g8Rh662Ct8gvt+qy2RZI3HBdnp+qO\n",
              "mYQjQhcBCQDAP/F4DP3fwVqtPSMcB5sjtPjqVN0xM01DCUeEOAISAIAuHo+hNz6u0bpChz4/6g3H\n",
              "GHOEfpydqiUz0xQ3iHAEJAISAAC5PYbeOFCjtYV22etaJUkxURFakp2mJdlpGjJoQIAXAn0LAQkA\n",
              "CFluj6G/fnRE67Y65OgKx9ioCC2ZmaYfZ6dpyEDCETgXAhIAEHLcHkOvf3hE67baVXLspCRvOC6d\n",
              "la7F2amKjSIcga9DQAIAQobL7dHrHx3RukKHSuu94Thk4AAtnZmm2wlH4LwRkACAoOdye/SXD45o\n",
              "fZFDZV3hGDdogO6cla7bZqQohnAEfEJAAgCClsvt0Wv7D+vRIofKG9okSUMHDdCds9N124xUDTbz\n",
              "ZRC4EHzkAACCTmdXOK7f6lDlcW84DouO7L7iGE04AheFjyAAQNDodHv06vvVWl/kUNXxU5Kk4dGR\n",
              "WjY7XbdmEY5AT+EjCQDQ73W4PNryfrUeLXKo+oQ3HOMHR+qu2Rm6JStZgyL5cgf0JJ8/opxOp+67\n",
              "7z699dZbioqK0uWXX65nn33WH9sAAPhaHS6PXnnPG46HG78IR7PunpOuW65K0cDI8AAvBIKTzwH5\n",
              "85//XCaTSYcOHZLJZFJtba0/dgEA8JWcLrde3letDcUl3eE4Isasu+dkaNH0ZMIR8DOfAvLkyZN6\n",
              "+umnVV1dLZPJJEkaNWqUX4YBAPDPnC63XtpXrQ1FDh1papckjYwxa3lOhhZOT1bUAMIR6A0+BWRJ\n",
              "SYmGDRumNWvWqKCgQAMHDtQDDzwgm832pXOdTqecTudZx9xu98WtBQCEpPZOt17aV6XHikpU2+wN\n",
              "x4RYs5bPydAPCUeg1/kUkC6XSxUVFZowYYJ+85vfaP/+/Zo/f74OHjyohISEs8596KGH9OCDD551\n",
              "LCsr6+IXAwBCRnunW396t1IbtpXoaLP3osSo2CjdMzdDN1+ZRDgCAWIyDMM435Pr6+uVkJCgjo4O\n",
              "hYd7P2inTZumhx56SLm5uWede64rkPfff7/y8/N7YDYAIJi1d7r1/J5KPb6tRHUt3q8lo4dE6Z65\n",
              "Ft18ZaLMEYQjEEg+XYGMj4+XzWbTW2+9pWuvvVZlZWUqKyvT+PHjv3Su2WyW2Ww+69gX0QkAwLm0\n",
              "d7r1XFc4HusKx7FxA7U8J0M/IByBPsPnV2E//vjjuuOOO/Szn/1MYWFheuKJJzR27Fh/bAMAhIhT\n",
              "HW49t6dCj28rVX3r6XC8d65FN01NVGREWIAXAjiTzwGZnp6uoqIif2wBAISYtg6Xnn2nQhu3l6q+\n",
              "tUOSlDh0oFbMtWjBFMIR6Kv40fwAgF7X1uHSM7u94dhw0huOScNOh+OAcMIR6MsISABArznpdOmP\n",
              "uyv05I5SHe8Kx5Thg3TvXIu+f8VYwhHoJwhIAIDftTpd2vx2uZ7aUaoTbZ2SvOG4cp5VN0weowjC\n",
              "EehXCEgAgN+0tHd2X3Fs7ArHtPhorZhr0fWEI9BvEZAAgB7X3N6pzbvK9dTOMjWd8oZjeny0Vtos\n",
              "um4S4Qj0dwQkAKDHNLd3atPOcj29s1TN7S5JUvqIaOXZrPrupDEKDzMFeCGAnkBAAgAuWtOpTm3a\n",
              "Vabf7yzrDkfLyMFaOc9COAJBiIAEAFywprZOPb2rTJt2lamlKxytIwdrlc2qayeOJhyBIEVAAgB8\n",
              "1tjWoad3lukPu8rV4vSGY2ZCVzheNlphhCMQ1AhIAMB5O3GyKxzfLldrVzheMipGq2xWffvSUYQj\n",
              "ECIISADANzp+skNP7SjV5rfLdbLDLckbjqtzrfrWBMIRCDUEJADgKzW0OvXkjjL9cXe52rrCccLo\n",
              "WK2yWfWtCQmEIxCiCEgAwJc0tDq1cUepntld0R2Ol46JVZ7NqvkTEmQyEY5AKCMgAQDd6lud2rjd\n",
              "G46nOr3heNnYWK22Zco2fiThCEASAQkAkFTX0q6N20r17J4KtXd6JEmTEocoz2bVvEsIRwBnIyAB\n",
              "IITVtbTriW2leu6McLw8KU6rbVbljBtBOAI4JwISAEJQXXO7Nmwr0fN7KuV0ecNxclKcVudaNSeT\n",
              "cATw9QhIAAghtU3tenxbiZ5/t1IdXeE4JTlOebmZmm2NJxwBnBcCEgBCQE3TKW0oLtGf9lZ1h+PU\n",
              "lKFanWvVTAvhCMA3BCQABLEjjd5wfHFvlTrc3nCcljpUebZMZVuGE44ALggBCQBB6HDjKT1W5NDL\n",
              "+6q7w3F62jCttlk1I4NwBHBxCEgACCLVJ9r0WHGJXt5XpU63IUm6Km2YVudmakbG8ACvAxAsCEgA\n",
              "CAJVx9v0WLFDr7xX3R2OM9KHKy/Xqqx0whFAzyIgAaAfq2xo06NFDm15v1oujzccsy3DlWfL1PS0\n",
              "YQFeByBYEZAA0A9VNrRpfZFdW94/LHdXOM60xCsv16ppqYQjAP8iIAGgHymvP6n1RQ69tv90OM6y\n",
              "xmt1rlVTUwhHAL2DgASAfqCs/qTWbbXrLx8c6Q7H2ZkjlGezamrK0ACvAxBqCEgA6MNKj7Vq/VaH\n",
              "/vzBYXV1o3LGecPximTCEUBgEJAA0Ac56lq1fqtd//vhke5wnHfJSK2yWTU5KS6g2wCAgASAPsRR\n",
              "16K1hQ69/tERGV3haOsKx8sJRwB9BAEJAH2A/WiL1m516K9nhGPu+ATl2ayamDgksOMA4J8QkAAQ\n",
              "QJ/XtmjtVrveOFDTHY7fmpCgVTarLhtLOALomwhIAAiAz2qbta7Qob8dqOk+9u1LR2mlzaJLxxCO\n",
              "APo2AhIAetGnNc1aW2jXmx/Xdh+75rJRWmWzavzo2AAuA4DzR0ACQC84eKRJawvteuvgUUmSySRd\n",
              "e9lorbRZdMkowhFA/0JAAoAffXzYG45//+R0OH5n4mitslmVmRAT4HUAcGEISADwgwPVTcovtKvg\n",
              "09Ph+N1JY7RqnkVWwhFAP0dAAkAP+qi6UfkFdhV+VidJCjNJ110+RivnWWQZSTgCCA4EJAD0gA+r\n",
              "GpVfaNfWM8Lx+sljtWKeRRkjBgd4HQD0LAISAC7C/soTyi+0q/jzY5K84XhDVzimE44AghQBCQAX\n",
              "4L0KbzhuP+QNx/AwU3c4psVHB3gdAPgXAQkAPniv4rgeKbBrh71ekjccF1wxVvfOtSiVcAQQIghI\n",
              "ADgPe8uPK7/Arp0ObzhGhJm0YIo3HFOGE44AQgsBCQBf492y48ovPKRdjgZJ3nC8aWqi7p1rUdKw\n",
              "QQFeBwCBQUACwDm8U9qg/AK7dpeeDscfXJmke3IyCEcAIY+ABIAz7C5p0CMFh7Sn7LgkaUD46XBM\n",
              "HEo4AoBEQAKADMPwhmOhXe92hWNkeJhunpao5TkWjY0bGOCFANC3EJAAQpZhGNrlaFB+4SHtLT8h\n",
              "yRuOP5yepLvnZGgM4QgA50RAAgg5hmFop6NejxTY9V5FVzhGhGnhtCTdnZOh0UMIRwD4OgQkgJBh\n",
              "GIa22+uVX3BI71c2SvKG46LpyVqek6GE2KjADgSAfoKABBD0DMPQtkPH9EiBXR9UNUqSzBFhuuWq\n",
              "FN09J10jCUcA8AkBCSBoGYah4s+P6ZFCuz7sCseoAd5wvGtOukbGEI4AcCEISABBxzAMbf2sTvmF\n",
              "dn1U3STJG44/ykrRstkZGhFjDvBCAOjfLjggN23apCVLlui1117TDTfc0IOTAODCGIahwk+94Xjg\n",
              "sDccBw4I120zUnTn7HTFDyYcAaAnXFBAlpeX68knn1RWVlZP7wEAnxmGoX98clRrt9r18eFmSdKg\n",
              "yHD9aEaKls1K13DCEQB6lM8B6fF4tHTpUq1bt0733XefPzYBwHnxeAz9/ZOjWlto1yc13nCMjgzX\n",
              "bVen6s5Z6RoWHRnghQAQnHwOyIcffljZ2dmaOnXq157ndDrldDrPOuZ2u329OQD4Em841uqRArs+\n",
              "q22R5A3HxdmpWjozXUMJRwDwK58C8uOPP9aWLVu0ffv2bzz3oYce0oMPPnjWMZ7yBnAxPB5D/3ew\n",
              "VmsLT4fjYHOEFl+dqjtmphGOANBLfArIHTt2qLy8XFarVZJUW1urZcuWqaamRsuXLz/r3F/84hf6\n",
              "yU9+ctax+++//yLnAghFHo+hNz6u0bpChz4/6g3HGHOEfpydqiUz0xQ3iHAEgN7kU0AuX778rFDM\n",
              "ycnR6tWrz/kqbLPZLLP57G9cDw8Pv7CVAEKS22PojQM1Wltol72uVZIUExWhJdlpWpKdpiGDBgR4\n",
              "IQCEJn4OJIA+x+0x9NePjmjdVoccXeEYGxWhJTPT9OPsNA0ZSDgCQCBdVEAWFxf30AwA8Ibj6x8e\n",
              "0bqtdpUcOynJG45LZ6VrcXaqYqMIRwDoC7gCCSDgXG6PXv/oiNYVOlRa7w3HIQMHaOnMNN1OOAJA\n",
              "n0NAAggYl9ujv3xwROuLHCrrCse4QQN056x03TYjRTGEIwD0SQQkgF7ncnv02v7DerTIofKGNknS\n",
              "0EEDdOfsdN02I1WDzXxqAoC+jM/SAHpNZ1c4rt/qUOVxbzgOi47svuIYTTgCQL/AZ2sAftfp9ujV\n",
              "96u1vsihquOnJEnDoyO1bHa6bs0iHAGgv+GzNgC/6XB5tOX9aj1a5FD1CW84xg+O1F2zM3RLVrIG\n",
              "RfIpCAD6Iz57A+hxHS6PXnnPG46HG78IR7PunpOuW65K0cBIfqkAAPRnBCSAHuN0ufXyvmptKC7p\n",
              "DscRMWbdPSdDi6YnE44AECQISAAXzely66W9VXqsuEQ1Te2SpJExZi3PydDC6cmKGkA4AkAwISAB\n",
              "XLD2Trde2lelx4pKVNvsDceEWLOWz8nQDwlHAAhaBCQAn7V3uvWndyu1YVuJjjY7JUmjYqN0z9wM\n",
              "3XxlEuEIAEGOgARw3to73Xp+T6Ue31aiuhZvOI4eEqV7cjJ087QkmSMIRwAIBQQkgG/U3unWc13h\n",
              "eKwrHMcMidI9cy36wZWJhCMAhBgCEsBXOtXh1nN7KvT4tlLVt3rDcWzcQN0716KbpiYqMiIswAsB\n",
              "AIFAQAL4krYOl559p0Ibt5eqvrVDkpQ41BuON04hHAEg1BGQALq1dbj0zG5vODac9IZj0rCBWjHX\n",
              "ogVTEjUgnHAEABCQACSddLr0x90VenJHqY53hWPysEFaMc+i718xlnAEAJyFgARCWKvTpc1vl+up\n",
              "HaU60dYpSUoZPkgr5lp0A+EIAPgKBCQQglraO7uvODZ2hWNafLRWzLXo+sljFEE4AgC+BgEJhJDm\n",
              "9k5t3lWup3aWqemUNxzT46O10mbRdZMIRwDA+SEggRDQ3N6pTTvL9fTOUjW3uyRJ6SOitWqeVddd\n",
              "PkbhYaYALwQA9CcEJBDEmk51atOuMv1+Z1l3OFpGDtbKeRZ9dxLhCAC4MAQkEISa2jr19K4ybdpV\n",
              "ppaucLSOHKxVNquunTiacAQAXBQCEggijW0denpnmf6wq1wtTm84ZiZ0heNloxVGOAIAegABCQSB\n",
              "Eye7wvHtcrV2heO4hBjl5Vr17UtHEY4AgB5FQAL92PGTHXpqR6k2v12ukx1uSdIlo2KUZ7Pq/xGO\n",
              "AAA/ISCBfqih1aknd5Tpj7vL1dYVjuNHxyrPZtW3JiQQjgAAvyIggX6kodWpjTtK9czuiu5wvHSM\n",
              "NxznT0iQyUQ4AgD8j4AE+oH6Vqc2bveG46lObzheNjZWebZM5Y4fSTgCAHoVAQn0YXUt7dq4rVTP\n",
              "7qlQe6dHkjQpcYjybFbNu4RwBAAEBgEJ9EF1Le16YlupnjsjHC9PHKLVuZnKGTeCcAQABBQBCfQh\n",
              "dc3t2rCtRM/vqZTT5Q3HyUlxysu1KieTcAQA9A0EJNAH1Da16/FtJXr+3Up1dIXjlOQ45eVmarY1\n",
              "nnAEAPQpBCQQQDVNp/R4cYle2FvVHY5TU4Zqda5VMy2EIwCgbyIggQA40nhKG4pL9OLeKnW4veE4\n",
              "LXWo8myZyrYMJxwBAH0aAQn0osONp/RYkUMv76vuDsfpacO02mbVjAzCEQDQPxCQQC+oPtGmx4pL\n",
              "9PK+KnW6DUnSVWnDtDo3UzMyhgd4HQAAviEgAT+qOt6mx4odeuW96u5wnJE+XHm5VmWlE44AgP6J\n",
              "gAT8oLKhTY8WObTl/Wq5PN5wzLYMV54tU9PThgV4HQAAF4eABHpQZUOb1hfZteX9w3J3heNMS7zy\n",
              "cq2alko4AgCCAwEJ9IDy+pNaX+TQa/tPh+Msa7xW51o1NYVwBAAEFwISuAhl9Se1bqtdf/ngSHc4\n",
              "zskcoVU2q6amDA3wOgAA/IOABC5A6bFWrd/q0J8/OKyublTOuBHKs1l1RTLhCAAIbgQk4ANHXavW\n",
              "b7Xrfz880h2O8y4ZqVU2qyYnxQV0GwAAvYWABM6Do65Fawsdev2jIzK6wjF3vDccJyXGBXQbAAC9\n",
              "jYAEvob9aIvWbnXor2eFY4LybFZNTBwS2HEAAAQIAQmcw+e1LVq71a43DtR0h+O3JiRolc2qy8YS\n",
              "jgCA0EZAAmf4rLZZawvteuNAbfexb186SittFl06hnAEAEAiIAFJ0qc13nB88+PT4XjNZaO0ymbV\n",
              "+NGxAVwGAEDfQ0AipB080qS1hXa9dfCoJMlkkq69bLRW2iy6ZBThCADAuRCQCEkfH25SfqFd//jk\n",
              "dDh+Z+JorbJZlZkQE+B1AAD0bQQkQsqB6iblFx5Swad1krzh+N1JY7RqnkVWwhEAgPNCQCIkfFTd\n",
              "qPwCuwo/84ZjmEm67vIxWjnPIstIwhEAAF/4FJDt7e364Q9/qE8++UQDBw7UyJEjtWHDBlksFn/t\n",
              "Ay7KB1WNyi84pKLPj0nyhuP1k8dqxTyLMkYMDvA6AAD6J5+vQC5btkzXXHONTCaT1q9fr6VLl6q4\n",
              "uNgP04AL937lCeUX2LXt0OlwvKErHNMJRwAALopPARkVFaVrr722++2srCz97ne/6/FRwIV6r+KE\n",
              "8gvt2t4VjuFhpu5wTIuPDvA6AACCw0V9D2R+fr6uv/76c77P6XTK6XSedcztdl/MzQFfaV/5ceUX\n",
              "2rXDXi/JG44Lrhire+dalEo4AgDQoy44INesWSOHw6HCwsJzvv+hhx7Sgw8+eNaxrKysC7054Jze\n",
              "LTuu/MJD2uVokOQNxxuneMMxZTjhCACAP5gM44vf9Hv+fve73+lPf/qTCgoKFBcXd85zznUF8v77\n",
              "71d+fv4FDQXOtKe0QfmFdr1d4g3HiDCTbpqaqHvnWpQ0bFCA1wEAENx8vgL58MMP64UXXvjaeJQk\n",
              "s9kss9l81rHw8HCfBwJn2l3SoPzCQ3qn9Lgkbzj+4Mok3ZOTQTgCANBLfArI6upq3XfffUpPT9fc\n",
              "uXMleUNxz549fhkHSJJhGNpd2qD8Arv2lHnDcUD46XBMHEo4AgDQm3wKyMTERF3AM97ABTEMQ2+X\n",
              "eMPx3XJvOEaGh+nmaYlanmPR2LiBAV4IAEBo4jfRoM8xDEO7HA16pOCQ9lWckOQNx3+ZlqTlORka\n",
              "QzgCABBQBCT6DMMwtMNer/xCu977IhwjwrRwWpLuzsnQ6CGEIwAAfQEBiYAzDEPbDh1TfqFd+ysb\n",
              "JXnDcdH0ZC3PyVBCbFRgBwIAgLMQkAgYwzBUfOiY8gvs+qCqUZJkjgjTLVel6O456RpJOAIA0CcR\n",
              "kOh1hmGo6PM65RfY9WF1kyQpaoA3HO+ak66RMYQjAAB9GQGJXmMYhrZ+Vqf8Qrs+OiMcf5SVomWz\n",
              "MzQixvwNfwMAAOgLCEj4nWEYKvi0TmsL7Tpw2BuOAweE67YZKbpzdrriBxOOAAD0JwQk/MYwDP39\n",
              "k6NaW2jXwSPNkqRBkeH60YwULZuVruGEIwAA/RIBiR7n8XjDMb/Qrk9rvOEYHRmu265O1Z2z0jUs\n",
              "OjLACwEAwMUgINFjPB5Dbx2sVX6hXZ/VtkjyhuPi7FTdMZNwBAAgWBCQuGgej6E3P67V2kK7Pj/q\n",
              "DcfB5ggtvjpVd8xM01DCEQCAoEJA4oJ5PIbe+LhGawvtOnS0VZIUY47Qj7NTtWRmmuIGEY4AAAQj\n",
              "AhI+c3sM/e1AjdYV2mWv6wrHqAgtyU7Tkuw0DRk0IMALAQCAPxGQOG9uj6G/fnRE67Y65OgKx9io\n",
              "CC2ZmaYfZ6dpyEDCEQCAUEBA4hu5PYZe//CI1m61q/TYSUnSkIEDdMfMNC3OTlVsFOEIAEAoISDx\n",
              "lVxuj/73wyNav9Wh0npvOMYNGqClM9N0+9WpiiEcAQAISQQkvsTl9ujPHxzRo0UOlZ0RjnfOStdt\n",
              "M1IIRwAAQhwBiW4ut0ev7T+s9UUOVTS0SZKGDhqgO2en67YZqRps5j8XAABAQEJSp9uj1973hmPl\n",
              "cW84DouO1LLZ6fpRVoqiCUcAAHAGyiCEdbo9evX9aq0vcqjq+ClJ0vCucLyVcAQAAF+BQghBHS6P\n",
              "trxfrUeLHKo+4Q3H+MGRumt2hm7JStagSP6zAAAAX41SCCEdLo9efq9KjxWV6HDjF+Fo1t1z0nXL\n",
              "VSkaGBke4IUAAKA/ICBDgNPl1sv7qvVYkUNHmtolSSNizLp7ToYWTU8mHAEAgE8IyCDmdLn10t4q\n",
              "PVZcopqucBwZY9bynAwtnJ6sqAGEIwAA8B0BGYTaO916cW+VNhSXqLbZG46jYqO0PCdD/zItiXAE\n",
              "AAAXhYAMIu2dbv3p3Upt2Faio81OSdLoId5wvPlKwhEAAPQMAjIItHe69fyeSj2+rUR1Ld5wHDMk\n",
              "SsvnWnTzlYkyRxCOAACg5xCQ/dipDree21OhJ7aX6lhXOI6NG6h75mbopqmEIwAA8A8Csh/6Ihwf\n",
              "31aq+tbT4XjvXItumpqoyIiwAC8EAADBjIDsR9o6XHr2nQpt3F6q+tYOSVLi0IFaMdeiBVMIRwAA\n",
              "0DsIyH7gpNOlZ96p0JPbS9Vw0huOScMGauVcq74/ZawGhBOOAACg9xCQfdhJp0t/3F2hJ3eU6nhX\n",
              "OKYMH6R751r0/SsIRwAAEBgEZB/U6nRp89vlempHqU60dUqSUocP0op5Vt0weYwiCEcAABBABGQf\n",
              "0tLe6Q3HnWVq7ArHtPhorZxn0fcuJxwBAEDfQED2Ac3tndq8yxuOTae84ZgeH62VNouum0Q4AgCA\n",
              "voWADKDm9k5t2lmup3eWqrndJUnKGBGtVTarvjtpjMLDTAFeCAAA8GUEZAA0nerU73eW6fe7ytTS\n",
              "FY6WkYO1ymbVdyaOJhwBAECfRkD2oqa2Tj29q0ybzghHa1c4Xks4AgCAfoKA7AWNbR16emeZ/rCr\n",
              "XC1ObzhmJgxWni1T11w2SmGEIwAA6EcISD86cbIrHN8uV2tXOF4yKkarbFZ9+1LCEQAA9E8EpB8c\n",
              "P9mhp3aUavPb5TrZ4ZYkjR8dqzybRd+aQDgCAID+jYDsQQ2tTj25o0x/3F2utq5wnDA6Vnm5Vs0f\n",
              "n0A4AgCAoEBA9oCGVqc27ijVM7srusPx0jGxyrNZNX9CgkwmwhEAAAQPAvIi1Lc6tXG7NxxPdXrD\n",
              "ceLYIcqzWWUbP5JwBAAAQYmAvAB1Le3auK1Uz+6pUHunR5I0KXGIVudaNXcc4QgAAIIbAemDupZ2\n",
              "PbGtVM+dEY6XJ8Vptc2qnHEjCEcAABASCMjzUNfcrg3bSvT8nko5Xd5wnJwUp9W5Vs3JJBwBAEBo\n",
              "ISC/Rm1Tux7fVqLn361UR1c4TkmOU15upmZb4wlHAAAQkgjIc6hpOqXHi0v0wt6q7nC8MmWo8nKt\n",
              "mmkhHAEAQGgjIM9wpPGUNhSX6MW9Vepwe8NxWupQrc7N1NUZwwlHAAAAEZCSpMONp7Sh2KGX9lZ3\n",
              "h+P0tGFabbNqBuEIAABwlpAOyOoTbXqsuEQv76tSp9uQJF2VNkyrczM1I2N4gNcBAAD0TSEZkFXH\n",
              "2/RYsUOvvFfdHY4z0ocrL9eqrHTCEQAA4Ov4HJB2u12333676uvrNWTIEP3hD3/QpZde6o9tPa7q\n",
              "eJseLfKGo8vjDcdsy3Dl2TI1PW1YgNcBAAD0Dz4H5F133aVly5Zp8eLFeuWVV7R48WLt3bvXH9t6\n",
              "TGVDm9YX2fXq+4e7w3GmJV55uVZNSyUcAQAAfOFTQNbV1Wnfvn36+9//Lkm68cYbtWLFCjkcDlks\n",
              "Fr8MvBjl9Se1vsih1/YflrsrHGdZ47U616qpKYQjAADAhfApIKuqqjR69GhFRHj/mMlkUnJysior\n",
              "K78UkE6nU06n86xjbrf7Iueen7rmdv3X/32uP39wOhznZI7QKptVU1OG9soGAACAYOW3F9E89NBD\n",
              "evDBB886lpWV5a+bO0tEeJje/LhGbo+hnHEjlGez6opkwhEAAKAnmAzDMM735Lq6OlksFh0/flwR\n",
              "EREyDEOjR4/Wzp07z+sK5P3336/8/PyeWf4NXn2/WukjBmtyUlyv3B4AAECoCPPl5JEjR2rKlCl6\n",
              "9tlnJUlbtmxRYmLiOb//0Ww2KzY29qx/wsPDe2b1eVgwJZF4BAAA8AOfn8J+4okntHjxYq1Zs0ax\n",
              "sbHatGmTP3YBAACgj/I5IMeNG6fdu3f7YwsAAAD6AZ+ewgYAAAAISAAAAPiEgAQAAIBPCEgAAAD4\n",
              "hIAEAACATwhIAAAA+ISABAAAgE8ISAAAAPiEgAQAAIBPTIZhGL11YwsWLFBqamqv3Jbb7da7776r\n",
              "6dOn9+rv4Ebg8JiHJh730MNjHnp4zHtXSkqK8vLyvvacXg3I3tTc3KwhQ4aoqalJsbGxgZ6DXsBj\n",
              "Hpp43EMPj3no4THve3gKGwAAAD4hIAEAAOATAhIAAAA+CdqANJvN+vd//3eZzeZAT0Ev4TEPTTzu\n",
              "oYfHPPTwmPc9QfsiGgAAAPhH0F6BBAAAgH8QkAAAAPAJAQkAAACfBGVA2u12XX311crMzNS0adN0\n",
              "8ODBQE+Cn7W3t+uGG25QZmamLr/8cs2fP18OhyPQs9BLNm3aJJPJpD//+c+BngI/czqdWrFihaxW\n",
              "qyZOnKhbb7010JPgZ2+88YamTJmiyZMn67LLLtPmzZsDPQmSIgI9wB/uuusuLVu2TIsXL9Yrr7yi\n",
              "xYsXa+/evYGeBT9btmyZrrnmGplMJq1fv15Lly5VcXFxoGfBz8rLy/Xkk08qKysr0FPQC37+85/L\n",
              "ZDLp0KFDMplMqq2tDfQk+JFhGLr11ltVXFysSZMmqby8XJdccokWLFigmJiYQM8LaUF3BbKurk77\n",
              "9u3r/r/SG2+8UVVVVVyNCnJRUVG69tprZTKZJElZWVkqLy8P7Cj4ncfj0dKlS7Vu3Tp+vEcIOHny\n",
              "pJ5++mn953/+Z/fH+qhRowK8Cv5mMpnU2NgoyfsrDYcPH87Hex8QdAFZVVWl0aNHKyLCe3HVZDIp\n",
              "OTlZlZWVAV6G3pSfn6/rr78+0DPgZw8//LCys7M1derUQE9BLygpKdGwYcO0Zs0aXXnllZo1a5YK\n",
              "CwsDPQt+ZDKZ9OKLL2rBggVKSUnRzJkztXnzZkVGRgZ6WsgLyqewEdrWrFkjh8PBF5Yg9/HHH2vL\n",
              "li3avn17oKegl7hcLlVUVGjChAn6zW9+o/3792v+/Pk6ePCgEhISAj0PfuByufTrX/9ar776qmbP\n",
              "nq29e/fqe9/7ng4cOKD4+PhAzwtpQXcFMikpSTU1NXK5XJK83z9RWVmp5OTkAC9Db/jd736nV199\n",
              "VW+++aYGDRoU6Dnwox07dqi8vFxWq1Wpqal65513tGzZMm3YsCHQ0+AnycnJCgsL0y233CJJuuKK\n",
              "K5SWlqYDBw4EeBn85YMPPtCRI0c0e/ZsSdK0adOUmJio/fv3B3gZgi4gR44cqSlTpujZZ5+VJG3Z\n",
              "skWJiYmyWCwBXgZ/e/jhh/XCCy/oH//4h+Li4gI9B362fPly1dTUqLy8XOXl5crKytLGjRu1fPny\n",
              "QE+Dn8THx8tms+mtt96SJJWVlamsrEzjx48P8DL4yxcXhT799FNJksPhUElJicaNGxfgZQjKX2X4\n",
              "+eefa/HixWpoaFBsbKw2bdqkiRMnBnoW/Ki6ulpJSUlKT0/vfmWe2WzWnj17ArwMvSUnJ0erV6/W\n",
              "DTfcEOgp8KPS0lLdcccdqq+vV1hYmP7t3/5NN954Y6BnwY9eeOEFrVmzRmFhYfJ4PPrFL36hRYsW\n",
              "BXpWyAvKgAQAAID/BN1T2AAAAPAvAhIAAAA+ISABAADgEwISAAAAPiEgAQAA4BMCEgAAAD4hIAEA\n",
              "AOATAhIAAAA+ISABAADgEwISAAAAPiEgAQAA4JP/D2L/3635ablHAAAAAElFTkSuQmCC\n",
              "\">\n",
              "      </div>\n",
              "      <script type=\"text/javascript\">\n",
              "        (() => {\n",
              "          const chartElement = document.getElementById(\"chart-3ae09849-dd21-4148-922b-c82435e261d2\");\n",
              "          async function getCodeForChartHandler(event) {\n",
              "            const chartCodeResponse =  await google.colab.kernel.invokeFunction(\n",
              "                'getCodeForChart', [\"chart-3ae09849-dd21-4148-922b-c82435e261d2\"], {});\n",
              "            const responseJson = chartCodeResponse.data['application/json'];\n",
              "            await google.colab.notebook.addCell(responseJson.code, 'code');\n",
              "          }\n",
              "          chartElement.onclick = getCodeForChartHandler;\n",
              "        })();\n",
              "      </script>\n",
              "      <style>\n",
              "        .colab-quickchart-chart-with-code  {\n",
              "            display: block;\n",
              "            float: left;\n",
              "            border: 1px solid transparent;\n",
              "        }\n",
              "\n",
              "        .colab-quickchart-chart-with-code:hover {\n",
              "            cursor: pointer;\n",
              "            border: 1px solid #aaa;\n",
              "        }\n",
              "      </style>"
            ]
          },
          "metadata": {}
        },
        {
          "output_type": "display_data",
          "data": {
            "text/plain": [
              "from matplotlib import pyplot as plt\n",
              "_df_6[0].plot(kind='line', figsize=(8, 4), title=0)\n",
              "plt.gca().spines[['top', 'right']].set_visible(False)"
            ],
            "text/html": [
              "      <div class=\"colab-quickchart-chart-with-code\" id=\"chart-956f88df-a61d-4cbb-81a1-263320e174a0\">\n",
              "        <img style=\"width: 180px;\" src=\"data:image/png;base64,iVBORw0KGgoAAAANSUhEUgAAApAAAAFbCAYAAABicr66AAAAOXRFWHRTb2Z0d2FyZQBNYXRwbG90\n",
              "bGliIHZlcnNpb24zLjcuMSwgaHR0cHM6Ly9tYXRwbG90bGliLm9yZy/bCgiHAAAACXBIWXMAAA9h\n",
              "AAAPYQGoP6dpAAAwC0lEQVR4nO3de3CUhaH38d8mIRsScgEC4ZJ7doOgooJgkDsb+lZPrRZbT71U\n",
              "KSKKAmHaOXPameM5xzPnaN+ZjmMARVFLab3UKtpz7GuPbULCTeSioIAXdnMPSQgJJCEJ2WR3n/eP\n",
              "JwaoNxay2WT3+5nxDx+ecX+ZZTdfn81mLYZhGAIAAAAuUkSwBwAAAGBoISABAADgFwISAAAAfiEg\n",
              "AQAA4BcCEgAAAH4hIAEAAOAXAhIAAAB+ISABAADglwENyMLCwoG8OQAAAATAgAZkVVXVQN4cAAAA\n",
              "AoCXsAEAAOAXAhIAAAB+ISABAADgFwISAAAAfiEgAQAA4BcCEgAAAH4hIAEAAOAXAhIAAAB+ISAB\n",
              "AADgFwISAAAAfiEgAQAABinDMOTx+oI940sISAAAgEHGMAz99WiDbtmwS799rzLYc74kKtgDAAAA\n",
              "YPL5DP31kxNaV+zUJ/VtkqT2Lo+Wzc5SRIQlyOvOISABAACCzAzHBj1V5NRnDWckSXHRkVo6O1P3\n",
              "z8keVPEoEZAAAABB4/MZ+t+jDVpXfC4cR1ijtPTGTN0/J0sj46KDvPCrEZAAAAADzOcz9M6Req0v\n",
              "dunzE2Y4xluj9NPZmVo2J0tJsYMzHL9AQAIAAAwQr8/QO4frta7YKWdjuyQpPiZKy2ZnadnsLCXG\n",
              "DgvywotDQAIAAASY12fozx/Xaf02l1y94ZgQE6Vlc7L009lZShw+NMLxCwQkAABAgHh9ht7+qE7r\n",
              "tzlVdrJDkhmOy+dma+nsTCXEDK1w/AIBCQAA0M88Xp/e/rhO64tdKm8ywzFx+DAtn5Ol+4ZwOH6B\n",
              "gAQAAOgnHq9P/32oThtKXKroDcek2GF6YG627p2VofghHo5fICABAAAuk8fr01sHj+vpEpcqmzsl\n",
              "SSNjh+mBedm6d1amRlhDK7lC66sBAAAYQD294bhhm0vVp8xwHBUX3XfFMS7EwvELoflVAQAABFCP\n",
              "16c3P6zVhhKXak6dlSSNjovWinnZuicvdMPxC6H91QEAAPSjbo9PWz+s1dMlLtWeNsMxeUS0HpyX\n",
              "o7vz0hUbHR5pFR5fJQAAwGXo9vj0xgdmOB5v+SIcrXpofrbuviFDw6Mjg7xwYBGQAAAAX8Pt8er1\n",
              "A7XaWFrWF45j4q16aH6O7pqZHnbh+AUCEgAA4O+4PV79cX+NniktU31rlyRpbLxVKxfk6M6Z6YoZ\n",
              "Fp7h+AUCEgAAoFdXj1d/PFCjZ0rK1NBmhmNKglUr5+fox4RjHwISAACEva4er/6wr1obt5fpRJtb\n",
              "kjQuIUYPL8zRHdenEY5/h4AEAABhq6vHq1f2VuvZ7WVqPGOG4/jEGD280KY7rk+VNYpw/CoEJAAA\n",
              "CDtdPV693BuOJ3vDcWLScK1ckKMfEY7fioAEAABh42y3Vy/vrdKz28vV1H4uHB9ZaNMPp6cqOioi\n",
              "yAuHBgISAACEvM5uj156v0qbdpSrqb1bkpQ6crhWLbRpyTTC0V8EJAAACFmd3R79fo8Zjs0dZjim\n",
              "jToXjsMiCcdLQUACAICQ0+H26Hd7qvT8znKd6g3HjNGxemShTT+4biLheJkISAAAEDLa3R5tea9S\n",
              "L+ws1+nOHklmOK5eZNdt105QFOHYLwhIAAAw5J3p6jHDcVeFWnrDMSs5TqsW2nQr4djvCEgAADBk\n",
              "tXX1aMtuMxxbz5rhmJ0cp9UOm26ZSjgGCgEJAACGnLauHm3eVakXd5WrrcsjScoeE6cCh13fmzpB\n",
              "kRGWIC8MbX4H5DvvvKN/+Zd/kc/nk8fj0T/90z/pvvvuC8Q2AACAC7Se7dFvdlXoN7srdKY3HG1j\n",
              "R2j1IhvhOID8CkjDMHTPPfeotLRUU6dOVWVlpa644gotWbJE8fHxgdoIAADCXGtnj17cXaHN54Wj\n",
              "fewIrXHYdfPV4wnHAeb3FUiLxaKWlhZJUltbm0aPHi2r1fql89xut9xu9wXHvF7vpa0EAABhqaWz\n",
              "Wy/uqtBvd1fqjNsMx9yUESpw5Oqmq8YpgnAMCr8C0mKx6LXXXtOSJUsUFxen06dP680331R0dPSX\n",
              "zn3iiSf02GOPXXAsLy/v8tYCAICwcLqjNxzfq1R7bzheMS5eaxx2ffdKwjHYLIZhGBd7ssfjUX5+\n",
              "vv7jP/5D8+bN0/79+/X9739fhw8fVnJy8gXnftUVyEcffVSFhYX9sxwAAIScUx3demFnuba8V6mO\n",
              "bvOVy8njE1TgsOk7UwjHwcKvK5CHDh1SXV2d5s2bJ0maMWOGUlNTdfDgQS1evPiCc61W65de2o6M\n",
              "jLzMuQAAIBQ1t7v1/M4K/W5PpTp7w3HK+AQV5Nu1eHIK4TjI+BWQaWlpqq+v16effqrJkyfL5XKp\n",
              "rKxMkyZNCtQ+AAAQwprb3dq0s1y/31PVF45XTkhQgcOuxVNSZLEQjoORXwGZkpKiTZs26Y477lBE\n",
              "RIR8Pp82bNig9PT0QO0DAAAhqKndrU07zHA822OG49UTE1XgsMsxeSzhOMj5/S7sO++8U3feeWcg\n",
              "tgAAgBDXeKZLm7aX66W9Verq8UmSpqYmam2+XQsnEY5DBZ9EAwAAAq7xTJee216ul88Lx2vSkrTW\n",
              "YdeCSWMIxyGGgAQAAAHT2NaljdvL9Mreark9Zjhel56kAodd83MJx6GKgAQAAP2uobVLz24v0yv7\n",
              "qtXdG47T0pO0Nj9Xc+3JhOMQR0ACAIB+U996Vs+WlunV/TV94Xh9xkgV5Ns1x0Y4hgoCEgAAXLa6\n",
              "lrPaWFqm1/bXqNtrhuPMzFEqyLfrxpzRhGOIISABAMAlO95yVhtLXfrj/tpz4Zg1Smvz7ZqVTTiG\n",
              "KgISAAD4rfZ0p54pLdPrB2rU4zU/FTkve5QKHLmalTM6yOsQaAQkAAC4aDWnOvVMqUtvfFDbF46z\n",
              "skerIN+uvGzCMVwQkAAA4FvVnOrU0yVmOHp8ZjjOto1WgSNXM7NGBXkdBhoBCQAAvlZ1c6c2lDj1\n",
              "5ofH+8Jxrj1ZBQ67rs8kHMMVAQkAAL6ksqlDG0pceuvgcXnPC8e1+XZNzyAcwx0BCQAA+lQ0dWjD\n",
              "Npf+dOhcOM7PHaM1DrumZ4wM8joMFgQkAABQ+cn2vnDs7UYtnGSG43XphCMuREACABDGXI3t2rDN\n",
              "qf/5qK4vHBddMVZrHHZdm5YU1G0YvAhIAADCkKvxjNYVu/T2x3UyesMxf7IZjlNTk4K6DYMfAQkA\n",
              "QBhxnjijddtc+vN54bh4SooKHHZdNTExuOMwZBCQAACEgc8bzmjdNqfeOVzfF47fmZKiNYQjLgEB\n",
              "CQBACPusoU3rip1653BD37HvXjlOqx02XTmBcMSlISABAAhBn9ab4fiXI+fC8earx2n1Irsmj08I\n",
              "4jKEAgISAIAQcrSuVeuKnXr36AlJksUi3XzVeK122HTFOMIR/YOABAAgBBw53qrCYqf+9sm5cPyH\n",
              "q8drjcOu3JT4IK9DqCEgAQAYwg7XmuFY9Om5cLxl6gStXmSTnXBEgBCQAAAMQR/XtqiwyKnizxol\n",
              "SREW6ZZrzHC0jSUcEVgEJAAAQ8ihmhYVFh1TyecnJZnheOu1E7VqkU05Y0YEeR3CBQEJAMAQcLD6\n",
              "tAqLnSo9Lxxv6w3HbMIRA4yABABgEPugygzHHcfMcIyMsPSFY1ZyXJDXIVwRkAAADEIfVJ3SU0VO\n",
              "7XQ2STLD8QfXTdSqhTZlEo4IMgISAIBBZH/lKRUWObXLZYZjVIRFS6ZN1CMLbcoYTThicCAgAQAY\n",
              "BPaWN6uw2Kn3ypolmeH4w+mpemShTWmjYoO8DrgQAQkAQBC9X96swiKn9pSfC8cfXZ+mhxfkEI4Y\n",
              "tAhIAAAGmGEY2tMbjnsrTkmShkWeC8fUkYQjBjcCEgCAAWIYhvaUNeupIqf2VZrhGB0ZoTtmpGrl\n",
              "ApsmJg0P8kLg4hCQAAAEmGEY2u1qVmHxMe2vPC3JDMd/nJGmlQtyNIFwxBBDQAIAECCGYWiXq0lP\n",
              "FTn1QVVvOEZF6M4ZaXpoQY7GJxKOGJoISAAA+plhGNrhbFJh0TF9WN0iyQzHu2ama+WCHKUkxAR3\n",
              "IHCZCEgAAPqJYRgqPXZShUVOHappkSRZoyJ01w3pemg+4YjQQUACAHCZDMNQ6ecn9VSxUx/1hmPM\n",
              "sAjdfUOGHpyXrbGEI0IMAQkAwCUyDEPbPmtUYbFTH9e2SjLD8Sd5GVoxL0dj4q1BXggEBgEJAICf\n",
              "DMNQ0aeNWlfs1OHjZjgOHxape2dl6IF52UoeQTgitBGQAABcJMMw9LdPTqiw2KmjdW2SpNjoSP1k\n",
              "VoZWzM3WaMIRYYKABADgW/h8hv76yQmtK3bqk3ozHOOiI3XvjZl6YG62RsVFB3khMLAISAAAvobP\n",
              "Z+jdow0qLHbqs4YzksxwXDo7U/fPIRwRvghIAAD+js9n6H+PNmjdeeE4whqlpTdm6v45WRpJOCLM\n",
              "EZAAAPTy+Qy9c6Re64td+vyEGY7x1ij9dHamls3JUlIs4QhIBCQAAPL6DL1zuF7rip1yNrZLkuJj\n",
              "orRsdpaWzc5SYuywIC8EBhcCEgAQtrw+Q3/+uE7rt7nk6g3HhJgoLZuTpZ/OzlLicMIR+CoEJAAg\n",
              "7Hh9ht7+qE7rtzlVdrJDkhmOy+dma+nsTCXEEI7ANyEgAQBhw+P16e2P67S+2KXyJjMcE4cP0/I5\n",
              "WbqPcAQuGgEJAAh5Hq9P/32oThtKXKroDcek2GF6YG627p2VoXjCEfALAQkACFker09vHTyup0tc\n",
              "qmzulCSNjB2mB+Zl695ZmRph5dsgcCl45AAAQk5Pbzhu2OZS9SkzHEfFRfddcYwjHIHLwiMIABAy\n",
              "erw+vflhrTaUuFRz6qwkaXRctFbMy9Y9eYQj0F94JAEAhrxuj09bP6zV0yUu1Z42wzF5RLQenJej\n",
              "u/PSFRvNtzugP/n9iHK73fr5z3+ud999VzExMbrmmmv00ksvBWIbAADfqNvj0xsfmOF4vOWLcLTq\n",
              "ofnZuvuGDA2PjgzyQiA0+R2Qv/jFL2SxWHTs2DFZLBY1NDQEYhcAAF/L7fHq9QO12lha1heOY+Kt\n",
              "emh+ju6amU44AgHmV0B2dHToxRdfVG1trSwWiyRp3LhxARkGAMDfc3u8+uOBWm0scamutUuSNDbe\n",
              "qpULcnTnzHTFDCMcgYHgV0CWlZVp1KhRevzxx1VUVKThw4fr3//93+VwOL50rtvtltvtvuCY1+u9\n",
              "vLUAgLDU1ePVHw/U6JmSMjW0meGYkmDVyvk5+jHhCAw4vwLS4/GoqqpKU6ZM0a9+9SsdPHhQixcv\n",
              "1tGjR5WSknLBuU888YQee+yxC47l5eVd/mIAQNjo6vHqD/uqtXF7mU60mRclxiXE6OGFObrj+jTC\n",
              "EQgSi2EYxsWe3NTUpJSUFHV3dysy0nzQzpgxQ0888YTy8/MvOPerrkA++uijKiws7IfZAIBQ1tXj\n",
              "1St7q/Xs9jI1njG/l4xPjNHDC2264/pUWaMIRyCY/LoCmZycLIfDoXfffVc333yzKioqVFFRocmT\n",
              "J3/pXKvVKqvVesGxL6ITAICv0tXj1cu94XiyNxwnJg3XygU5+hHhCAwafr8L+9lnn9X999+vf/7n\n",
              "f1ZERISee+45TZw4MRDbAABh4my3Vy/vrdKz28vV1H4uHB9ZaNMPp6cqOioiyAsBnM/vgMzOzlZJ\n",
              "SUkgtgAAwkxnt0cvvV+lTTvK1dTeLUlKHTlcqxbatGQa4QgMVvxqfgDAgOvs9uj3e8xwbO4wwzFt\n",
              "1LlwHBZJOAKDGQEJABgwHW6PfrenSs/vLNep3nDMGB2rRxba9IPrJhKOwBBBQAIAAq7d7dGW9yr1\n",
              "ws5yne7skWSG4+pFdt127QRFEY7AkEJAAgAC5kxXT98Vx5becMxKjtOqhTbdSjgCQxYBCQDod21d\n",
              "Pdqyu1Iv7KpQ61kzHLOT47TaYdMtUwlHYKgjIAEA/aatq0ebd1XqxV3lauvySJKyx8SpwGHX96ZO\n",
              "UGSEJcgLAfQHAhIAcNlaz/Zo8+4K/WZXRV842saO0OpFNsIRCEEEJADgkrV29ujF3RXavLtCZ3rD\n",
              "0T52hNY47Lr56vGEIxCiCEgAgN9aOrv14q4K/XZ3pc64zXDMTekNx6vGK4JwBEIaAQkAuGinO3rD\n",
              "8b1KtfeG4xXj4rXGYdd3rxxHOAJhgoAEAHyrUx3demFnuba8V6mObq8kMxzX5tv1nSmEIxBuCEgA\n",
              "wNdqbnfr+Z0V+t2eSnX2huOU8Qla47DrO1NSCEcgTBGQAIAvaW53a9POcv1+T1VfOF45IUEFDrsW\n",
              "T0mRxUI4AuGMgAQA9Glqd2vTDjMcz/aY4XjVxAStdeTKMXks4QhAEgEJAJDUeKZLm7aX66W9Verq\n",
              "8UmSpqYmqsBh16IrCEcAFyIgASCMNZ7p0nPby/XyeeF4TVqS1jrsWjBpDOEI4CsRkAAQhhrburRx\n",
              "e5le2Vstt8cMx2vTkrQ23675uYQjgG9GQAJAGGlo7dKz28v0yr5qdfeG47T0JBXk52qePZlwBHBR\n",
              "CEgACAP1rWe1sbRMf9hf0xeO0zNGam2+XXNshCMA/xCQABDC6lrMcHxtf426vWY4zsgcqQJHrmbb\n",
              "RhOOAC4JAQkAIeh4y1k9U+LS6wdq+8JxZtYorXXYNSuHcARweQhIAAghtac79UxpmV4/UKMeryFJ\n",
              "uiFrlNbm52pWzuggrwMQKghIAAgBNac69UypS298UNsXjrOyR6sg3668bMIRQP8iIAFgCKtu7tTT\n",
              "JS5t/bBWHp8ZjrNto1XgyNXMrFFBXgcgVBGQADAEVTd3akOJU1s/PC5vbzjOsSWrIN+uGZmEI4DA\n",
              "IiABYAipbOrQhhKX3jp4Lhzn2pO1Nt+u6RmEI4CBQUACwBBQ0dSh9duc+u9DdX3hOC93jAocdk3P\n",
              "GBnkdQDCDQEJAINY+cl2bdjm0p8OHVdvN2rBJDMcr0snHAEEBwEJAIOQq7FdG7Y59T8f1fWF46Ir\n",
              "xmqNw65r05KCug0ACEgAGERcjWe0rtiltz+uk9Ebjo7ecLyGcAQwSBCQADAIOE+c0bptLv35vHDM\n",
              "n5yiAoddV6cmBnccAPwdAhIAgujzhjNat82pdw7X94Xjd6akaI3DrqsmEo4ABicCEgCC4LOGNq0v\n",
              "dun/Ha7vO/bdK8dptcOmKycQjgAGNwISAAbQp/VtWlfs1F+ONPQdu+mqcVrjsGvy+IQgLgOAi0dA\n",
              "AsAAOFrXqnXFTr179IQkyWKRbr5qvFY7bLpiHOEIYGghIAEggI4cN8Pxr5+cC8d/uHq81jjsyk2J\n",
              "D/I6ALg0BCQABMDh2lYVFjtV9Om5cPze1Alas8gmO+EIYIgjIAGgH31c26LCIqeKP2uUJEVYpFuu\n",
              "maDVi2yyjSUcAYQGAhIA+sFHNS0qLHZq23nheOu1E7VqkU05Y0YEeR0A9C8CEgAuw8Hq0yosdqr0\n",
              "85OSzHC8rTccswlHACGKgASAS/BBlRmOO46Z4RgZYekLx6zkuCCvA4DAIiABwA8fVJ3SU0VO7XQ2\n",
              "STLDccl1E/XIQpsyCUcAYYKABICLsL/ylAqLnNrlMsMxKsKiJdPMcMwYTTgCCC8EJAB8g30Vp1RY\n",
              "fEy7Xc2SzHD84fRUPbLQprRRsUFeBwDBQUACwFd4v7xZhUVO7Sk/F44/uj5NDy/IIRwBhD0CEgDO\n",
              "s6esWU8VHdPeilOSpGGR58IxdSThCAASAQkAMgzDDMdip/b1hmN0ZITumJGqlQtsmpg0PMgLAWBw\n",
              "ISABhC3DMLTb1azC4mPaX3lakhmOP56Zpofm52gC4QgAX4mABBB2DMPQLleTnipy6oOq3nCMitCd\n",
              "M9L00IIcjU8kHAHgmxCQAMKGYRja4WxSYdExfVjdIskMx7tmpmvlghylJMQEdyAADBEEJICQZxiG\n",
              "th87qaeKnDpU0yJJskZF6O4bMvTQ/GyNJRwBwC8EJICQZRiGSj8/qaeKnfqoNxxjhpnh+OD8bI2N\n",
              "JxwB4FIQkABCjmEY2vZZowqLnfq4tlWSGY4/ycvQink5GhNvDfJCABjaCEgAIcMwDBV/aobj4eNm\n",
              "OA4fFql7Z2XogXnZSh5BOAJAf7jkgNy8ebOWLVumt956S7fddls/TgIA/xiGob99ckLrtjl15Hib\n",
              "JCk2OlI/mZWhFXOzNZpwBIB+dUkBWVlZqeeff155eXn9vQcALprPZ+ivn5zQumKnPqk3wzEuOlL3\n",
              "3pipB+Zma1RcdJAXAkBo8jsgfT6fli9frvXr1+vnP//5157ndrvldrsvOOb1ev1fCAB/xwzHBj1V\n",
              "5NRnDWckmeG4dHamls/J1kjCEQACyu+AfPLJJzV79mxNnz79G8974okn9Nhjj11wjCuWAC6Hz2fo\n",
              "f482aF3xuXAcYY3S0hszdf+cLMIRAAaIXwF55MgRbd26VTt27PjWc3/5y1/qZz/72QXHHn30Uf/W\n",
              "AYDMcHznSL3WF7v0+QkzHOOtUfrp7Ewtm5OlpFjCEQAGkl8BuXPnTlVWVsput0uSGhoatGLFCtXX\n",
              "12vlypUXnGu1WmW1XviD65GRkZc5F0A48foMvXO4XuuKnXI2tkuS4mOitGx2lpbNzlJi7LAgLwSA\n",
              "8ORXQK5cufKCUFywYIHWrl3Lu7AB9Cuvz9CfP67T+m0uuXrDMSEmSsvmZOmns7OUOJxwBIBg4vdA\n",
              "Ahg0vD5Db39Up/XbnCo72SHJDMflc7O1dHamEmIIRwAYDC4rIEtLS/tpBoBw5vH69PbHdVpf7FJ5\n",
              "kxmOicOHafmcLN1HOALAoMMVSABB4/H69N+H6rShxKWK3nBMih2mB+Zm695ZGYonHAFgUCIgAQw4\n",
              "j9entw4e19MlLlU2d0qSRsYO0wPzsnXvrEyNsPLUBACDGc/SAAZMT284btjmUvUpMxxHxUX3XXGM\n",
              "IxwBYEjg2RpAwPV4fXrzw1ptKHGp5tRZSdLouGitmJete/IIRwAYanjWBhAw3R6ftn5Yq6dLXKo9\n",
              "bYZj8ohoPTgvR3fnpSs2mqcgABiKePYG0O+6PT698YEZjsdbvghHqx6an627b8jQ8Gg+VAAAhjIC\n",
              "EkC/cXu8ev1ArTaWlvWF45h4qx6an6O7ZqYTjgAQIghIAJfN7fHqj/tr9ExpmepbuyRJY+OtWrkg\n",
              "R3fOTFfMMMIRAEIJAQngknX1ePXHAzV6pqRMDW1mOKYkWLVyfo5+TDgCQMgiIAH4ravHqz/sq9bG\n",
              "7WU60eaWJI1LiNHDC3N0x/VphCMAhDgCEsBF6+rx6pW91Xp2e5kaz5jhOD4xRg8vyNEdM9JkjSIc\n",
              "ASAcEJAAvlVXj1cv94bjyd5wnJAYo4cX2vSj61MJRwAIMwQkgK91tturl/dW6dnt5WpqN8NxYtJw\n",
              "PbLQph9OT1V0VESQFwIAgoGABPAlnd0evfR+lTbtKFdTe7ckKXWkGY63TyMcASDcEZAA+nR2e/T7\n",
              "PWY4NneY4Zg2arhWLbRpybRUDYskHAEABCQASR1uj363p0rP7yzXqd5wTB8Vq1WLbPrBdRMJRwDA\n",
              "BQhIIIy1uz3a8l6lXthZrtOdPZKkjNGxWrXQptsIRwDA1yAggTB0pqun74pjS284ZiXHadVCm269\n",
              "doKiCEcAwDcgIIEw0tbVoy27K/XCrgq1njXDMTs5TqsdNt0ylXAEAFwcAhIIA21dPdq8q1Iv7ipX\n",
              "W5dHkpQ9Jk5rFtl1yzUTFBlhCfJCAMBQQkACIaz1bI82767Qb3ZV9IWjbewIrV5k0/emEo4AgEtD\n",
              "QAIhqLWzRy/urtDm3RU60xuO9rEjtMZh181XjyccAQCXhYAEQkhLZ7de3FWh3+6u1Bm3GY65Kb3h\n",
              "eNV4RRCOAIB+QEACIeB0R284vlep9t5wnJQSr4J8u7575TjCEQDQrwhIYAg71dGtF3aWa8t7lero\n",
              "9kqSrhgXrwKHXf+HcAQABAgBCQxBze1uPb+zQr/bU6nO3nCcPD5BBQ67vjMlhXAEAAQUAQkMIc3t\n",
              "bm3aWa7f76nqC8crJ5jhuHhKiiwWwhEAEHgEJDAENLW7tWmHGY5ne8xwvGpiggocucqfPJZwBAAM\n",
              "KAISGMQaz3Rp0/ZyvbS3Sl09PknS1NREFTjsWnQF4QgACA4CEhiEGs906bnt5Xr5vHC8JjVRa/Nz\n",
              "tWDSGMIRABBUBCQwiDS2dWnj9jK9srdabo8ZjtemJakg364FuYQjAGBwICCBQaChtUvPbi/TK/uq\n",
              "1d0bjtPSk1SQn6t59mTCEQAwqBCQQBDVt57Vs6VlenV/TV84Ts8YqbX5ds2xEY4AgMGJgASCoK7l\n",
              "rDaWlum1/TXq9prhOCNzpAocuZptG004AgAGNQISGEDHW87qmRKXXj9Q2xeOM7NGaa3Drlk5hCMA\n",
              "YGggIIEBUHu6U8+Ulun1AzXq8RqSpBuyRmltfq5m5YwO8joAAPxDQAIBVHOqU8+UuvTGB7V94Tgr\n",
              "e7QK8u3KyyYcAQBDEwEJBEB1c6eeLnFp64e18vjMcJxtG60CR65mZo0K8joAAC4PAQn0o+rmTm0o\n",
              "cWrrh8fl7Q3HObZkFeTbNSOTcAQAhAYCEugHlU0d2lDi0lsHz4XjXHuy1ubbNT2DcAQAhBYCErgM\n",
              "FU0dWr/Nqf8+VNcXjvNzx2iNw67pGSODvA4AgMAgIIFLUH6yXRu2ufSnQ8fV241aMGmMChx2XZdO\n",
              "OAIAQhsBCfjB1diuDduc+p+P6vrCcdEVY7XGYde1aUlB3QYAwEAhIIGL4Go8o3XFLr39cZ2M3nDM\n",
              "n2yG49TUpKBuAwBgoBGQwDdwnjijddtc+vMF4ZiiAoddV6cmBnccAABBQkACX+HzhjNat82pdw7X\n",
              "94Xjd6akaI3DrqsmEo4AgPBGQALn+ayhTeuKnXrncEPfse9eOU6rHTZdOYFwBABAIiABSdKn9WY4\n",
              "/uXIuXC86apxWuOwa/L4hCAuAwBg8CEgEdaO1rVqXbFT7x49IUmyWKSbrxqv1Q6brhhHOAIA8FUI\n",
              "SISlI8dbVVjs1N8+OReO/3D1eK1x2JWbEh/kdQAADG4EJMLK4dpWFRYfU9GnjZLMcPze1Alas8gm\n",
              "O+EIAMBFISARFj6ubVFhkVPFn5nhGGGRbrlmglYvssk2lnAEAMAfBCRC2qGaFhUWHVPJ5yclmeF4\n",
              "67UTtWqRTTljRgR5HQAAQ5NfAdnV1aUf//jH+uSTTzR8+HCNHTtWGzdulM1mC9Q+4JJ8WH1ahUVO\n",
              "bT92Lhxv6w3HbMIRAIDL4vcVyBUrVuimm26SxWLRhg0btHz5cpWWlgZgGuC/D6pOq7DYqR294RgZ\n",
              "YekLx6zkuCCvAwAgNPgVkDExMbr55pv7/j0vL0+//vWvv/Jct9stt9t9wTGv13sJE4Fvd6DylAqL\n",
              "ndrpbJJkhuOS6ybqkYU2ZRKOAAD0q8v6GcjCwkLdeuutX/lnTzzxhB577LELjuXl5V3OzQFfsq/i\n",
              "lAqLj2m3q1mSGY63TzPDMWM04QgAQCBYDOOLT/r1z+OPP663335bxcXFio2N/dKff9UVyEcffVSF\n",
              "hYWXthQ4z97yZhUWO/VemRmOUREW/XB6qh5ZaFPaqC//fQQAAP3nkq5A/vrXv9abb76poqKir4xH\n",
              "SbJarbJarRcci4yMvJSbA/rsKWtWYfExvV9+SpIZjj+6Pk0PL8ghHAEAGCB+B+STTz6pV199VUVF\n",
              "RUpKSgrAJOBChmFoT3mzCouc2lthhuOwyHPhmDqScAQAYCD5FZC1tbX6+c9/ruzsbC1cuFCSeaVx\n",
              "7969ARmH8GYYht4rM8NxX6UZjtGREbpjRqpWLrBpYtLwIC8EACA8+RWQqampusQfmQQummEY2u1q\n",
              "1lNFx3Sg6rQkMxz/cUaaVi7I0QTCEQCAoOKTaDBoGIahnc4mFRY79cEX4RgVoTtnpOmhBTkan0g4\n",
              "AgAwGBCQCDrDMLT92EkVFjt1sLpFkhmOd81M18oFOUpJiAnuQAAAcAECEkFjGIZKj51UYZFTh2pa\n",
              "JEnWqAjdfUOGHpqfrbGEIwAAgxIBiQFnGIZKPm9UYZFTH9W2SpJihpnh+OD8bI2NJxwBABjMCEgM\n",
              "GMMwtO2zRhUWO/XxeeH4k7wMrZiXozHx1m/5LwAAgMGAgETAGYahok8bta7YqcPHzXAcPixS987K\n",
              "0APzspU8gnAEAGAoISARMIZh6K+fnNC6YqeO1rVJkmKjI/WTWRlaMTdbowlHAACGJAIS/c7nM8Ox\n",
              "sNipT+vNcIyLjtS9N2bqgbnZGhUXHeSFAADgchCQ6Dc+n6F3jzaosNipzxrOSDLDcensTN0/h3AE\n",
              "ACBUEJC4bD6fob8cadC6Yqc+P2GG4whrlJbemKn752RpJOEIAEBIISBxyXw+Q+8cqde6YqeOnWiX\n",
              "JMVbo/TT2ZlaNidLSbGEIwAAoYiAhN+8PkP/73C91hc75WzsDceYKC2bnaVls7OUGDssyAsBAEAg\n",
              "EZC4aF6foT9/XKf121xy9YZjQkyUls3J0k9nZylxOOEIAEA4ICDxrbw+Q29/VKd125wqP9khSUoc\n",
              "Pkz3z8nS0tmZSoghHAEACCcEJL6Wx+vT/3xUpw3bXCpvMsMxKXaYls/J0n03ZiqecAQAICwRkPgS\n",
              "j9enPx2q09MlLlWcF44PzM3WvbMyCEcAAMIcAYk+Hq9Pbx08rg0lLlU1d0qSRsYO0wPzsnXvrEyN\n",
              "sPLXBQAAEJCQ1OP16a0PzXCsPmWG46i4aK2Yl62f5GUojnAEAADnoQzCWI/Xpzc/rNWGEpdqTp2V\n",
              "JI3uDcd7CEcAAPA1KIQw1O3xaeuHtXq6xKXa02Y4Jo+I1oPzcnR3Xrpio/lrAQAAvh6lEEa6PT69\n",
              "/kGNnikp0/GWL8LRqofmZ+vuGzI0PDoyyAsBAMBQQECGAbfHq9cP1OqZEpfqWrskSWPirXpofo7u\n",
              "mplOOAIAAL8QkCHM7fHqj/tr9Expmep7w3FsvFUrF+TozpnpihlGOAIAAP8RkCGoq8er1/bXaGNp\n",
              "mRrazHAclxCjlQty9I8z0ghHAABwWQjIENLV49Uf9lVr4/YynWhzS5LGJ5rheMf1hCMAAOgfBGQI\n",
              "6Orx6pW91Xp2e5kaz5jhOCExRisX2nTH9amyRhGOAACg/xCQQ9jZbq9e3lul53aU62RvOE5MGq6H\n",
              "F+boh9MJRwAAEBgE5BD0RTg+u71cTe3nwvGRhTb9cHqqoqMigrwQAACEMgJyCOns9uil96u0aUe5\n",
              "mtq7JUmpI4dr1UKblkwjHAEAwMAgIIeADrdHv3+/Ss/vKFdzhxmOaaOGa/VCu34wbaKGRRKOAABg\n",
              "4BCQg1iH26Pf7anS8zvLdao3HDNGx+qRhTb94DrCEQAABAcBOQi1uz3a8l6lXthZrtOdPZKkzNGx\n",
              "WrXIrtuunaAowhEAAAQRATmInOnqMcNxV4VaesMxKzlOqxfZ9P1rCEcAADA4EJCDQFtXj7bsNsOx\n",
              "9awZjtnJcVrtsOmWqYQjAAAYXAjIIGrr6tHmXZV6cVe52ro8kqScMXFa47Dre1MnKDLCEuSFAAAA\n",
              "X0ZABkHr2R79ZleFfrO7Qmd6w9E2doTWOOz6h6vHE44AAGBQIyAHUGtnj17cXaHN54WjvTccbyYc\n",
              "AQDAEEFADoCWzm69uKtCv91dqTNuMxxzU0aowJGrm64apwjCEQAADCEEZACd7ugNx/cq1d4bjleM\n",
              "i9cah13fvZJwBAAAQxMBGQCnOrr1ws5ybXmvUh3dXknS5PEJKnDY9J0phCMAABjaCMh+1Nzu1vM7\n",
              "K/S7PZXq7A3HKeMTVJBv1+LJKYQjAAAICQRkP2hud2vTznL9fk9VXzheOSFBBQ67Fk9JkcVCOAIA\n",
              "gNBBQF6Gpna3Nu0ww/FsjxmOV09MVIHDLsfksYQjAAAISQTkJWg806VN28v10t4qdfX4JElTUxO1\n",
              "Nt+uhZMIRwAAENoISD80nunSc9vL9fJ54XhNWpLWOuxaMGkM4QgAAMICAXkRGtu6tHF7mV7ZWy23\n",
              "xwzHa9OStDbfrvm5hCMAAAgvBOQ3aGjt0rPby/TKvmp194bjtPQkFeTnap49mXAEAABhiYD8CvWt\n",
              "Z/VsaZle3V/TF47XZ4xUQb5dc2yEIwAACG8E5HnqWs5qY2mZXttfo26vGY4zMkdqbX6ubswZTTgC\n",
              "AACIgJQkHW85q42lLv1xf21fOM7MGqW1DrtmEY4AAAAXCOuArD3dqWdKy/T6gRr1eA1J0g1Zo7Q2\n",
              "P1ezckYHeR0AAMDgFJYBWXOqU8+UuvTGB7V94Tgre7QK8u3KyyYcAQAAvklYBWTNqU49XWKGo8dn\n",
              "huNs22gVOHI1M2tUkNcBAAAMDX4HpNPp1H333aempiYlJibqt7/9ra688spAbOs31c2d2lDi1Jsf\n",
              "Hu8Lxzm2ZBXk2zUjk3AEAADwh98B+eCDD2rFihVaunSp3njjDS1dulT79+8PxLbLVtnUoQ0lLr11\n",
              "8Li8veE4156stfl2Tc8gHAEAAC6FXwHZ2NioAwcO6K9//ask6fbbb9eqVavkcrlks9kuONftdsvt\n",
              "dl9wzOv1Xubci9zZ1qX/+7+f60+HzoXj/NwxWuOwa3rGyAHZAAAAEKoi/Dm5pqZG48ePV1SU2Z0W\n",
              "i0Xp6emqrq7+0rlPPPGEEhMTL/hn3759/bP6W0RFRugvR+rl9RlaMGmM3nr4Rm1ZNpN4BAAA6AcB\n",
              "exPNL3/5S/3sZz+74Nijjz4aqJu7wKi4aP3nbVcpe8wIXZuWNCC3CQAAEC78Csi0tDTV19fL4/Eo\n",
              "KipKhmGourpa6enpXzrXarXKarVecCwyMvLy1vphybTUAbstAACAcOLXS9hjx47VtGnT9NJLL0mS\n",
              "tm7dqtTU1C/9/CMAAABCl98vYT/33HNaunSpHn/8cSUkJGjz5s2B2AUAAIBByu+AnDRpkvbs2ROI\n",
              "LQAAABgC/HoJGwAAACAgAQAA4BcCEgAAAH4hIAEAAOAXAhIAAAB+ISABAADgFwISAAAAfiEgAQAA\n",
              "4BeLYRjGQN3YkiVLlJmZOSC35fV6tW/fPs2cOXNAP4MbwcN9Hp6438MP93n44T4fWBkZGSooKPjG\n",
              "cwY0IAdSW1ubEhMT1draqoSEhGDPwQDgPg9P3O/hh/s8/HCfDz68hA0AAAC/EJAAAADwCwEJAAAA\n",
              "v4RsQFqtVv3bv/2brFZrsKdggHCfhyfu9/DDfR5+uM8Hn5B9Ew0AAAACI2SvQAIAACAwCEgAAAD4\n",
              "hYAEAACAXwhIAAAA+CUkA9LpdOrGG29Ubm6uZsyYoaNHjwZ7EgKsq6tLt912m3Jzc3XNNddo8eLF\n",
              "crlcwZ6FAbJ582ZZLBb96U9/CvYUBJjb7daqVatkt9t19dVX65577gn2JATYO++8o2nTpunaa6/V\n",
              "VVddpS1btgR7EiRFBXtAIDz44INasWKFli5dqjfeeENLly7V/v37gz0LAbZixQrddNNNslgs2rBh\n",
              "g5YvX67S0tJgz0KAVVZW6vnnn1deXl6wp2AA/OIXv5DFYtGxY8dksVjU0NAQ7EkIIMMwdM8996i0\n",
              "tFRTp05VZWWlrrjiCi1ZskTx8fHBnhfWQu4KZGNjow4cOND3f6W33367ampquBoV4mJiYnTzzTfL\n",
              "YrFIkvLy8lRZWRncUQg4n8+n5cuXa/369fx+uDDQ0dGhF198Uf/1X//V91gfN25ckFch0CwWi1pa\n",
              "WiSZn4k9evRoHu+DQMgFZE1NjcaPH6+oKPPiqsViUXp6uqqrq4O8DAOpsLBQt956a7BnIMCefPJJ\n",
              "zZ49W9OnTw/2FAyAsrIyjRo1So8//riuv/56zZ07V8XFxcGehQCyWCx67bXXtGTJEmVkZGjOnDna\n",
              "smWLoqOjgz0t7IXkS9gIb48//rhcLhffWELckSNHtHXrVu3YsSPYUzBAPB6PqqqqNGXKFP3qV7/S\n",
              "wYMHtXjxYh09elQpKSnBnocA8Hg8+s///E+9+eabmjdvnvbv36/vf//7Onz4sJKTk4M9L6yF3BXI\n",
              "tLQ01dfXy+PxSDJ/fqK6ulrp6elBXoaB8Otf/1pvvvmm/vKXvyg2NjbYcxBAO3fuVGVlpex2uzIz\n",
              "M/X+++9rxYoV2rhxY7CnIUDS09MVERGhu+++W5J03XXXKSsrS4cPHw7yMgTKoUOHVFdXp3nz5kmS\n",
              "ZsyYodTUVB08eDDIyxByATl27FhNmzZNL730kiRp69atSk1Nlc1mC/IyBNqTTz6pV199VX/729+U\n",
              "lJQU7DkIsJUrV6q+vl6VlZWqrKxUXl6eNm3apJUrVwZ7GgIkOTlZDodD7777riSpoqJCFRUVmjx5\n",
              "cpCXIVC+uCj06aefSpJcLpfKyso0adKkIC9DSH4W9ueff66lS5equblZCQkJ2rx5s66++upgz0IA\n",
              "1dbWKi0tTdnZ2X3vzLNardq7d2+Ql2GgLFiwQGvXrtVtt90W7CkIoPLyct1///1qampSRESE/vVf\n",
              "/1W33357sGchgF599VU9/vjjioiIkM/n0y9/+UvdddddwZ4V9kIyIAEAABA4IfcSNgAAAAKLgAQA\n",
              "AIBfCEgAAAD4hYAEAACAXwhIAAAA+IWABAAAgF8ISAAAAPiFgAQAAIBfCEgAAAD4hYAEAACAX/4/\n",
              "aSHzbxRXzNAAAAAASUVORK5CYII=\n",
              "\">\n",
              "      </div>\n",
              "      <script type=\"text/javascript\">\n",
              "        (() => {\n",
              "          const chartElement = document.getElementById(\"chart-956f88df-a61d-4cbb-81a1-263320e174a0\");\n",
              "          async function getCodeForChartHandler(event) {\n",
              "            const chartCodeResponse =  await google.colab.kernel.invokeFunction(\n",
              "                'getCodeForChart', [\"chart-956f88df-a61d-4cbb-81a1-263320e174a0\"], {});\n",
              "            const responseJson = chartCodeResponse.data['application/json'];\n",
              "            await google.colab.notebook.addCell(responseJson.code, 'code');\n",
              "          }\n",
              "          chartElement.onclick = getCodeForChartHandler;\n",
              "        })();\n",
              "      </script>\n",
              "      <style>\n",
              "        .colab-quickchart-chart-with-code  {\n",
              "            display: block;\n",
              "            float: left;\n",
              "            border: 1px solid transparent;\n",
              "        }\n",
              "\n",
              "        .colab-quickchart-chart-with-code:hover {\n",
              "            cursor: pointer;\n",
              "            border: 1px solid #aaa;\n",
              "        }\n",
              "      </style>"
            ]
          },
          "metadata": {}
        }
      ]
    },
    {
      "cell_type": "markdown",
      "source": [
        "Notice how the one dimensional array was turned into a vertical column. Pandas dataframes frame (ahem) data around columns and column labels. There are row labels too, and these are refered to as indicies."
      ],
      "metadata": {
        "id": "ZCcmzU8TZmIU"
      }
    },
    {
      "cell_type": "code",
      "source": [
        "some_ones_df = pd.DataFrame(some_ones)\n",
        "some_ones_df"
      ],
      "metadata": {
        "id": "p8_JoDnIZFMD",
        "colab": {
          "base_uri": "https://localhost:8080/",
          "height": 159
        },
        "outputId": "eb84f86e-f1dd-427b-b14a-91038be12a85"
      },
      "execution_count": 45,
      "outputs": [
        {
          "output_type": "error",
          "ename": "NameError",
          "evalue": "name 'some_ones' is not defined",
          "traceback": [
            "\u001b[0;31m---------------------------------------------------------------------------\u001b[0m",
            "\u001b[0;31mNameError\u001b[0m                                 Traceback (most recent call last)",
            "\u001b[0;32m<ipython-input-45-9fd586df4eaa>\u001b[0m in \u001b[0;36m<cell line: 1>\u001b[0;34m()\u001b[0m\n\u001b[0;32m----> 1\u001b[0;31m \u001b[0msome_ones_df\u001b[0m \u001b[0;34m=\u001b[0m \u001b[0mpd\u001b[0m\u001b[0;34m.\u001b[0m\u001b[0mDataFrame\u001b[0m\u001b[0;34m(\u001b[0m\u001b[0msome_ones\u001b[0m\u001b[0;34m)\u001b[0m\u001b[0;34m\u001b[0m\u001b[0;34m\u001b[0m\u001b[0m\n\u001b[0m\u001b[1;32m      2\u001b[0m \u001b[0msome_ones_df\u001b[0m\u001b[0;34m\u001b[0m\u001b[0;34m\u001b[0m\u001b[0m\n",
            "\u001b[0;31mNameError\u001b[0m: name 'some_ones' is not defined"
          ]
        }
      ]
    },
    {
      "cell_type": "markdown",
      "source": [
        "Pandas dataframes also have lots of methods, many of them vectorized operations, like numpy. This is because pandas was built on top of numpy."
      ],
      "metadata": {
        "id": "FF1gLUtJky6q"
      }
    },
    {
      "cell_type": "code",
      "source": [
        "#finds the largest value in column 0 of x_df\n",
        "x_df.max()"
      ],
      "metadata": {
        "id": "myskG9v1l2Py",
        "colab": {
          "base_uri": "https://localhost:8080/",
          "height": 115
        },
        "outputId": "f1db6976-5414-411a-b6b5-715904d244ba"
      },
      "execution_count": 43,
      "outputs": [
        {
          "output_type": "execute_result",
          "data": {
            "text/plain": [
              "0    9\n",
              "dtype: int64"
            ],
            "text/html": [
              "<div>\n",
              "<style scoped>\n",
              "    .dataframe tbody tr th:only-of-type {\n",
              "        vertical-align: middle;\n",
              "    }\n",
              "\n",
              "    .dataframe tbody tr th {\n",
              "        vertical-align: top;\n",
              "    }\n",
              "\n",
              "    .dataframe thead th {\n",
              "        text-align: right;\n",
              "    }\n",
              "</style>\n",
              "<table border=\"1\" class=\"dataframe\">\n",
              "  <thead>\n",
              "    <tr style=\"text-align: right;\">\n",
              "      <th></th>\n",
              "      <th>0</th>\n",
              "    </tr>\n",
              "  </thead>\n",
              "  <tbody>\n",
              "    <tr>\n",
              "      <th>0</th>\n",
              "      <td>9</td>\n",
              "    </tr>\n",
              "  </tbody>\n",
              "</table>\n",
              "</div><br><label><b>dtype:</b> int64</label>"
            ]
          },
          "metadata": {},
          "execution_count": 43
        }
      ]
    },
    {
      "cell_type": "code",
      "source": [
        "#sums each row\n",
        "some_ones_df.sum(axis=0)"
      ],
      "metadata": {
        "id": "S1EXGe-PmltN",
        "colab": {
          "base_uri": "https://localhost:8080/",
          "height": 159
        },
        "outputId": "1ea5bb28-3d7a-4c86-9cd1-70053d1cf514"
      },
      "execution_count": 44,
      "outputs": [
        {
          "output_type": "error",
          "ename": "NameError",
          "evalue": "name 'some_ones_df' is not defined",
          "traceback": [
            "\u001b[0;31m---------------------------------------------------------------------------\u001b[0m",
            "\u001b[0;31mNameError\u001b[0m                                 Traceback (most recent call last)",
            "\u001b[0;32m<ipython-input-44-3d855b29fe2d>\u001b[0m in \u001b[0;36m<cell line: 2>\u001b[0;34m()\u001b[0m\n\u001b[1;32m      1\u001b[0m \u001b[0;31m#sums each row\u001b[0m\u001b[0;34m\u001b[0m\u001b[0;34m\u001b[0m\u001b[0m\n\u001b[0;32m----> 2\u001b[0;31m \u001b[0msome_ones_df\u001b[0m\u001b[0;34m.\u001b[0m\u001b[0msum\u001b[0m\u001b[0;34m(\u001b[0m\u001b[0maxis\u001b[0m\u001b[0;34m=\u001b[0m\u001b[0;36m0\u001b[0m\u001b[0;34m)\u001b[0m\u001b[0;34m\u001b[0m\u001b[0;34m\u001b[0m\u001b[0m\n\u001b[0m",
            "\u001b[0;31mNameError\u001b[0m: name 'some_ones_df' is not defined"
          ]
        }
      ]
    },
    {
      "cell_type": "markdown",
      "source": [
        "### Slicing Dataframes\n",
        "\n",
        "For the next part, we're going to need a more interesting example than some_ones_df.\n",
        "\n",
        "To get a more interesting dataframe, I'm going to pull one from my github using pd.read_csv. This is the most common way you'll get data in this course, but pandas offers more versitile options. You can view them [here](https://pandas.pydata.org/docs/reference/io.html)."
      ],
      "metadata": {
        "id": "zVJ78NjVbVQx"
      }
    },
    {
      "cell_type": "code",
      "source": [
        "#make a string of the webpage where my data lives\n",
        "url_basketball = 'https://raw.githubusercontent.com/thedarredondo/data-science-fundamentals/main/Data/basketball2324.csv'\n",
        "#feed that string into the pandas read csv function\n",
        "basketball = pd.read_csv(url_basketball)"
      ],
      "metadata": {
        "id": "5HhlGXKYbJBc"
      },
      "execution_count": 46,
      "outputs": []
    },
    {
      "cell_type": "code",
      "source": [
        "basketball"
      ],
      "metadata": {
        "id": "l-IuScDRc-o6",
        "colab": {
          "base_uri": "https://localhost:8080/",
          "height": 476
        },
        "outputId": "0f1ef51f-af14-414a-c36d-0db2d6313ea6"
      },
      "execution_count": 47,
      "outputs": [
        {
          "output_type": "execute_result",
          "data": {
            "text/plain": [
              "                       Player   Pos  Age   Tm   G  GS    MP   FG   FGA    FG%  \\\n",
              "0            Precious Achiuwa  PF-C   24  TOT  74  18  1624  235   469  0.501   \n",
              "1                 Bam Adebayo     C   26  MIA  71  71  2416  530  1017  0.521   \n",
              "2                Ochai Agbaji    SG   23  TOT  78  28  1641  178   433  0.411   \n",
              "3                Santi Aldama    PF   23  MEM  61  35  1618  247   568  0.435   \n",
              "4    Nickeil Alexander-Walker    SG   25  MIN  82  20  1921  236   538  0.439   \n",
              "..                        ...   ...  ...  ...  ..  ..   ...  ...   ...    ...   \n",
              "567            Thaddeus Young    PF   35  TOT  33   6   439   65   108  0.602   \n",
              "568                Trae Young    PG   25  ATL  54  54  1942  433  1008  0.430   \n",
              "569            Omer Yurtseven     C   25  UTA  48  12   545   99   184  0.538   \n",
              "570               Cody Zeller     C   31  NOP  43   0   320   26    62  0.419   \n",
              "571               Ivica Zubac     C   26  LAC  68  68  1794  337   519  0.649   \n",
              "\n",
              "     ...  ORB  DRB  TRB  AST  STL  BLK  TOV   PF   PTS  Player-additional  \n",
              "0    ...  191  296  487   97   46   68   83  143   565          achiupr01  \n",
              "1    ...  159  578  737  278   81   66  162  159  1367          adebaba01  \n",
              "2    ...   74  142  216   83   47   44   64  117   455          agbajoc01  \n",
              "3    ...   72  280  352  138   43   54   69   89   654          aldamsa01  \n",
              "4    ...   35  132  167  204   64   42   76  143   655          alexani01  \n",
              "..   ...  ...  ...  ...  ...  ...  ...  ...  ...   ...                ...  \n",
              "567  ...   46   57  103   57   23    5   15   49   137          youngth01  \n",
              "568  ...   23  126  149  583   72   11  235  109  1389          youngtr01  \n",
              "569  ...   72  136  208   29    8   18   37   52   222          yurtsom01  \n",
              "570  ...   48   64  112   39    9    5   16   45    76          zelleco01  \n",
              "571  ...  196  430  626   93   22   83   79  180   794          zubaciv01  \n",
              "\n",
              "[572 rows x 30 columns]"
            ],
            "text/html": [
              "\n",
              "  <div id=\"df-6c3a3ce1-5830-4ded-87f6-614457a36e6b\" class=\"colab-df-container\">\n",
              "    <div>\n",
              "<style scoped>\n",
              "    .dataframe tbody tr th:only-of-type {\n",
              "        vertical-align: middle;\n",
              "    }\n",
              "\n",
              "    .dataframe tbody tr th {\n",
              "        vertical-align: top;\n",
              "    }\n",
              "\n",
              "    .dataframe thead th {\n",
              "        text-align: right;\n",
              "    }\n",
              "</style>\n",
              "<table border=\"1\" class=\"dataframe\">\n",
              "  <thead>\n",
              "    <tr style=\"text-align: right;\">\n",
              "      <th></th>\n",
              "      <th>Player</th>\n",
              "      <th>Pos</th>\n",
              "      <th>Age</th>\n",
              "      <th>Tm</th>\n",
              "      <th>G</th>\n",
              "      <th>GS</th>\n",
              "      <th>MP</th>\n",
              "      <th>FG</th>\n",
              "      <th>FGA</th>\n",
              "      <th>FG%</th>\n",
              "      <th>...</th>\n",
              "      <th>ORB</th>\n",
              "      <th>DRB</th>\n",
              "      <th>TRB</th>\n",
              "      <th>AST</th>\n",
              "      <th>STL</th>\n",
              "      <th>BLK</th>\n",
              "      <th>TOV</th>\n",
              "      <th>PF</th>\n",
              "      <th>PTS</th>\n",
              "      <th>Player-additional</th>\n",
              "    </tr>\n",
              "  </thead>\n",
              "  <tbody>\n",
              "    <tr>\n",
              "      <th>0</th>\n",
              "      <td>Precious Achiuwa</td>\n",
              "      <td>PF-C</td>\n",
              "      <td>24</td>\n",
              "      <td>TOT</td>\n",
              "      <td>74</td>\n",
              "      <td>18</td>\n",
              "      <td>1624</td>\n",
              "      <td>235</td>\n",
              "      <td>469</td>\n",
              "      <td>0.501</td>\n",
              "      <td>...</td>\n",
              "      <td>191</td>\n",
              "      <td>296</td>\n",
              "      <td>487</td>\n",
              "      <td>97</td>\n",
              "      <td>46</td>\n",
              "      <td>68</td>\n",
              "      <td>83</td>\n",
              "      <td>143</td>\n",
              "      <td>565</td>\n",
              "      <td>achiupr01</td>\n",
              "    </tr>\n",
              "    <tr>\n",
              "      <th>1</th>\n",
              "      <td>Bam Adebayo</td>\n",
              "      <td>C</td>\n",
              "      <td>26</td>\n",
              "      <td>MIA</td>\n",
              "      <td>71</td>\n",
              "      <td>71</td>\n",
              "      <td>2416</td>\n",
              "      <td>530</td>\n",
              "      <td>1017</td>\n",
              "      <td>0.521</td>\n",
              "      <td>...</td>\n",
              "      <td>159</td>\n",
              "      <td>578</td>\n",
              "      <td>737</td>\n",
              "      <td>278</td>\n",
              "      <td>81</td>\n",
              "      <td>66</td>\n",
              "      <td>162</td>\n",
              "      <td>159</td>\n",
              "      <td>1367</td>\n",
              "      <td>adebaba01</td>\n",
              "    </tr>\n",
              "    <tr>\n",
              "      <th>2</th>\n",
              "      <td>Ochai Agbaji</td>\n",
              "      <td>SG</td>\n",
              "      <td>23</td>\n",
              "      <td>TOT</td>\n",
              "      <td>78</td>\n",
              "      <td>28</td>\n",
              "      <td>1641</td>\n",
              "      <td>178</td>\n",
              "      <td>433</td>\n",
              "      <td>0.411</td>\n",
              "      <td>...</td>\n",
              "      <td>74</td>\n",
              "      <td>142</td>\n",
              "      <td>216</td>\n",
              "      <td>83</td>\n",
              "      <td>47</td>\n",
              "      <td>44</td>\n",
              "      <td>64</td>\n",
              "      <td>117</td>\n",
              "      <td>455</td>\n",
              "      <td>agbajoc01</td>\n",
              "    </tr>\n",
              "    <tr>\n",
              "      <th>3</th>\n",
              "      <td>Santi Aldama</td>\n",
              "      <td>PF</td>\n",
              "      <td>23</td>\n",
              "      <td>MEM</td>\n",
              "      <td>61</td>\n",
              "      <td>35</td>\n",
              "      <td>1618</td>\n",
              "      <td>247</td>\n",
              "      <td>568</td>\n",
              "      <td>0.435</td>\n",
              "      <td>...</td>\n",
              "      <td>72</td>\n",
              "      <td>280</td>\n",
              "      <td>352</td>\n",
              "      <td>138</td>\n",
              "      <td>43</td>\n",
              "      <td>54</td>\n",
              "      <td>69</td>\n",
              "      <td>89</td>\n",
              "      <td>654</td>\n",
              "      <td>aldamsa01</td>\n",
              "    </tr>\n",
              "    <tr>\n",
              "      <th>4</th>\n",
              "      <td>Nickeil Alexander-Walker</td>\n",
              "      <td>SG</td>\n",
              "      <td>25</td>\n",
              "      <td>MIN</td>\n",
              "      <td>82</td>\n",
              "      <td>20</td>\n",
              "      <td>1921</td>\n",
              "      <td>236</td>\n",
              "      <td>538</td>\n",
              "      <td>0.439</td>\n",
              "      <td>...</td>\n",
              "      <td>35</td>\n",
              "      <td>132</td>\n",
              "      <td>167</td>\n",
              "      <td>204</td>\n",
              "      <td>64</td>\n",
              "      <td>42</td>\n",
              "      <td>76</td>\n",
              "      <td>143</td>\n",
              "      <td>655</td>\n",
              "      <td>alexani01</td>\n",
              "    </tr>\n",
              "    <tr>\n",
              "      <th>...</th>\n",
              "      <td>...</td>\n",
              "      <td>...</td>\n",
              "      <td>...</td>\n",
              "      <td>...</td>\n",
              "      <td>...</td>\n",
              "      <td>...</td>\n",
              "      <td>...</td>\n",
              "      <td>...</td>\n",
              "      <td>...</td>\n",
              "      <td>...</td>\n",
              "      <td>...</td>\n",
              "      <td>...</td>\n",
              "      <td>...</td>\n",
              "      <td>...</td>\n",
              "      <td>...</td>\n",
              "      <td>...</td>\n",
              "      <td>...</td>\n",
              "      <td>...</td>\n",
              "      <td>...</td>\n",
              "      <td>...</td>\n",
              "      <td>...</td>\n",
              "    </tr>\n",
              "    <tr>\n",
              "      <th>567</th>\n",
              "      <td>Thaddeus Young</td>\n",
              "      <td>PF</td>\n",
              "      <td>35</td>\n",
              "      <td>TOT</td>\n",
              "      <td>33</td>\n",
              "      <td>6</td>\n",
              "      <td>439</td>\n",
              "      <td>65</td>\n",
              "      <td>108</td>\n",
              "      <td>0.602</td>\n",
              "      <td>...</td>\n",
              "      <td>46</td>\n",
              "      <td>57</td>\n",
              "      <td>103</td>\n",
              "      <td>57</td>\n",
              "      <td>23</td>\n",
              "      <td>5</td>\n",
              "      <td>15</td>\n",
              "      <td>49</td>\n",
              "      <td>137</td>\n",
              "      <td>youngth01</td>\n",
              "    </tr>\n",
              "    <tr>\n",
              "      <th>568</th>\n",
              "      <td>Trae Young</td>\n",
              "      <td>PG</td>\n",
              "      <td>25</td>\n",
              "      <td>ATL</td>\n",
              "      <td>54</td>\n",
              "      <td>54</td>\n",
              "      <td>1942</td>\n",
              "      <td>433</td>\n",
              "      <td>1008</td>\n",
              "      <td>0.430</td>\n",
              "      <td>...</td>\n",
              "      <td>23</td>\n",
              "      <td>126</td>\n",
              "      <td>149</td>\n",
              "      <td>583</td>\n",
              "      <td>72</td>\n",
              "      <td>11</td>\n",
              "      <td>235</td>\n",
              "      <td>109</td>\n",
              "      <td>1389</td>\n",
              "      <td>youngtr01</td>\n",
              "    </tr>\n",
              "    <tr>\n",
              "      <th>569</th>\n",
              "      <td>Omer Yurtseven</td>\n",
              "      <td>C</td>\n",
              "      <td>25</td>\n",
              "      <td>UTA</td>\n",
              "      <td>48</td>\n",
              "      <td>12</td>\n",
              "      <td>545</td>\n",
              "      <td>99</td>\n",
              "      <td>184</td>\n",
              "      <td>0.538</td>\n",
              "      <td>...</td>\n",
              "      <td>72</td>\n",
              "      <td>136</td>\n",
              "      <td>208</td>\n",
              "      <td>29</td>\n",
              "      <td>8</td>\n",
              "      <td>18</td>\n",
              "      <td>37</td>\n",
              "      <td>52</td>\n",
              "      <td>222</td>\n",
              "      <td>yurtsom01</td>\n",
              "    </tr>\n",
              "    <tr>\n",
              "      <th>570</th>\n",
              "      <td>Cody Zeller</td>\n",
              "      <td>C</td>\n",
              "      <td>31</td>\n",
              "      <td>NOP</td>\n",
              "      <td>43</td>\n",
              "      <td>0</td>\n",
              "      <td>320</td>\n",
              "      <td>26</td>\n",
              "      <td>62</td>\n",
              "      <td>0.419</td>\n",
              "      <td>...</td>\n",
              "      <td>48</td>\n",
              "      <td>64</td>\n",
              "      <td>112</td>\n",
              "      <td>39</td>\n",
              "      <td>9</td>\n",
              "      <td>5</td>\n",
              "      <td>16</td>\n",
              "      <td>45</td>\n",
              "      <td>76</td>\n",
              "      <td>zelleco01</td>\n",
              "    </tr>\n",
              "    <tr>\n",
              "      <th>571</th>\n",
              "      <td>Ivica Zubac</td>\n",
              "      <td>C</td>\n",
              "      <td>26</td>\n",
              "      <td>LAC</td>\n",
              "      <td>68</td>\n",
              "      <td>68</td>\n",
              "      <td>1794</td>\n",
              "      <td>337</td>\n",
              "      <td>519</td>\n",
              "      <td>0.649</td>\n",
              "      <td>...</td>\n",
              "      <td>196</td>\n",
              "      <td>430</td>\n",
              "      <td>626</td>\n",
              "      <td>93</td>\n",
              "      <td>22</td>\n",
              "      <td>83</td>\n",
              "      <td>79</td>\n",
              "      <td>180</td>\n",
              "      <td>794</td>\n",
              "      <td>zubaciv01</td>\n",
              "    </tr>\n",
              "  </tbody>\n",
              "</table>\n",
              "<p>572 rows × 30 columns</p>\n",
              "</div>\n",
              "    <div class=\"colab-df-buttons\">\n",
              "\n",
              "  <div class=\"colab-df-container\">\n",
              "    <button class=\"colab-df-convert\" onclick=\"convertToInteractive('df-6c3a3ce1-5830-4ded-87f6-614457a36e6b')\"\n",
              "            title=\"Convert this dataframe to an interactive table.\"\n",
              "            style=\"display:none;\">\n",
              "\n",
              "  <svg xmlns=\"http://www.w3.org/2000/svg\" height=\"24px\" viewBox=\"0 -960 960 960\">\n",
              "    <path d=\"M120-120v-720h720v720H120Zm60-500h600v-160H180v160Zm220 220h160v-160H400v160Zm0 220h160v-160H400v160ZM180-400h160v-160H180v160Zm440 0h160v-160H620v160ZM180-180h160v-160H180v160Zm440 0h160v-160H620v160Z\"/>\n",
              "  </svg>\n",
              "    </button>\n",
              "\n",
              "  <style>\n",
              "    .colab-df-container {\n",
              "      display:flex;\n",
              "      gap: 12px;\n",
              "    }\n",
              "\n",
              "    .colab-df-convert {\n",
              "      background-color: #E8F0FE;\n",
              "      border: none;\n",
              "      border-radius: 50%;\n",
              "      cursor: pointer;\n",
              "      display: none;\n",
              "      fill: #1967D2;\n",
              "      height: 32px;\n",
              "      padding: 0 0 0 0;\n",
              "      width: 32px;\n",
              "    }\n",
              "\n",
              "    .colab-df-convert:hover {\n",
              "      background-color: #E2EBFA;\n",
              "      box-shadow: 0px 1px 2px rgba(60, 64, 67, 0.3), 0px 1px 3px 1px rgba(60, 64, 67, 0.15);\n",
              "      fill: #174EA6;\n",
              "    }\n",
              "\n",
              "    .colab-df-buttons div {\n",
              "      margin-bottom: 4px;\n",
              "    }\n",
              "\n",
              "    [theme=dark] .colab-df-convert {\n",
              "      background-color: #3B4455;\n",
              "      fill: #D2E3FC;\n",
              "    }\n",
              "\n",
              "    [theme=dark] .colab-df-convert:hover {\n",
              "      background-color: #434B5C;\n",
              "      box-shadow: 0px 1px 3px 1px rgba(0, 0, 0, 0.15);\n",
              "      filter: drop-shadow(0px 1px 2px rgba(0, 0, 0, 0.3));\n",
              "      fill: #FFFFFF;\n",
              "    }\n",
              "  </style>\n",
              "\n",
              "    <script>\n",
              "      const buttonEl =\n",
              "        document.querySelector('#df-6c3a3ce1-5830-4ded-87f6-614457a36e6b button.colab-df-convert');\n",
              "      buttonEl.style.display =\n",
              "        google.colab.kernel.accessAllowed ? 'block' : 'none';\n",
              "\n",
              "      async function convertToInteractive(key) {\n",
              "        const element = document.querySelector('#df-6c3a3ce1-5830-4ded-87f6-614457a36e6b');\n",
              "        const dataTable =\n",
              "          await google.colab.kernel.invokeFunction('convertToInteractive',\n",
              "                                                    [key], {});\n",
              "        if (!dataTable) return;\n",
              "\n",
              "        const docLinkHtml = 'Like what you see? Visit the ' +\n",
              "          '<a target=\"_blank\" href=https://colab.research.google.com/notebooks/data_table.ipynb>data table notebook</a>'\n",
              "          + ' to learn more about interactive tables.';\n",
              "        element.innerHTML = '';\n",
              "        dataTable['output_type'] = 'display_data';\n",
              "        await google.colab.output.renderOutput(dataTable, element);\n",
              "        const docLink = document.createElement('div');\n",
              "        docLink.innerHTML = docLinkHtml;\n",
              "        element.appendChild(docLink);\n",
              "      }\n",
              "    </script>\n",
              "  </div>\n",
              "\n",
              "\n",
              "<div id=\"df-d4b06381-2b6a-43a4-959c-abec37095b71\">\n",
              "  <button class=\"colab-df-quickchart\" onclick=\"quickchart('df-d4b06381-2b6a-43a4-959c-abec37095b71')\"\n",
              "            title=\"Suggest charts\"\n",
              "            style=\"display:none;\">\n",
              "\n",
              "<svg xmlns=\"http://www.w3.org/2000/svg\" height=\"24px\"viewBox=\"0 0 24 24\"\n",
              "     width=\"24px\">\n",
              "    <g>\n",
              "        <path d=\"M19 3H5c-1.1 0-2 .9-2 2v14c0 1.1.9 2 2 2h14c1.1 0 2-.9 2-2V5c0-1.1-.9-2-2-2zM9 17H7v-7h2v7zm4 0h-2V7h2v10zm4 0h-2v-4h2v4z\"/>\n",
              "    </g>\n",
              "</svg>\n",
              "  </button>\n",
              "\n",
              "<style>\n",
              "  .colab-df-quickchart {\n",
              "      --bg-color: #E8F0FE;\n",
              "      --fill-color: #1967D2;\n",
              "      --hover-bg-color: #E2EBFA;\n",
              "      --hover-fill-color: #174EA6;\n",
              "      --disabled-fill-color: #AAA;\n",
              "      --disabled-bg-color: #DDD;\n",
              "  }\n",
              "\n",
              "  [theme=dark] .colab-df-quickchart {\n",
              "      --bg-color: #3B4455;\n",
              "      --fill-color: #D2E3FC;\n",
              "      --hover-bg-color: #434B5C;\n",
              "      --hover-fill-color: #FFFFFF;\n",
              "      --disabled-bg-color: #3B4455;\n",
              "      --disabled-fill-color: #666;\n",
              "  }\n",
              "\n",
              "  .colab-df-quickchart {\n",
              "    background-color: var(--bg-color);\n",
              "    border: none;\n",
              "    border-radius: 50%;\n",
              "    cursor: pointer;\n",
              "    display: none;\n",
              "    fill: var(--fill-color);\n",
              "    height: 32px;\n",
              "    padding: 0;\n",
              "    width: 32px;\n",
              "  }\n",
              "\n",
              "  .colab-df-quickchart:hover {\n",
              "    background-color: var(--hover-bg-color);\n",
              "    box-shadow: 0 1px 2px rgba(60, 64, 67, 0.3), 0 1px 3px 1px rgba(60, 64, 67, 0.15);\n",
              "    fill: var(--button-hover-fill-color);\n",
              "  }\n",
              "\n",
              "  .colab-df-quickchart-complete:disabled,\n",
              "  .colab-df-quickchart-complete:disabled:hover {\n",
              "    background-color: var(--disabled-bg-color);\n",
              "    fill: var(--disabled-fill-color);\n",
              "    box-shadow: none;\n",
              "  }\n",
              "\n",
              "  .colab-df-spinner {\n",
              "    border: 2px solid var(--fill-color);\n",
              "    border-color: transparent;\n",
              "    border-bottom-color: var(--fill-color);\n",
              "    animation:\n",
              "      spin 1s steps(1) infinite;\n",
              "  }\n",
              "\n",
              "  @keyframes spin {\n",
              "    0% {\n",
              "      border-color: transparent;\n",
              "      border-bottom-color: var(--fill-color);\n",
              "      border-left-color: var(--fill-color);\n",
              "    }\n",
              "    20% {\n",
              "      border-color: transparent;\n",
              "      border-left-color: var(--fill-color);\n",
              "      border-top-color: var(--fill-color);\n",
              "    }\n",
              "    30% {\n",
              "      border-color: transparent;\n",
              "      border-left-color: var(--fill-color);\n",
              "      border-top-color: var(--fill-color);\n",
              "      border-right-color: var(--fill-color);\n",
              "    }\n",
              "    40% {\n",
              "      border-color: transparent;\n",
              "      border-right-color: var(--fill-color);\n",
              "      border-top-color: var(--fill-color);\n",
              "    }\n",
              "    60% {\n",
              "      border-color: transparent;\n",
              "      border-right-color: var(--fill-color);\n",
              "    }\n",
              "    80% {\n",
              "      border-color: transparent;\n",
              "      border-right-color: var(--fill-color);\n",
              "      border-bottom-color: var(--fill-color);\n",
              "    }\n",
              "    90% {\n",
              "      border-color: transparent;\n",
              "      border-bottom-color: var(--fill-color);\n",
              "    }\n",
              "  }\n",
              "</style>\n",
              "\n",
              "  <script>\n",
              "    async function quickchart(key) {\n",
              "      const quickchartButtonEl =\n",
              "        document.querySelector('#' + key + ' button');\n",
              "      quickchartButtonEl.disabled = true;  // To prevent multiple clicks.\n",
              "      quickchartButtonEl.classList.add('colab-df-spinner');\n",
              "      try {\n",
              "        const charts = await google.colab.kernel.invokeFunction(\n",
              "            'suggestCharts', [key], {});\n",
              "      } catch (error) {\n",
              "        console.error('Error during call to suggestCharts:', error);\n",
              "      }\n",
              "      quickchartButtonEl.classList.remove('colab-df-spinner');\n",
              "      quickchartButtonEl.classList.add('colab-df-quickchart-complete');\n",
              "    }\n",
              "    (() => {\n",
              "      let quickchartButtonEl =\n",
              "        document.querySelector('#df-d4b06381-2b6a-43a4-959c-abec37095b71 button');\n",
              "      quickchartButtonEl.style.display =\n",
              "        google.colab.kernel.accessAllowed ? 'block' : 'none';\n",
              "    })();\n",
              "  </script>\n",
              "</div>\n",
              "\n",
              "  <div id=\"id_c318b33b-623b-4075-b547-255a68d33329\">\n",
              "    <style>\n",
              "      .colab-df-generate {\n",
              "        background-color: #E8F0FE;\n",
              "        border: none;\n",
              "        border-radius: 50%;\n",
              "        cursor: pointer;\n",
              "        display: none;\n",
              "        fill: #1967D2;\n",
              "        height: 32px;\n",
              "        padding: 0 0 0 0;\n",
              "        width: 32px;\n",
              "      }\n",
              "\n",
              "      .colab-df-generate:hover {\n",
              "        background-color: #E2EBFA;\n",
              "        box-shadow: 0px 1px 2px rgba(60, 64, 67, 0.3), 0px 1px 3px 1px rgba(60, 64, 67, 0.15);\n",
              "        fill: #174EA6;\n",
              "      }\n",
              "\n",
              "      [theme=dark] .colab-df-generate {\n",
              "        background-color: #3B4455;\n",
              "        fill: #D2E3FC;\n",
              "      }\n",
              "\n",
              "      [theme=dark] .colab-df-generate:hover {\n",
              "        background-color: #434B5C;\n",
              "        box-shadow: 0px 1px 3px 1px rgba(0, 0, 0, 0.15);\n",
              "        filter: drop-shadow(0px 1px 2px rgba(0, 0, 0, 0.3));\n",
              "        fill: #FFFFFF;\n",
              "      }\n",
              "    </style>\n",
              "    <button class=\"colab-df-generate\" onclick=\"generateWithVariable('basketball')\"\n",
              "            title=\"Generate code using this dataframe.\"\n",
              "            style=\"display:none;\">\n",
              "\n",
              "  <svg xmlns=\"http://www.w3.org/2000/svg\" height=\"24px\"viewBox=\"0 0 24 24\"\n",
              "       width=\"24px\">\n",
              "    <path d=\"M7,19H8.4L18.45,9,17,7.55,7,17.6ZM5,21V16.75L18.45,3.32a2,2,0,0,1,2.83,0l1.4,1.43a1.91,1.91,0,0,1,.58,1.4,1.91,1.91,0,0,1-.58,1.4L9.25,21ZM18.45,9,17,7.55Zm-12,3A5.31,5.31,0,0,0,4.9,8.1,5.31,5.31,0,0,0,1,6.5,5.31,5.31,0,0,0,4.9,4.9,5.31,5.31,0,0,0,6.5,1,5.31,5.31,0,0,0,8.1,4.9,5.31,5.31,0,0,0,12,6.5,5.46,5.46,0,0,0,6.5,12Z\"/>\n",
              "  </svg>\n",
              "    </button>\n",
              "    <script>\n",
              "      (() => {\n",
              "      const buttonEl =\n",
              "        document.querySelector('#id_c318b33b-623b-4075-b547-255a68d33329 button.colab-df-generate');\n",
              "      buttonEl.style.display =\n",
              "        google.colab.kernel.accessAllowed ? 'block' : 'none';\n",
              "\n",
              "      buttonEl.onclick = () => {\n",
              "        google.colab.notebook.generateWithVariable('basketball');\n",
              "      }\n",
              "      })();\n",
              "    </script>\n",
              "  </div>\n",
              "\n",
              "    </div>\n",
              "  </div>\n"
            ],
            "application/vnd.google.colaboratory.intrinsic+json": {
              "type": "dataframe",
              "variable_name": "basketball"
            }
          },
          "metadata": {},
          "execution_count": 47
        }
      ]
    },
    {
      "cell_type": "markdown",
      "source": [
        "Its easy to call the column names and rows. You can also call the shape, but note that printing the dataframe also tells you the shape."
      ],
      "metadata": {
        "id": "ObYxzjtxdELR"
      }
    },
    {
      "cell_type": "code",
      "source": [
        "basketball.columns"
      ],
      "metadata": {
        "id": "_366zzNydTgG",
        "colab": {
          "base_uri": "https://localhost:8080/"
        },
        "outputId": "a5681e2c-5bf1-4923-d317-6048a6a9333e"
      },
      "execution_count": 48,
      "outputs": [
        {
          "output_type": "execute_result",
          "data": {
            "text/plain": [
              "Index(['Player', 'Pos', 'Age', 'Tm', 'G', 'GS', 'MP', 'FG', 'FGA', 'FG%', '3P',\n",
              "       '3PA', '3P%', '2P', '2PA', '2P%', 'eFG%', 'FT', 'FTA', 'FT%', 'ORB',\n",
              "       'DRB', 'TRB', 'AST', 'STL', 'BLK', 'TOV', 'PF', 'PTS',\n",
              "       'Player-additional'],\n",
              "      dtype='object')"
            ]
          },
          "metadata": {},
          "execution_count": 48
        }
      ]
    },
    {
      "cell_type": "code",
      "source": [
        "basketball.index"
      ],
      "metadata": {
        "id": "nYX_wKbIdXB-",
        "colab": {
          "base_uri": "https://localhost:8080/"
        },
        "outputId": "13ca690b-b8d6-4c5a-e746-c10335823d22"
      },
      "execution_count": 49,
      "outputs": [
        {
          "output_type": "execute_result",
          "data": {
            "text/plain": [
              "RangeIndex(start=0, stop=572, step=1)"
            ]
          },
          "metadata": {},
          "execution_count": 49
        }
      ]
    },
    {
      "cell_type": "code",
      "source": [
        "basketball.shape"
      ],
      "metadata": {
        "id": "E-5l-VS0dZj3",
        "colab": {
          "base_uri": "https://localhost:8080/"
        },
        "outputId": "17ed0756-aeb2-45b1-9bb9-47a2196d6c82"
      },
      "execution_count": 50,
      "outputs": [
        {
          "output_type": "execute_result",
          "data": {
            "text/plain": [
              "(572, 30)"
            ]
          },
          "metadata": {},
          "execution_count": 50
        }
      ]
    },
    {
      "cell_type": "markdown",
      "source": [
        "We call columns by name."
      ],
      "metadata": {
        "id": "D9yJ4uQOdmog"
      }
    },
    {
      "cell_type": "code",
      "source": [
        "basketball.Player"
      ],
      "metadata": {
        "id": "KtFz8lZRdtBF",
        "colab": {
          "base_uri": "https://localhost:8080/",
          "height": 458
        },
        "outputId": "5c5e705f-844f-4e4c-bacd-f5e4e84ea9ff"
      },
      "execution_count": 51,
      "outputs": [
        {
          "output_type": "execute_result",
          "data": {
            "text/plain": [
              "0              Precious Achiuwa\n",
              "1                   Bam Adebayo\n",
              "2                  Ochai Agbaji\n",
              "3                  Santi Aldama\n",
              "4      Nickeil Alexander-Walker\n",
              "                 ...           \n",
              "567              Thaddeus Young\n",
              "568                  Trae Young\n",
              "569              Omer Yurtseven\n",
              "570                 Cody Zeller\n",
              "571                 Ivica Zubac\n",
              "Name: Player, Length: 572, dtype: object"
            ],
            "text/html": [
              "<div>\n",
              "<style scoped>\n",
              "    .dataframe tbody tr th:only-of-type {\n",
              "        vertical-align: middle;\n",
              "    }\n",
              "\n",
              "    .dataframe tbody tr th {\n",
              "        vertical-align: top;\n",
              "    }\n",
              "\n",
              "    .dataframe thead th {\n",
              "        text-align: right;\n",
              "    }\n",
              "</style>\n",
              "<table border=\"1\" class=\"dataframe\">\n",
              "  <thead>\n",
              "    <tr style=\"text-align: right;\">\n",
              "      <th></th>\n",
              "      <th>Player</th>\n",
              "    </tr>\n",
              "  </thead>\n",
              "  <tbody>\n",
              "    <tr>\n",
              "      <th>0</th>\n",
              "      <td>Precious Achiuwa</td>\n",
              "    </tr>\n",
              "    <tr>\n",
              "      <th>1</th>\n",
              "      <td>Bam Adebayo</td>\n",
              "    </tr>\n",
              "    <tr>\n",
              "      <th>2</th>\n",
              "      <td>Ochai Agbaji</td>\n",
              "    </tr>\n",
              "    <tr>\n",
              "      <th>3</th>\n",
              "      <td>Santi Aldama</td>\n",
              "    </tr>\n",
              "    <tr>\n",
              "      <th>4</th>\n",
              "      <td>Nickeil Alexander-Walker</td>\n",
              "    </tr>\n",
              "    <tr>\n",
              "      <th>...</th>\n",
              "      <td>...</td>\n",
              "    </tr>\n",
              "    <tr>\n",
              "      <th>567</th>\n",
              "      <td>Thaddeus Young</td>\n",
              "    </tr>\n",
              "    <tr>\n",
              "      <th>568</th>\n",
              "      <td>Trae Young</td>\n",
              "    </tr>\n",
              "    <tr>\n",
              "      <th>569</th>\n",
              "      <td>Omer Yurtseven</td>\n",
              "    </tr>\n",
              "    <tr>\n",
              "      <th>570</th>\n",
              "      <td>Cody Zeller</td>\n",
              "    </tr>\n",
              "    <tr>\n",
              "      <th>571</th>\n",
              "      <td>Ivica Zubac</td>\n",
              "    </tr>\n",
              "  </tbody>\n",
              "</table>\n",
              "<p>572 rows × 1 columns</p>\n",
              "</div><br><label><b>dtype:</b> object</label>"
            ]
          },
          "metadata": {},
          "execution_count": 51
        }
      ]
    },
    {
      "cell_type": "code",
      "source": [
        "basketball['Player']"
      ],
      "metadata": {
        "id": "M37m1kgUh38F",
        "colab": {
          "base_uri": "https://localhost:8080/",
          "height": 458
        },
        "outputId": "f6a7acb6-2d2a-45a2-c97b-e1e0057d3ed2"
      },
      "execution_count": 52,
      "outputs": [
        {
          "output_type": "execute_result",
          "data": {
            "text/plain": [
              "0              Precious Achiuwa\n",
              "1                   Bam Adebayo\n",
              "2                  Ochai Agbaji\n",
              "3                  Santi Aldama\n",
              "4      Nickeil Alexander-Walker\n",
              "                 ...           \n",
              "567              Thaddeus Young\n",
              "568                  Trae Young\n",
              "569              Omer Yurtseven\n",
              "570                 Cody Zeller\n",
              "571                 Ivica Zubac\n",
              "Name: Player, Length: 572, dtype: object"
            ],
            "text/html": [
              "<div>\n",
              "<style scoped>\n",
              "    .dataframe tbody tr th:only-of-type {\n",
              "        vertical-align: middle;\n",
              "    }\n",
              "\n",
              "    .dataframe tbody tr th {\n",
              "        vertical-align: top;\n",
              "    }\n",
              "\n",
              "    .dataframe thead th {\n",
              "        text-align: right;\n",
              "    }\n",
              "</style>\n",
              "<table border=\"1\" class=\"dataframe\">\n",
              "  <thead>\n",
              "    <tr style=\"text-align: right;\">\n",
              "      <th></th>\n",
              "      <th>Player</th>\n",
              "    </tr>\n",
              "  </thead>\n",
              "  <tbody>\n",
              "    <tr>\n",
              "      <th>0</th>\n",
              "      <td>Precious Achiuwa</td>\n",
              "    </tr>\n",
              "    <tr>\n",
              "      <th>1</th>\n",
              "      <td>Bam Adebayo</td>\n",
              "    </tr>\n",
              "    <tr>\n",
              "      <th>2</th>\n",
              "      <td>Ochai Agbaji</td>\n",
              "    </tr>\n",
              "    <tr>\n",
              "      <th>3</th>\n",
              "      <td>Santi Aldama</td>\n",
              "    </tr>\n",
              "    <tr>\n",
              "      <th>4</th>\n",
              "      <td>Nickeil Alexander-Walker</td>\n",
              "    </tr>\n",
              "    <tr>\n",
              "      <th>...</th>\n",
              "      <td>...</td>\n",
              "    </tr>\n",
              "    <tr>\n",
              "      <th>567</th>\n",
              "      <td>Thaddeus Young</td>\n",
              "    </tr>\n",
              "    <tr>\n",
              "      <th>568</th>\n",
              "      <td>Trae Young</td>\n",
              "    </tr>\n",
              "    <tr>\n",
              "      <th>569</th>\n",
              "      <td>Omer Yurtseven</td>\n",
              "    </tr>\n",
              "    <tr>\n",
              "      <th>570</th>\n",
              "      <td>Cody Zeller</td>\n",
              "    </tr>\n",
              "    <tr>\n",
              "      <th>571</th>\n",
              "      <td>Ivica Zubac</td>\n",
              "    </tr>\n",
              "  </tbody>\n",
              "</table>\n",
              "<p>572 rows × 1 columns</p>\n",
              "</div><br><label><b>dtype:</b> object</label>"
            ]
          },
          "metadata": {},
          "execution_count": 52
        }
      ]
    },
    {
      "cell_type": "code",
      "source": [
        "#the double brackets returns a data frame\n",
        "basketball[['Player']]"
      ],
      "metadata": {
        "id": "fPkCewXndys2",
        "colab": {
          "base_uri": "https://localhost:8080/",
          "height": 424
        },
        "outputId": "97a753d7-1909-4ac4-dfdb-f429086543c8"
      },
      "execution_count": 53,
      "outputs": [
        {
          "output_type": "execute_result",
          "data": {
            "text/plain": [
              "                       Player\n",
              "0            Precious Achiuwa\n",
              "1                 Bam Adebayo\n",
              "2                Ochai Agbaji\n",
              "3                Santi Aldama\n",
              "4    Nickeil Alexander-Walker\n",
              "..                        ...\n",
              "567            Thaddeus Young\n",
              "568                Trae Young\n",
              "569            Omer Yurtseven\n",
              "570               Cody Zeller\n",
              "571               Ivica Zubac\n",
              "\n",
              "[572 rows x 1 columns]"
            ],
            "text/html": [
              "\n",
              "  <div id=\"df-88d6c19f-306e-4246-a851-9286c1fc8be9\" class=\"colab-df-container\">\n",
              "    <div>\n",
              "<style scoped>\n",
              "    .dataframe tbody tr th:only-of-type {\n",
              "        vertical-align: middle;\n",
              "    }\n",
              "\n",
              "    .dataframe tbody tr th {\n",
              "        vertical-align: top;\n",
              "    }\n",
              "\n",
              "    .dataframe thead th {\n",
              "        text-align: right;\n",
              "    }\n",
              "</style>\n",
              "<table border=\"1\" class=\"dataframe\">\n",
              "  <thead>\n",
              "    <tr style=\"text-align: right;\">\n",
              "      <th></th>\n",
              "      <th>Player</th>\n",
              "    </tr>\n",
              "  </thead>\n",
              "  <tbody>\n",
              "    <tr>\n",
              "      <th>0</th>\n",
              "      <td>Precious Achiuwa</td>\n",
              "    </tr>\n",
              "    <tr>\n",
              "      <th>1</th>\n",
              "      <td>Bam Adebayo</td>\n",
              "    </tr>\n",
              "    <tr>\n",
              "      <th>2</th>\n",
              "      <td>Ochai Agbaji</td>\n",
              "    </tr>\n",
              "    <tr>\n",
              "      <th>3</th>\n",
              "      <td>Santi Aldama</td>\n",
              "    </tr>\n",
              "    <tr>\n",
              "      <th>4</th>\n",
              "      <td>Nickeil Alexander-Walker</td>\n",
              "    </tr>\n",
              "    <tr>\n",
              "      <th>...</th>\n",
              "      <td>...</td>\n",
              "    </tr>\n",
              "    <tr>\n",
              "      <th>567</th>\n",
              "      <td>Thaddeus Young</td>\n",
              "    </tr>\n",
              "    <tr>\n",
              "      <th>568</th>\n",
              "      <td>Trae Young</td>\n",
              "    </tr>\n",
              "    <tr>\n",
              "      <th>569</th>\n",
              "      <td>Omer Yurtseven</td>\n",
              "    </tr>\n",
              "    <tr>\n",
              "      <th>570</th>\n",
              "      <td>Cody Zeller</td>\n",
              "    </tr>\n",
              "    <tr>\n",
              "      <th>571</th>\n",
              "      <td>Ivica Zubac</td>\n",
              "    </tr>\n",
              "  </tbody>\n",
              "</table>\n",
              "<p>572 rows × 1 columns</p>\n",
              "</div>\n",
              "    <div class=\"colab-df-buttons\">\n",
              "\n",
              "  <div class=\"colab-df-container\">\n",
              "    <button class=\"colab-df-convert\" onclick=\"convertToInteractive('df-88d6c19f-306e-4246-a851-9286c1fc8be9')\"\n",
              "            title=\"Convert this dataframe to an interactive table.\"\n",
              "            style=\"display:none;\">\n",
              "\n",
              "  <svg xmlns=\"http://www.w3.org/2000/svg\" height=\"24px\" viewBox=\"0 -960 960 960\">\n",
              "    <path d=\"M120-120v-720h720v720H120Zm60-500h600v-160H180v160Zm220 220h160v-160H400v160Zm0 220h160v-160H400v160ZM180-400h160v-160H180v160Zm440 0h160v-160H620v160ZM180-180h160v-160H180v160Zm440 0h160v-160H620v160Z\"/>\n",
              "  </svg>\n",
              "    </button>\n",
              "\n",
              "  <style>\n",
              "    .colab-df-container {\n",
              "      display:flex;\n",
              "      gap: 12px;\n",
              "    }\n",
              "\n",
              "    .colab-df-convert {\n",
              "      background-color: #E8F0FE;\n",
              "      border: none;\n",
              "      border-radius: 50%;\n",
              "      cursor: pointer;\n",
              "      display: none;\n",
              "      fill: #1967D2;\n",
              "      height: 32px;\n",
              "      padding: 0 0 0 0;\n",
              "      width: 32px;\n",
              "    }\n",
              "\n",
              "    .colab-df-convert:hover {\n",
              "      background-color: #E2EBFA;\n",
              "      box-shadow: 0px 1px 2px rgba(60, 64, 67, 0.3), 0px 1px 3px 1px rgba(60, 64, 67, 0.15);\n",
              "      fill: #174EA6;\n",
              "    }\n",
              "\n",
              "    .colab-df-buttons div {\n",
              "      margin-bottom: 4px;\n",
              "    }\n",
              "\n",
              "    [theme=dark] .colab-df-convert {\n",
              "      background-color: #3B4455;\n",
              "      fill: #D2E3FC;\n",
              "    }\n",
              "\n",
              "    [theme=dark] .colab-df-convert:hover {\n",
              "      background-color: #434B5C;\n",
              "      box-shadow: 0px 1px 3px 1px rgba(0, 0, 0, 0.15);\n",
              "      filter: drop-shadow(0px 1px 2px rgba(0, 0, 0, 0.3));\n",
              "      fill: #FFFFFF;\n",
              "    }\n",
              "  </style>\n",
              "\n",
              "    <script>\n",
              "      const buttonEl =\n",
              "        document.querySelector('#df-88d6c19f-306e-4246-a851-9286c1fc8be9 button.colab-df-convert');\n",
              "      buttonEl.style.display =\n",
              "        google.colab.kernel.accessAllowed ? 'block' : 'none';\n",
              "\n",
              "      async function convertToInteractive(key) {\n",
              "        const element = document.querySelector('#df-88d6c19f-306e-4246-a851-9286c1fc8be9');\n",
              "        const dataTable =\n",
              "          await google.colab.kernel.invokeFunction('convertToInteractive',\n",
              "                                                    [key], {});\n",
              "        if (!dataTable) return;\n",
              "\n",
              "        const docLinkHtml = 'Like what you see? Visit the ' +\n",
              "          '<a target=\"_blank\" href=https://colab.research.google.com/notebooks/data_table.ipynb>data table notebook</a>'\n",
              "          + ' to learn more about interactive tables.';\n",
              "        element.innerHTML = '';\n",
              "        dataTable['output_type'] = 'display_data';\n",
              "        await google.colab.output.renderOutput(dataTable, element);\n",
              "        const docLink = document.createElement('div');\n",
              "        docLink.innerHTML = docLinkHtml;\n",
              "        element.appendChild(docLink);\n",
              "      }\n",
              "    </script>\n",
              "  </div>\n",
              "\n",
              "\n",
              "<div id=\"df-3b1ff54f-ed8c-40fe-ba8d-e1f10d106bb9\">\n",
              "  <button class=\"colab-df-quickchart\" onclick=\"quickchart('df-3b1ff54f-ed8c-40fe-ba8d-e1f10d106bb9')\"\n",
              "            title=\"Suggest charts\"\n",
              "            style=\"display:none;\">\n",
              "\n",
              "<svg xmlns=\"http://www.w3.org/2000/svg\" height=\"24px\"viewBox=\"0 0 24 24\"\n",
              "     width=\"24px\">\n",
              "    <g>\n",
              "        <path d=\"M19 3H5c-1.1 0-2 .9-2 2v14c0 1.1.9 2 2 2h14c1.1 0 2-.9 2-2V5c0-1.1-.9-2-2-2zM9 17H7v-7h2v7zm4 0h-2V7h2v10zm4 0h-2v-4h2v4z\"/>\n",
              "    </g>\n",
              "</svg>\n",
              "  </button>\n",
              "\n",
              "<style>\n",
              "  .colab-df-quickchart {\n",
              "      --bg-color: #E8F0FE;\n",
              "      --fill-color: #1967D2;\n",
              "      --hover-bg-color: #E2EBFA;\n",
              "      --hover-fill-color: #174EA6;\n",
              "      --disabled-fill-color: #AAA;\n",
              "      --disabled-bg-color: #DDD;\n",
              "  }\n",
              "\n",
              "  [theme=dark] .colab-df-quickchart {\n",
              "      --bg-color: #3B4455;\n",
              "      --fill-color: #D2E3FC;\n",
              "      --hover-bg-color: #434B5C;\n",
              "      --hover-fill-color: #FFFFFF;\n",
              "      --disabled-bg-color: #3B4455;\n",
              "      --disabled-fill-color: #666;\n",
              "  }\n",
              "\n",
              "  .colab-df-quickchart {\n",
              "    background-color: var(--bg-color);\n",
              "    border: none;\n",
              "    border-radius: 50%;\n",
              "    cursor: pointer;\n",
              "    display: none;\n",
              "    fill: var(--fill-color);\n",
              "    height: 32px;\n",
              "    padding: 0;\n",
              "    width: 32px;\n",
              "  }\n",
              "\n",
              "  .colab-df-quickchart:hover {\n",
              "    background-color: var(--hover-bg-color);\n",
              "    box-shadow: 0 1px 2px rgba(60, 64, 67, 0.3), 0 1px 3px 1px rgba(60, 64, 67, 0.15);\n",
              "    fill: var(--button-hover-fill-color);\n",
              "  }\n",
              "\n",
              "  .colab-df-quickchart-complete:disabled,\n",
              "  .colab-df-quickchart-complete:disabled:hover {\n",
              "    background-color: var(--disabled-bg-color);\n",
              "    fill: var(--disabled-fill-color);\n",
              "    box-shadow: none;\n",
              "  }\n",
              "\n",
              "  .colab-df-spinner {\n",
              "    border: 2px solid var(--fill-color);\n",
              "    border-color: transparent;\n",
              "    border-bottom-color: var(--fill-color);\n",
              "    animation:\n",
              "      spin 1s steps(1) infinite;\n",
              "  }\n",
              "\n",
              "  @keyframes spin {\n",
              "    0% {\n",
              "      border-color: transparent;\n",
              "      border-bottom-color: var(--fill-color);\n",
              "      border-left-color: var(--fill-color);\n",
              "    }\n",
              "    20% {\n",
              "      border-color: transparent;\n",
              "      border-left-color: var(--fill-color);\n",
              "      border-top-color: var(--fill-color);\n",
              "    }\n",
              "    30% {\n",
              "      border-color: transparent;\n",
              "      border-left-color: var(--fill-color);\n",
              "      border-top-color: var(--fill-color);\n",
              "      border-right-color: var(--fill-color);\n",
              "    }\n",
              "    40% {\n",
              "      border-color: transparent;\n",
              "      border-right-color: var(--fill-color);\n",
              "      border-top-color: var(--fill-color);\n",
              "    }\n",
              "    60% {\n",
              "      border-color: transparent;\n",
              "      border-right-color: var(--fill-color);\n",
              "    }\n",
              "    80% {\n",
              "      border-color: transparent;\n",
              "      border-right-color: var(--fill-color);\n",
              "      border-bottom-color: var(--fill-color);\n",
              "    }\n",
              "    90% {\n",
              "      border-color: transparent;\n",
              "      border-bottom-color: var(--fill-color);\n",
              "    }\n",
              "  }\n",
              "</style>\n",
              "\n",
              "  <script>\n",
              "    async function quickchart(key) {\n",
              "      const quickchartButtonEl =\n",
              "        document.querySelector('#' + key + ' button');\n",
              "      quickchartButtonEl.disabled = true;  // To prevent multiple clicks.\n",
              "      quickchartButtonEl.classList.add('colab-df-spinner');\n",
              "      try {\n",
              "        const charts = await google.colab.kernel.invokeFunction(\n",
              "            'suggestCharts', [key], {});\n",
              "      } catch (error) {\n",
              "        console.error('Error during call to suggestCharts:', error);\n",
              "      }\n",
              "      quickchartButtonEl.classList.remove('colab-df-spinner');\n",
              "      quickchartButtonEl.classList.add('colab-df-quickchart-complete');\n",
              "    }\n",
              "    (() => {\n",
              "      let quickchartButtonEl =\n",
              "        document.querySelector('#df-3b1ff54f-ed8c-40fe-ba8d-e1f10d106bb9 button');\n",
              "      quickchartButtonEl.style.display =\n",
              "        google.colab.kernel.accessAllowed ? 'block' : 'none';\n",
              "    })();\n",
              "  </script>\n",
              "</div>\n",
              "\n",
              "    </div>\n",
              "  </div>\n"
            ],
            "application/vnd.google.colaboratory.intrinsic+json": {
              "type": "dataframe",
              "summary": "{\n  \"name\": \"basketball[['Player']]\",\n  \"rows\": 572,\n  \"fields\": [\n    {\n      \"column\": \"Player\",\n      \"properties\": {\n        \"dtype\": \"string\",\n        \"num_unique_values\": 572,\n        \"samples\": [\n          \"Jonas Valan\\u010di\\u016bnas\",\n          \"Jaylen Brown\",\n          \"Henri Drell\"\n        ],\n        \"semantic_type\": \"\",\n        \"description\": \"\"\n      }\n    }\n  ]\n}"
            }
          },
          "metadata": {},
          "execution_count": 53
        }
      ]
    },
    {
      "cell_type": "markdown",
      "source": [
        "The second brackets method is required when we want a column with funky characters in its name."
      ],
      "metadata": {
        "id": "6qAg31ujeIgg"
      }
    },
    {
      "cell_type": "markdown",
      "source": [
        "Want to slice multiple columns?"
      ],
      "metadata": {
        "id": "gxR4s5ZdfQGZ"
      }
    },
    {
      "cell_type": "code",
      "source": [
        "basketball[['Player','FG%']]"
      ],
      "metadata": {
        "id": "W32u2GCzeTUS",
        "colab": {
          "base_uri": "https://localhost:8080/",
          "height": 424
        },
        "outputId": "62838743-2ecb-472f-e330-faadb4cdf92b"
      },
      "execution_count": 54,
      "outputs": [
        {
          "output_type": "execute_result",
          "data": {
            "text/plain": [
              "                       Player    FG%\n",
              "0            Precious Achiuwa  0.501\n",
              "1                 Bam Adebayo  0.521\n",
              "2                Ochai Agbaji  0.411\n",
              "3                Santi Aldama  0.435\n",
              "4    Nickeil Alexander-Walker  0.439\n",
              "..                        ...    ...\n",
              "567            Thaddeus Young  0.602\n",
              "568                Trae Young  0.430\n",
              "569            Omer Yurtseven  0.538\n",
              "570               Cody Zeller  0.419\n",
              "571               Ivica Zubac  0.649\n",
              "\n",
              "[572 rows x 2 columns]"
            ],
            "text/html": [
              "\n",
              "  <div id=\"df-8f90be6e-2123-415f-9516-2d00e3d1bdd8\" class=\"colab-df-container\">\n",
              "    <div>\n",
              "<style scoped>\n",
              "    .dataframe tbody tr th:only-of-type {\n",
              "        vertical-align: middle;\n",
              "    }\n",
              "\n",
              "    .dataframe tbody tr th {\n",
              "        vertical-align: top;\n",
              "    }\n",
              "\n",
              "    .dataframe thead th {\n",
              "        text-align: right;\n",
              "    }\n",
              "</style>\n",
              "<table border=\"1\" class=\"dataframe\">\n",
              "  <thead>\n",
              "    <tr style=\"text-align: right;\">\n",
              "      <th></th>\n",
              "      <th>Player</th>\n",
              "      <th>FG%</th>\n",
              "    </tr>\n",
              "  </thead>\n",
              "  <tbody>\n",
              "    <tr>\n",
              "      <th>0</th>\n",
              "      <td>Precious Achiuwa</td>\n",
              "      <td>0.501</td>\n",
              "    </tr>\n",
              "    <tr>\n",
              "      <th>1</th>\n",
              "      <td>Bam Adebayo</td>\n",
              "      <td>0.521</td>\n",
              "    </tr>\n",
              "    <tr>\n",
              "      <th>2</th>\n",
              "      <td>Ochai Agbaji</td>\n",
              "      <td>0.411</td>\n",
              "    </tr>\n",
              "    <tr>\n",
              "      <th>3</th>\n",
              "      <td>Santi Aldama</td>\n",
              "      <td>0.435</td>\n",
              "    </tr>\n",
              "    <tr>\n",
              "      <th>4</th>\n",
              "      <td>Nickeil Alexander-Walker</td>\n",
              "      <td>0.439</td>\n",
              "    </tr>\n",
              "    <tr>\n",
              "      <th>...</th>\n",
              "      <td>...</td>\n",
              "      <td>...</td>\n",
              "    </tr>\n",
              "    <tr>\n",
              "      <th>567</th>\n",
              "      <td>Thaddeus Young</td>\n",
              "      <td>0.602</td>\n",
              "    </tr>\n",
              "    <tr>\n",
              "      <th>568</th>\n",
              "      <td>Trae Young</td>\n",
              "      <td>0.430</td>\n",
              "    </tr>\n",
              "    <tr>\n",
              "      <th>569</th>\n",
              "      <td>Omer Yurtseven</td>\n",
              "      <td>0.538</td>\n",
              "    </tr>\n",
              "    <tr>\n",
              "      <th>570</th>\n",
              "      <td>Cody Zeller</td>\n",
              "      <td>0.419</td>\n",
              "    </tr>\n",
              "    <tr>\n",
              "      <th>571</th>\n",
              "      <td>Ivica Zubac</td>\n",
              "      <td>0.649</td>\n",
              "    </tr>\n",
              "  </tbody>\n",
              "</table>\n",
              "<p>572 rows × 2 columns</p>\n",
              "</div>\n",
              "    <div class=\"colab-df-buttons\">\n",
              "\n",
              "  <div class=\"colab-df-container\">\n",
              "    <button class=\"colab-df-convert\" onclick=\"convertToInteractive('df-8f90be6e-2123-415f-9516-2d00e3d1bdd8')\"\n",
              "            title=\"Convert this dataframe to an interactive table.\"\n",
              "            style=\"display:none;\">\n",
              "\n",
              "  <svg xmlns=\"http://www.w3.org/2000/svg\" height=\"24px\" viewBox=\"0 -960 960 960\">\n",
              "    <path d=\"M120-120v-720h720v720H120Zm60-500h600v-160H180v160Zm220 220h160v-160H400v160Zm0 220h160v-160H400v160ZM180-400h160v-160H180v160Zm440 0h160v-160H620v160ZM180-180h160v-160H180v160Zm440 0h160v-160H620v160Z\"/>\n",
              "  </svg>\n",
              "    </button>\n",
              "\n",
              "  <style>\n",
              "    .colab-df-container {\n",
              "      display:flex;\n",
              "      gap: 12px;\n",
              "    }\n",
              "\n",
              "    .colab-df-convert {\n",
              "      background-color: #E8F0FE;\n",
              "      border: none;\n",
              "      border-radius: 50%;\n",
              "      cursor: pointer;\n",
              "      display: none;\n",
              "      fill: #1967D2;\n",
              "      height: 32px;\n",
              "      padding: 0 0 0 0;\n",
              "      width: 32px;\n",
              "    }\n",
              "\n",
              "    .colab-df-convert:hover {\n",
              "      background-color: #E2EBFA;\n",
              "      box-shadow: 0px 1px 2px rgba(60, 64, 67, 0.3), 0px 1px 3px 1px rgba(60, 64, 67, 0.15);\n",
              "      fill: #174EA6;\n",
              "    }\n",
              "\n",
              "    .colab-df-buttons div {\n",
              "      margin-bottom: 4px;\n",
              "    }\n",
              "\n",
              "    [theme=dark] .colab-df-convert {\n",
              "      background-color: #3B4455;\n",
              "      fill: #D2E3FC;\n",
              "    }\n",
              "\n",
              "    [theme=dark] .colab-df-convert:hover {\n",
              "      background-color: #434B5C;\n",
              "      box-shadow: 0px 1px 3px 1px rgba(0, 0, 0, 0.15);\n",
              "      filter: drop-shadow(0px 1px 2px rgba(0, 0, 0, 0.3));\n",
              "      fill: #FFFFFF;\n",
              "    }\n",
              "  </style>\n",
              "\n",
              "    <script>\n",
              "      const buttonEl =\n",
              "        document.querySelector('#df-8f90be6e-2123-415f-9516-2d00e3d1bdd8 button.colab-df-convert');\n",
              "      buttonEl.style.display =\n",
              "        google.colab.kernel.accessAllowed ? 'block' : 'none';\n",
              "\n",
              "      async function convertToInteractive(key) {\n",
              "        const element = document.querySelector('#df-8f90be6e-2123-415f-9516-2d00e3d1bdd8');\n",
              "        const dataTable =\n",
              "          await google.colab.kernel.invokeFunction('convertToInteractive',\n",
              "                                                    [key], {});\n",
              "        if (!dataTable) return;\n",
              "\n",
              "        const docLinkHtml = 'Like what you see? Visit the ' +\n",
              "          '<a target=\"_blank\" href=https://colab.research.google.com/notebooks/data_table.ipynb>data table notebook</a>'\n",
              "          + ' to learn more about interactive tables.';\n",
              "        element.innerHTML = '';\n",
              "        dataTable['output_type'] = 'display_data';\n",
              "        await google.colab.output.renderOutput(dataTable, element);\n",
              "        const docLink = document.createElement('div');\n",
              "        docLink.innerHTML = docLinkHtml;\n",
              "        element.appendChild(docLink);\n",
              "      }\n",
              "    </script>\n",
              "  </div>\n",
              "\n",
              "\n",
              "<div id=\"df-eb5be3fd-bac8-4d97-9fb9-944b3ce31f92\">\n",
              "  <button class=\"colab-df-quickchart\" onclick=\"quickchart('df-eb5be3fd-bac8-4d97-9fb9-944b3ce31f92')\"\n",
              "            title=\"Suggest charts\"\n",
              "            style=\"display:none;\">\n",
              "\n",
              "<svg xmlns=\"http://www.w3.org/2000/svg\" height=\"24px\"viewBox=\"0 0 24 24\"\n",
              "     width=\"24px\">\n",
              "    <g>\n",
              "        <path d=\"M19 3H5c-1.1 0-2 .9-2 2v14c0 1.1.9 2 2 2h14c1.1 0 2-.9 2-2V5c0-1.1-.9-2-2-2zM9 17H7v-7h2v7zm4 0h-2V7h2v10zm4 0h-2v-4h2v4z\"/>\n",
              "    </g>\n",
              "</svg>\n",
              "  </button>\n",
              "\n",
              "<style>\n",
              "  .colab-df-quickchart {\n",
              "      --bg-color: #E8F0FE;\n",
              "      --fill-color: #1967D2;\n",
              "      --hover-bg-color: #E2EBFA;\n",
              "      --hover-fill-color: #174EA6;\n",
              "      --disabled-fill-color: #AAA;\n",
              "      --disabled-bg-color: #DDD;\n",
              "  }\n",
              "\n",
              "  [theme=dark] .colab-df-quickchart {\n",
              "      --bg-color: #3B4455;\n",
              "      --fill-color: #D2E3FC;\n",
              "      --hover-bg-color: #434B5C;\n",
              "      --hover-fill-color: #FFFFFF;\n",
              "      --disabled-bg-color: #3B4455;\n",
              "      --disabled-fill-color: #666;\n",
              "  }\n",
              "\n",
              "  .colab-df-quickchart {\n",
              "    background-color: var(--bg-color);\n",
              "    border: none;\n",
              "    border-radius: 50%;\n",
              "    cursor: pointer;\n",
              "    display: none;\n",
              "    fill: var(--fill-color);\n",
              "    height: 32px;\n",
              "    padding: 0;\n",
              "    width: 32px;\n",
              "  }\n",
              "\n",
              "  .colab-df-quickchart:hover {\n",
              "    background-color: var(--hover-bg-color);\n",
              "    box-shadow: 0 1px 2px rgba(60, 64, 67, 0.3), 0 1px 3px 1px rgba(60, 64, 67, 0.15);\n",
              "    fill: var(--button-hover-fill-color);\n",
              "  }\n",
              "\n",
              "  .colab-df-quickchart-complete:disabled,\n",
              "  .colab-df-quickchart-complete:disabled:hover {\n",
              "    background-color: var(--disabled-bg-color);\n",
              "    fill: var(--disabled-fill-color);\n",
              "    box-shadow: none;\n",
              "  }\n",
              "\n",
              "  .colab-df-spinner {\n",
              "    border: 2px solid var(--fill-color);\n",
              "    border-color: transparent;\n",
              "    border-bottom-color: var(--fill-color);\n",
              "    animation:\n",
              "      spin 1s steps(1) infinite;\n",
              "  }\n",
              "\n",
              "  @keyframes spin {\n",
              "    0% {\n",
              "      border-color: transparent;\n",
              "      border-bottom-color: var(--fill-color);\n",
              "      border-left-color: var(--fill-color);\n",
              "    }\n",
              "    20% {\n",
              "      border-color: transparent;\n",
              "      border-left-color: var(--fill-color);\n",
              "      border-top-color: var(--fill-color);\n",
              "    }\n",
              "    30% {\n",
              "      border-color: transparent;\n",
              "      border-left-color: var(--fill-color);\n",
              "      border-top-color: var(--fill-color);\n",
              "      border-right-color: var(--fill-color);\n",
              "    }\n",
              "    40% {\n",
              "      border-color: transparent;\n",
              "      border-right-color: var(--fill-color);\n",
              "      border-top-color: var(--fill-color);\n",
              "    }\n",
              "    60% {\n",
              "      border-color: transparent;\n",
              "      border-right-color: var(--fill-color);\n",
              "    }\n",
              "    80% {\n",
              "      border-color: transparent;\n",
              "      border-right-color: var(--fill-color);\n",
              "      border-bottom-color: var(--fill-color);\n",
              "    }\n",
              "    90% {\n",
              "      border-color: transparent;\n",
              "      border-bottom-color: var(--fill-color);\n",
              "    }\n",
              "  }\n",
              "</style>\n",
              "\n",
              "  <script>\n",
              "    async function quickchart(key) {\n",
              "      const quickchartButtonEl =\n",
              "        document.querySelector('#' + key + ' button');\n",
              "      quickchartButtonEl.disabled = true;  // To prevent multiple clicks.\n",
              "      quickchartButtonEl.classList.add('colab-df-spinner');\n",
              "      try {\n",
              "        const charts = await google.colab.kernel.invokeFunction(\n",
              "            'suggestCharts', [key], {});\n",
              "      } catch (error) {\n",
              "        console.error('Error during call to suggestCharts:', error);\n",
              "      }\n",
              "      quickchartButtonEl.classList.remove('colab-df-spinner');\n",
              "      quickchartButtonEl.classList.add('colab-df-quickchart-complete');\n",
              "    }\n",
              "    (() => {\n",
              "      let quickchartButtonEl =\n",
              "        document.querySelector('#df-eb5be3fd-bac8-4d97-9fb9-944b3ce31f92 button');\n",
              "      quickchartButtonEl.style.display =\n",
              "        google.colab.kernel.accessAllowed ? 'block' : 'none';\n",
              "    })();\n",
              "  </script>\n",
              "</div>\n",
              "\n",
              "    </div>\n",
              "  </div>\n"
            ],
            "application/vnd.google.colaboratory.intrinsic+json": {
              "type": "dataframe",
              "summary": "{\n  \"name\": \"basketball[['Player','FG%']]\",\n  \"rows\": 572,\n  \"fields\": [\n    {\n      \"column\": \"Player\",\n      \"properties\": {\n        \"dtype\": \"string\",\n        \"num_unique_values\": 572,\n        \"samples\": [\n          \"Jonas Valan\\u010di\\u016bnas\",\n          \"Jaylen Brown\",\n          \"Henri Drell\"\n        ],\n        \"semantic_type\": \"\",\n        \"description\": \"\"\n      }\n    },\n    {\n      \"column\": \"FG%\",\n      \"properties\": {\n        \"dtype\": \"number\",\n        \"std\": 0.10725905691831013,\n        \"min\": 0.0,\n        \"max\": 0.747,\n        \"num_unique_values\": 242,\n        \"samples\": [\n          0.464,\n          0.634,\n          0.353\n        ],\n        \"semantic_type\": \"\",\n        \"description\": \"\"\n      }\n    }\n  ]\n}"
            }
          },
          "metadata": {},
          "execution_count": 54
        }
      ]
    },
    {
      "cell_type": "markdown",
      "source": [
        "Want to slice multiple rows and multiple columns?"
      ],
      "metadata": {
        "id": "UmEjf6WqiOFO"
      }
    },
    {
      "cell_type": "code",
      "source": [
        "#use loc to grab the zeroth, second, and 207th row.\n",
        "basketball[['Player', 'FG%']].loc[[0,4,207]]"
      ],
      "metadata": {
        "id": "PRJxUIb_fUsg",
        "colab": {
          "base_uri": "https://localhost:8080/",
          "height": 143
        },
        "outputId": "488745b7-e812-41a0-c9ee-180ee9977e18"
      },
      "execution_count": 55,
      "outputs": [
        {
          "output_type": "execute_result",
          "data": {
            "text/plain": [
              "                       Player    FG%\n",
              "0            Precious Achiuwa  0.501\n",
              "4    Nickeil Alexander-Walker  0.439\n",
              "207        Isaiah Hartenstein  0.644"
            ],
            "text/html": [
              "\n",
              "  <div id=\"df-5b7e22d4-88c3-48ce-955c-5de96ce23833\" class=\"colab-df-container\">\n",
              "    <div>\n",
              "<style scoped>\n",
              "    .dataframe tbody tr th:only-of-type {\n",
              "        vertical-align: middle;\n",
              "    }\n",
              "\n",
              "    .dataframe tbody tr th {\n",
              "        vertical-align: top;\n",
              "    }\n",
              "\n",
              "    .dataframe thead th {\n",
              "        text-align: right;\n",
              "    }\n",
              "</style>\n",
              "<table border=\"1\" class=\"dataframe\">\n",
              "  <thead>\n",
              "    <tr style=\"text-align: right;\">\n",
              "      <th></th>\n",
              "      <th>Player</th>\n",
              "      <th>FG%</th>\n",
              "    </tr>\n",
              "  </thead>\n",
              "  <tbody>\n",
              "    <tr>\n",
              "      <th>0</th>\n",
              "      <td>Precious Achiuwa</td>\n",
              "      <td>0.501</td>\n",
              "    </tr>\n",
              "    <tr>\n",
              "      <th>4</th>\n",
              "      <td>Nickeil Alexander-Walker</td>\n",
              "      <td>0.439</td>\n",
              "    </tr>\n",
              "    <tr>\n",
              "      <th>207</th>\n",
              "      <td>Isaiah Hartenstein</td>\n",
              "      <td>0.644</td>\n",
              "    </tr>\n",
              "  </tbody>\n",
              "</table>\n",
              "</div>\n",
              "    <div class=\"colab-df-buttons\">\n",
              "\n",
              "  <div class=\"colab-df-container\">\n",
              "    <button class=\"colab-df-convert\" onclick=\"convertToInteractive('df-5b7e22d4-88c3-48ce-955c-5de96ce23833')\"\n",
              "            title=\"Convert this dataframe to an interactive table.\"\n",
              "            style=\"display:none;\">\n",
              "\n",
              "  <svg xmlns=\"http://www.w3.org/2000/svg\" height=\"24px\" viewBox=\"0 -960 960 960\">\n",
              "    <path d=\"M120-120v-720h720v720H120Zm60-500h600v-160H180v160Zm220 220h160v-160H400v160Zm0 220h160v-160H400v160ZM180-400h160v-160H180v160Zm440 0h160v-160H620v160ZM180-180h160v-160H180v160Zm440 0h160v-160H620v160Z\"/>\n",
              "  </svg>\n",
              "    </button>\n",
              "\n",
              "  <style>\n",
              "    .colab-df-container {\n",
              "      display:flex;\n",
              "      gap: 12px;\n",
              "    }\n",
              "\n",
              "    .colab-df-convert {\n",
              "      background-color: #E8F0FE;\n",
              "      border: none;\n",
              "      border-radius: 50%;\n",
              "      cursor: pointer;\n",
              "      display: none;\n",
              "      fill: #1967D2;\n",
              "      height: 32px;\n",
              "      padding: 0 0 0 0;\n",
              "      width: 32px;\n",
              "    }\n",
              "\n",
              "    .colab-df-convert:hover {\n",
              "      background-color: #E2EBFA;\n",
              "      box-shadow: 0px 1px 2px rgba(60, 64, 67, 0.3), 0px 1px 3px 1px rgba(60, 64, 67, 0.15);\n",
              "      fill: #174EA6;\n",
              "    }\n",
              "\n",
              "    .colab-df-buttons div {\n",
              "      margin-bottom: 4px;\n",
              "    }\n",
              "\n",
              "    [theme=dark] .colab-df-convert {\n",
              "      background-color: #3B4455;\n",
              "      fill: #D2E3FC;\n",
              "    }\n",
              "\n",
              "    [theme=dark] .colab-df-convert:hover {\n",
              "      background-color: #434B5C;\n",
              "      box-shadow: 0px 1px 3px 1px rgba(0, 0, 0, 0.15);\n",
              "      filter: drop-shadow(0px 1px 2px rgba(0, 0, 0, 0.3));\n",
              "      fill: #FFFFFF;\n",
              "    }\n",
              "  </style>\n",
              "\n",
              "    <script>\n",
              "      const buttonEl =\n",
              "        document.querySelector('#df-5b7e22d4-88c3-48ce-955c-5de96ce23833 button.colab-df-convert');\n",
              "      buttonEl.style.display =\n",
              "        google.colab.kernel.accessAllowed ? 'block' : 'none';\n",
              "\n",
              "      async function convertToInteractive(key) {\n",
              "        const element = document.querySelector('#df-5b7e22d4-88c3-48ce-955c-5de96ce23833');\n",
              "        const dataTable =\n",
              "          await google.colab.kernel.invokeFunction('convertToInteractive',\n",
              "                                                    [key], {});\n",
              "        if (!dataTable) return;\n",
              "\n",
              "        const docLinkHtml = 'Like what you see? Visit the ' +\n",
              "          '<a target=\"_blank\" href=https://colab.research.google.com/notebooks/data_table.ipynb>data table notebook</a>'\n",
              "          + ' to learn more about interactive tables.';\n",
              "        element.innerHTML = '';\n",
              "        dataTable['output_type'] = 'display_data';\n",
              "        await google.colab.output.renderOutput(dataTable, element);\n",
              "        const docLink = document.createElement('div');\n",
              "        docLink.innerHTML = docLinkHtml;\n",
              "        element.appendChild(docLink);\n",
              "      }\n",
              "    </script>\n",
              "  </div>\n",
              "\n",
              "\n",
              "<div id=\"df-bc555ad4-8628-4047-9a23-7caf77401451\">\n",
              "  <button class=\"colab-df-quickchart\" onclick=\"quickchart('df-bc555ad4-8628-4047-9a23-7caf77401451')\"\n",
              "            title=\"Suggest charts\"\n",
              "            style=\"display:none;\">\n",
              "\n",
              "<svg xmlns=\"http://www.w3.org/2000/svg\" height=\"24px\"viewBox=\"0 0 24 24\"\n",
              "     width=\"24px\">\n",
              "    <g>\n",
              "        <path d=\"M19 3H5c-1.1 0-2 .9-2 2v14c0 1.1.9 2 2 2h14c1.1 0 2-.9 2-2V5c0-1.1-.9-2-2-2zM9 17H7v-7h2v7zm4 0h-2V7h2v10zm4 0h-2v-4h2v4z\"/>\n",
              "    </g>\n",
              "</svg>\n",
              "  </button>\n",
              "\n",
              "<style>\n",
              "  .colab-df-quickchart {\n",
              "      --bg-color: #E8F0FE;\n",
              "      --fill-color: #1967D2;\n",
              "      --hover-bg-color: #E2EBFA;\n",
              "      --hover-fill-color: #174EA6;\n",
              "      --disabled-fill-color: #AAA;\n",
              "      --disabled-bg-color: #DDD;\n",
              "  }\n",
              "\n",
              "  [theme=dark] .colab-df-quickchart {\n",
              "      --bg-color: #3B4455;\n",
              "      --fill-color: #D2E3FC;\n",
              "      --hover-bg-color: #434B5C;\n",
              "      --hover-fill-color: #FFFFFF;\n",
              "      --disabled-bg-color: #3B4455;\n",
              "      --disabled-fill-color: #666;\n",
              "  }\n",
              "\n",
              "  .colab-df-quickchart {\n",
              "    background-color: var(--bg-color);\n",
              "    border: none;\n",
              "    border-radius: 50%;\n",
              "    cursor: pointer;\n",
              "    display: none;\n",
              "    fill: var(--fill-color);\n",
              "    height: 32px;\n",
              "    padding: 0;\n",
              "    width: 32px;\n",
              "  }\n",
              "\n",
              "  .colab-df-quickchart:hover {\n",
              "    background-color: var(--hover-bg-color);\n",
              "    box-shadow: 0 1px 2px rgba(60, 64, 67, 0.3), 0 1px 3px 1px rgba(60, 64, 67, 0.15);\n",
              "    fill: var(--button-hover-fill-color);\n",
              "  }\n",
              "\n",
              "  .colab-df-quickchart-complete:disabled,\n",
              "  .colab-df-quickchart-complete:disabled:hover {\n",
              "    background-color: var(--disabled-bg-color);\n",
              "    fill: var(--disabled-fill-color);\n",
              "    box-shadow: none;\n",
              "  }\n",
              "\n",
              "  .colab-df-spinner {\n",
              "    border: 2px solid var(--fill-color);\n",
              "    border-color: transparent;\n",
              "    border-bottom-color: var(--fill-color);\n",
              "    animation:\n",
              "      spin 1s steps(1) infinite;\n",
              "  }\n",
              "\n",
              "  @keyframes spin {\n",
              "    0% {\n",
              "      border-color: transparent;\n",
              "      border-bottom-color: var(--fill-color);\n",
              "      border-left-color: var(--fill-color);\n",
              "    }\n",
              "    20% {\n",
              "      border-color: transparent;\n",
              "      border-left-color: var(--fill-color);\n",
              "      border-top-color: var(--fill-color);\n",
              "    }\n",
              "    30% {\n",
              "      border-color: transparent;\n",
              "      border-left-color: var(--fill-color);\n",
              "      border-top-color: var(--fill-color);\n",
              "      border-right-color: var(--fill-color);\n",
              "    }\n",
              "    40% {\n",
              "      border-color: transparent;\n",
              "      border-right-color: var(--fill-color);\n",
              "      border-top-color: var(--fill-color);\n",
              "    }\n",
              "    60% {\n",
              "      border-color: transparent;\n",
              "      border-right-color: var(--fill-color);\n",
              "    }\n",
              "    80% {\n",
              "      border-color: transparent;\n",
              "      border-right-color: var(--fill-color);\n",
              "      border-bottom-color: var(--fill-color);\n",
              "    }\n",
              "    90% {\n",
              "      border-color: transparent;\n",
              "      border-bottom-color: var(--fill-color);\n",
              "    }\n",
              "  }\n",
              "</style>\n",
              "\n",
              "  <script>\n",
              "    async function quickchart(key) {\n",
              "      const quickchartButtonEl =\n",
              "        document.querySelector('#' + key + ' button');\n",
              "      quickchartButtonEl.disabled = true;  // To prevent multiple clicks.\n",
              "      quickchartButtonEl.classList.add('colab-df-spinner');\n",
              "      try {\n",
              "        const charts = await google.colab.kernel.invokeFunction(\n",
              "            'suggestCharts', [key], {});\n",
              "      } catch (error) {\n",
              "        console.error('Error during call to suggestCharts:', error);\n",
              "      }\n",
              "      quickchartButtonEl.classList.remove('colab-df-spinner');\n",
              "      quickchartButtonEl.classList.add('colab-df-quickchart-complete');\n",
              "    }\n",
              "    (() => {\n",
              "      let quickchartButtonEl =\n",
              "        document.querySelector('#df-bc555ad4-8628-4047-9a23-7caf77401451 button');\n",
              "      quickchartButtonEl.style.display =\n",
              "        google.colab.kernel.accessAllowed ? 'block' : 'none';\n",
              "    })();\n",
              "  </script>\n",
              "</div>\n",
              "\n",
              "    </div>\n",
              "  </div>\n"
            ],
            "application/vnd.google.colaboratory.intrinsic+json": {
              "type": "dataframe",
              "summary": "{\n  \"name\": \"basketball[['Player', 'FG%']]\",\n  \"rows\": 3,\n  \"fields\": [\n    {\n      \"column\": \"Player\",\n      \"properties\": {\n        \"dtype\": \"string\",\n        \"num_unique_values\": 3,\n        \"samples\": [\n          \"Precious Achiuwa\",\n          \"Nickeil Alexander-Walker\",\n          \"Isaiah Hartenstein\"\n        ],\n        \"semantic_type\": \"\",\n        \"description\": \"\"\n      }\n    },\n    {\n      \"column\": \"FG%\",\n      \"properties\": {\n        \"dtype\": \"number\",\n        \"std\": 0.10513324878457814,\n        \"min\": 0.439,\n        \"max\": 0.644,\n        \"num_unique_values\": 3,\n        \"samples\": [\n          0.501,\n          0.439,\n          0.644\n        ],\n        \"semantic_type\": \"\",\n        \"description\": \"\"\n      }\n    }\n  ]\n}"
            }
          },
          "metadata": {},
          "execution_count": 55
        }
      ]
    },
    {
      "cell_type": "markdown",
      "source": [
        "**Task9**:\n",
        "\n",
        "Find the names of the Players, feild goal attempts (FGA) and total points (PTS) of the players in the 87th and  94th row."
      ],
      "metadata": {
        "id": "tmUPcmYoSifQ"
      }
    },
    {
      "cell_type": "code",
      "source": [
        "#ANSWER9\n",
        "\n",
        "#[*write your answer here*]"
      ],
      "metadata": {
        "id": "-J9tKk5mTFzz"
      },
      "execution_count": 56,
      "outputs": []
    },
    {
      "cell_type": "markdown",
      "source": [
        "### Query and Bools\n",
        "\n",
        "Because I provide clean, moderate to small sized data sets in this course, most of our data wrangling problems can be solved with query.\n",
        "\n",
        "Query makes use a of ab built in data type we haven't mentioned yet, called a bool."
      ],
      "metadata": {
        "id": "s8178kjoBtyU"
      }
    },
    {
      "cell_type": "markdown",
      "source": [
        "I'll give you an example of query, and then I'll define bools."
      ],
      "metadata": {
        "id": "-xwLw819HN_g"
      }
    },
    {
      "cell_type": "code",
      "source": [
        "#finds all players with more offensive rebounds than defensive rebounds\n",
        "#and who have also played more than 100 minutes\n",
        "hustle_players = basketball.query('ORB >= DRB and MP >= 100')\n",
        "hustle_players"
      ],
      "metadata": {
        "id": "NixyQgeYCPXf",
        "colab": {
          "base_uri": "https://localhost:8080/",
          "height": 396
        },
        "outputId": "6c23c34f-9f91-4737-f042-44700dd8dbef"
      },
      "execution_count": 57,
      "outputs": [
        {
          "output_type": "execute_result",
          "data": {
            "text/plain": [
              "                     Player Pos  Age   Tm   G  GS   MP   FG  FGA    FG%  ...  \\\n",
              "11   Thanasis Antetokounmpo  PF   31  MIL  34   0  155   16   30  0.533  ...   \n",
              "164              Luka Garza   C   25  MIN  25   0  122   36   75  0.480  ...   \n",
              "191        Mouhamadou Gueye  PF   25  TOR  11   0  120   11   38  0.289  ...   \n",
              "234            Matthew Hurt  PF   23  MEM   8   0  113   12   34  0.353  ...   \n",
              "286            Jock Landale   C   28  HOU  56   3  763  106  206  0.515  ...   \n",
              "295           Maxwell Lewis  SF   21  LAL  34   0  103    4   21  0.190  ...   \n",
              "346           Justin Minaya  SF   24  POR  34   1  381   22   74  0.297  ...   \n",
              "433       Mitchell Robinson   C   25  NYK  31  21  768   73  127  0.575  ...   \n",
              "551      Jeenathan Williams  SG   24  HOU  22   0  129   27   50  0.540  ...   \n",
              "\n",
              "     ORB  DRB  TRB  AST  STL  BLK  TOV  PF  PTS  Player-additional  \n",
              "11     7    6   13   17    7    4   14  24   32          antetth01  \n",
              "164   19   12   31    4    4    1    6  24   99          garzalu01  \n",
              "191   12   11   23    5    3   18   12  15   26          gueyemo01  \n",
              "234    9    7   16    4    3    3    2   8   32           hurtma01  \n",
              "286   88   84  172   65   20   33   31  74  274          landajo01  \n",
              "295    2    2    4    6    2    1   10   5   11          lewisma05  \n",
              "346   30   26   56   21    9   10    9  35   61          minayju01  \n",
              "433  142  121  263   18   37   35   25  55  173          robinmi01  \n",
              "551   12   11   23    7    4    1    4  10   63          willije02  \n",
              "\n",
              "[9 rows x 30 columns]"
            ],
            "text/html": [
              "\n",
              "  <div id=\"df-a09f14d8-7960-4f42-bc2c-99a38a64b39e\" class=\"colab-df-container\">\n",
              "    <div>\n",
              "<style scoped>\n",
              "    .dataframe tbody tr th:only-of-type {\n",
              "        vertical-align: middle;\n",
              "    }\n",
              "\n",
              "    .dataframe tbody tr th {\n",
              "        vertical-align: top;\n",
              "    }\n",
              "\n",
              "    .dataframe thead th {\n",
              "        text-align: right;\n",
              "    }\n",
              "</style>\n",
              "<table border=\"1\" class=\"dataframe\">\n",
              "  <thead>\n",
              "    <tr style=\"text-align: right;\">\n",
              "      <th></th>\n",
              "      <th>Player</th>\n",
              "      <th>Pos</th>\n",
              "      <th>Age</th>\n",
              "      <th>Tm</th>\n",
              "      <th>G</th>\n",
              "      <th>GS</th>\n",
              "      <th>MP</th>\n",
              "      <th>FG</th>\n",
              "      <th>FGA</th>\n",
              "      <th>FG%</th>\n",
              "      <th>...</th>\n",
              "      <th>ORB</th>\n",
              "      <th>DRB</th>\n",
              "      <th>TRB</th>\n",
              "      <th>AST</th>\n",
              "      <th>STL</th>\n",
              "      <th>BLK</th>\n",
              "      <th>TOV</th>\n",
              "      <th>PF</th>\n",
              "      <th>PTS</th>\n",
              "      <th>Player-additional</th>\n",
              "    </tr>\n",
              "  </thead>\n",
              "  <tbody>\n",
              "    <tr>\n",
              "      <th>11</th>\n",
              "      <td>Thanasis Antetokounmpo</td>\n",
              "      <td>PF</td>\n",
              "      <td>31</td>\n",
              "      <td>MIL</td>\n",
              "      <td>34</td>\n",
              "      <td>0</td>\n",
              "      <td>155</td>\n",
              "      <td>16</td>\n",
              "      <td>30</td>\n",
              "      <td>0.533</td>\n",
              "      <td>...</td>\n",
              "      <td>7</td>\n",
              "      <td>6</td>\n",
              "      <td>13</td>\n",
              "      <td>17</td>\n",
              "      <td>7</td>\n",
              "      <td>4</td>\n",
              "      <td>14</td>\n",
              "      <td>24</td>\n",
              "      <td>32</td>\n",
              "      <td>antetth01</td>\n",
              "    </tr>\n",
              "    <tr>\n",
              "      <th>164</th>\n",
              "      <td>Luka Garza</td>\n",
              "      <td>C</td>\n",
              "      <td>25</td>\n",
              "      <td>MIN</td>\n",
              "      <td>25</td>\n",
              "      <td>0</td>\n",
              "      <td>122</td>\n",
              "      <td>36</td>\n",
              "      <td>75</td>\n",
              "      <td>0.480</td>\n",
              "      <td>...</td>\n",
              "      <td>19</td>\n",
              "      <td>12</td>\n",
              "      <td>31</td>\n",
              "      <td>4</td>\n",
              "      <td>4</td>\n",
              "      <td>1</td>\n",
              "      <td>6</td>\n",
              "      <td>24</td>\n",
              "      <td>99</td>\n",
              "      <td>garzalu01</td>\n",
              "    </tr>\n",
              "    <tr>\n",
              "      <th>191</th>\n",
              "      <td>Mouhamadou Gueye</td>\n",
              "      <td>PF</td>\n",
              "      <td>25</td>\n",
              "      <td>TOR</td>\n",
              "      <td>11</td>\n",
              "      <td>0</td>\n",
              "      <td>120</td>\n",
              "      <td>11</td>\n",
              "      <td>38</td>\n",
              "      <td>0.289</td>\n",
              "      <td>...</td>\n",
              "      <td>12</td>\n",
              "      <td>11</td>\n",
              "      <td>23</td>\n",
              "      <td>5</td>\n",
              "      <td>3</td>\n",
              "      <td>18</td>\n",
              "      <td>12</td>\n",
              "      <td>15</td>\n",
              "      <td>26</td>\n",
              "      <td>gueyemo01</td>\n",
              "    </tr>\n",
              "    <tr>\n",
              "      <th>234</th>\n",
              "      <td>Matthew Hurt</td>\n",
              "      <td>PF</td>\n",
              "      <td>23</td>\n",
              "      <td>MEM</td>\n",
              "      <td>8</td>\n",
              "      <td>0</td>\n",
              "      <td>113</td>\n",
              "      <td>12</td>\n",
              "      <td>34</td>\n",
              "      <td>0.353</td>\n",
              "      <td>...</td>\n",
              "      <td>9</td>\n",
              "      <td>7</td>\n",
              "      <td>16</td>\n",
              "      <td>4</td>\n",
              "      <td>3</td>\n",
              "      <td>3</td>\n",
              "      <td>2</td>\n",
              "      <td>8</td>\n",
              "      <td>32</td>\n",
              "      <td>hurtma01</td>\n",
              "    </tr>\n",
              "    <tr>\n",
              "      <th>286</th>\n",
              "      <td>Jock Landale</td>\n",
              "      <td>C</td>\n",
              "      <td>28</td>\n",
              "      <td>HOU</td>\n",
              "      <td>56</td>\n",
              "      <td>3</td>\n",
              "      <td>763</td>\n",
              "      <td>106</td>\n",
              "      <td>206</td>\n",
              "      <td>0.515</td>\n",
              "      <td>...</td>\n",
              "      <td>88</td>\n",
              "      <td>84</td>\n",
              "      <td>172</td>\n",
              "      <td>65</td>\n",
              "      <td>20</td>\n",
              "      <td>33</td>\n",
              "      <td>31</td>\n",
              "      <td>74</td>\n",
              "      <td>274</td>\n",
              "      <td>landajo01</td>\n",
              "    </tr>\n",
              "    <tr>\n",
              "      <th>295</th>\n",
              "      <td>Maxwell Lewis</td>\n",
              "      <td>SF</td>\n",
              "      <td>21</td>\n",
              "      <td>LAL</td>\n",
              "      <td>34</td>\n",
              "      <td>0</td>\n",
              "      <td>103</td>\n",
              "      <td>4</td>\n",
              "      <td>21</td>\n",
              "      <td>0.190</td>\n",
              "      <td>...</td>\n",
              "      <td>2</td>\n",
              "      <td>2</td>\n",
              "      <td>4</td>\n",
              "      <td>6</td>\n",
              "      <td>2</td>\n",
              "      <td>1</td>\n",
              "      <td>10</td>\n",
              "      <td>5</td>\n",
              "      <td>11</td>\n",
              "      <td>lewisma05</td>\n",
              "    </tr>\n",
              "    <tr>\n",
              "      <th>346</th>\n",
              "      <td>Justin Minaya</td>\n",
              "      <td>SF</td>\n",
              "      <td>24</td>\n",
              "      <td>POR</td>\n",
              "      <td>34</td>\n",
              "      <td>1</td>\n",
              "      <td>381</td>\n",
              "      <td>22</td>\n",
              "      <td>74</td>\n",
              "      <td>0.297</td>\n",
              "      <td>...</td>\n",
              "      <td>30</td>\n",
              "      <td>26</td>\n",
              "      <td>56</td>\n",
              "      <td>21</td>\n",
              "      <td>9</td>\n",
              "      <td>10</td>\n",
              "      <td>9</td>\n",
              "      <td>35</td>\n",
              "      <td>61</td>\n",
              "      <td>minayju01</td>\n",
              "    </tr>\n",
              "    <tr>\n",
              "      <th>433</th>\n",
              "      <td>Mitchell Robinson</td>\n",
              "      <td>C</td>\n",
              "      <td>25</td>\n",
              "      <td>NYK</td>\n",
              "      <td>31</td>\n",
              "      <td>21</td>\n",
              "      <td>768</td>\n",
              "      <td>73</td>\n",
              "      <td>127</td>\n",
              "      <td>0.575</td>\n",
              "      <td>...</td>\n",
              "      <td>142</td>\n",
              "      <td>121</td>\n",
              "      <td>263</td>\n",
              "      <td>18</td>\n",
              "      <td>37</td>\n",
              "      <td>35</td>\n",
              "      <td>25</td>\n",
              "      <td>55</td>\n",
              "      <td>173</td>\n",
              "      <td>robinmi01</td>\n",
              "    </tr>\n",
              "    <tr>\n",
              "      <th>551</th>\n",
              "      <td>Jeenathan Williams</td>\n",
              "      <td>SG</td>\n",
              "      <td>24</td>\n",
              "      <td>HOU</td>\n",
              "      <td>22</td>\n",
              "      <td>0</td>\n",
              "      <td>129</td>\n",
              "      <td>27</td>\n",
              "      <td>50</td>\n",
              "      <td>0.540</td>\n",
              "      <td>...</td>\n",
              "      <td>12</td>\n",
              "      <td>11</td>\n",
              "      <td>23</td>\n",
              "      <td>7</td>\n",
              "      <td>4</td>\n",
              "      <td>1</td>\n",
              "      <td>4</td>\n",
              "      <td>10</td>\n",
              "      <td>63</td>\n",
              "      <td>willije02</td>\n",
              "    </tr>\n",
              "  </tbody>\n",
              "</table>\n",
              "<p>9 rows × 30 columns</p>\n",
              "</div>\n",
              "    <div class=\"colab-df-buttons\">\n",
              "\n",
              "  <div class=\"colab-df-container\">\n",
              "    <button class=\"colab-df-convert\" onclick=\"convertToInteractive('df-a09f14d8-7960-4f42-bc2c-99a38a64b39e')\"\n",
              "            title=\"Convert this dataframe to an interactive table.\"\n",
              "            style=\"display:none;\">\n",
              "\n",
              "  <svg xmlns=\"http://www.w3.org/2000/svg\" height=\"24px\" viewBox=\"0 -960 960 960\">\n",
              "    <path d=\"M120-120v-720h720v720H120Zm60-500h600v-160H180v160Zm220 220h160v-160H400v160Zm0 220h160v-160H400v160ZM180-400h160v-160H180v160Zm440 0h160v-160H620v160ZM180-180h160v-160H180v160Zm440 0h160v-160H620v160Z\"/>\n",
              "  </svg>\n",
              "    </button>\n",
              "\n",
              "  <style>\n",
              "    .colab-df-container {\n",
              "      display:flex;\n",
              "      gap: 12px;\n",
              "    }\n",
              "\n",
              "    .colab-df-convert {\n",
              "      background-color: #E8F0FE;\n",
              "      border: none;\n",
              "      border-radius: 50%;\n",
              "      cursor: pointer;\n",
              "      display: none;\n",
              "      fill: #1967D2;\n",
              "      height: 32px;\n",
              "      padding: 0 0 0 0;\n",
              "      width: 32px;\n",
              "    }\n",
              "\n",
              "    .colab-df-convert:hover {\n",
              "      background-color: #E2EBFA;\n",
              "      box-shadow: 0px 1px 2px rgba(60, 64, 67, 0.3), 0px 1px 3px 1px rgba(60, 64, 67, 0.15);\n",
              "      fill: #174EA6;\n",
              "    }\n",
              "\n",
              "    .colab-df-buttons div {\n",
              "      margin-bottom: 4px;\n",
              "    }\n",
              "\n",
              "    [theme=dark] .colab-df-convert {\n",
              "      background-color: #3B4455;\n",
              "      fill: #D2E3FC;\n",
              "    }\n",
              "\n",
              "    [theme=dark] .colab-df-convert:hover {\n",
              "      background-color: #434B5C;\n",
              "      box-shadow: 0px 1px 3px 1px rgba(0, 0, 0, 0.15);\n",
              "      filter: drop-shadow(0px 1px 2px rgba(0, 0, 0, 0.3));\n",
              "      fill: #FFFFFF;\n",
              "    }\n",
              "  </style>\n",
              "\n",
              "    <script>\n",
              "      const buttonEl =\n",
              "        document.querySelector('#df-a09f14d8-7960-4f42-bc2c-99a38a64b39e button.colab-df-convert');\n",
              "      buttonEl.style.display =\n",
              "        google.colab.kernel.accessAllowed ? 'block' : 'none';\n",
              "\n",
              "      async function convertToInteractive(key) {\n",
              "        const element = document.querySelector('#df-a09f14d8-7960-4f42-bc2c-99a38a64b39e');\n",
              "        const dataTable =\n",
              "          await google.colab.kernel.invokeFunction('convertToInteractive',\n",
              "                                                    [key], {});\n",
              "        if (!dataTable) return;\n",
              "\n",
              "        const docLinkHtml = 'Like what you see? Visit the ' +\n",
              "          '<a target=\"_blank\" href=https://colab.research.google.com/notebooks/data_table.ipynb>data table notebook</a>'\n",
              "          + ' to learn more about interactive tables.';\n",
              "        element.innerHTML = '';\n",
              "        dataTable['output_type'] = 'display_data';\n",
              "        await google.colab.output.renderOutput(dataTable, element);\n",
              "        const docLink = document.createElement('div');\n",
              "        docLink.innerHTML = docLinkHtml;\n",
              "        element.appendChild(docLink);\n",
              "      }\n",
              "    </script>\n",
              "  </div>\n",
              "\n",
              "\n",
              "<div id=\"df-126344d2-807f-4fc6-a249-4c8d987ff838\">\n",
              "  <button class=\"colab-df-quickchart\" onclick=\"quickchart('df-126344d2-807f-4fc6-a249-4c8d987ff838')\"\n",
              "            title=\"Suggest charts\"\n",
              "            style=\"display:none;\">\n",
              "\n",
              "<svg xmlns=\"http://www.w3.org/2000/svg\" height=\"24px\"viewBox=\"0 0 24 24\"\n",
              "     width=\"24px\">\n",
              "    <g>\n",
              "        <path d=\"M19 3H5c-1.1 0-2 .9-2 2v14c0 1.1.9 2 2 2h14c1.1 0 2-.9 2-2V5c0-1.1-.9-2-2-2zM9 17H7v-7h2v7zm4 0h-2V7h2v10zm4 0h-2v-4h2v4z\"/>\n",
              "    </g>\n",
              "</svg>\n",
              "  </button>\n",
              "\n",
              "<style>\n",
              "  .colab-df-quickchart {\n",
              "      --bg-color: #E8F0FE;\n",
              "      --fill-color: #1967D2;\n",
              "      --hover-bg-color: #E2EBFA;\n",
              "      --hover-fill-color: #174EA6;\n",
              "      --disabled-fill-color: #AAA;\n",
              "      --disabled-bg-color: #DDD;\n",
              "  }\n",
              "\n",
              "  [theme=dark] .colab-df-quickchart {\n",
              "      --bg-color: #3B4455;\n",
              "      --fill-color: #D2E3FC;\n",
              "      --hover-bg-color: #434B5C;\n",
              "      --hover-fill-color: #FFFFFF;\n",
              "      --disabled-bg-color: #3B4455;\n",
              "      --disabled-fill-color: #666;\n",
              "  }\n",
              "\n",
              "  .colab-df-quickchart {\n",
              "    background-color: var(--bg-color);\n",
              "    border: none;\n",
              "    border-radius: 50%;\n",
              "    cursor: pointer;\n",
              "    display: none;\n",
              "    fill: var(--fill-color);\n",
              "    height: 32px;\n",
              "    padding: 0;\n",
              "    width: 32px;\n",
              "  }\n",
              "\n",
              "  .colab-df-quickchart:hover {\n",
              "    background-color: var(--hover-bg-color);\n",
              "    box-shadow: 0 1px 2px rgba(60, 64, 67, 0.3), 0 1px 3px 1px rgba(60, 64, 67, 0.15);\n",
              "    fill: var(--button-hover-fill-color);\n",
              "  }\n",
              "\n",
              "  .colab-df-quickchart-complete:disabled,\n",
              "  .colab-df-quickchart-complete:disabled:hover {\n",
              "    background-color: var(--disabled-bg-color);\n",
              "    fill: var(--disabled-fill-color);\n",
              "    box-shadow: none;\n",
              "  }\n",
              "\n",
              "  .colab-df-spinner {\n",
              "    border: 2px solid var(--fill-color);\n",
              "    border-color: transparent;\n",
              "    border-bottom-color: var(--fill-color);\n",
              "    animation:\n",
              "      spin 1s steps(1) infinite;\n",
              "  }\n",
              "\n",
              "  @keyframes spin {\n",
              "    0% {\n",
              "      border-color: transparent;\n",
              "      border-bottom-color: var(--fill-color);\n",
              "      border-left-color: var(--fill-color);\n",
              "    }\n",
              "    20% {\n",
              "      border-color: transparent;\n",
              "      border-left-color: var(--fill-color);\n",
              "      border-top-color: var(--fill-color);\n",
              "    }\n",
              "    30% {\n",
              "      border-color: transparent;\n",
              "      border-left-color: var(--fill-color);\n",
              "      border-top-color: var(--fill-color);\n",
              "      border-right-color: var(--fill-color);\n",
              "    }\n",
              "    40% {\n",
              "      border-color: transparent;\n",
              "      border-right-color: var(--fill-color);\n",
              "      border-top-color: var(--fill-color);\n",
              "    }\n",
              "    60% {\n",
              "      border-color: transparent;\n",
              "      border-right-color: var(--fill-color);\n",
              "    }\n",
              "    80% {\n",
              "      border-color: transparent;\n",
              "      border-right-color: var(--fill-color);\n",
              "      border-bottom-color: var(--fill-color);\n",
              "    }\n",
              "    90% {\n",
              "      border-color: transparent;\n",
              "      border-bottom-color: var(--fill-color);\n",
              "    }\n",
              "  }\n",
              "</style>\n",
              "\n",
              "  <script>\n",
              "    async function quickchart(key) {\n",
              "      const quickchartButtonEl =\n",
              "        document.querySelector('#' + key + ' button');\n",
              "      quickchartButtonEl.disabled = true;  // To prevent multiple clicks.\n",
              "      quickchartButtonEl.classList.add('colab-df-spinner');\n",
              "      try {\n",
              "        const charts = await google.colab.kernel.invokeFunction(\n",
              "            'suggestCharts', [key], {});\n",
              "      } catch (error) {\n",
              "        console.error('Error during call to suggestCharts:', error);\n",
              "      }\n",
              "      quickchartButtonEl.classList.remove('colab-df-spinner');\n",
              "      quickchartButtonEl.classList.add('colab-df-quickchart-complete');\n",
              "    }\n",
              "    (() => {\n",
              "      let quickchartButtonEl =\n",
              "        document.querySelector('#df-126344d2-807f-4fc6-a249-4c8d987ff838 button');\n",
              "      quickchartButtonEl.style.display =\n",
              "        google.colab.kernel.accessAllowed ? 'block' : 'none';\n",
              "    })();\n",
              "  </script>\n",
              "</div>\n",
              "\n",
              "  <div id=\"id_5fd77585-0254-403e-972b-2daf6a5b96f8\">\n",
              "    <style>\n",
              "      .colab-df-generate {\n",
              "        background-color: #E8F0FE;\n",
              "        border: none;\n",
              "        border-radius: 50%;\n",
              "        cursor: pointer;\n",
              "        display: none;\n",
              "        fill: #1967D2;\n",
              "        height: 32px;\n",
              "        padding: 0 0 0 0;\n",
              "        width: 32px;\n",
              "      }\n",
              "\n",
              "      .colab-df-generate:hover {\n",
              "        background-color: #E2EBFA;\n",
              "        box-shadow: 0px 1px 2px rgba(60, 64, 67, 0.3), 0px 1px 3px 1px rgba(60, 64, 67, 0.15);\n",
              "        fill: #174EA6;\n",
              "      }\n",
              "\n",
              "      [theme=dark] .colab-df-generate {\n",
              "        background-color: #3B4455;\n",
              "        fill: #D2E3FC;\n",
              "      }\n",
              "\n",
              "      [theme=dark] .colab-df-generate:hover {\n",
              "        background-color: #434B5C;\n",
              "        box-shadow: 0px 1px 3px 1px rgba(0, 0, 0, 0.15);\n",
              "        filter: drop-shadow(0px 1px 2px rgba(0, 0, 0, 0.3));\n",
              "        fill: #FFFFFF;\n",
              "      }\n",
              "    </style>\n",
              "    <button class=\"colab-df-generate\" onclick=\"generateWithVariable('hustle_players')\"\n",
              "            title=\"Generate code using this dataframe.\"\n",
              "            style=\"display:none;\">\n",
              "\n",
              "  <svg xmlns=\"http://www.w3.org/2000/svg\" height=\"24px\"viewBox=\"0 0 24 24\"\n",
              "       width=\"24px\">\n",
              "    <path d=\"M7,19H8.4L18.45,9,17,7.55,7,17.6ZM5,21V16.75L18.45,3.32a2,2,0,0,1,2.83,0l1.4,1.43a1.91,1.91,0,0,1,.58,1.4,1.91,1.91,0,0,1-.58,1.4L9.25,21ZM18.45,9,17,7.55Zm-12,3A5.31,5.31,0,0,0,4.9,8.1,5.31,5.31,0,0,0,1,6.5,5.31,5.31,0,0,0,4.9,4.9,5.31,5.31,0,0,0,6.5,1,5.31,5.31,0,0,0,8.1,4.9,5.31,5.31,0,0,0,12,6.5,5.46,5.46,0,0,0,6.5,12Z\"/>\n",
              "  </svg>\n",
              "    </button>\n",
              "    <script>\n",
              "      (() => {\n",
              "      const buttonEl =\n",
              "        document.querySelector('#id_5fd77585-0254-403e-972b-2daf6a5b96f8 button.colab-df-generate');\n",
              "      buttonEl.style.display =\n",
              "        google.colab.kernel.accessAllowed ? 'block' : 'none';\n",
              "\n",
              "      buttonEl.onclick = () => {\n",
              "        google.colab.notebook.generateWithVariable('hustle_players');\n",
              "      }\n",
              "      })();\n",
              "    </script>\n",
              "  </div>\n",
              "\n",
              "    </div>\n",
              "  </div>\n"
            ],
            "application/vnd.google.colaboratory.intrinsic+json": {
              "type": "dataframe",
              "variable_name": "hustle_players"
            }
          },
          "metadata": {},
          "execution_count": 57
        }
      ]
    },
    {
      "cell_type": "markdown",
      "source": [
        "Bools are True or False. True is 1, and False is 0. The key words True and False cannot be variables"
      ],
      "metadata": {
        "id": "cqNSRXlKLjzY"
      }
    },
    {
      "cell_type": "code",
      "source": [
        "True = 2"
      ],
      "metadata": {
        "id": "IMkoHCnxNBlT",
        "colab": {
          "base_uri": "https://localhost:8080/",
          "height": 106
        },
        "outputId": "31c01b35-7e35-4cc0-9b1a-bb9dc2042a92"
      },
      "execution_count": 58,
      "outputs": [
        {
          "output_type": "error",
          "ename": "SyntaxError",
          "evalue": "cannot assign to True (<ipython-input-58-da3e5402d318>, line 1)",
          "traceback": [
            "\u001b[0;36m  File \u001b[0;32m\"<ipython-input-58-da3e5402d318>\"\u001b[0;36m, line \u001b[0;32m1\u001b[0m\n\u001b[0;31m    True = 2\u001b[0m\n\u001b[0m    ^\u001b[0m\n\u001b[0;31mSyntaxError\u001b[0m\u001b[0;31m:\u001b[0m cannot assign to True\n"
          ]
        }
      ]
    },
    {
      "cell_type": "markdown",
      "source": [
        "They come into play when I apply boolean operators. For example, if I want to know if 5 equals 5."
      ],
      "metadata": {
        "id": "CAm_sVCKNjhj"
      }
    },
    {
      "cell_type": "code",
      "source": [
        "#does 5 equal 5?\n",
        "5 == 5"
      ],
      "metadata": {
        "id": "pHII6IpJNsqH",
        "colab": {
          "base_uri": "https://localhost:8080/"
        },
        "outputId": "aa10877e-1f51-4331-d209-6f7d3afef772"
      },
      "execution_count": 59,
      "outputs": [
        {
          "output_type": "execute_result",
          "data": {
            "text/plain": [
              "True"
            ]
          },
          "metadata": {},
          "execution_count": 59
        }
      ]
    },
    {
      "cell_type": "code",
      "source": [
        "#does 5 equal 'five'?\n",
        "5 == 'five'"
      ],
      "metadata": {
        "id": "tJc4gWaEN1NC",
        "colab": {
          "base_uri": "https://localhost:8080/"
        },
        "outputId": "c9d11f04-d7c8-43b4-cbd9-b5a70433e9ce"
      },
      "execution_count": 60,
      "outputs": [
        {
          "output_type": "execute_result",
          "data": {
            "text/plain": [
              "False"
            ]
          },
          "metadata": {},
          "execution_count": 60
        }
      ]
    },
    {
      "cell_type": "markdown",
      "source": [
        "True and False are also the numbers 1 and 0 respectively. This can come in handy"
      ],
      "metadata": {
        "id": "vhEu9RJ6N-0P"
      }
    },
    {
      "cell_type": "code",
      "source": [
        "#True equals 1\n",
        "True == 1"
      ],
      "metadata": {
        "id": "0lX5v4HsOFsr",
        "colab": {
          "base_uri": "https://localhost:8080/"
        },
        "outputId": "b2fe2756-5348-468d-c70c-5df5c33a4f02"
      },
      "execution_count": 61,
      "outputs": [
        {
          "output_type": "execute_result",
          "data": {
            "text/plain": [
              "True"
            ]
          },
          "metadata": {},
          "execution_count": 61
        }
      ]
    },
    {
      "cell_type": "code",
      "source": [
        "#True not equaling 1 is False\n",
        "True != 1"
      ],
      "metadata": {
        "id": "ZaXQGv0xOMST",
        "colab": {
          "base_uri": "https://localhost:8080/"
        },
        "outputId": "1e47d15e-ec89-4b6b-c9cd-c3ef0221d464"
      },
      "execution_count": 62,
      "outputs": [
        {
          "output_type": "execute_result",
          "data": {
            "text/plain": [
              "False"
            ]
          },
          "metadata": {},
          "execution_count": 62
        }
      ]
    },
    {
      "cell_type": "code",
      "source": [
        "#Adding bools counts the number of trues\n",
        "False + True + True + False + False"
      ],
      "metadata": {
        "id": "VZLlermvOqPf",
        "colab": {
          "base_uri": "https://localhost:8080/"
        },
        "outputId": "abeb3330-24dd-4756-c054-1b84c0a8f67d"
      },
      "execution_count": 63,
      "outputs": [
        {
          "output_type": "execute_result",
          "data": {
            "text/plain": [
              "2"
            ]
          },
          "metadata": {},
          "execution_count": 63
        }
      ]
    },
    {
      "cell_type": "markdown",
      "source": [
        "Here's an example each of and, or, and not."
      ],
      "metadata": {
        "id": "nyoZmvB0O8ap"
      }
    },
    {
      "cell_type": "code",
      "source": [
        "#both sides must be true for and\n",
        "(True == 1) and (False != 0)"
      ],
      "metadata": {
        "id": "P9d-EEnyPBrx",
        "colab": {
          "base_uri": "https://localhost:8080/"
        },
        "outputId": "e4b56144-28eb-493b-9b9b-14f5de317eb9"
      },
      "execution_count": 64,
      "outputs": [
        {
          "output_type": "execute_result",
          "data": {
            "text/plain": [
              "False"
            ]
          },
          "metadata": {},
          "execution_count": 64
        }
      ]
    },
    {
      "cell_type": "code",
      "source": [
        "#only one side (or more) needs to be true for or\n",
        "(True == 1) or (False != 0)"
      ],
      "metadata": {
        "id": "Ukyk9iqwPWbI"
      },
      "execution_count": null,
      "outputs": []
    },
    {
      "cell_type": "code",
      "source": [
        "#not swaps True for False, and False for True\n",
        "not 0, not False"
      ],
      "metadata": {
        "id": "B86v6IJXPc9n"
      },
      "execution_count": null,
      "outputs": []
    },
    {
      "cell_type": "markdown",
      "source": [
        "Here are the other four boolean operations."
      ],
      "metadata": {
        "id": "yT-aKlvBQCD-"
      }
    },
    {
      "cell_type": "code",
      "source": [
        "#strictly less than, and strickly greater than\n",
        "0 < 0, 4 > 5"
      ],
      "metadata": {
        "id": "6gbLhA01QGO4"
      },
      "execution_count": null,
      "outputs": []
    },
    {
      "cell_type": "code",
      "source": [
        "#less than or equal to, and greater than or equal to\n",
        "5 <= 5, 6 >= 5"
      ],
      "metadata": {
        "id": "315B_UvnQVsl"
      },
      "execution_count": null,
      "outputs": []
    },
    {
      "cell_type": "markdown",
      "source": [
        "Now that you know what bools are, use my example query from above to complete the task below."
      ],
      "metadata": {
        "id": "jBzfaRgISPH-"
      }
    },
    {
      "cell_type": "markdown",
      "source": [
        "**Task10**:\n",
        "\n",
        "Find all the players that have played more than 41 games (G), and have more turn overs (TOV) than assists (AST)."
      ],
      "metadata": {
        "id": "cofxFtMVXVEq"
      }
    },
    {
      "cell_type": "code",
      "source": [
        "#ANSWER10\n",
        "\n",
        "#[*write your answer here*]"
      ],
      "metadata": {
        "id": "R-6NsnAaYTge"
      },
      "execution_count": null,
      "outputs": []
    },
    {
      "cell_type": "markdown",
      "source": [
        "## For loops\n",
        "\n",
        "Most of the time, there is some [dataframe method](https://pandas.pydata.org/docs/reference/frame.html) that does whatever we want, in terms of data wrangling.\n",
        "\n",
        "Occasionally, there will be no built in method that quite does what we need.\n",
        "\n",
        "In those cases, we will use a for loop. For loops often involve if statements, so we'll introduce those as well."
      ],
      "metadata": {
        "id": "xihD6cs1qugo"
      }
    },
    {
      "cell_type": "markdown",
      "source": [
        "I'll start with a simple example that isn't all that useful."
      ],
      "metadata": {
        "id": "21bkIGlpkARj"
      }
    },
    {
      "cell_type": "code",
      "source": [
        "#initialize a variable to update during the for loop\n",
        "x = 0\n",
        "\n",
        "#initialize an iterable to run our for loop over\n",
        "onetoten = np.arange(1,11)\n",
        "\n",
        "#the actual for loop\n",
        "for i in onetoten:\n",
        "    x = x + i"
      ],
      "metadata": {
        "id": "flrWiOtLkJyl"
      },
      "execution_count": 37,
      "outputs": []
    },
    {
      "cell_type": "code",
      "source": [
        "#the sume of the numbers from one to ten\n",
        "x"
      ],
      "metadata": {
        "id": "4SvTFnAjluSn",
        "colab": {
          "base_uri": "https://localhost:8080/"
        },
        "outputId": "00e2ddce-e2ef-4ff8-b788-94bd926b0b43"
      },
      "execution_count": 38,
      "outputs": [
        {
          "output_type": "execute_result",
          "data": {
            "text/plain": [
              "55"
            ]
          },
          "metadata": {},
          "execution_count": 38
        }
      ]
    },
    {
      "cell_type": "markdown",
      "source": [
        "Most of the time, we'll avoid for loops for anything but plotting, because their are often better vectorized solutions available."
      ],
      "metadata": {
        "id": "nlsNqVjsmYOx"
      }
    },
    {
      "cell_type": "code",
      "source": [
        "#could have just used the vectroized solution\n",
        "onetoten.sum()"
      ],
      "metadata": {
        "id": "xU0F_V8AmL98",
        "colab": {
          "base_uri": "https://localhost:8080/"
        },
        "outputId": "3f60dacc-3676-4ef5-f598-84e2b1ebd37a"
      },
      "execution_count": 39,
      "outputs": [
        {
          "output_type": "execute_result",
          "data": {
            "text/plain": [
              "55"
            ]
          },
          "metadata": {},
          "execution_count": 39
        }
      ]
    },
    {
      "cell_type": "markdown",
      "source": [
        "Here's a more relevant example:\n",
        "\n",
        "While playing with the 2023/2024 NBA basketball data, I wanted to pull up Lebron James' stats. And I figured I might as well pull all the other players with James in their name, since there couldn't be that many.\n",
        "\n",
        "I searched for a while, and couldn't find a nice vectorized solution that uses the pandas methods.\n",
        "\n",
        "So I wrote this for loop. It has too new things from the previous loop:\n",
        "\n",
        "- a function, enumerate, which allows me to grab the item in my iterable and the index of that item.\n",
        "- an if statement. They work like this: if the condition in them is met, execute the indented code. If not, then continue with the rest of the for loop.\n",
        "\n",
        "Most for loops we need in this class will be at least this complicated. Usually more so."
      ],
      "metadata": {
        "id": "x0tdMXhxuaJ_"
      }
    },
    {
      "cell_type": "code",
      "source": [
        "#create an array of all zeros the same length as one of the columns in basketball\n",
        "james_index = np.zeros_like(basketball.Player)\n",
        "\n",
        "#index is the number of the row, name is the string that represents player name\n",
        "#enumerate is a function that breaks basketball.Player into index and name\n",
        "for index, name in enumerate(basketball.Player):\n",
        "\n",
        "    #if the string 'James' is in the string of player name\n",
        "    if 'James' in name:\n",
        "\n",
        "        #then put a True value, or 1, in the corresponding James index tracker\n",
        "        james_index[index] = 1\n",
        "\n",
        "#adds up the array elements of james_index\n",
        "#this helps me know if my loop went awry or not\n",
        "#but otherwise has nothing to do with the for loop.\n",
        "james_index.sum()"
      ],
      "metadata": {
        "id": "lv7xrz2xrllT",
        "colab": {
          "base_uri": "https://localhost:8080/"
        },
        "outputId": "8f24ddc0-96f9-4271-b3fa-30c6612fcda0"
      },
      "execution_count": 65,
      "outputs": [
        {
          "output_type": "execute_result",
          "data": {
            "text/plain": [
              "5"
            ]
          },
          "metadata": {},
          "execution_count": 65
        }
      ]
    },
    {
      "cell_type": "code",
      "source": [
        "#always a good idea to print out any data set you've created\n",
        "#even if you're expecting it to be uninteresting\n",
        "james_index"
      ],
      "metadata": {
        "id": "pyusseuFzHyl"
      },
      "execution_count": null,
      "outputs": []
    },
    {
      "cell_type": "code",
      "source": [
        "#this grabs all the rows/players with James in their name\n",
        "basketball.loc[james_index == True]"
      ],
      "metadata": {
        "id": "alSwKExExd_p"
      },
      "execution_count": null,
      "outputs": []
    },
    {
      "cell_type": "markdown",
      "source": [
        "This next task will require all the most relevant data manipulation skills we've learned thus far. Try to copy and paste code from this document, and then modify as needed. Remember, your code doesn't need to work the first, or even tenth, time you run it."
      ],
      "metadata": {
        "id": "l9PkQ4E19gPZ"
      }
    },
    {
      "cell_type": "markdown",
      "source": [
        "**Task11**:\n",
        "\n",
        "Display all players--and their stats--who are PG (point guards), have a 0.9 FT% (free throw percentage) or higher  AND more than 40 FTA (free throw attempts) for the 2023/2024 NBA season."
      ],
      "metadata": {
        "id": "8vMSBRIj2MzA"
      }
    },
    {
      "cell_type": "code",
      "source": [
        "#ANSWER11\n",
        "\n",
        "#[*write your answer here*]"
      ],
      "metadata": {
        "id": "y4ccY05_2wmT"
      },
      "execution_count": null,
      "outputs": []
    },
    {
      "cell_type": "code",
      "source": [
        "#ANSWER11 cont.\n",
        "\n",
        "#[*write your answer here*]"
      ],
      "metadata": {
        "id": "wOGzmQUu5jFs"
      },
      "execution_count": null,
      "outputs": []
    },
    {
      "cell_type": "markdown",
      "source": [
        "## Exporting Data from Colab\n",
        "\n",
        "I don't plan on making you do this as part of the course, but this is still a skill I want you to have.\n",
        "\n",
        "As usual, I'm only covering a tiny bit of what's available. For more info, see: [Importing/Exporting files using pandas](https://pandas.pydata.org/docs/reference/io.html)"
      ],
      "metadata": {
        "id": "Eecz-8LBCA5i"
      }
    },
    {
      "cell_type": "markdown",
      "source": [
        "Let's say I have a colleague for who doesn't know how to code and will not ever learn how, but they still need the data I've manipulated/generated in order to do their job.\n",
        "\n",
        "In this case, the path of least resistance is to export the data from Colab to my local machine, and then put it in a shared cloud folder (like google drive) and/or send it to them in an email.\n",
        "\n",
        "Let's practice this with the James data, shown below."
      ],
      "metadata": {
        "id": "p-yKIjDmCndi"
      }
    },
    {
      "cell_type": "code",
      "source": [
        "james_df = basketball.loc[james_index == True]\n",
        "james_df"
      ],
      "metadata": {
        "id": "1KkXOA39EbQz"
      },
      "execution_count": null,
      "outputs": []
    },
    {
      "cell_type": "markdown",
      "source": [
        "Here's how I can turn this into a csv, a format most programs (like excel) can read:"
      ],
      "metadata": {
        "id": "tIXIvi_NEhuO"
      }
    },
    {
      "cell_type": "code",
      "source": [
        "#creates a csv file on whatver machine the code is run on.\n",
        "#I need to name the file as well.\n",
        "james_df.to_csv('NBA_Jameses.csv')"
      ],
      "metadata": {
        "id": "P0Gff6oyEsCj"
      },
      "execution_count": null,
      "outputs": []
    },
    {
      "cell_type": "markdown",
      "source": [
        "Next steps:\n",
        "\n",
        "1. Look at the side panel--to the left of all the code and text blocks.\n",
        "\n",
        "2. Click on the icon that looks like a tiny manilla folder.\n",
        "\n",
        "3. Find NBA_Jameses.csv, hover your mouse over it, and click on the three stacked dots to the right of it.\n",
        "\n",
        "4. Click download.\n",
        "\n",
        "From there, its the same as downloading any file from the internet onto your computer."
      ],
      "metadata": {
        "id": "sjErCHmpFTeA"
      }
    },
    {
      "cell_type": "markdown",
      "source": [
        "While you're there, notice that you can upload files to the google server where all your code is being run, and even mount your google drive account."
      ],
      "metadata": {
        "id": "3vZm9Q1SGBtV"
      }
    },
    {
      "cell_type": "markdown",
      "source": [
        "## Further Reading\n",
        "\n",
        "As promised, there is much I didn't cover. Here's lip service to some of that left out information.\n",
        "\n"
      ],
      "metadata": {
        "id": "ytvCHMghHAI3"
      }
    },
    {
      "cell_type": "markdown",
      "source": [
        "### Tensors and xarrays\n",
        "\n",
        "Notable datastructures I didn't cover, but that are relevant for modern machince learning: tensors, and xarrays.\n",
        "\n",
        "Tensors are multi dimensional arrays; technically numpy can make them, but tensorflow and Pytorch are two libraries that implement tensors more optimized for statistical learning.\n",
        "\n",
        "xarray is its own python library, and it's basically what would happen if a dataframe and a dict had the perfect child.\n",
        "\n",
        "We use tensors are for doing math with high dimensional data, and we use xarrays to keeping track of a lot of seperate, but related, datasets.\n",
        "\n",
        "We will hardly use tensors in this class, but we'll use xarrays all the time. We'll discuss them more as they come up.\n"
      ],
      "metadata": {
        "id": "WYTnGKxfI-2k"
      }
    },
    {
      "cell_type": "markdown",
      "source": [
        "### Data Wrangling\n",
        "\n",
        "Data Wrangling is what happens when the data you want is not a csv . That's a bit of a joke and an exaggeration . . . but its also not.\n",
        "\n",
        "When I say csv, I mean nice, neat rows and columns, with everything lined up and seperated by commas.\n",
        "\n",
        "Here are various ways real world data can make us suffer:\n",
        "- it's not collected in rows and columns\n",
        "- it's collected in rows and columns, but so disorganized that the rows and columns don't actually mean anything.\n",
        "- it's collected in neat rows and columns, but the the entries into those rows and columns are inconsistent in format.\n",
        "- everything is in rows and columns, neat and consistent throughout--but our functions are still reading the data wrong (this happened to me with a csv file that wasn't actually seperated by commas, but by semi colons instead).\n",
        "- like the last point, except everything was read correctly, but now there are missing values.\n",
        "- any combination of the above.\n",
        "\n",
        "Even if everything is actually perfect--which does happen--data sets can be so large that doing anything with them at all is a chore.\n",
        "\n",
        "For class notes and exercises, I've limited my examples to perfectly clean, small to medium sized data.\n",
        "\n",
        "Projects are open ended. On projects, it's up to you if you want to choose a pre-cleaned data set or not."
      ],
      "metadata": {
        "id": "lpYgcE1hJXRf"
      }
    },
    {
      "cell_type": "markdown",
      "source": [
        "## Summary\n",
        "\n",
        "We covered quite a bit in our first unit.\n",
        "\n",
        "We:\n",
        "\n",
        "- learned the two main ways python deals with numbers, ints and floats\n",
        "- covered strings, lists, and dicts, which we can use to store multiple pieces of data linked together.\n",
        "- introduced the numpy array, the most common way to mathematically operate on collections of data of the same type in python\n",
        "- manipulated real world tabular data using pandas\n",
        "- learned how to import and export data from pandas.\n",
        "\n",
        "I expect most of y'all to feel overwhelmed and confused, especially if this is your first coding class. That's good! It means you're thinking about this material.\n",
        "\n",
        "Remember, I'm not asking or expecting you to become an expert data scientist. Our goal is to get vulnearble and expose ourselves to how data science/modern statistics is done. Feel good if you've done that!"
      ],
      "metadata": {
        "id": "9kayKzu5M8-N"
      }
    }
  ]
}