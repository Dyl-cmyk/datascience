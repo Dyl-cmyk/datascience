{
  "cells": [
    {
      "cell_type": "markdown",
      "metadata": {
        "id": "view-in-github",
        "colab_type": "text"
      },
      "source": [
        "<a href=\"https://colab.research.google.com/github/Dyl-cmyk/datascience/blob/projects/DylaLaurUnit9Project.ipynb\" target=\"_parent\"><img src=\"https://colab.research.google.com/assets/colab-badge.svg\" alt=\"Open In Colab\"/></a>"
      ]
    },
    {
      "cell_type": "markdown",
      "metadata": {
        "id": "hIWO5hU4NeAg"
      },
      "source": [
        "# Unit 9 Project: Your first neural network"
      ]
    },
    {
      "cell_type": "markdown",
      "metadata": {
        "id": "epFGaXjtz14y"
      },
      "source": [
        "##Intro\n",
        "\n",
        "For this project i decided to use a kaggle dataset to train pyTorch to recgonize landscapes. The dataset I am using was designed specficically for this process and included a train dataset and a test dataset.\n",
        "\n",
        "I had to do a little bit of research on how to get Pytorch to analyze images, but after that the hard part was over...not rlly..."
      ]
    },
    {
      "cell_type": "markdown",
      "metadata": {
        "id": "QFKHJL0OKPhJ"
      },
      "source": [
        "Important Links For Doing the Project\n",
        "\n",
        "[Dataset Page](https://www.kaggle.com/datasets/puneet6060/intel-image-classification/data)\n",
        "\n",
        "[Learning How to make a CNN](https://machinelearningmastery.com/building-a-convolutional-neural-network-in-pytorch/)\n",
        "\n",
        "[Learning how to read the code for a CNN](https://ubc-mds.github.io/DSCI_572_sup-learn-2/lectures/06_cnns-pt1.html)"
      ]
    },
    {
      "cell_type": "code",
      "execution_count": 2,
      "metadata": {
        "colab": {
          "base_uri": "https://localhost:8080/"
        },
        "id": "IKh8RQSHuxhS",
        "outputId": "d1b02311-4808-404f-b4ba-df46bd1861b4"
      },
      "outputs": [
        {
          "output_type": "stream",
          "name": "stdout",
          "text": [
            "Path to dataset files: /kaggle/input/intel-image-classification\n"
          ]
        }
      ],
      "source": [
        "import torch\n",
        "import numpy as np\n",
        "from torch import nn\n",
        "from torchvision import datasets, transforms\n",
        "import torch.optim as optim\n",
        "import pandas as pd\n",
        "import sklearn\n",
        "import seaborn as sns\n",
        "from sklearn.model_selection import train_test_split\n",
        "from sklearn.preprocessing import StandardScaler\n",
        "import matplotlib.pyplot as plt\n",
        "import kagglehub\n",
        "\n",
        "# Download latest version and Importing Kaggle data\n",
        "path = kagglehub.dataset_download(\"puneet6060/intel-image-classification\")\n",
        "\n",
        "print(\"Path to dataset files:\", path)"
      ]
    },
    {
      "cell_type": "markdown",
      "source": [
        "##Attempt 1 Doing my own tuning\n",
        "I decided to use the code from the \"learning how to make CNN\" link and attempted to do the math on my own on what values Conv2d and fc3 need to be in order to run the neural network successfuly. I also attempted to do some of my own optimizing by changing the kernel size and padding to get it to run more smoothly."
      ],
      "metadata": {
        "id": "XO6nBdXYZ03O"
      }
    },
    {
      "cell_type": "code",
      "execution_count": 2,
      "metadata": {
        "id": "UPImUXBXx8yl"
      },
      "outputs": [],
      "source": [
        "data_train = path + '/seg_pred' # load training data from Kaggle\n",
        "data_test = path + '/seg_test' # load test data from Kaggle\n",
        "\n",
        "transform = transforms.Compose([transforms.ToTensor()])# TODO: compose transforms here\n",
        "\n",
        "traindata = datasets.ImageFolder(data_train, transform=transform) # TODO: create the ImageFolder\n",
        "testdata = datasets.ImageFolder(data_test, transform=transform)\n",
        "\n",
        "trainloader = torch.utils.data.DataLoader(traindata, batch_size=32, shuffle=True) # TODO: use the ImageFolder dataset to create the DataLoader\n",
        "testloader = torch.utils.data.DataLoader(testdata, batch_size=32, shuffle=True)"
      ]
    },
    {
      "cell_type": "code",
      "execution_count": null,
      "metadata": {
        "colab": {
          "background_save": true
        },
        "id": "q2yssBg32rm7",
        "outputId": "c2ce88f6-eb8e-46a3-8e3f-2e310c626870"
      },
      "outputs": [
        {
          "ename": "RuntimeError",
          "evalue": "stack expects each tensor to be equal size, but got [3, 150, 150] at entry 0 and [3, 144, 150] at entry 30",
          "output_type": "error",
          "traceback": [
            "\u001b[0;31m---------------------------------------------------------------------------\u001b[0m",
            "\u001b[0;31mRuntimeError\u001b[0m                              Traceback (most recent call last)",
            "\u001b[0;32m<ipython-input-4-515cf997edd5>\u001b[0m in \u001b[0;36m<cell line: 0>\u001b[0;34m()\u001b[0m\n\u001b[1;32m     41\u001b[0m \u001b[0mn_epochs\u001b[0m \u001b[0;34m=\u001b[0m \u001b[0;36m20\u001b[0m\u001b[0;34m\u001b[0m\u001b[0;34m\u001b[0m\u001b[0m\n\u001b[1;32m     42\u001b[0m \u001b[0;32mfor\u001b[0m \u001b[0mepoch\u001b[0m \u001b[0;32min\u001b[0m \u001b[0mrange\u001b[0m\u001b[0;34m(\u001b[0m\u001b[0mn_epochs\u001b[0m\u001b[0;34m)\u001b[0m\u001b[0;34m:\u001b[0m\u001b[0;34m\u001b[0m\u001b[0;34m\u001b[0m\u001b[0m\n\u001b[0;32m---> 43\u001b[0;31m     \u001b[0;32mfor\u001b[0m \u001b[0minputs\u001b[0m\u001b[0;34m,\u001b[0m \u001b[0mlabels\u001b[0m \u001b[0;32min\u001b[0m \u001b[0mtrainloader\u001b[0m\u001b[0;34m:\u001b[0m\u001b[0;34m\u001b[0m\u001b[0;34m\u001b[0m\u001b[0m\n\u001b[0m\u001b[1;32m     44\u001b[0m         \u001b[0;31m# forward, backward, and then weight update\u001b[0m\u001b[0;34m\u001b[0m\u001b[0;34m\u001b[0m\u001b[0m\n\u001b[1;32m     45\u001b[0m         \u001b[0my_pred\u001b[0m \u001b[0;34m=\u001b[0m \u001b[0mmodel\u001b[0m\u001b[0;34m(\u001b[0m\u001b[0minputs\u001b[0m\u001b[0;34m)\u001b[0m\u001b[0;34m\u001b[0m\u001b[0;34m\u001b[0m\u001b[0m\n",
            "\u001b[0;32m/usr/local/lib/python3.11/dist-packages/torch/utils/data/dataloader.py\u001b[0m in \u001b[0;36m__next__\u001b[0;34m(self)\u001b[0m\n\u001b[1;32m    706\u001b[0m                 \u001b[0;31m# TODO(https://github.com/pytorch/pytorch/issues/76750)\u001b[0m\u001b[0;34m\u001b[0m\u001b[0;34m\u001b[0m\u001b[0m\n\u001b[1;32m    707\u001b[0m                 \u001b[0mself\u001b[0m\u001b[0;34m.\u001b[0m\u001b[0m_reset\u001b[0m\u001b[0;34m(\u001b[0m\u001b[0;34m)\u001b[0m  \u001b[0;31m# type: ignore[call-arg]\u001b[0m\u001b[0;34m\u001b[0m\u001b[0;34m\u001b[0m\u001b[0m\n\u001b[0;32m--> 708\u001b[0;31m             \u001b[0mdata\u001b[0m \u001b[0;34m=\u001b[0m \u001b[0mself\u001b[0m\u001b[0;34m.\u001b[0m\u001b[0m_next_data\u001b[0m\u001b[0;34m(\u001b[0m\u001b[0;34m)\u001b[0m\u001b[0;34m\u001b[0m\u001b[0;34m\u001b[0m\u001b[0m\n\u001b[0m\u001b[1;32m    709\u001b[0m             \u001b[0mself\u001b[0m\u001b[0;34m.\u001b[0m\u001b[0m_num_yielded\u001b[0m \u001b[0;34m+=\u001b[0m \u001b[0;36m1\u001b[0m\u001b[0;34m\u001b[0m\u001b[0;34m\u001b[0m\u001b[0m\n\u001b[1;32m    710\u001b[0m             if (\n",
            "\u001b[0;32m/usr/local/lib/python3.11/dist-packages/torch/utils/data/dataloader.py\u001b[0m in \u001b[0;36m_next_data\u001b[0;34m(self)\u001b[0m\n\u001b[1;32m    762\u001b[0m     \u001b[0;32mdef\u001b[0m \u001b[0m_next_data\u001b[0m\u001b[0;34m(\u001b[0m\u001b[0mself\u001b[0m\u001b[0;34m)\u001b[0m\u001b[0;34m:\u001b[0m\u001b[0;34m\u001b[0m\u001b[0;34m\u001b[0m\u001b[0m\n\u001b[1;32m    763\u001b[0m         \u001b[0mindex\u001b[0m \u001b[0;34m=\u001b[0m \u001b[0mself\u001b[0m\u001b[0;34m.\u001b[0m\u001b[0m_next_index\u001b[0m\u001b[0;34m(\u001b[0m\u001b[0;34m)\u001b[0m  \u001b[0;31m# may raise StopIteration\u001b[0m\u001b[0;34m\u001b[0m\u001b[0;34m\u001b[0m\u001b[0m\n\u001b[0;32m--> 764\u001b[0;31m         \u001b[0mdata\u001b[0m \u001b[0;34m=\u001b[0m \u001b[0mself\u001b[0m\u001b[0;34m.\u001b[0m\u001b[0m_dataset_fetcher\u001b[0m\u001b[0;34m.\u001b[0m\u001b[0mfetch\u001b[0m\u001b[0;34m(\u001b[0m\u001b[0mindex\u001b[0m\u001b[0;34m)\u001b[0m  \u001b[0;31m# may raise StopIteration\u001b[0m\u001b[0;34m\u001b[0m\u001b[0;34m\u001b[0m\u001b[0m\n\u001b[0m\u001b[1;32m    765\u001b[0m         \u001b[0;32mif\u001b[0m \u001b[0mself\u001b[0m\u001b[0;34m.\u001b[0m\u001b[0m_pin_memory\u001b[0m\u001b[0;34m:\u001b[0m\u001b[0;34m\u001b[0m\u001b[0;34m\u001b[0m\u001b[0m\n\u001b[1;32m    766\u001b[0m             \u001b[0mdata\u001b[0m \u001b[0;34m=\u001b[0m \u001b[0m_utils\u001b[0m\u001b[0;34m.\u001b[0m\u001b[0mpin_memory\u001b[0m\u001b[0;34m.\u001b[0m\u001b[0mpin_memory\u001b[0m\u001b[0;34m(\u001b[0m\u001b[0mdata\u001b[0m\u001b[0;34m,\u001b[0m \u001b[0mself\u001b[0m\u001b[0;34m.\u001b[0m\u001b[0m_pin_memory_device\u001b[0m\u001b[0;34m)\u001b[0m\u001b[0;34m\u001b[0m\u001b[0;34m\u001b[0m\u001b[0m\n",
            "\u001b[0;32m/usr/local/lib/python3.11/dist-packages/torch/utils/data/_utils/fetch.py\u001b[0m in \u001b[0;36mfetch\u001b[0;34m(self, possibly_batched_index)\u001b[0m\n\u001b[1;32m     53\u001b[0m         \u001b[0;32melse\u001b[0m\u001b[0;34m:\u001b[0m\u001b[0;34m\u001b[0m\u001b[0;34m\u001b[0m\u001b[0m\n\u001b[1;32m     54\u001b[0m             \u001b[0mdata\u001b[0m \u001b[0;34m=\u001b[0m \u001b[0mself\u001b[0m\u001b[0;34m.\u001b[0m\u001b[0mdataset\u001b[0m\u001b[0;34m[\u001b[0m\u001b[0mpossibly_batched_index\u001b[0m\u001b[0;34m]\u001b[0m\u001b[0;34m\u001b[0m\u001b[0;34m\u001b[0m\u001b[0m\n\u001b[0;32m---> 55\u001b[0;31m         \u001b[0;32mreturn\u001b[0m \u001b[0mself\u001b[0m\u001b[0;34m.\u001b[0m\u001b[0mcollate_fn\u001b[0m\u001b[0;34m(\u001b[0m\u001b[0mdata\u001b[0m\u001b[0;34m)\u001b[0m\u001b[0;34m\u001b[0m\u001b[0;34m\u001b[0m\u001b[0m\n\u001b[0m",
            "\u001b[0;32m/usr/local/lib/python3.11/dist-packages/torch/utils/data/_utils/collate.py\u001b[0m in \u001b[0;36mdefault_collate\u001b[0;34m(batch)\u001b[0m\n\u001b[1;32m    396\u001b[0m         \u001b[0;34m>>\u001b[0m\u001b[0;34m>\u001b[0m \u001b[0mdefault_collate\u001b[0m\u001b[0;34m(\u001b[0m\u001b[0mbatch\u001b[0m\u001b[0;34m)\u001b[0m  \u001b[0;31m# Handle `CustomType` automatically\u001b[0m\u001b[0;34m\u001b[0m\u001b[0;34m\u001b[0m\u001b[0m\n\u001b[1;32m    397\u001b[0m     \"\"\"\n\u001b[0;32m--> 398\u001b[0;31m     \u001b[0;32mreturn\u001b[0m \u001b[0mcollate\u001b[0m\u001b[0;34m(\u001b[0m\u001b[0mbatch\u001b[0m\u001b[0;34m,\u001b[0m \u001b[0mcollate_fn_map\u001b[0m\u001b[0;34m=\u001b[0m\u001b[0mdefault_collate_fn_map\u001b[0m\u001b[0;34m)\u001b[0m\u001b[0;34m\u001b[0m\u001b[0;34m\u001b[0m\u001b[0m\n\u001b[0m",
            "\u001b[0;32m/usr/local/lib/python3.11/dist-packages/torch/utils/data/_utils/collate.py\u001b[0m in \u001b[0;36mcollate\u001b[0;34m(batch, collate_fn_map)\u001b[0m\n\u001b[1;32m    209\u001b[0m \u001b[0;34m\u001b[0m\u001b[0m\n\u001b[1;32m    210\u001b[0m         \u001b[0;32mif\u001b[0m \u001b[0misinstance\u001b[0m\u001b[0;34m(\u001b[0m\u001b[0melem\u001b[0m\u001b[0;34m,\u001b[0m \u001b[0mtuple\u001b[0m\u001b[0;34m)\u001b[0m\u001b[0;34m:\u001b[0m\u001b[0;34m\u001b[0m\u001b[0;34m\u001b[0m\u001b[0m\n\u001b[0;32m--> 211\u001b[0;31m             return [\n\u001b[0m\u001b[1;32m    212\u001b[0m                 \u001b[0mcollate\u001b[0m\u001b[0;34m(\u001b[0m\u001b[0msamples\u001b[0m\u001b[0;34m,\u001b[0m \u001b[0mcollate_fn_map\u001b[0m\u001b[0;34m=\u001b[0m\u001b[0mcollate_fn_map\u001b[0m\u001b[0;34m)\u001b[0m\u001b[0;34m\u001b[0m\u001b[0;34m\u001b[0m\u001b[0m\n\u001b[1;32m    213\u001b[0m                 \u001b[0;32mfor\u001b[0m \u001b[0msamples\u001b[0m \u001b[0;32min\u001b[0m \u001b[0mtransposed\u001b[0m\u001b[0;34m\u001b[0m\u001b[0;34m\u001b[0m\u001b[0m\n",
            "\u001b[0;32m/usr/local/lib/python3.11/dist-packages/torch/utils/data/_utils/collate.py\u001b[0m in \u001b[0;36m<listcomp>\u001b[0;34m(.0)\u001b[0m\n\u001b[1;32m    210\u001b[0m         \u001b[0;32mif\u001b[0m \u001b[0misinstance\u001b[0m\u001b[0;34m(\u001b[0m\u001b[0melem\u001b[0m\u001b[0;34m,\u001b[0m \u001b[0mtuple\u001b[0m\u001b[0;34m)\u001b[0m\u001b[0;34m:\u001b[0m\u001b[0;34m\u001b[0m\u001b[0;34m\u001b[0m\u001b[0m\n\u001b[1;32m    211\u001b[0m             return [\n\u001b[0;32m--> 212\u001b[0;31m                 \u001b[0mcollate\u001b[0m\u001b[0;34m(\u001b[0m\u001b[0msamples\u001b[0m\u001b[0;34m,\u001b[0m \u001b[0mcollate_fn_map\u001b[0m\u001b[0;34m=\u001b[0m\u001b[0mcollate_fn_map\u001b[0m\u001b[0;34m)\u001b[0m\u001b[0;34m\u001b[0m\u001b[0;34m\u001b[0m\u001b[0m\n\u001b[0m\u001b[1;32m    213\u001b[0m                 \u001b[0;32mfor\u001b[0m \u001b[0msamples\u001b[0m \u001b[0;32min\u001b[0m \u001b[0mtransposed\u001b[0m\u001b[0;34m\u001b[0m\u001b[0;34m\u001b[0m\u001b[0m\n\u001b[1;32m    214\u001b[0m             ]  # Backwards compatibility.\n",
            "\u001b[0;32m/usr/local/lib/python3.11/dist-packages/torch/utils/data/_utils/collate.py\u001b[0m in \u001b[0;36mcollate\u001b[0;34m(batch, collate_fn_map)\u001b[0m\n\u001b[1;32m    153\u001b[0m     \u001b[0;32mif\u001b[0m \u001b[0mcollate_fn_map\u001b[0m \u001b[0;32mis\u001b[0m \u001b[0;32mnot\u001b[0m \u001b[0;32mNone\u001b[0m\u001b[0;34m:\u001b[0m\u001b[0;34m\u001b[0m\u001b[0;34m\u001b[0m\u001b[0m\n\u001b[1;32m    154\u001b[0m         \u001b[0;32mif\u001b[0m \u001b[0melem_type\u001b[0m \u001b[0;32min\u001b[0m \u001b[0mcollate_fn_map\u001b[0m\u001b[0;34m:\u001b[0m\u001b[0;34m\u001b[0m\u001b[0;34m\u001b[0m\u001b[0m\n\u001b[0;32m--> 155\u001b[0;31m             \u001b[0;32mreturn\u001b[0m \u001b[0mcollate_fn_map\u001b[0m\u001b[0;34m[\u001b[0m\u001b[0melem_type\u001b[0m\u001b[0;34m]\u001b[0m\u001b[0;34m(\u001b[0m\u001b[0mbatch\u001b[0m\u001b[0;34m,\u001b[0m \u001b[0mcollate_fn_map\u001b[0m\u001b[0;34m=\u001b[0m\u001b[0mcollate_fn_map\u001b[0m\u001b[0;34m)\u001b[0m\u001b[0;34m\u001b[0m\u001b[0;34m\u001b[0m\u001b[0m\n\u001b[0m\u001b[1;32m    156\u001b[0m \u001b[0;34m\u001b[0m\u001b[0m\n\u001b[1;32m    157\u001b[0m         \u001b[0;32mfor\u001b[0m \u001b[0mcollate_type\u001b[0m \u001b[0;32min\u001b[0m \u001b[0mcollate_fn_map\u001b[0m\u001b[0;34m:\u001b[0m\u001b[0;34m\u001b[0m\u001b[0;34m\u001b[0m\u001b[0m\n",
            "\u001b[0;32m/usr/local/lib/python3.11/dist-packages/torch/utils/data/_utils/collate.py\u001b[0m in \u001b[0;36mcollate_tensor_fn\u001b[0;34m(batch, collate_fn_map)\u001b[0m\n\u001b[1;32m    270\u001b[0m         \u001b[0mstorage\u001b[0m \u001b[0;34m=\u001b[0m \u001b[0melem\u001b[0m\u001b[0;34m.\u001b[0m\u001b[0m_typed_storage\u001b[0m\u001b[0;34m(\u001b[0m\u001b[0;34m)\u001b[0m\u001b[0;34m.\u001b[0m\u001b[0m_new_shared\u001b[0m\u001b[0;34m(\u001b[0m\u001b[0mnumel\u001b[0m\u001b[0;34m,\u001b[0m \u001b[0mdevice\u001b[0m\u001b[0;34m=\u001b[0m\u001b[0melem\u001b[0m\u001b[0;34m.\u001b[0m\u001b[0mdevice\u001b[0m\u001b[0;34m)\u001b[0m\u001b[0;34m\u001b[0m\u001b[0;34m\u001b[0m\u001b[0m\n\u001b[1;32m    271\u001b[0m         \u001b[0mout\u001b[0m \u001b[0;34m=\u001b[0m \u001b[0melem\u001b[0m\u001b[0;34m.\u001b[0m\u001b[0mnew\u001b[0m\u001b[0;34m(\u001b[0m\u001b[0mstorage\u001b[0m\u001b[0;34m)\u001b[0m\u001b[0;34m.\u001b[0m\u001b[0mresize_\u001b[0m\u001b[0;34m(\u001b[0m\u001b[0mlen\u001b[0m\u001b[0;34m(\u001b[0m\u001b[0mbatch\u001b[0m\u001b[0;34m)\u001b[0m\u001b[0;34m,\u001b[0m \u001b[0;34m*\u001b[0m\u001b[0mlist\u001b[0m\u001b[0;34m(\u001b[0m\u001b[0melem\u001b[0m\u001b[0;34m.\u001b[0m\u001b[0msize\u001b[0m\u001b[0;34m(\u001b[0m\u001b[0;34m)\u001b[0m\u001b[0;34m)\u001b[0m\u001b[0;34m)\u001b[0m\u001b[0;34m\u001b[0m\u001b[0;34m\u001b[0m\u001b[0m\n\u001b[0;32m--> 272\u001b[0;31m     \u001b[0;32mreturn\u001b[0m \u001b[0mtorch\u001b[0m\u001b[0;34m.\u001b[0m\u001b[0mstack\u001b[0m\u001b[0;34m(\u001b[0m\u001b[0mbatch\u001b[0m\u001b[0;34m,\u001b[0m \u001b[0;36m0\u001b[0m\u001b[0;34m,\u001b[0m \u001b[0mout\u001b[0m\u001b[0;34m=\u001b[0m\u001b[0mout\u001b[0m\u001b[0;34m)\u001b[0m\u001b[0;34m\u001b[0m\u001b[0;34m\u001b[0m\u001b[0m\n\u001b[0m\u001b[1;32m    273\u001b[0m \u001b[0;34m\u001b[0m\u001b[0m\n\u001b[1;32m    274\u001b[0m \u001b[0;34m\u001b[0m\u001b[0m\n",
            "\u001b[0;31mRuntimeError\u001b[0m: stack expects each tensor to be equal size, but got [3, 150, 150] at entry 0 and [3, 144, 150] at entry 30"
          ]
        }
      ],
      "source": [
        "class CIFAR10Model(nn.Module):\n",
        "    def __init__(self):\n",
        "        super().__init__()\n",
        "        self.conv1 = nn.Conv2d(3, 150, kernel_size=(4,4), stride=1, padding=1)\n",
        "        self.act1 = nn.ReLU()\n",
        "        self.drop1 = nn.Dropout(0.0)\n",
        "\n",
        "        self.conv2 = nn.Conv2d(150, 150, kernel_size=(4,4), stride=1, padding=1)\n",
        "        self.act2 = nn.ReLU()\n",
        "        self.pool2 = nn.MaxPool2d(kernel_size=(2, 2))\n",
        "\n",
        "        self.flat = nn.Flatten()\n",
        "\n",
        "        self.fc3 = nn.Linear(821400, 32)\n",
        "        self.act3 = nn.ReLU()\n",
        "        self.drop3 = nn.Dropout(0.5)\n",
        "\n",
        "        self.fc4 = nn.Linear(32, 32)\n",
        "\n",
        "    def forward(self, x):\n",
        "        # input 3x10x10, output 10x10x10\n",
        "        x = self.act1(self.conv1(x))\n",
        "        x = self.drop1(x)\n",
        "        # input 10x10x10, output 10x10x10\n",
        "        x = self.act2(self.conv2(x))\n",
        "        # input 10x10x10, output 10x5x5\n",
        "        x = self.pool2(x)\n",
        "        # input 10x5x5, output 821400\n",
        "        x = self.flat(x)\n",
        "        # input 821400, output 32\n",
        "        x = self.act3(self.fc3(x))\n",
        "        x = self.drop3(x)\n",
        "        # input 32, output ?\n",
        "        x = self.fc4(x)\n",
        "        return x\n",
        "\n",
        "model = CIFAR10Model()\n",
        "loss_fn = nn.CrossEntropyLoss()\n",
        "optimizer = optim.SGD(model.parameters(), lr=0.001, momentum=0.9)\n",
        "\n",
        "n_epochs = 20\n",
        "for epoch in range(n_epochs):\n",
        "    for inputs, labels in trainloader:\n",
        "        # forward, backward, and then weight update\n",
        "        y_pred = model(inputs)\n",
        "        loss = loss_fn(y_pred, labels)\n",
        "        optimizer.zero_grad()\n",
        "        loss.backward()\n",
        "        optimizer.step()\n",
        "\n",
        "    acc = 0\n",
        "    count = 0\n",
        "    for inputs, labels in testloader:\n",
        "        y_pred = model(inputs)\n",
        "        acc += (torch.argmax(y_pred, 1) == labels).float().sum()\n",
        "        count += len(labels)\n",
        "    acc /= count\n",
        "    print(\"Epoch %d: model accuracy %.2f%%\" % (epoch, acc*100))\n",
        "\n",
        "torch.save(model.state_dict(), \"cifar10model.pth\")"
      ]
    },
    {
      "cell_type": "markdown",
      "source": [
        "Unfourtinatley I was never able to successufly tune this model to output a [3, 150, 150] model so i decided to ask Gemini if it could just give me the numbers i needed to run the neural network on my stock, 150x150 images"
      ],
      "metadata": {
        "id": "nvnKdcKoctpp"
      }
    },
    {
      "cell_type": "markdown",
      "source": [
        "##Attempt 2 Gemini Resize\n",
        "\n",
        "After Tinkering with gemini for a little bit it produced this output. I told it to make the code nearly identical to Attempt 1 but change the numbers so that the calculations would line up, and it did a pretty good job. One thing I didn't consider, though is that the 150x150 images would take a while...like 2+hrs a while. So, I decided to abandon this in favor of resizing the images down to 32x32"
      ],
      "metadata": {
        "id": "oVrt6YfGZ4iV"
      }
    },
    {
      "cell_type": "code",
      "source": [
        "import torch\n",
        "import torch.nn as nn\n",
        "import torch.optim as optim\n",
        "import torchvision\n",
        "import torchvision.transforms as transforms\n",
        "from torch.utils.data import DataLoader\n",
        "from torchvision.datasets import ImageFolder\n",
        "\n",
        "data_train = path + '/seg_pred' # load training data from Kaggle\n",
        "data_test = path + '/seg_test' # load test data from Kaggle\n",
        "\n",
        "transform = transforms.Compose([\n",
        "    transforms.Resize((150, 150)),  # Confirm image size is 150x150\n",
        "    transforms.ToTensor(),\n",
        "])\n",
        "\n",
        "traindata = datasets.ImageFolder(data_train, transform=transform)\n",
        "testdata = datasets.ImageFolder(data_test, transform=transform)\n",
        "\n",
        "trainloader = torch.utils.data.DataLoader(traindata, batch_size=32, shuffle=True)\n",
        "testloader = torch.utils.data.DataLoader(testdata, batch_size=32, shuffle=False)\n",
        "\n",
        "# Modified CNN model\n",
        "class CIFAR10Model(nn.Module):\n",
        "    def __init__(self):\n",
        "        super().__init__()\n",
        "        self.conv1 = nn.Conv2d(3, 150, kernel_size=(4, 4), stride=1, padding=1)\n",
        "        self.act1 = nn.ReLU()\n",
        "        self.drop1 = nn.Dropout(0.0)\n",
        "\n",
        "        self.conv2 = nn.Conv2d(150, 150, kernel_size=(4, 4), stride=1, padding=1)\n",
        "        self.act2 = nn.ReLU()\n",
        "        self.pool2 = nn.MaxPool2d(kernel_size=(2, 2))\n",
        "\n",
        "        self.flat = nn.Flatten()\n",
        "\n",
        "        # Updated input size for fc3\n",
        "        self.fc3 = nn.Linear(821400, 32)\n",
        "        self.act3 = nn.ReLU()\n",
        "        self.drop3 = nn.Dropout(0.5)\n",
        "\n",
        "        self.fc4 = nn.Linear(32, 32)\n",
        "\n",
        "    def forward(self, x):\n",
        "        x = self.act1(self.conv1(x))\n",
        "        x = self.drop1(x)\n",
        "        x = self.act2(self.conv2(x))\n",
        "        x = self.pool2(x)\n",
        "        x = self.flat(x)\n",
        "        x = self.act3(self.fc3(x))\n",
        "        x = self.drop3(x)\n",
        "        x = self.fc4(x)\n",
        "        return x\n",
        "\n",
        "# Model, loss function, and optimizer\n",
        "model = CIFAR10Model()\n",
        "loss_fn = nn.CrossEntropyLoss()\n",
        "optimizer = optim.SGD(model.parameters(), lr=0.001, momentum=0.9)\n",
        "\n",
        "# Training loop\n",
        "n_epochs = 20\n",
        "for epoch in range(n_epochs):\n",
        "    for inputs, labels in trainloader:\n",
        "        # forward, backward, and then weight update\n",
        "        y_pred = model(inputs)\n",
        "        loss = loss_fn(y_pred, labels)\n",
        "        optimizer.zero_grad()\n",
        "        loss.backward()\n",
        "        optimizer.step()\n",
        "\n",
        "    # Print training progress (optional)\n",
        "    print(f\"Epoch [{epoch+1}/{n_epochs}], Loss: {loss.item():.4f}\")"
      ],
      "metadata": {
        "id": "79qSPAdBGwdz"
      },
      "execution_count": null,
      "outputs": []
    },
    {
      "cell_type": "markdown",
      "source": [
        "##Attempt 3 Image Resize down to 32x32\n",
        "\n",
        "After Resizing the images It finally ran!! YAYAYAYA\n",
        "While this is great news the 100% model accuracy over 20 epochs raises a few concerns about overfitting. So, lets check"
      ],
      "metadata": {
        "id": "wzFE3NMFZ8_e"
      }
    },
    {
      "cell_type": "code",
      "source": [
        "data_train = path + '/seg_pred' # load training data from Kaggle\n",
        "data_test = path + '/seg_test' # load test data from Kaggle\n",
        "\n",
        "transform = transforms.Compose([\n",
        "    transforms.Resize((32, 32)),  # Resize images to 32x32\n",
        "    transforms.ToTensor(),\n",
        "])\n",
        "\n",
        "traindata = datasets.ImageFolder(data_train, transform=transform)\n",
        "testdata = datasets.ImageFolder(data_test, transform=transform)\n",
        "\n",
        "trainloader = torch.utils.data.DataLoader(traindata, batch_size=32, shuffle=True)\n",
        "testloader = torch.utils.data.DataLoader(testdata, batch_size=32, shuffle=False)\n",
        "\n",
        "class CIFAR10Model(nn.Module):\n",
        "    def __init__(self):\n",
        "        super().__init__()\n",
        "        self.conv1 = nn.Conv2d(3, 32, kernel_size=(3,3), stride=1, padding=1)\n",
        "        self.act1 = nn.ReLU()\n",
        "        self.drop1 = nn.Dropout(0.3)\n",
        "\n",
        "        self.conv2 = nn.Conv2d(32, 32, kernel_size=(3,3), stride=1, padding=1)\n",
        "        self.act2 = nn.ReLU()\n",
        "        self.pool2 = nn.MaxPool2d(kernel_size=(2, 2))\n",
        "\n",
        "        self.flat = nn.Flatten()\n",
        "\n",
        "        self.fc3 = nn.Linear(8192, 512)\n",
        "        self.act3 = nn.ReLU()\n",
        "        self.drop3 = nn.Dropout(0.5)\n",
        "\n",
        "        self.fc4 = nn.Linear(512, 10)\n",
        "\n",
        "    def forward(self, x):\n",
        "        # input 3x32x32, output 32x32x32\n",
        "        x = self.act1(self.conv1(x))\n",
        "        x = self.drop1(x)\n",
        "        # input 32x32x32, output 32x32x32\n",
        "        x = self.act2(self.conv2(x))\n",
        "        # input 32x32x32, output 32x16x16\n",
        "        x = self.pool2(x)\n",
        "        # input 32x16x16, output 8192\n",
        "        x = self.flat(x)\n",
        "        # input 8192, output 512\n",
        "        x = self.act3(self.fc3(x))\n",
        "        x = self.drop3(x)\n",
        "        # input 512, output 10\n",
        "        x = self.fc4(x)\n",
        "        return x\n",
        "\n",
        "model = CIFAR10Model()\n",
        "loss_fn = nn.CrossEntropyLoss()\n",
        "optimizer = optim.SGD(model.parameters(), lr=0.001, momentum=0.9)\n",
        "\n",
        "n_epochs = 20\n",
        "for epoch in range(n_epochs):\n",
        "    for inputs, labels in trainloader:\n",
        "        # forward, backward, and then weight update\n",
        "        y_pred = model(inputs)\n",
        "        loss = loss_fn(y_pred, labels)\n",
        "        optimizer.zero_grad()\n",
        "        loss.backward()\n",
        "        optimizer.step()\n",
        "\n",
        "    acc = 0\n",
        "    count = 0\n",
        "    for inputs, labels in testloader:\n",
        "        y_pred = model(inputs)\n",
        "        acc += (torch.argmax(y_pred, 1) == labels).float().sum()\n",
        "        count += len(labels)\n",
        "    acc /= count\n",
        "    print(\"Epoch %d: model accuracy %.2f%%\" % (epoch, acc*100))\n",
        "\n",
        "torch.save(model.state_dict(), \"cifar10model.pth\")"
      ],
      "metadata": {
        "colab": {
          "base_uri": "https://localhost:8080/"
        },
        "id": "ZTN6X--JXThp",
        "outputId": "542f0961-1626-47c5-cf88-d4df2fe30de6"
      },
      "execution_count": 5,
      "outputs": [
        {
          "output_type": "stream",
          "name": "stdout",
          "text": [
            "Epoch 0: model accuracy 100.00%\n",
            "Epoch 1: model accuracy 100.00%\n",
            "Epoch 2: model accuracy 100.00%\n",
            "Epoch 3: model accuracy 100.00%\n",
            "Epoch 4: model accuracy 100.00%\n",
            "Epoch 5: model accuracy 100.00%\n",
            "Epoch 6: model accuracy 100.00%\n",
            "Epoch 7: model accuracy 100.00%\n",
            "Epoch 8: model accuracy 100.00%\n",
            "Epoch 9: model accuracy 100.00%\n",
            "Epoch 10: model accuracy 100.00%\n",
            "Epoch 11: model accuracy 100.00%\n",
            "Epoch 12: model accuracy 100.00%\n",
            "Epoch 13: model accuracy 100.00%\n",
            "Epoch 14: model accuracy 100.00%\n",
            "Epoch 15: model accuracy 100.00%\n",
            "Epoch 16: model accuracy 100.00%\n",
            "Epoch 17: model accuracy 100.00%\n",
            "Epoch 18: model accuracy 100.00%\n",
            "Epoch 19: model accuracy 100.00%\n"
          ]
        }
      ]
    },
    {
      "cell_type": "markdown",
      "source": [
        "Unfourtinatley its a little bit hard to \"check\" data without it being quantative, so the best thing I have is trying to redue the accuracy to like 99%r or 98%"
      ],
      "metadata": {
        "id": "avImX6KipBtt"
      }
    },
    {
      "cell_type": "markdown",
      "source": [
        "##Attempt 4 Reducing overfitting"
      ],
      "metadata": {
        "id": "BTq1UCak5ofy"
      }
    },
    {
      "cell_type": "code",
      "source": [
        "data_train = path + '/seg_pred' # load training data from Kaggle\n",
        "data_test = path + '/seg_test' # load test data from Kaggle\n",
        "\n",
        "transform = transforms.Compose([\n",
        "    transforms.Resize((32, 32)),  # Resize images to 32x32\n",
        "    transforms.ToTensor(),\n",
        "])\n",
        "\n",
        "traindata = datasets.ImageFolder(data_train, transform=transform)\n",
        "testdata = datasets.ImageFolder(data_test, transform=transform)\n",
        "\n",
        "trainloader = torch.utils.data.DataLoader(traindata, batch_size=32, shuffle=True)\n",
        "testloader = torch.utils.data.DataLoader(testdata, batch_size=32, shuffle=False)\n",
        "\n",
        "class CIFAR10Model(nn.Module):\n",
        "    def __init__(self):\n",
        "        super().__init__()\n",
        "        self.conv1 = nn.Conv2d(3, 32, kernel_size=(3,3), stride=1, padding=1)\n",
        "        self.act1 = nn.ReLU()\n",
        "        #increased dropout from 0.3 -> 0.7\n",
        "        self.drop1 = nn.Dropout(0.7)\n",
        "\n",
        "        self.conv2 = nn.Conv2d(32, 32, kernel_size=(3,3), stride=1, padding=1)\n",
        "        self.act2 = nn.ReLU()\n",
        "        self.pool2 = nn.MaxPool2d(kernel_size=(2, 2))\n",
        "\n",
        "        self.flat = nn.Flatten()\n",
        "\n",
        "        self.fc3 = nn.Linear(8192, 512)\n",
        "        self.act3 = nn.ReLU()\n",
        "        #increased dropout from 0.5 -> 0.9\n",
        "        self.drop3 = nn.Dropout(0.9)\n",
        "\n",
        "        self.fc4 = nn.Linear(512, 10)\n",
        "\n",
        "    def forward(self, x):\n",
        "        # input 3x32x32, output 32x32x32\n",
        "        x = self.act1(self.conv1(x))\n",
        "        x = self.drop1(x)\n",
        "        # input 32x32x32, output 32x32x32\n",
        "        x = self.act2(self.conv2(x))\n",
        "        # input 32x32x32, output 32x16x16\n",
        "        x = self.pool2(x)\n",
        "        # input 32x16x16, output 8192\n",
        "        x = self.flat(x)\n",
        "        # input 8192, output 512\n",
        "        x = self.act3(self.fc3(x))\n",
        "        x = self.drop3(x)\n",
        "        # input 512, output 10\n",
        "        x = self.fc4(x)\n",
        "        return x\n",
        "\n",
        "model = CIFAR10Model()\n",
        "loss_fn = nn.CrossEntropyLoss()\n",
        "#added decay per recomendation of gemini\n",
        "optimizer = optim.SGD(model.parameters(), lr=0.001, momentum=0.9, weight_decay=0.001)\n",
        "\n",
        "n_epochs = 20\n",
        "for epoch in range(n_epochs):\n",
        "    for inputs, labels in trainloader:\n",
        "        # forward, backward, and then weight update\n",
        "        y_pred = model(inputs)\n",
        "        loss = loss_fn(y_pred, labels)\n",
        "        optimizer.zero_grad()\n",
        "        loss.backward()\n",
        "        optimizer.step()\n",
        "\n",
        "    acc = 0\n",
        "    count = 2\n",
        "    for inputs, labels in testloader:\n",
        "        y_pred = model(inputs)\n",
        "        acc += (torch.argmax(y_pred, 1) == labels).float().sum()\n",
        "        count += len(labels)\n",
        "    acc /= count\n",
        "    print(\"Epoch %d: model accuracy %.2f%%\" % (epoch, acc*100))\n",
        "\n",
        "torch.save(model.state_dict(), \"cifar10model.pth\")"
      ],
      "metadata": {
        "colab": {
          "base_uri": "https://localhost:8080/"
        },
        "id": "g1KaablU5pAO",
        "outputId": "4f92eef7-47c8-4557-9f3d-bdbd8e99ea45"
      },
      "execution_count": 7,
      "outputs": [
        {
          "output_type": "stream",
          "name": "stdout",
          "text": [
            "Epoch 0: model accuracy 99.93%\n",
            "Epoch 1: model accuracy 99.93%\n",
            "Epoch 2: model accuracy 99.93%\n",
            "Epoch 3: model accuracy 99.93%\n",
            "Epoch 4: model accuracy 99.93%\n",
            "Epoch 5: model accuracy 99.93%\n",
            "Epoch 6: model accuracy 99.93%\n",
            "Epoch 7: model accuracy 99.93%\n",
            "Epoch 8: model accuracy 99.93%\n",
            "Epoch 9: model accuracy 99.93%\n",
            "Epoch 10: model accuracy 99.93%\n",
            "Epoch 11: model accuracy 99.93%\n",
            "Epoch 12: model accuracy 99.93%\n",
            "Epoch 13: model accuracy 99.93%\n",
            "Epoch 14: model accuracy 99.93%\n",
            "Epoch 15: model accuracy 99.93%\n",
            "Epoch 16: model accuracy 99.93%\n",
            "Epoch 17: model accuracy 99.93%\n",
            "Epoch 18: model accuracy 99.93%\n",
            "Epoch 19: model accuracy 99.93%\n"
          ]
        }
      ]
    },
    {
      "cell_type": "markdown",
      "source": [
        "After messing with it for a little bit I managed to get the accuary down to a \"less likely to be overfitting\" and \"probably pretty accurate\" level. Ill take it!"
      ],
      "metadata": {
        "id": "aPeBsJXchy11"
      }
    },
    {
      "cell_type": "markdown",
      "source": [
        "###Attempting to add some sort of ppc\n",
        "This code is based off of gemini's recomendation on how to create a ppc for a CNN..."
      ],
      "metadata": {
        "id": "dRK8lLHKjkMs"
      }
    },
    {
      "cell_type": "code",
      "source": [
        "data_train = path + '/seg_pred' # load training data from Kaggle\n",
        "data_test = path + '/seg_test' # load test data from Kaggle\n",
        "\n",
        "transform = transforms.Compose([\n",
        "    transforms.Resize((32, 32)),  # Resize images to 32x32\n",
        "    transforms.ToTensor(),\n",
        "])\n",
        "\n",
        "traindata = datasets.ImageFolder(data_train, transform=transform)\n",
        "testdata = datasets.ImageFolder(data_test, transform=transform)\n",
        "\n",
        "trainloader = torch.utils.data.DataLoader(traindata, batch_size=32, shuffle=True)\n",
        "testloader = torch.utils.data.DataLoader(testdata, batch_size=32, shuffle=False)\n",
        "\n",
        "class CIFAR10Model(nn.Module):\n",
        "    def __init__(self):\n",
        "        super().__init__()\n",
        "        self.conv1 = nn.Conv2d(3, 32, kernel_size=(3,3), stride=1, padding=1)\n",
        "        self.act1 = nn.ReLU()\n",
        "        #increased dropout from 0.3 -> 0.7\n",
        "        self.drop1 = nn.Dropout(0.7)\n",
        "\n",
        "        self.conv2 = nn.Conv2d(32, 32, kernel_size=(3,3), stride=1, padding=1)\n",
        "        self.act2 = nn.ReLU()\n",
        "        self.pool2 = nn.MaxPool2d(kernel_size=(2, 2))\n",
        "\n",
        "        self.flat = nn.Flatten()\n",
        "\n",
        "        self.fc3 = nn.Linear(8192, 512)\n",
        "        self.act3 = nn.ReLU()\n",
        "        #increased dropout from 0.5 -> 0.9\n",
        "        self.drop3 = nn.Dropout(0.9)\n",
        "\n",
        "        self.fc4 = nn.Linear(512, 10)\n",
        "\n",
        "    def forward(self, x):\n",
        "        # input 3x32x32, output 32x32x32\n",
        "        x = self.act1(self.conv1(x))\n",
        "        x = self.drop1(x)\n",
        "        # input 32x32x32, output 32x32x32\n",
        "        x = self.act2(self.conv2(x))\n",
        "        # input 32x32x32, output 32x16x16\n",
        "        x = self.pool2(x)\n",
        "        # input 32x16x16, output 8192\n",
        "        x = self.flat(x)\n",
        "        # input 8192, output 512\n",
        "        x = self.act3(self.fc3(x))\n",
        "        x = self.drop3(x)\n",
        "        # input 512, output 10\n",
        "        x = self.fc4(x)\n",
        "        #added softmax to output \"probabilites instead of raw scores\"- Gemini\n",
        "        x = nn.Softmax(dim=1)(x)\n",
        "        return x\n",
        "\n",
        "model = CIFAR10Model()\n",
        "loss_fn = nn.CrossEntropyLoss()\n",
        "#added decay per recomendation of gemini\n",
        "optimizer = optim.SGD(model.parameters(), lr=0.001, momentum=0.9, weight_decay=0.001)\n",
        "\n",
        "n_epochs = 20\n",
        "for epoch in range(n_epochs):\n",
        "    for inputs, labels in trainloader:\n",
        "        # forward, backward, and then weight update\n",
        "        y_pred = model(inputs)\n",
        "        loss = loss_fn(y_pred, labels)\n",
        "        optimizer.zero_grad()\n",
        "        loss.backward()\n",
        "        optimizer.step()\n",
        "\n",
        "    acc = 0\n",
        "    count = 2\n",
        "    for inputs, labels in testloader:\n",
        "        y_pred = model(inputs)\n",
        "        acc += (torch.argmax(y_pred, 1) == labels).float().sum()\n",
        "        count += len(labels)\n",
        "    acc /= count\n",
        "    print(\"Epoch %d: model accuracy %.2f%%\" % (epoch, acc*100))\n",
        "\n",
        "torch.save(model.state_dict(), \"cifar10model.pth\")"
      ],
      "metadata": {
        "colab": {
          "base_uri": "https://localhost:8080/"
        },
        "id": "a0gSSHs2jwwV",
        "outputId": "57a6c747-03c4-444f-91fa-2c4eed3e6988"
      },
      "execution_count": 9,
      "outputs": [
        {
          "output_type": "stream",
          "name": "stdout",
          "text": [
            "Epoch 0: model accuracy 99.93%\n",
            "Epoch 1: model accuracy 99.93%\n",
            "Epoch 2: model accuracy 99.93%\n",
            "Epoch 3: model accuracy 99.93%\n",
            "Epoch 4: model accuracy 99.93%\n",
            "Epoch 5: model accuracy 99.93%\n",
            "Epoch 6: model accuracy 99.93%\n",
            "Epoch 7: model accuracy 99.93%\n",
            "Epoch 8: model accuracy 99.93%\n",
            "Epoch 9: model accuracy 99.93%\n",
            "Epoch 10: model accuracy 99.93%\n",
            "Epoch 11: model accuracy 99.93%\n",
            "Epoch 12: model accuracy 99.93%\n",
            "Epoch 13: model accuracy 99.93%\n",
            "Epoch 14: model accuracy 99.93%\n",
            "Epoch 15: model accuracy 99.93%\n",
            "Epoch 16: model accuracy 99.93%\n",
            "Epoch 17: model accuracy 99.93%\n",
            "Epoch 18: model accuracy 99.93%\n",
            "Epoch 19: model accuracy 99.93%\n"
          ]
        }
      ]
    },
    {
      "cell_type": "code",
      "source": [
        "#this code collects the perdictions from the testing data\n",
        "train_preds = []\n",
        "train_labels = []\n",
        "for inputs, labels in trainloader:\n",
        "    y_pred = model(inputs)\n",
        "    train_preds.extend(y_pred.detach().numpy())\n",
        "    train_labels.extend(labels.numpy())\n",
        "\n",
        "test_preds = []\n",
        "test_labels = []\n",
        "for inputs, labels in testloader:\n",
        "    y_pred = model(inputs)\n",
        "    test_preds.extend(y_pred.detach().numpy())\n",
        "    test_labels.extend(labels.numpy())"
      ],
      "metadata": {
        "id": "6UnAErClj8T3"
      },
      "execution_count": 10,
      "outputs": []
    },
    {
      "cell_type": "code",
      "source": [
        "import matplotlib.pyplot as plt\n",
        "#this should actually compare the training vs testing data...lets see\n",
        "# Choose a class to compare (e.g., class 0)\n",
        "class_index = 0\n",
        "\n",
        "plt.figure(figsize=(8, 6))\n",
        "plt.scatter(\n",
        "    [p[class_index] for p in train_preds],\n",
        "    train_labels,\n",
        "    alpha=0.5,\n",
        "    label=\"Training Data\",\n",
        ")\n",
        "plt.scatter(\n",
        "    [p[class_index] for p in test_preds],\n",
        "    test_labels,\n",
        "    alpha=0.5,\n",
        "    label=\"Testing Data\",\n",
        ")\n",
        "plt.xlabel(f\"Predicted Probability for Class {class_index}\")\n",
        "plt.ylabel(\"True Label\")\n",
        "plt.title(\"Posterior Predictive Check\")\n",
        "plt.legend()\n",
        "plt.show()"
      ],
      "metadata": {
        "colab": {
          "base_uri": "https://localhost:8080/",
          "height": 564
        },
        "id": "rEiv2_mykLFM",
        "outputId": "e68e5136-da62-44bf-97c8-01271acb292c"
      },
      "execution_count": 11,
      "outputs": [
        {
          "output_type": "display_data",
          "data": {
            "text/plain": [
              "<Figure size 800x600 with 1 Axes>"
            ],
            "image/png": "[encoded data removed]"
          },
          "metadata": {}
        }
      ]
    },
    {
      "cell_type": "markdown",
      "source": [
        "Looks pretty darn good!"
      ],
      "metadata": {
        "id": "Frfsp0DPooHX"
      }
    },
    {
      "cell_type": "code",
      "source": [
        "import matplotlib.pyplot as plt\n",
        "#this should actually compare the training vs testing data...lets see\n",
        "# Choose a class to compare (e.g., class 0)\n",
        "class_index = 1\n",
        "\n",
        "plt.figure(figsize=(8, 6))\n",
        "plt.scatter(\n",
        "    [p[class_index] for p in train_preds],\n",
        "    train_labels,\n",
        "    alpha=0.5,\n",
        "    label=\"Training Data\",\n",
        ")\n",
        "plt.scatter(\n",
        "    [p[class_index] for p in test_preds],\n",
        "    test_labels,\n",
        "    alpha=0.5,\n",
        "    label=\"Testing Data\",\n",
        ")\n",
        "plt.xlabel(f\"Predicted Probability for Class {class_index}\")\n",
        "plt.ylabel(\"True Label\")\n",
        "plt.title(\"Posterior Predictive Check\")\n",
        "plt.legend()\n",
        "plt.show()"
      ],
      "metadata": {
        "colab": {
          "base_uri": "https://localhost:8080/",
          "height": 564
        },
        "id": "SZRFrE5Rorj3",
        "outputId": "eb00f693-0d7f-4887-a43f-038016ed5817"
      },
      "execution_count": 12,
      "outputs": [
        {
          "output_type": "display_data",
          "data": {
            "text/plain": [
              "<Figure size 800x600 with 1 Axes>"
            ],
            "image/png": "[encoded data removed]"
          },
          "metadata": {}
        }
      ]
    },
    {
      "cell_type": "markdown",
      "source": [
        "Here it is again on class 1 (a different image type for ex: waterfalls)\n",
        "\n",
        "Overall it seems like this model is doing a pretty great job of perdicting which type of landscape this is supposed to be."
      ],
      "metadata": {
        "id": "L9L_2I9uovVj"
      }
    },
    {
      "cell_type": "markdown",
      "source": [
        "##Conclusion\n",
        "\n",
        "Overall this project has taught me a lot, espically about the power of neural networks(I never realized how much data they processed). And, just like this course there is still so much to know, but! I am feel much more confident, not only with my python and dataskills. But also with my problem solving skills. This course has helped me learn how to think on my own and solve problems when working on unfimilar topics. Overall im very glad I took this course :)"
      ],
      "metadata": {
        "id": "0CBhWjpHh8zt"
      }
    }
  ],
  "metadata": {
    "colab": {
      "provenance": [],
      "include_colab_link": true
    },
    "kernelspec": {
      "display_name": "Python 3",
      "name": "python3"
    },
    "language_info": {
      "name": "python"
    }
  },
  "nbformat": 4,
  "nbformat_minor": 0
}