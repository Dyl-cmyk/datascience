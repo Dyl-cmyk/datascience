{
  "nbformat": 4,
  "nbformat_minor": 0,
  "metadata": {
    "colab": {
      "provenance": [],
      "include_colab_link": true
    },
    "kernelspec": {
      "name": "python3",
      "display_name": "Python 3"
    },
    "language_info": {
      "name": "python"
    },
    "widgets": {
      "application/vnd.jupyter.widget-state+json": {
        "e74287dffb2b47488712a4600bf8f7d8": {
          "model_module": "@jupyter-widgets/output",
          "model_name": "OutputModel",
          "model_module_version": "1.0.0",
          "state": {
            "_dom_classes": [],
            "_model_module": "@jupyter-widgets/output",
            "_model_module_version": "1.0.0",
            "_model_name": "OutputModel",
            "_view_count": null,
            "_view_module": "@jupyter-widgets/output",
            "_view_module_version": "1.0.0",
            "_view_name": "OutputView",
            "layout": "IPY_MODEL_0c0712d936f2472f85ee90a3079f17a5",
            "msg_id": "",
            "outputs": [
              {
                "output_type": "display_data",
                "data": {
                  "text/plain": "                                                                                                                   \n \u001b[1m \u001b[0m\u001b[1mProgress                 \u001b[0m\u001b[1m \u001b[0m \u001b[1m \u001b[0m\u001b[1mDraws\u001b[0m\u001b[1m \u001b[0m \u001b[1m \u001b[0m\u001b[1mDivergences\u001b[0m\u001b[1m \u001b[0m \u001b[1m \u001b[0m\u001b[1mStep size\u001b[0m\u001b[1m \u001b[0m \u001b[1m \u001b[0m\u001b[1mGrad evals\u001b[0m\u001b[1m \u001b[0m \u001b[1m \u001b[0m\u001b[1mSampling Speed\u001b[0m\u001b[1m \u001b[0m \u001b[1m \u001b[0m\u001b[1mElapsed\u001b[0m\u001b[1m \u001b[0m \u001b[1m \u001b[0m\u001b[1mRemaining\u001b[0m\u001b[1m \u001b[0m \n ───────────────────────────────────────────────────────────────────────────────────────────────────────────────── \n  \u001b[38;2;31;119;180m━━━━━━━━━━━━━━━━━━━━━━━━━\u001b[0m   2000    0             1.09        1            29.76 draws/s    0:01:07   0:00:00    \n  \u001b[38;2;31;119;180m━━━━━━━━━━━━━━━━━━━━━━━━━\u001b[0m   2000    0             1.22        1            14.58 draws/s    0:02:17   0:00:00    \n                                                                                                                   \n",
                  "text/html": "<pre style=\"white-space:pre;overflow-x:auto;line-height:normal;font-family:Menlo,'DejaVu Sans Mono',consolas,'Courier New',monospace\">                                                                                                                   \n <span style=\"font-weight: bold\"> Progress                  </span> <span style=\"font-weight: bold\"> Draws </span> <span style=\"font-weight: bold\"> Divergences </span> <span style=\"font-weight: bold\"> Step size </span> <span style=\"font-weight: bold\"> Grad evals </span> <span style=\"font-weight: bold\"> Sampling Speed </span> <span style=\"font-weight: bold\"> Elapsed </span> <span style=\"font-weight: bold\"> Remaining </span> \n ───────────────────────────────────────────────────────────────────────────────────────────────────────────────── \n  <span style=\"color: #1f77b4; text-decoration-color: #1f77b4\">━━━━━━━━━━━━━━━━━━━━━━━━━</span>   2000    0             1.09        1            29.76 draws/s    0:01:07   0:00:00    \n  <span style=\"color: #1f77b4; text-decoration-color: #1f77b4\">━━━━━━━━━━━━━━━━━━━━━━━━━</span>   2000    0             1.22        1            14.58 draws/s    0:02:17   0:00:00    \n                                                                                                                   \n</pre>\n"
                },
                "metadata": {}
              }
            ]
          }
        },
        "0c0712d936f2472f85ee90a3079f17a5": {
          "model_module": "@jupyter-widgets/base",
          "model_name": "LayoutModel",
          "model_module_version": "1.2.0",
          "state": {
            "_model_module": "@jupyter-widgets/base",
            "_model_module_version": "1.2.0",
            "_model_name": "LayoutModel",
            "_view_count": null,
            "_view_module": "@jupyter-widgets/base",
            "_view_module_version": "1.2.0",
            "_view_name": "LayoutView",
            "align_content": null,
            "align_items": null,
            "align_self": null,
            "border": null,
            "bottom": null,
            "display": null,
            "flex": null,
            "flex_flow": null,
            "grid_area": null,
            "grid_auto_columns": null,
            "grid_auto_flow": null,
            "grid_auto_rows": null,
            "grid_column": null,
            "grid_gap": null,
            "grid_row": null,
            "grid_template_areas": null,
            "grid_template_columns": null,
            "grid_template_rows": null,
            "height": null,
            "justify_content": null,
            "justify_items": null,
            "left": null,
            "margin": null,
            "max_height": null,
            "max_width": null,
            "min_height": null,
            "min_width": null,
            "object_fit": null,
            "object_position": null,
            "order": null,
            "overflow": null,
            "overflow_x": null,
            "overflow_y": null,
            "padding": null,
            "right": null,
            "top": null,
            "visibility": null,
            "width": null
          }
        },
        "99327f92649643d6849bc2d5f503de15": {
          "model_module": "@jupyter-widgets/output",
          "model_name": "OutputModel",
          "model_module_version": "1.0.0",
          "state": {
            "_dom_classes": [],
            "_model_module": "@jupyter-widgets/output",
            "_model_module_version": "1.0.0",
            "_model_name": "OutputModel",
            "_view_count": null,
            "_view_module": "@jupyter-widgets/output",
            "_view_module_version": "1.0.0",
            "_view_name": "OutputView",
            "layout": "IPY_MODEL_01145498719644338f7eed72aa92c12c",
            "msg_id": "",
            "outputs": [
              {
                "output_type": "display_data",
                "data": {
                  "text/plain": "Sampling ... \u001b[32m━━━━━━━━━━━━━━━━━━━━━━━━━━━━━━━━━━━━━━━━\u001b[0m \u001b[35m100%\u001b[0m 0:00:00 / 0:00:00\n",
                  "text/html": "<pre style=\"white-space:pre;overflow-x:auto;line-height:normal;font-family:Menlo,'DejaVu Sans Mono',consolas,'Courier New',monospace\">Sampling ... <span style=\"color: #008000; text-decoration-color: #008000\">━━━━━━━━━━━━━━━━━━━━━━━━━━━━━━━━━━━━━━━━</span> <span style=\"color: #800080; text-decoration-color: #800080\">100%</span> 0:00:00 / 0:00:00\n</pre>\n"
                },
                "metadata": {}
              }
            ]
          }
        },
        "01145498719644338f7eed72aa92c12c": {
          "model_module": "@jupyter-widgets/base",
          "model_name": "LayoutModel",
          "model_module_version": "1.2.0",
          "state": {
            "_model_module": "@jupyter-widgets/base",
            "_model_module_version": "1.2.0",
            "_model_name": "LayoutModel",
            "_view_count": null,
            "_view_module": "@jupyter-widgets/base",
            "_view_module_version": "1.2.0",
            "_view_name": "LayoutView",
            "align_content": null,
            "align_items": null,
            "align_self": null,
            "border": null,
            "bottom": null,
            "display": null,
            "flex": null,
            "flex_flow": null,
            "grid_area": null,
            "grid_auto_columns": null,
            "grid_auto_flow": null,
            "grid_auto_rows": null,
            "grid_column": null,
            "grid_gap": null,
            "grid_row": null,
            "grid_template_areas": null,
            "grid_template_columns": null,
            "grid_template_rows": null,
            "height": null,
            "justify_content": null,
            "justify_items": null,
            "left": null,
            "margin": null,
            "max_height": null,
            "max_width": null,
            "min_height": null,
            "min_width": null,
            "object_fit": null,
            "object_position": null,
            "order": null,
            "overflow": null,
            "overflow_x": null,
            "overflow_y": null,
            "padding": null,
            "right": null,
            "top": null,
            "visibility": null,
            "width": null
          }
        },
        "58f305219e0e44a5aff70522f0ba215d": {
          "model_module": "@jupyter-widgets/output",
          "model_name": "OutputModel",
          "model_module_version": "1.0.0",
          "state": {
            "_dom_classes": [],
            "_model_module": "@jupyter-widgets/output",
            "_model_module_version": "1.0.0",
            "_model_name": "OutputModel",
            "_view_count": null,
            "_view_module": "@jupyter-widgets/output",
            "_view_module_version": "1.0.0",
            "_view_name": "OutputView",
            "layout": "IPY_MODEL_d216221c3cbc40dcb63bf64e9bc2483a",
            "msg_id": "",
            "outputs": [
              {
                "output_type": "display_data",
                "data": {
                  "text/plain": "                                                                                           \n \u001b[1m \u001b[0m\u001b[1mProgress                                \u001b[0m\u001b[1m \u001b[0m \u001b[1m \u001b[0m\u001b[1mDraws\u001b[0m\u001b[1m \u001b[0m \u001b[1m \u001b[0m\u001b[1mSampling Speed\u001b[0m\u001b[1m \u001b[0m \u001b[1m \u001b[0m\u001b[1mElapsed\u001b[0m\u001b[1m \u001b[0m \u001b[1m \u001b[0m\u001b[1mRemaining\u001b[0m\u001b[1m \u001b[0m \n ───────────────────────────────────────────────────────────────────────────────────────── \n  \u001b[38;2;31;119;180m━━━━━━━━━━━━━━━━━━━━━━━━━━━━━━━━━━━━━━━━\u001b[0m   2000    26.82 draws/s    0:01:14   0:00:00    \n  \u001b[38;2;31;119;180m━━━━━━━━━━━━━━━━━━━━━━━━━━━━━━━━━━━━━━━━\u001b[0m   2000    13.41 draws/s    0:02:29   0:00:00    \n                                                                                           \n",
                  "text/html": "<pre style=\"white-space:pre;overflow-x:auto;line-height:normal;font-family:Menlo,'DejaVu Sans Mono',consolas,'Courier New',monospace\">                                                                                           \n <span style=\"font-weight: bold\"> Progress                                 </span> <span style=\"font-weight: bold\"> Draws </span> <span style=\"font-weight: bold\"> Sampling Speed </span> <span style=\"font-weight: bold\"> Elapsed </span> <span style=\"font-weight: bold\"> Remaining </span> \n ───────────────────────────────────────────────────────────────────────────────────────── \n  <span style=\"color: #1f77b4; text-decoration-color: #1f77b4\">━━━━━━━━━━━━━━━━━━━━━━━━━━━━━━━━━━━━━━━━</span>   2000    26.82 draws/s    0:01:14   0:00:00    \n  <span style=\"color: #1f77b4; text-decoration-color: #1f77b4\">━━━━━━━━━━━━━━━━━━━━━━━━━━━━━━━━━━━━━━━━</span>   2000    13.41 draws/s    0:02:29   0:00:00    \n                                                                                           \n</pre>\n"
                },
                "metadata": {}
              }
            ]
          }
        },
        "d216221c3cbc40dcb63bf64e9bc2483a": {
          "model_module": "@jupyter-widgets/base",
          "model_name": "LayoutModel",
          "model_module_version": "1.2.0",
          "state": {
            "_model_module": "@jupyter-widgets/base",
            "_model_module_version": "1.2.0",
            "_model_name": "LayoutModel",
            "_view_count": null,
            "_view_module": "@jupyter-widgets/base",
            "_view_module_version": "1.2.0",
            "_view_name": "LayoutView",
            "align_content": null,
            "align_items": null,
            "align_self": null,
            "border": null,
            "bottom": null,
            "display": null,
            "flex": null,
            "flex_flow": null,
            "grid_area": null,
            "grid_auto_columns": null,
            "grid_auto_flow": null,
            "grid_auto_rows": null,
            "grid_column": null,
            "grid_gap": null,
            "grid_row": null,
            "grid_template_areas": null,
            "grid_template_columns": null,
            "grid_template_rows": null,
            "height": null,
            "justify_content": null,
            "justify_items": null,
            "left": null,
            "margin": null,
            "max_height": null,
            "max_width": null,
            "min_height": null,
            "min_width": null,
            "object_fit": null,
            "object_position": null,
            "order": null,
            "overflow": null,
            "overflow_x": null,
            "overflow_y": null,
            "padding": null,
            "right": null,
            "top": null,
            "visibility": null,
            "width": null
          }
        },
        "c5e89fc2da3f4bc3acd7bae15ab5025c": {
          "model_module": "@jupyter-widgets/output",
          "model_name": "OutputModel",
          "model_module_version": "1.0.0",
          "state": {
            "_dom_classes": [],
            "_model_module": "@jupyter-widgets/output",
            "_model_module_version": "1.0.0",
            "_model_name": "OutputModel",
            "_view_count": null,
            "_view_module": "@jupyter-widgets/output",
            "_view_module_version": "1.0.0",
            "_view_name": "OutputView",
            "layout": "IPY_MODEL_4739f128089640648d5d04a9b2d09799",
            "msg_id": "",
            "outputs": [
              {
                "output_type": "display_data",
                "data": {
                  "text/plain": "Sampling ... \u001b[32m━━━━━━━━━━━━━━━━━━━━━━━━━━━━━━━━━━━━━━━━\u001b[0m \u001b[35m100%\u001b[0m 0:00:00 / 0:00:00\n",
                  "text/html": "<pre style=\"white-space:pre;overflow-x:auto;line-height:normal;font-family:Menlo,'DejaVu Sans Mono',consolas,'Courier New',monospace\">Sampling ... <span style=\"color: #008000; text-decoration-color: #008000\">━━━━━━━━━━━━━━━━━━━━━━━━━━━━━━━━━━━━━━━━</span> <span style=\"color: #800080; text-decoration-color: #800080\">100%</span> 0:00:00 / 0:00:00\n</pre>\n"
                },
                "metadata": {}
              }
            ]
          }
        },
        "4739f128089640648d5d04a9b2d09799": {
          "model_module": "@jupyter-widgets/base",
          "model_name": "LayoutModel",
          "model_module_version": "1.2.0",
          "state": {
            "_model_module": "@jupyter-widgets/base",
            "_model_module_version": "1.2.0",
            "_model_name": "LayoutModel",
            "_view_count": null,
            "_view_module": "@jupyter-widgets/base",
            "_view_module_version": "1.2.0",
            "_view_name": "LayoutView",
            "align_content": null,
            "align_items": null,
            "align_self": null,
            "border": null,
            "bottom": null,
            "display": null,
            "flex": null,
            "flex_flow": null,
            "grid_area": null,
            "grid_auto_columns": null,
            "grid_auto_flow": null,
            "grid_auto_rows": null,
            "grid_column": null,
            "grid_gap": null,
            "grid_row": null,
            "grid_template_areas": null,
            "grid_template_columns": null,
            "grid_template_rows": null,
            "height": null,
            "justify_content": null,
            "justify_items": null,
            "left": null,
            "margin": null,
            "max_height": null,
            "max_width": null,
            "min_height": null,
            "min_width": null,
            "object_fit": null,
            "object_position": null,
            "order": null,
            "overflow": null,
            "overflow_x": null,
            "overflow_y": null,
            "padding": null,
            "right": null,
            "top": null,
            "visibility": null,
            "width": null
          }
        },
        "3b0c164d30bd42669886054a7f61f820": {
          "model_module": "@jupyter-widgets/output",
          "model_name": "OutputModel",
          "model_module_version": "1.0.0",
          "state": {
            "_dom_classes": [],
            "_model_module": "@jupyter-widgets/output",
            "_model_module_version": "1.0.0",
            "_model_name": "OutputModel",
            "_view_count": null,
            "_view_module": "@jupyter-widgets/output",
            "_view_module_version": "1.0.0",
            "_view_name": "OutputView",
            "layout": "IPY_MODEL_376522c1dec14c3a82b1c5746f723efc",
            "msg_id": "",
            "outputs": [
              {
                "output_type": "display_data",
                "data": {
                  "text/plain": "                                                                                           \n \u001b[1m \u001b[0m\u001b[1mProgress                                \u001b[0m\u001b[1m \u001b[0m \u001b[1m \u001b[0m\u001b[1mDraws\u001b[0m\u001b[1m \u001b[0m \u001b[1m \u001b[0m\u001b[1mSampling Speed\u001b[0m\u001b[1m \u001b[0m \u001b[1m \u001b[0m\u001b[1mElapsed\u001b[0m\u001b[1m \u001b[0m \u001b[1m \u001b[0m\u001b[1mRemaining\u001b[0m\u001b[1m \u001b[0m \n ───────────────────────────────────────────────────────────────────────────────────────── \n  \u001b[38;2;31;119;180m━━━━━━━━━━━━━━━━━━━━━━━━━━━━━━━━━━━━━━━━\u001b[0m   2000    25.26 draws/s    0:01:19   0:00:00    \n  \u001b[38;2;31;119;180m━━━━━━━━━━━━━━━━━━━━━━━━━━━━━━━━━━━━━━━━\u001b[0m   2000    12.80 draws/s    0:02:36   0:00:00    \n                                                                                           \n",
                  "text/html": "<pre style=\"white-space:pre;overflow-x:auto;line-height:normal;font-family:Menlo,'DejaVu Sans Mono',consolas,'Courier New',monospace\">                                                                                           \n <span style=\"font-weight: bold\"> Progress                                 </span> <span style=\"font-weight: bold\"> Draws </span> <span style=\"font-weight: bold\"> Sampling Speed </span> <span style=\"font-weight: bold\"> Elapsed </span> <span style=\"font-weight: bold\"> Remaining </span> \n ───────────────────────────────────────────────────────────────────────────────────────── \n  <span style=\"color: #1f77b4; text-decoration-color: #1f77b4\">━━━━━━━━━━━━━━━━━━━━━━━━━━━━━━━━━━━━━━━━</span>   2000    25.26 draws/s    0:01:19   0:00:00    \n  <span style=\"color: #1f77b4; text-decoration-color: #1f77b4\">━━━━━━━━━━━━━━━━━━━━━━━━━━━━━━━━━━━━━━━━</span>   2000    12.80 draws/s    0:02:36   0:00:00    \n                                                                                           \n</pre>\n"
                },
                "metadata": {}
              }
            ]
          }
        },
        "376522c1dec14c3a82b1c5746f723efc": {
          "model_module": "@jupyter-widgets/base",
          "model_name": "LayoutModel",
          "model_module_version": "1.2.0",
          "state": {
            "_model_module": "@jupyter-widgets/base",
            "_model_module_version": "1.2.0",
            "_model_name": "LayoutModel",
            "_view_count": null,
            "_view_module": "@jupyter-widgets/base",
            "_view_module_version": "1.2.0",
            "_view_name": "LayoutView",
            "align_content": null,
            "align_items": null,
            "align_self": null,
            "border": null,
            "bottom": null,
            "display": null,
            "flex": null,
            "flex_flow": null,
            "grid_area": null,
            "grid_auto_columns": null,
            "grid_auto_flow": null,
            "grid_auto_rows": null,
            "grid_column": null,
            "grid_gap": null,
            "grid_row": null,
            "grid_template_areas": null,
            "grid_template_columns": null,
            "grid_template_rows": null,
            "height": null,
            "justify_content": null,
            "justify_items": null,
            "left": null,
            "margin": null,
            "max_height": null,
            "max_width": null,
            "min_height": null,
            "min_width": null,
            "object_fit": null,
            "object_position": null,
            "order": null,
            "overflow": null,
            "overflow_x": null,
            "overflow_y": null,
            "padding": null,
            "right": null,
            "top": null,
            "visibility": null,
            "width": null
          }
        },
        "30e5ad739c7b4143a1ddbe5d0b46e778": {
          "model_module": "@jupyter-widgets/output",
          "model_name": "OutputModel",
          "model_module_version": "1.0.0",
          "state": {
            "_dom_classes": [],
            "_model_module": "@jupyter-widgets/output",
            "_model_module_version": "1.0.0",
            "_model_name": "OutputModel",
            "_view_count": null,
            "_view_module": "@jupyter-widgets/output",
            "_view_module_version": "1.0.0",
            "_view_name": "OutputView",
            "layout": "IPY_MODEL_e31659d52e1b47a3b07f673713081366",
            "msg_id": "",
            "outputs": [
              {
                "output_type": "display_data",
                "data": {
                  "text/plain": "                                                                                           \n \u001b[1m \u001b[0m\u001b[1mProgress                                \u001b[0m\u001b[1m \u001b[0m \u001b[1m \u001b[0m\u001b[1mDraws\u001b[0m\u001b[1m \u001b[0m \u001b[1m \u001b[0m\u001b[1mSampling Speed\u001b[0m\u001b[1m \u001b[0m \u001b[1m \u001b[0m\u001b[1mElapsed\u001b[0m\u001b[1m \u001b[0m \u001b[1m \u001b[0m\u001b[1mRemaining\u001b[0m\u001b[1m \u001b[0m \n ───────────────────────────────────────────────────────────────────────────────────────── \n  \u001b[38;2;31;119;180m━━━━━━━━━━━━━━━━━━━━━━━━━━━━━━━━━━━━━━━━\u001b[0m   2000    24.02 draws/s    0:01:23   0:00:00    \n  \u001b[38;2;31;119;180m━━━━━━━━━━━━━━━━━━━━━━━━━━━━━━━━━━━━━━━━\u001b[0m   2000    12.24 draws/s    0:02:43   0:00:00    \n                                                                                           \n",
                  "text/html": "<pre style=\"white-space:pre;overflow-x:auto;line-height:normal;font-family:Menlo,'DejaVu Sans Mono',consolas,'Courier New',monospace\">                                                                                           \n <span style=\"font-weight: bold\"> Progress                                 </span> <span style=\"font-weight: bold\"> Draws </span> <span style=\"font-weight: bold\"> Sampling Speed </span> <span style=\"font-weight: bold\"> Elapsed </span> <span style=\"font-weight: bold\"> Remaining </span> \n ───────────────────────────────────────────────────────────────────────────────────────── \n  <span style=\"color: #1f77b4; text-decoration-color: #1f77b4\">━━━━━━━━━━━━━━━━━━━━━━━━━━━━━━━━━━━━━━━━</span>   2000    24.02 draws/s    0:01:23   0:00:00    \n  <span style=\"color: #1f77b4; text-decoration-color: #1f77b4\">━━━━━━━━━━━━━━━━━━━━━━━━━━━━━━━━━━━━━━━━</span>   2000    12.24 draws/s    0:02:43   0:00:00    \n                                                                                           \n</pre>\n"
                },
                "metadata": {}
              }
            ]
          }
        },
        "e31659d52e1b47a3b07f673713081366": {
          "model_module": "@jupyter-widgets/base",
          "model_name": "LayoutModel",
          "model_module_version": "1.2.0",
          "state": {
            "_model_module": "@jupyter-widgets/base",
            "_model_module_version": "1.2.0",
            "_model_name": "LayoutModel",
            "_view_count": null,
            "_view_module": "@jupyter-widgets/base",
            "_view_module_version": "1.2.0",
            "_view_name": "LayoutView",
            "align_content": null,
            "align_items": null,
            "align_self": null,
            "border": null,
            "bottom": null,
            "display": null,
            "flex": null,
            "flex_flow": null,
            "grid_area": null,
            "grid_auto_columns": null,
            "grid_auto_flow": null,
            "grid_auto_rows": null,
            "grid_column": null,
            "grid_gap": null,
            "grid_row": null,
            "grid_template_areas": null,
            "grid_template_columns": null,
            "grid_template_rows": null,
            "height": null,
            "justify_content": null,
            "justify_items": null,
            "left": null,
            "margin": null,
            "max_height": null,
            "max_width": null,
            "min_height": null,
            "min_width": null,
            "object_fit": null,
            "object_position": null,
            "order": null,
            "overflow": null,
            "overflow_x": null,
            "overflow_y": null,
            "padding": null,
            "right": null,
            "top": null,
            "visibility": null,
            "width": null
          }
        },
        "577e94af5b124feeb784c99da2ace67a": {
          "model_module": "@jupyter-widgets/output",
          "model_name": "OutputModel",
          "model_module_version": "1.0.0",
          "state": {
            "_dom_classes": [],
            "_model_module": "@jupyter-widgets/output",
            "_model_module_version": "1.0.0",
            "_model_name": "OutputModel",
            "_view_count": null,
            "_view_module": "@jupyter-widgets/output",
            "_view_module_version": "1.0.0",
            "_view_name": "OutputView",
            "layout": "IPY_MODEL_32ea5c5ad7f64771bfa360256a28f5d9",
            "msg_id": "",
            "outputs": [
              {
                "output_type": "display_data",
                "data": {
                  "text/plain": "Sampling ... \u001b[32m━━━━━━━━━━━━━━━━━━━━━━━━━━━━━━━━━━━━━━━━\u001b[0m \u001b[35m100%\u001b[0m 0:00:00 / 0:00:00\n",
                  "text/html": "<pre style=\"white-space:pre;overflow-x:auto;line-height:normal;font-family:Menlo,'DejaVu Sans Mono',consolas,'Courier New',monospace\">Sampling ... <span style=\"color: #008000; text-decoration-color: #008000\">━━━━━━━━━━━━━━━━━━━━━━━━━━━━━━━━━━━━━━━━</span> <span style=\"color: #800080; text-decoration-color: #800080\">100%</span> 0:00:00 / 0:00:00\n</pre>\n"
                },
                "metadata": {}
              }
            ]
          }
        },
        "32ea5c5ad7f64771bfa360256a28f5d9": {
          "model_module": "@jupyter-widgets/base",
          "model_name": "LayoutModel",
          "model_module_version": "1.2.0",
          "state": {
            "_model_module": "@jupyter-widgets/base",
            "_model_module_version": "1.2.0",
            "_model_name": "LayoutModel",
            "_view_count": null,
            "_view_module": "@jupyter-widgets/base",
            "_view_module_version": "1.2.0",
            "_view_name": "LayoutView",
            "align_content": null,
            "align_items": null,
            "align_self": null,
            "border": null,
            "bottom": null,
            "display": null,
            "flex": null,
            "flex_flow": null,
            "grid_area": null,
            "grid_auto_columns": null,
            "grid_auto_flow": null,
            "grid_auto_rows": null,
            "grid_column": null,
            "grid_gap": null,
            "grid_row": null,
            "grid_template_areas": null,
            "grid_template_columns": null,
            "grid_template_rows": null,
            "height": null,
            "justify_content": null,
            "justify_items": null,
            "left": null,
            "margin": null,
            "max_height": null,
            "max_width": null,
            "min_height": null,
            "min_width": null,
            "object_fit": null,
            "object_position": null,
            "order": null,
            "overflow": null,
            "overflow_x": null,
            "overflow_y": null,
            "padding": null,
            "right": null,
            "top": null,
            "visibility": null,
            "width": null
          }
        },
        "03bea8dcb25546768f6ac41d8799d72f": {
          "model_module": "@jupyter-widgets/output",
          "model_name": "OutputModel",
          "model_module_version": "1.0.0",
          "state": {
            "_dom_classes": [],
            "_model_module": "@jupyter-widgets/output",
            "_model_module_version": "1.0.0",
            "_model_name": "OutputModel",
            "_view_count": null,
            "_view_module": "@jupyter-widgets/output",
            "_view_module_version": "1.0.0",
            "_view_name": "OutputView",
            "layout": "IPY_MODEL_b41d29b1b3884a458e452f2cd3e62d52",
            "msg_id": "",
            "outputs": [
              {
                "output_type": "display_data",
                "data": {
                  "text/plain": "                                                                                           \n \u001b[1m \u001b[0m\u001b[1mProgress                                \u001b[0m\u001b[1m \u001b[0m \u001b[1m \u001b[0m\u001b[1mDraws\u001b[0m\u001b[1m \u001b[0m \u001b[1m \u001b[0m\u001b[1mSampling Speed\u001b[0m\u001b[1m \u001b[0m \u001b[1m \u001b[0m\u001b[1mElapsed\u001b[0m\u001b[1m \u001b[0m \u001b[1m \u001b[0m\u001b[1mRemaining\u001b[0m\u001b[1m \u001b[0m \n ───────────────────────────────────────────────────────────────────────────────────────── \n  \u001b[38;2;31;119;180m━━━━━━━━━━━━━━━━━━━━━━━━━━━━━━━━━━━━━━━━\u001b[0m   2000    26.11 draws/s    0:01:16   0:00:00    \n  \u001b[38;2;31;119;180m━━━━━━━━━━━━━━━━━━━━━━━━━━━━━━━━━━━━━━━━\u001b[0m   2000    13.16 draws/s    0:02:31   0:00:00    \n                                                                                           \n",
                  "text/html": "<pre style=\"white-space:pre;overflow-x:auto;line-height:normal;font-family:Menlo,'DejaVu Sans Mono',consolas,'Courier New',monospace\">                                                                                           \n <span style=\"font-weight: bold\"> Progress                                 </span> <span style=\"font-weight: bold\"> Draws </span> <span style=\"font-weight: bold\"> Sampling Speed </span> <span style=\"font-weight: bold\"> Elapsed </span> <span style=\"font-weight: bold\"> Remaining </span> \n ───────────────────────────────────────────────────────────────────────────────────────── \n  <span style=\"color: #1f77b4; text-decoration-color: #1f77b4\">━━━━━━━━━━━━━━━━━━━━━━━━━━━━━━━━━━━━━━━━</span>   2000    26.11 draws/s    0:01:16   0:00:00    \n  <span style=\"color: #1f77b4; text-decoration-color: #1f77b4\">━━━━━━━━━━━━━━━━━━━━━━━━━━━━━━━━━━━━━━━━</span>   2000    13.16 draws/s    0:02:31   0:00:00    \n                                                                                           \n</pre>\n"
                },
                "metadata": {}
              }
            ]
          }
        },
        "b41d29b1b3884a458e452f2cd3e62d52": {
          "model_module": "@jupyter-widgets/base",
          "model_name": "LayoutModel",
          "model_module_version": "1.2.0",
          "state": {
            "_model_module": "@jupyter-widgets/base",
            "_model_module_version": "1.2.0",
            "_model_name": "LayoutModel",
            "_view_count": null,
            "_view_module": "@jupyter-widgets/base",
            "_view_module_version": "1.2.0",
            "_view_name": "LayoutView",
            "align_content": null,
            "align_items": null,
            "align_self": null,
            "border": null,
            "bottom": null,
            "display": null,
            "flex": null,
            "flex_flow": null,
            "grid_area": null,
            "grid_auto_columns": null,
            "grid_auto_flow": null,
            "grid_auto_rows": null,
            "grid_column": null,
            "grid_gap": null,
            "grid_row": null,
            "grid_template_areas": null,
            "grid_template_columns": null,
            "grid_template_rows": null,
            "height": null,
            "justify_content": null,
            "justify_items": null,
            "left": null,
            "margin": null,
            "max_height": null,
            "max_width": null,
            "min_height": null,
            "min_width": null,
            "object_fit": null,
            "object_position": null,
            "order": null,
            "overflow": null,
            "overflow_x": null,
            "overflow_y": null,
            "padding": null,
            "right": null,
            "top": null,
            "visibility": null,
            "width": null
          }
        },
        "206134e5888e42dd9c9c4069ac399a9d": {
          "model_module": "@jupyter-widgets/output",
          "model_name": "OutputModel",
          "model_module_version": "1.0.0",
          "state": {
            "_dom_classes": [],
            "_model_module": "@jupyter-widgets/output",
            "_model_module_version": "1.0.0",
            "_model_name": "OutputModel",
            "_view_count": null,
            "_view_module": "@jupyter-widgets/output",
            "_view_module_version": "1.0.0",
            "_view_name": "OutputView",
            "layout": "IPY_MODEL_9826a8990ae748bc89ad76301b82740f",
            "msg_id": "",
            "outputs": [
              {
                "output_type": "display_data",
                "data": {
                  "text/plain": "Sampling ... \u001b[32m━━━━━━━━━━━━━━━━━━━━━━━━━━━━━━━━━━━━━━━━\u001b[0m \u001b[35m100%\u001b[0m 0:00:00 / 0:00:00\n",
                  "text/html": "<pre style=\"white-space:pre;overflow-x:auto;line-height:normal;font-family:Menlo,'DejaVu Sans Mono',consolas,'Courier New',monospace\">Sampling ... <span style=\"color: #008000; text-decoration-color: #008000\">━━━━━━━━━━━━━━━━━━━━━━━━━━━━━━━━━━━━━━━━</span> <span style=\"color: #800080; text-decoration-color: #800080\">100%</span> 0:00:00 / 0:00:00\n</pre>\n"
                },
                "metadata": {}
              }
            ]
          }
        },
        "9826a8990ae748bc89ad76301b82740f": {
          "model_module": "@jupyter-widgets/base",
          "model_name": "LayoutModel",
          "model_module_version": "1.2.0",
          "state": {
            "_model_module": "@jupyter-widgets/base",
            "_model_module_version": "1.2.0",
            "_model_name": "LayoutModel",
            "_view_count": null,
            "_view_module": "@jupyter-widgets/base",
            "_view_module_version": "1.2.0",
            "_view_name": "LayoutView",
            "align_content": null,
            "align_items": null,
            "align_self": null,
            "border": null,
            "bottom": null,
            "display": null,
            "flex": null,
            "flex_flow": null,
            "grid_area": null,
            "grid_auto_columns": null,
            "grid_auto_flow": null,
            "grid_auto_rows": null,
            "grid_column": null,
            "grid_gap": null,
            "grid_row": null,
            "grid_template_areas": null,
            "grid_template_columns": null,
            "grid_template_rows": null,
            "height": null,
            "justify_content": null,
            "justify_items": null,
            "left": null,
            "margin": null,
            "max_height": null,
            "max_width": null,
            "min_height": null,
            "min_width": null,
            "object_fit": null,
            "object_position": null,
            "order": null,
            "overflow": null,
            "overflow_x": null,
            "overflow_y": null,
            "padding": null,
            "right": null,
            "top": null,
            "visibility": null,
            "width": null
          }
        },
        "0e89e92df6864f2abd5ac1df35df4fea": {
          "model_module": "@jupyter-widgets/output",
          "model_name": "OutputModel",
          "model_module_version": "1.0.0",
          "state": {
            "_dom_classes": [],
            "_model_module": "@jupyter-widgets/output",
            "_model_module_version": "1.0.0",
            "_model_name": "OutputModel",
            "_view_count": null,
            "_view_module": "@jupyter-widgets/output",
            "_view_module_version": "1.0.0",
            "_view_name": "OutputView",
            "layout": "IPY_MODEL_b8d8414e140543aa9927fa586509d0e6",
            "msg_id": "",
            "outputs": [
              {
                "output_type": "display_data",
                "data": {
                  "text/plain": "                                                                                           \n \u001b[1m \u001b[0m\u001b[1mProgress                                \u001b[0m\u001b[1m \u001b[0m \u001b[1m \u001b[0m\u001b[1mDraws\u001b[0m\u001b[1m \u001b[0m \u001b[1m \u001b[0m\u001b[1mSampling Speed\u001b[0m\u001b[1m \u001b[0m \u001b[1m \u001b[0m\u001b[1mElapsed\u001b[0m\u001b[1m \u001b[0m \u001b[1m \u001b[0m\u001b[1mRemaining\u001b[0m\u001b[1m \u001b[0m \n ───────────────────────────────────────────────────────────────────────────────────────── \n  \u001b[38;2;31;119;180m━━━━━━━━━━━━━━━━━━━━━━━━━━━━━━━━━━━━━━━━\u001b[0m   2000    22.85 draws/s    0:01:27   0:00:00    \n  \u001b[38;2;31;119;180m━━━━━━━━━━━━━━━━━━━━━━━━━━━━━━━━━━━━━━━━\u001b[0m   2000    11.74 draws/s    0:02:50   0:00:00    \n                                                                                           \n",
                  "text/html": "<pre style=\"white-space:pre;overflow-x:auto;line-height:normal;font-family:Menlo,'DejaVu Sans Mono',consolas,'Courier New',monospace\">                                                                                           \n <span style=\"font-weight: bold\"> Progress                                 </span> <span style=\"font-weight: bold\"> Draws </span> <span style=\"font-weight: bold\"> Sampling Speed </span> <span style=\"font-weight: bold\"> Elapsed </span> <span style=\"font-weight: bold\"> Remaining </span> \n ───────────────────────────────────────────────────────────────────────────────────────── \n  <span style=\"color: #1f77b4; text-decoration-color: #1f77b4\">━━━━━━━━━━━━━━━━━━━━━━━━━━━━━━━━━━━━━━━━</span>   2000    22.85 draws/s    0:01:27   0:00:00    \n  <span style=\"color: #1f77b4; text-decoration-color: #1f77b4\">━━━━━━━━━━━━━━━━━━━━━━━━━━━━━━━━━━━━━━━━</span>   2000    11.74 draws/s    0:02:50   0:00:00    \n                                                                                           \n</pre>\n"
                },
                "metadata": {}
              }
            ]
          }
        },
        "b8d8414e140543aa9927fa586509d0e6": {
          "model_module": "@jupyter-widgets/base",
          "model_name": "LayoutModel",
          "model_module_version": "1.2.0",
          "state": {
            "_model_module": "@jupyter-widgets/base",
            "_model_module_version": "1.2.0",
            "_model_name": "LayoutModel",
            "_view_count": null,
            "_view_module": "@jupyter-widgets/base",
            "_view_module_version": "1.2.0",
            "_view_name": "LayoutView",
            "align_content": null,
            "align_items": null,
            "align_self": null,
            "border": null,
            "bottom": null,
            "display": null,
            "flex": null,
            "flex_flow": null,
            "grid_area": null,
            "grid_auto_columns": null,
            "grid_auto_flow": null,
            "grid_auto_rows": null,
            "grid_column": null,
            "grid_gap": null,
            "grid_row": null,
            "grid_template_areas": null,
            "grid_template_columns": null,
            "grid_template_rows": null,
            "height": null,
            "justify_content": null,
            "justify_items": null,
            "left": null,
            "margin": null,
            "max_height": null,
            "max_width": null,
            "min_height": null,
            "min_width": null,
            "object_fit": null,
            "object_position": null,
            "order": null,
            "overflow": null,
            "overflow_x": null,
            "overflow_y": null,
            "padding": null,
            "right": null,
            "top": null,
            "visibility": null,
            "width": null
          }
        },
        "60febda967fe40c98be9d95a98ca5527": {
          "model_module": "@jupyter-widgets/output",
          "model_name": "OutputModel",
          "model_module_version": "1.0.0",
          "state": {
            "_dom_classes": [],
            "_model_module": "@jupyter-widgets/output",
            "_model_module_version": "1.0.0",
            "_model_name": "OutputModel",
            "_view_count": null,
            "_view_module": "@jupyter-widgets/output",
            "_view_module_version": "1.0.0",
            "_view_name": "OutputView",
            "layout": "IPY_MODEL_ff5b8e4523e5409e96e7d173e631d5ce",
            "msg_id": "",
            "outputs": [
              {
                "output_type": "display_data",
                "data": {
                  "text/plain": "                                                                                           \n \u001b[1m \u001b[0m\u001b[1mProgress                                \u001b[0m\u001b[1m \u001b[0m \u001b[1m \u001b[0m\u001b[1mDraws\u001b[0m\u001b[1m \u001b[0m \u001b[1m \u001b[0m\u001b[1mSampling Speed\u001b[0m\u001b[1m \u001b[0m \u001b[1m \u001b[0m\u001b[1mElapsed\u001b[0m\u001b[1m \u001b[0m \u001b[1m \u001b[0m\u001b[1mRemaining\u001b[0m\u001b[1m \u001b[0m \n ───────────────────────────────────────────────────────────────────────────────────────── \n  \u001b[38;2;31;119;180m━━━━━━━━━━━━━━━━━━━━━━━━━━━━━━━━━━━━━━━━\u001b[0m   2000    25.51 draws/s    0:01:18   0:00:00    \n  \u001b[38;2;31;119;180m━━━━━━━━━━━━━━━━━━━━━━━━━━━━━━━━━━━━━━━━\u001b[0m   2000    12.14 draws/s    0:02:44   0:00:00    \n                                                                                           \n",
                  "text/html": "<pre style=\"white-space:pre;overflow-x:auto;line-height:normal;font-family:Menlo,'DejaVu Sans Mono',consolas,'Courier New',monospace\">                                                                                           \n <span style=\"font-weight: bold\"> Progress                                 </span> <span style=\"font-weight: bold\"> Draws </span> <span style=\"font-weight: bold\"> Sampling Speed </span> <span style=\"font-weight: bold\"> Elapsed </span> <span style=\"font-weight: bold\"> Remaining </span> \n ───────────────────────────────────────────────────────────────────────────────────────── \n  <span style=\"color: #1f77b4; text-decoration-color: #1f77b4\">━━━━━━━━━━━━━━━━━━━━━━━━━━━━━━━━━━━━━━━━</span>   2000    25.51 draws/s    0:01:18   0:00:00    \n  <span style=\"color: #1f77b4; text-decoration-color: #1f77b4\">━━━━━━━━━━━━━━━━━━━━━━━━━━━━━━━━━━━━━━━━</span>   2000    12.14 draws/s    0:02:44   0:00:00    \n                                                                                           \n</pre>\n"
                },
                "metadata": {}
              }
            ]
          }
        },
        "ff5b8e4523e5409e96e7d173e631d5ce": {
          "model_module": "@jupyter-widgets/base",
          "model_name": "LayoutModel",
          "model_module_version": "1.2.0",
          "state": {
            "_model_module": "@jupyter-widgets/base",
            "_model_module_version": "1.2.0",
            "_model_name": "LayoutModel",
            "_view_count": null,
            "_view_module": "@jupyter-widgets/base",
            "_view_module_version": "1.2.0",
            "_view_name": "LayoutView",
            "align_content": null,
            "align_items": null,
            "align_self": null,
            "border": null,
            "bottom": null,
            "display": null,
            "flex": null,
            "flex_flow": null,
            "grid_area": null,
            "grid_auto_columns": null,
            "grid_auto_flow": null,
            "grid_auto_rows": null,
            "grid_column": null,
            "grid_gap": null,
            "grid_row": null,
            "grid_template_areas": null,
            "grid_template_columns": null,
            "grid_template_rows": null,
            "height": null,
            "justify_content": null,
            "justify_items": null,
            "left": null,
            "margin": null,
            "max_height": null,
            "max_width": null,
            "min_height": null,
            "min_width": null,
            "object_fit": null,
            "object_position": null,
            "order": null,
            "overflow": null,
            "overflow_x": null,
            "overflow_y": null,
            "padding": null,
            "right": null,
            "top": null,
            "visibility": null,
            "width": null
          }
        },
        "4026b3fe12fa47fa8fad645ab90664c1": {
          "model_module": "@jupyter-widgets/output",
          "model_name": "OutputModel",
          "model_module_version": "1.0.0",
          "state": {
            "_dom_classes": [],
            "_model_module": "@jupyter-widgets/output",
            "_model_module_version": "1.0.0",
            "_model_name": "OutputModel",
            "_view_count": null,
            "_view_module": "@jupyter-widgets/output",
            "_view_module_version": "1.0.0",
            "_view_name": "OutputView",
            "layout": "IPY_MODEL_f9c851963ded446ab46972d894db416a",
            "msg_id": "",
            "outputs": [
              {
                "output_type": "display_data",
                "data": {
                  "text/plain": "Sampling ... \u001b[32m━━━━━━━━━━━━━━━━━━━━━━━━━━━━━━━━━━━━━━━━\u001b[0m \u001b[35m100%\u001b[0m 0:00:00 / 0:00:00\n",
                  "text/html": "<pre style=\"white-space:pre;overflow-x:auto;line-height:normal;font-family:Menlo,'DejaVu Sans Mono',consolas,'Courier New',monospace\">Sampling ... <span style=\"color: #008000; text-decoration-color: #008000\">━━━━━━━━━━━━━━━━━━━━━━━━━━━━━━━━━━━━━━━━</span> <span style=\"color: #800080; text-decoration-color: #800080\">100%</span> 0:00:00 / 0:00:00\n</pre>\n"
                },
                "metadata": {}
              }
            ]
          }
        },
        "f9c851963ded446ab46972d894db416a": {
          "model_module": "@jupyter-widgets/base",
          "model_name": "LayoutModel",
          "model_module_version": "1.2.0",
          "state": {
            "_model_module": "@jupyter-widgets/base",
            "_model_module_version": "1.2.0",
            "_model_name": "LayoutModel",
            "_view_count": null,
            "_view_module": "@jupyter-widgets/base",
            "_view_module_version": "1.2.0",
            "_view_name": "LayoutView",
            "align_content": null,
            "align_items": null,
            "align_self": null,
            "border": null,
            "bottom": null,
            "display": null,
            "flex": null,
            "flex_flow": null,
            "grid_area": null,
            "grid_auto_columns": null,
            "grid_auto_flow": null,
            "grid_auto_rows": null,
            "grid_column": null,
            "grid_gap": null,
            "grid_row": null,
            "grid_template_areas": null,
            "grid_template_columns": null,
            "grid_template_rows": null,
            "height": null,
            "justify_content": null,
            "justify_items": null,
            "left": null,
            "margin": null,
            "max_height": null,
            "max_width": null,
            "min_height": null,
            "min_width": null,
            "object_fit": null,
            "object_position": null,
            "order": null,
            "overflow": null,
            "overflow_x": null,
            "overflow_y": null,
            "padding": null,
            "right": null,
            "top": null,
            "visibility": null,
            "width": null
          }
        }
      }
    }
  },
  "cells": [
    {
      "cell_type": "markdown",
      "metadata": {
        "id": "view-in-github",
        "colab_type": "text"
      },
      "source": [
        "<a href=\"https://colab.research.google.com/github/Dyl-cmyk/datascience/blob/projects/DylaLaurUnit8Project.ipynb\" target=\"_parent\"><img src=\"https://colab.research.google.com/assets/colab-badge.svg\" alt=\"Open In Colab\"/></a>"
      ]
    },
    {
      "cell_type": "markdown",
      "source": [
        "# Unit 8 Project: Writing a BARTical\n",
        "\n"
      ],
      "metadata": {
        "id": "hIWO5hU4NeAg"
      }
    },
    {
      "cell_type": "markdown",
      "source": [
        "##Background\n",
        "\n",
        "Of all the activity observed on the Sun, two of the most energetic events are Solar Flares and Coronal Mass Ejections (CMEs). A solar flare is a magnetic anomoly that occours on the \"surface\" of the sun. Like all magnetic-related things there is a positive and negative end. This creates an arch or bridge of Very Hot plasma.\n",
        "\n",
        "When one end of this solar flare becomes detached from the sun it creates a CME. This flings hot, magnetically active, plasma out into space. Usually, solar active regions that produce large flares will also produce a CME, but this is not always true.\n",
        "\n",
        "**From Study**\n",
        "\n",
        "Despite advances in numerical modeling, it is still unclear which circumstances will produce a CME. Therefore, it is worthwhile to empirically determine which features distinguish flares associated with CMEs from flares that are not. At this time, no extensive study has used physically meaningful features of active regions to distinguish between these two populations."
      ],
      "metadata": {
        "id": "EbQbYe9_q8Bn"
      }
    },
    {
      "cell_type": "markdown",
      "source": [
        "**Credits**\n",
        "\n",
        "Some of this introduction is from the study I borrowed the data from. This study can be found [here](https://iopscience.iop.org/article/10.3847/0004-637X/821/2/127#apj523289t1)\n",
        "Data Came from [Here](https://purl.stanford.edu/wt605kh4712)\n",
        "The Stud\n",
        "\n",
        "a couple more definitions of whats in my data\n"
      ],
      "metadata": {
        "id": "ApfyqAyuSWT2"
      }
    },
    {
      "cell_type": "markdown",
      "source": [
        "![CME Screenshot 1.jpg](data:image/jpeg;base64,/9j/4AAQSkZJRgABAQEAeAB4AAD/2wBDAAMCAgMCAgMDAwMEAwMEBQgFBQQEBQoHBwYIDAoMDAsKCwsNDhIQDQ4RDgsLEBYQERMUFRUVDA8XGBYUGBIUFRT/2wBDAQMEBAUEBQkFBQkUDQsNFBQUFBQUFBQUFBQUFBQUFBQUFBQUFBQUFBQUFBQUFBQUFBQUFBQUFBQUFBQUFBQUFBT/wAARCAJkAbUDASIAAhEBAxEB/8QAHwAAAQUBAQEBAQEAAAAAAAAAAAECAwQFBgcICQoL/8QAtRAAAgEDAwIEAwUFBAQAAAF9AQIDAAQRBRIhMUEGE1FhByJxFDKBkaEII0KxwRVS0fAkM2JyggkKFhcYGRolJicoKSo0NTY3ODk6Q0RFRkdISUpTVFVWV1hZWmNkZWZnaGlqc3R1dnd4eXqDhIWGh4iJipKTlJWWl5iZmqKjpKWmp6ipqrKztLW2t7i5usLDxMXGx8jJytLT1NXW19jZ2uHi4+Tl5ufo6erx8vP09fb3+Pn6/8QAHwEAAwEBAQEBAQEBAQAAAAAAAAECAwQFBgcICQoL/8QAtREAAgECBAQDBAcFBAQAAQJ3AAECAxEEBSExBhJBUQdhcRMiMoEIFEKRobHBCSMzUvAVYnLRChYkNOEl8RcYGRomJygpKjU2Nzg5OkNERUZHSElKU1RVVldYWVpjZGVmZ2hpanN0dXZ3eHl6goOEhYaHiImKkpOUlZaXmJmaoqOkpaanqKmqsrO0tba3uLm6wsPExcbHyMnK0tPU1dbX2Nna4uPk5ebn6Onq8vP09fb3+Pn6/9oADAMBAAIRAxEAPwD9U6KKKACiiigAooooAKKKKACiiigAooooAKKKKACiiigAooooAKKKKACiiigAooooAKKKKACiiigAooooAKKKKACiiigAooooAKKKKACiiigAooooAKKKKACiiigAooooAKKKKACiiigAooooAKKKKACiiigAoorz741fG7QPgP4d07W/EdvqE9he6hHpwbT4VlaFmR3MjgsvyKsbFiMkY6Ggdr7HoNFee/F344+HPgz4Y07XNYW81C31C5jtrWDSo1mllLAtvALKNiqCzMTgD3IBjv8A4ysnj7WPCWk+DPEXiO+0iO2kvrnT3sI4IROrNHzPdRM3Ctnapxj6U7dPOwul/K/6Ho1FcH4p+M/h/wAIfEbw34LvhdvqmuAmOeGINb2udwiE7kjYZWR0jGDuZGHGKrat8d/DOhfGTT/hrfre2utahZJeW148I+xSMzSBIPM3ZErCGVgpUAhCAScCkvetbrdL5bg/dvfpr8nsei0Vwd18avDOm3vjSDUZbjTo/Cc1tb31xNFuWV7iJJIlhVCzyMfMVQoXcWOFByMyeHfiNqmuanaW918PPFOhWdyGKajqJsDCuELjekV1JKmQMDdGMEgHBNK+l/n+F/yA7iivI/Af7SGleOpPC7nwz4g0HTvFBkTRtS1RbQw3kiIzmMCG4kkRikcjDzEUHYRnJAO/p3xl0XU/hZrPj6K1v10fSk1CSaB40Fwws5JY5dq79pyYW25YZBGcc4cvdTcug0m2kuv63/yf3He0VS0TVodf0Ww1O3V0gvbeO5jWUAMFdQwBAJGcH1NXabTi2nuSmpJNbBRVDXpHh0PUZI2ZJEtpGVlOCCFOCDXz1+xL4/13VPh5F4d8Y6tdatrlvYWmt2uo6jO0s13p93HvVy7ElvLmE8RJJwEX1FTF8zkuyT++/wDk36X7Dl7qi+9/0/VperR9KUV8u/Br4p6t4o+PXjfxFq+tXMPgm68Orquk2U9wRa21lFdSwC42Z2gyCB5i/XbIo6CvVfDfx60zX9W0G2uPD+vaFp/iLf8A2Hq+qwQpa6kQhkVUCStLEzxhnVZ44ywU8ZGKcVzRi+/4atWfno9PXsJvllJPp/knf013+Z6bRXnF78aI9I1/T7LVvCHiXSNL1DUhpNrrt3FbfZJJ2LLHlEnadFkZdqs8SjLLkgMDWTf/ALSWlWx8WPZeFPFGsWnhS8ms9bvLK1gEVp5SK7SDzJkMy7WLbYQ7gL8yLuTcrq1/60te/bdb90VZ7f11+/Z/ceu0VU07VLTVtLtdStLhJ7G5hW4hnU/K8bKGVh7EEGvItd/ak0bQPC58VS+EvFdx4NeVIrbxDb2tube6LyCNGSMziZUZj8skkaIRghiGTdVnzcnUm6ceZbHtFFcA/wAYLSb4jal4K07QNa1fV9MNo99LapAtvbQzglZmeSVMquDlQDIediOFYivL8aY9P8RaXp+reEPEmh6fqmoHTLHW76K2+yzTnf5YKJO08Yk2HaZIl5Kg7c0lrZLr/X56eum43pe/T+vy19NT0eivIPiF8aLVdG8Y2emeGfEOv6dpdvPaalrWmwQtaWkwjPmJh5VllMYIL+THJjJH3gyjl/gBr2mWulfB7TptR1qHUW+HUV2tos6jSjCgtA8sqE589SyhWxgK0nrSi1K/bT8VJ/daPzTv0HJWt8/wcV+cvwsfQ9FeWaL+0Nous3WhynQ9dsPDmvXIs9I8S3kMK2N9K2fLCgSmZBJtOxpYkVuMH5lzn3X7Tuiw2PiPUoPC/ie+0Xw3qNzput6pb2sHkWDQSbJJCGmV5UA+f9ysjBfvKp4p/wBem2/bdb90L+vz277Pbsz2OivF5/i14i/4aKtfDFp4d1i/8MzaCt0stu+n+SzNcIv20M04k8pVYqVxvJ5EbcGvR/HXjnTPh7oDarqn2iRGlS3t7Wzhaa4u53O2OGKNeWdjwBwBySQASD7Kl3+/drb1X6b6B9ppdLemqT/J/wBLU6GivOtL+Mi3muXOgX/hHxDoPiQWD6jZaRqP2MyalEh2uLeaK4eAurFAUeRCN6kgKc1wf7HMi694Eu/E1/4XuLDxHqV5dNe+Ir4Wrz6pi7mCr5kcryFYgqxhZAqrgBAVGaaWvlb/AIH/AA/YHor+dv1/rufQNFfO/h/4iN4Q+MfxshtPDGveKbqG/wBPu57fRYYcww/2ZAAxaeWJGJKMBGjM5x93HNei3fxw0F9F8MX2h2uo+KrnxNbfbNJ03SIV+0XEICl5GMzxxxKgddxldOSFGWIUytUn3t+Kv/n9z7B/wfw/r8T0OivLLv8AaI8P6T4P8V65q2maxo9z4WMf9r6JeQxfbbZZCBG42SNE6MDuDJIykAjO4ECG/wDHttq3jrwAt9YeL/Dt1e3d/Hptk0tvFbaiiWu8yXMSys2zacxq4WRXHzItMP8Ag/ges0V5Ynx0ni8c+H/CmofDvxZpWpa0ZTbvNJpk0ccUYBkml8m9kZI13KCxXksqjLEAw6h+0ZpNlYX+tReGvEl/4N0+doLrxXa20JsYwjBJZQjTC4kijbIaSOFlwrEEhSaN7B1ses0V5xrnxusNO8bSeEtL8P654o11dNh1dIdIjg8qS2kd0DiaaaONcGPozKTuG3d82OI8f/tCahc+E/h/r3gvRNavLbWPENvYXsSR2aTREStHPYypPMuyYurJlflBQ/vFBBItWl3aX3u35/5b6B0b7K/4X/LX8dj36ivPfFPxYvvC1k123w98WajBBYLf3rWK2LfYxtZmibfdL5sihTkQeaOgBJIzyMOtWXiX9p7wTq+mzi50+/8AAd9dW0wUr5kb3dkytggEZBBweaFrJR9fwUn+PK7f8AHpFy9PzS/C57hRRRQAUUUUAFFFFABRRRQAUUUUAFFFFABRRRQAUUUUAFeX/HLwHqHjyf4fRWmnJqVlp/ieG91KOR0CraC3uI3YhiNwzIo2jJO7p1r1CilZNpvo0/udx30aXVNferHyP4s/Z18ca34J8SaZeQRay/h+2i0PwZH9ojEktkbuGeSeRnYBZBFHDB8xB/0Zzz5nPW634E1rTvj/AOL/ABRP4M8Ya9pl/Bpn2C58L+I4tPjLwI4kE8Rv7fzBllwHVxjd2Jz9F0VV3p5a/Pr9719WLT3l3/4H+Vj5w1r4A+KfiNb+OfEWpeINW8L+IdWvBJpukwCwlgiSycnTTJIYZJFO9fOYRTLgysODmtFfhLq3xQ8b61qXjbw++kWGt+D9Ms5fJu4nlstRinnlcRMjMQ8TOjLIOMgEE4Ir36ipStZdv8nG/q09+6QPW/n/AJppeitZeTZ8paH8EfijqaeN7zXjpv8AwlEfiPR9X02+ecJZ60LCNEDyLHueDzFQbhtO1+QCoFdzb6d4z8W/GLwr4hTwz4s8G6dbR3La3DqviGKawugbfy4Y4rWC8lTcHO7cYkztJJ3YFe6UUPVOL/rRRv8ANJeWmiWof8N8rt2+V3br5nyP8Dvg14u8KRfDSJvCWueH9d0GV11bVtd1uDUNONo6uJobO3F3N5Mkh8rDRxQ4CtlsEo+ppv7M19L+z94v029h8QQeML5dca10238V3kNpI809y1sDBHci2w6vGSrLg7jvGS1fUlFE17RNPrf8bbdtvz7lKTUlLzT+6/8An67djE8EadcaR4M0Cwu4/Ku7XT7eCaPcG2usaqwyMg4IPStuiitJyc5OT6mUIqEVFdClrVvJd6PfQRLvllgkRFzjJKkAc18yX3wB8bt8H/hVa6I39g+MNP0aPwxr22ePdHp08aJckOrEM8LIsibSed2M5r6oorNJXb72/C+nzUmn5Gl3pbpf8ba/JpNeZ4F4w+BN94h8Y+LdO0+1TSfDGo/DyPwvY3iOuyCYSz7U8tW37VR0OcYI4BzVbwD8MJLvVPDaeIPAXi6z1XRpBcjVdV8bT6lpUNzHGyLNbQvfSO+S3yiSBMK7ZwRtP0NRT17/AOe7d797yf4EtL+vRL8or8T46b4JeL9W0zwX/aHw4S88d6Z4n0+/17xvqt/aXM13BDdAyPZymVpljKKreSywqq5VUJ4r2Xw74B16x8FfF6wnsdl3r2rapc6dH50Z8+OaBEibIbC5YEYbBHfFewUVMoqUZQ6STX38u3/gKt8zRSalGXZp/dzf/JP8Dg/Angy8t/gZoHhTVQ+nX6eHoNMuhE6s0En2YRvhlJUlTnkEjivnz4p/8Jv4e/ZXj8Baj4KNhPpSabpL619vtm0+7jjuoIo2tlWQzmSQBCEkiQLuYFjtG76+IyCD0Nef6L8BvBmg32mXUNnqV3/ZbrLYWuqa3fX1rZuoKo8NvPM8UbKCQrKoKg4XFaublVdR9Wm/k2/1fXrqZKKjTUF02+7/AIC6dCv4X8H6xpvxY+Jutvbra2ms2+mx6feFkbe0UMiv8oJICsw+8BnPGa8Gg+CnizUYPh2958N1k8a6P4j0+98R+NdW1C0ubm+iiciSS1mMzzeUdqt5TiIIuFSM9F+wqKiPuzU1umn9zv8A8P3+SKfvRce6a+9W/wCG7HgOn6L488BeHPHHgzTPBsuvJqV5qV5o+upqFtHZgXbyTBLpZJRMrI8jKfLjkDDacjJxleDPgj4lz4BsdWsW0+0tPhlP4Y1G4S4ic215J9lGwBXyxAjkO5cr8v3uRn6ToqORWs+1vlyyj+Un87Fczvdd7/NyUvzij5m+GvwbmtrTwjoPivwH4ruL3Q5bZn1aXxvPc6GZbUgxXMVu18ZMEorLE1soUnacKM109v8ADbxGnwK+LXh5tOxrGu3fiKXTrbz4/wB+t1JMbc7t21dwdfvEYzzivcqKuf7xST+0mn87X/Jf1YUfccWujTXyvbz6v+rnieleFfE3hL4k+BdaXw5datYf8Imnh7UDZXNsradOJoX8yQSypvjwJMmLew2cKcium+NfhDWfEWm+HdW8PW8Ooaz4Z1ePWoNMnm8lb8LFLE8AkPCOySttZht3Bc4BJHo1FXKTk0+zv8+bm/NkRioq3lb5W5fyPIbXRfEXxF+LfhfxVqnhq88H6R4XtbwQwapc20t3e3NyqxnC20sqJEiKTkvuZmA2gDJ1P2dPCGr+BPhJpWi67afYdTgub2SSDzEk2rJdzSIdyEjlXU9e/PNelUVN9Ev67lHnfgLwpqui/EX4o6pe2vk2OtahaT2EvmI3nIlhBE5wCSuHRhhgOmemDXlPwv8Ahj42+FOg/DPXf+Ebk1nUdJ0C40HWNAtr2BbqNZLhZklgZ5FgcqUwymRcq2QxK7T9NUUl7trdLfgmvxTaf4WDo13/AM7/AINJnzZ45+Ffi74iaD8T/EMugtpureJLGw0rTvDtxdQNOkFrOzmSeRXaEO5lkIVZGAVVyxYkD0P4meFdZ1P4ofDLXtN019Q0/QZdSmvfKliR1ElmyRqod1yWfCjHAzkkDmvUKKHtZDvq2+v+VvyPAPhBH4wh8W634g8ZfDfxDb+JvEdyLeW/W90uWz0uwRiILeMremUooJdyseWd2O04WqWmeGfiB4a+DN58JLbwa9/OlnLolj4qF/bLpj2silVuJkMv2lXVHO6NYXBdMB9rbh9GUUmk48rWlreq/Pv56tvXUE3GXOt9/wCvw+5I8p+Hnw21DwT8TL2YRtLoUHhTSNFtb53TdNJbPc7wUByDteM5Ix83BODjg0+Fni/Sfh2PL0J73VNP+Is3iZNLhuoFlu7M6g8gMbtIIwxik3hXZemDgmvpKircm5+0b1/+2U/zX3EcqS5en/2rh+T+8+ZPHXw98TeNfEfjC5134bSeM11WwiPhhdcvbOWw0J2tgskU8DTEJKJlLGaBJSwcDzMDjc+Efwu8T+F/E/wqu9T0z7Nb6J8PToeoP9oifyb3faHysKxLcRSfMuV+XryM+/0VMfdd1/Wkl+Un5t2uVL3lZ/1rF/8AtqCiiigAooooAKKKKACiiigAooooAKKKKACiiigAooooAKKKKACiiigAooooAKKKKACiiigAooooAKyNJ8XaFr2qanpmma1p2o6lpbrHf2dpdxyzWjHO1ZUUkoTtbAYDofSrOty38GkXcmlW1veaisZMEF3cNbxO/YNIqSFR7hG+lfKPwT1r7H8DPgaPE/haxvlu/EUEek3Vrq83mRzul25u5U8lAXB8weWWcNv3FsjFEfelbziv/Anb+l+KQPSLfq/uV/6/XY+vKpQazp91ql3pkN9bTalaJHLcWccytNCj7tjOgOVDbWwSOdpx0NeT6/8AHrVrKy8UeING8Hpq/gvwvcS2+panLqf2e6l8g/6U9pb+SyzLEAwy8sW5o3UDgE83afETSfCHxk+Lfi24M13pieHvD00KWiBpbkyNdrDHGpIBd2dFUEgZYZIpX0T6f5q6+/p36Deifdf5pP7r6nvt9rOn6Zc2NteX1taXF9KYLSGeZUe4kClykYJyzbVZsDJwpPQVcr5u8d6/4y1H4sfBODxT4SsNBjk16aeGfTNZOoKrf2ddBopt0EJR/mBGzzFO1/mGBu+kaa2b87fgv8yXpK3kn+L/AMgooooGFFFFABRRRQAUUUUAFFFFABRRRQAUUUUAFFFFABRRRQAUUUUAFFFFABRRRQAUUUUAFFFFABRRRQAUUUUAFFFFABRRRQAUUUUAFFFFABRRRQAUUUUAFFFFABRRRQAUUUUANcbkYDqRivB/DvwF8QaR8M/g54dmvNNa98G6zBqOoSJLIY5Y0juFIiJQEtmZeGCjg89M+9UULR3XdP8A8Bd0D1TXdNferM+b1/ZmXQ/EHiAQfDv4beMtP1XUp9Sh1bxJbBL+yM8jPJE6C0lFyqMxKZliJUhDjG473i79nm88U658QZYb6x0my1rTdGg0hoIi7WdzYSyyozxYC+WHaLCq3IDD5eK9yopWtFRXTb5aL7u+43q231/zv+L+R4nqXgb4meOfHHw51rxDF4X0ay8MahLeXdppd/cXjXjPayw+YjPbxeXtZ+IyGyHJL5UBvbKKKr/hyba38rfn/mFFFFIYUUUUAFFFFABRRRQAUUUUAFFFFABRRRQAUUUUAFFFFABRRRQAUUUUAFFFFABRRRQAUUUUAFFFFABRRRQAUUUUAFFFFABRRRQAUUUUAFFFFABRRRQAUUUUAFFFFABRRRQAUUUUAFFFFABRRRQAUUUUAFFFFABRRRQAUUUUAFFFFABRRRQAUUUUAFFFFABRRRQAUUUUAFFFFABRRRQAUUUUAFFFFABRRRQAUUUUAFFFFABRRRQAUUUUAFFFeffGr43aB8B/Duna34jt9QnsL3UI9ODafCsrQsyO5kcFl+RVjYsRkjHQ0DtfY9Borz34u/HHw58GfDGna5rC3moW+oXMdtawaVGs0spYFt4BZRsVQWZicAe5AMd/8ZWTx9rHhLSfBniLxHfaRHbSX1zp72EcEInVmj5nuombhWztU4x9KdunnYXS/lf9D0aiuD8U/Gfw/wCEPiN4b8F3wu31TXATHPDEGt7XO4RCdyRsMrI6RjB3MjDjFVtW+O/hnQvjJp/w1v1vbXWtQskvLa8eEfYpGZpAkHmbsiVhDKwUqAQhAJOBSXvWt1ul8twfu3v01+T2PRaK4tPivpD33jy0Fve+Z4NRH1AlExKGthcDyvm+b5Dj5tvPtzWPqPxsa28Jaf4osvBHiHVfD13pMesNqEFxpkEdtC0fmESi4vIyGVeWIBXnhjzhNpJt7aP77tfkxpN2S6/pb/NHplFea+CvjvpXjWfwbAuh65o1x4r0+61Oxh1SCKN0ggMYLShZW2lxKjKBnIPO3pXS6L4+0/XfG/iTwtbw3KahoEdrLdSyKoicXCuybCGJJAQ5yB2xmqaa0f8AVtPzRKakro6WiiikMKKoa9I8Oh6jJGzJIltIyspwQQpwQa+ev2JfH+u6p8PIvDvjHVrrVtct7C01u11HUZ2lmu9Pu496uXYkt5cwniJJOAi+opRfM5Lsk/vv/k36X7BL3VF97/p+rS9Wj6Uor5d+DXxT1bxR8evG/iLV9auYfBN14dXVdJsp7gi1trKK6lgFxsztBkEDzF+u2RR0Feq+G/j1pmv6toNtceH9e0LT/EW/+w9X1WCFLXUiEMiqgSVpYmeMM6rPHGWCnjIxTiuaMX3/AA1as/PR6evYTfLKSfT/ACTv6a7/ADPTaK84vfjRHpGv6fZat4Q8S6RpeoakNJtddu4rb7JJOxZY8ok7TosjLtVniUZZckBgayb/APaS0q2Pix7Lwp4o1i08KXk1nrd5ZWsAitPKRXaQeZMhmXaxbbCHcBfmRdybldWv/Wlr37brfuirPb+uv37P7j12iqmnapaatpdrqVpcJPY3MK3EM6n5XjZQysPYgg15/oXxxt/E8iXek+EfEl/4YleRIfE6RWy2MyorMZFVpxOYyVKiTytrHBBKkNRJ8jalpbcS95Jrqel0V55J8cNCi+E+h/EI2mo/2LrAsTBAI4/tC/a5Y449679owZV3YY4AOM9323xis9S+IOteD9N0DWtT1DRbiCHUrmBIEtrVJoVlSVnkmUsuGxtQM+Vb5CME01ytp9P0tf7roSaauvU9Aorynwx+0b4f8S+A5/HD6VrOj+DYrP7X/bWowxCN23bDCkSSvM0gb5eIyrEYVmPFWbL47WK3V7Z674Z1/wAJ6jDpUus29nq8dsXvbaIZlMLQzyJvTK7o3ZWG9TjGSFL3b36f8H9E36a7FJNuy9P6+9L103PTaK8n8PftGaP4g/4RS6Ph3xFpeg+KWii0nXdQt4Y7aeaSMyJEUExmQttZVZ4wjEfKzBlLVfhH8UfE3i/4i/EDR9W8NazZ6dp2qJBaz3Taf5Vin2OB/JfyZ2dmdnZwQHADgFlIKrXK+Zx7X/C2nrqv6aJurX9Pxv8Ahoz2KivDvi/4lTwv+0B8K5/7PvtWuZ9M1yC2sNOiDzXEpFmwUFmVE4VjukZUGOWFdNbfH7w6PCmv6zqVnqmiXOhXy6Zf6LewI98l0+zyYUSF5EkMvmx7Cjsp3jkYbErVJ+v52/y+9FW/r+vn9zPS6K8I+KfxUt/E/wAKvil4cv8AQtX8KeIbfwlf3y6brIty89sYJE86N7eaWNlDfKRv3KSMgBgTo+B/Eukad4o8JWV1qmsW15H4Ejvnt3uEXSFt1eINM6k5E4PAboE3c0Kzvf8ArSTf3crv8+wnpa3n+cV+PN/Vz2aivLNO+M8XjHSWurXwj4utPDN9bXD2vibybaGKSJYncSohn+0RhwhMbyQqCWTpuGeCh+Mmt6Tc/BGz8M6L4t8S+Hdb0h7h5rybTnvdSQWQeMSyTXCETJxJI2VVs8M/SnZ3afS34337bdQ7fP8AC337n0hRXAQ/Gzw8fBPi7xPdJeadaeFbi7ttUtrqNRcRPb8kBVYg71KOnPzLIh4zWx4h8cReHfhtqPi+7s7i0hstKk1SSzuQomjCxGQxvtYgMMYOCRnoTUOSUXLokn8nqvvKinKSit22vmtH91zp6K+YviprN/8ADn4BeDrTxF4uvtN1vxVr+mx6vrj6vJb/AGYzTLPdiObev2eFY45I1CFVVcepJ6r4O3XnfFfXV8I6zq/iH4aHR4HXUr/VLjVLV9R85wwtLqd5DIojGJAjsisAOG3CtFF8zj2bXzST+7WyfVmfMuVSXVJ/Juy+fVroj3OiiipKCiiigAooooAKKKKACiiigAooooAKKKKACiiigAooooAKKKKACvL/AI5eA9Q8eT/D6K005NSstP8AE8N7qUcjoFW0FvcRuxDEbhmRRtGSd3TrXqFFKybTfRp/c7jvo0uqa+9WPkfxZ+zr441vwT4k0y8gi1l/D9tFofgyP7RGJJbI3cM8k8jOwCyCKOGD5iD/AKM558znrdb8Ca1p3x/8X+KJ/BnjDXtMv4NM+wXPhfxHFp8ZeBHEgniN/b+YMsuA6uMbuxOfouiqu9PLX59fvevqxae8u/8AwP8AKx84a18AfFPxGt/HPiLUvEGreF/EOrXgk03SYBYSwRJZOTppkkMMkinevnMIplwZWHBzWivwl1b4oeN9a1Lxt4ffSLDW/B+mWcvk3cTy2WoxTzyuImRmIeJnRlkHGQCCcEV79RUpWsu3+Tjf1ae/dIHrfz/zTS9Fay8mz5f8KeDvil4d0v4tp4h8Mv4k13xM8Wn2mo6Xd2kMF0iWP2dbyVZJVMKnahdFDMGLbEZcVb8b+CPF4svAHw9l8Gat4o+HOhaZanWJtJutPU6xcwKixWzR3NzEVtwyeY/XfhUxjcT9K0U7u9/8P/kqaX5306+WgdLdr/ja/wCSXp56nhnir4e6p8WPih8P9e1HQNe8N6Np+m6pBeRprQsbu2lke3EKmSxuiSriNzhHYYA3YOBWp8JvhXefD74tfEa/SK/bQdVg0wWN3qWrS6hNM0UcolBeaWSUBSygBiBz8vFev0U1orLz/Ft/qK2/9bW/yCiiikMpa1byXej30ES75ZYJERc4ySpAHNfMl98AfG7fB/4VWuiN/YPjDT9Gj8Ma9tnj3R6dPGiXJDqxDPCyLIm0nndjOa+qKKSSu33t+F9PmpNPyHd6W6X/ABtr8mk15ngXjD4E33iHxj4t07T7VNJ8Maj8PI/C9jeI67IJhLPtTy1bftVHQ5xgjgHNVvAPwwku9U8Np4g8BeLrPVdGkFyNV1XxtPqWlQ3McbIs1tC99I75LfKJIEwrtnBG0/Q1FPXv/nu3e/e8n+BLS/r0S/KK/E+Om+CXi/VtM8F/2h8OEvPHemeJ9Pv9e8b6rf2lzNdwQ3QMj2cplaZYyiq3kssKquVVCeK9l8O+AdesfBXxesJ7HZd69q2qXOnR+dGfPjmgRImyGwuWBGGwR3xXsFFTKKlGUOkk19/Lt/4CrfM0UmpRl2af3c3/AMk/wOF8AeDru0+CHh7wrqyNY30fh+DTLtEcM0Mgt1jcBlOCQc8g444Ncx8LE8XeGvCOgfD7WPA9zHHplkuky+IrS+tDpskMUWxJkTzRcBnCr+7MI2sxG4gbj7DRV1H7WU5S+1uvv/zf3+hnBckYxj9nb8P8l93qfKVz4I+Jdx8CPC/wzj8CPHd6Bf6ZDc6s+p2n2O7tLS8jYS22JTKXZI0cpKkeBvGSwVW9o8A+EdT0T4j/ABS1a8sxBZ63qFnNYz70Yzxx2MMTHAJK4dXGGA9Rwc16LRSl7ykn9q9/na//AKSvxBJJ3XT/AIP+Z89wfBHxBqv7JHh7wLJCmmeJ9Pt7Kf7M140Kefb3CT+WZ4GJTdsK+YhJUtuHIpmn/C8a9baten4f+L9H16HQr60srrxX4vbVAJbiII0UCm/uFAbHzO4j+6nXJ2/Q9FKa9pz3+1f8VZ/h+Xre4ycXFrp+jv8A1/wx4h4m+HHiLUPhT8IdHt9O8zUtB1TQrnUYfPjHkR24Xz23FsNtweFJJ7Zrf8C6Prvhb4teP1udBuZdE8QX0Gp2muQz25gTbZwwtDJGZBKH3QkgqjKQwyRXqFFaObcpS/mbb+fL/wDIozUUoxj2SX3X/wA2ee+KPCuqaj8bPAev29r5mk6Zp2qwXdx5iDynm+y+UNpO47vKfkAgY5xkZ8o+IfwL8U+Kde+JOpWtk2ZvEOi67pMS6o1k2opa2scc0SzwuJIHOJFVztwwU9Pmr6ZoqFpby/8AklL819xadv68rfkfOV78Jf8AhIPCfjy40/wH4s0nxLdeF77RrCfxb4qOpSzmeM/uYgb65jRS6RkszJzjqMkWNU+CeveKNet7S7gOn6XdfDSbwvcX6yo5t7uRoxt2BtzYAY5HynGM819C0Umk01/W0l/7e/nbzuJtNNf1rF/+2L8fK3kXhzUvG134LXwlqnw/udMvINMmsJtUi1GzfTpSkLRxtb4l88iQhCFkij2hm3HKgNyumeA/F3g7wn8BL1PDNzrV/wCENP8AsOr6RY3VqtxGZNP8ksjSypE+yRQCBJyGyM4r6Hoq3JuUpPeVr/K/+bIUVFKK2V7fO35WPmn4heDLzUP2jbHw3YeUfD3jCK01/wAQ24k/eRf2a/DFem2dms4j6iF/cj2n4ueGLjxr8K/GGgWhAu9T0i6tIM9PMeJlX9SKuaB4B0Tw1req6xZW0z6rqZH2m9vLua6lKhiyxI0rsY4gWYiJNqKWOFGa6Gs2r0+S+uv4/wCSsl6GkZctTnXS34f5u7Z866vq2ufEPV/gr470XwrqviXw/p1nd6hd22m3VlHLDeyQLAiOlxPCCU33IODlWGOKtW+lan4bvPiJ4+12S98AXPiqSwstO0rSTaXOqGSDekeQyy273M5fZtHmBUVcuCCU9y0rQtN0JbpdM0+005bu4e7uBaQLEJp3OXlfaBudj1Y8nuaoeLPAfhnx7awW3ibw7pPiO2gfzIodWsYrpI3xjcokUgHHGRVyd726/q7v7tlfolciKUUl20+7b8dX8zM+FeieKND8JQp4w8QXHiDXZ5GnleeO3UWyt92BTBDErhBgFyoLNubCghV7Cs/QPD2leFdJt9L0TTLPR9MtwRDZWECQQxgkk7UQADJJPA6k1oU5O7ugSsgoooqRhRRRQAUUUUAFFFFABRRRQAUUUUAFFFFABRRRQAUUUUAFFFFABRRRQAUUUUAFFFFABRRRQAUUUUAFFQ3d3BYWs1zczR29tCjSSzSsFRFAyWYngAAEk1574Y+NkHipbW/g8J+I7LwrdpLLb+J7+G3hsnhRHcTMhn+0RxsqEq0kKg5XpuGVda+Q7M9Iorym1/aH0ySPSdRu/DHiXSvCurXMdrY+J761hSzlaVtsDtGJjcRJI20K8sKL86ZI3DLtX/aAsrPXfFmj6X4R8T+Jb7ws6jVF0u3twsaNAsyujTTxrJlWxsQmTKn5MFSW9N/+Gta9+1rq99txLV2X9f8AD9D1SivCfGPx01b/AITv4Wnwlomr+IvC/iO2ubwyad9gVdRj+zeZGqfaJ43Rk4dt2wEHALHKjs7f4w2es+Mde8LadoOuXt1olwltql5AkCQWYkgSZJC7zKWBD4wgZwVOVA2sVK8b33V/wBWdmtmeh0V8sab4606DxH8AtZ0tfE3ieC+8O6wthHqLRz6tesRZkCVywj3kKxLs6oMZLCvUbj9ovQtM0HxDfato2t6NqOgXNnbahol5DAbyMXUqRQSqUlaJ42L/AHkkP3HH3l21fLrbrr+dv8vvJvomerUVyfir4jWXhTxR4f8AD8lhfX+p67HePZR2gjwxt4hIyMzuoBYEBe2epUc14npvxj1PxH8C/HeqeNLDxh4fs9P1G/i/tnSZrCG7SNNQaKOCAxTsRJGoVGZlCna2HfOTK1dvK/6F22fd2/r7v61PpiiuB1/4txaX4iuNA0Xwzr3jLVbKBJ7+LRUtlWyVwDGJJLmaFC7jJCIzNgZIAKk5N3+0d4Xj0bwlqFnaaxqp8T3c+n2FnZ2R+0LdxK5e3ljcqYnDRshLYVSMuyoC4Ol/67fnoL+v1/LX01PVKK8f1rxhP8WfCHjHSdHj13wT448N7LhLO8mSKeGfy/Otmc28skU0EmCpXcysA6sMivQPh74ti8feBPDviWBPKi1fT4L5Yz1TzIw238M4/Cmle/lb8b2/Jg9Led/wt/mjoKKKKQBRRRQAUUUUAFFFFABRRRQAUUUUAFFFFABRRRQAUUUUAFFFFABRRRQAUUUUAFFFRXNtHeW0tvMu+KVCjrnGVIwRQNWvqY3hfx34c8bfbf8AhH9csNZ+xS+Tc/YrhZfKfnAbB74OD0ODjpRXm/wi/ZU8H/B/+2vsMt/qf9pSox+2zD90ibtiLsC5++2SevHSiuelKs4J1IpP1/4B7GOpZbTxEo4OrKVPSzcUnsr/AGl1uezUUUV0HjBRRRQAUUUUAFFFFABRRRQAUUUUAFFFFAHPfEPwmPHvgLxH4aa4NoNY064sPtCjJi82Nk3YyM43ZxnmvN7Wx8XeNvhrdfDjX/BV34ce50e40a71+C+tZtOA8h4llt1WXz2DHYwSSKPALAnKgN7TRUuKalF7S3/H/NlKTTjJbrb8P8kfPniPQvHvxN+Gth8ONU8FS+H5GktbbVPELahazaf9nt5UZ5LVUkM7tIIl2JLFGF3ncflw3eeBfCWraN4p+Kd5eWnk2+t6tHc2D+YjedGLC3iLYBJX543GGweM9CDXo9FXN+05ub7V7/O1/wAkRFKFlHZW/D/hz5r8KfDrxl4E8EfAi6bwvc6vqPhKC4tdW0exu7UXEYmtXj3o0sqRPtcKCBJ0bIzivS/Afg/VNG8VfFO/vLIW8WuarFc2MnmIxmiWwt4snaSVxIjjDY6Z6EE+k0Uqn7xyb+0mvvaf6Dj7qil0/wCD/mfMHg74ffED4faZ8C7uLwk2rSeF9Bv7DXLCC+tlnjaUW4RYS8qxu+6MnlwuFbLAlc3fGHwk8X/E7S/iX4hn0WLQdY1q10220bRL+7jeXbYXDXCm4eF3jRpZGIAR3CqFJOSwH0lRTk3J366teTbvp973uJJJKPTT52/pbW2PC57Pxx49+NXw08SXXge68MaDoUWpLff2lf2ktws01uqqVWCaRTHkYDZ3E5yigAtzev8Aw58aXvwS+J/gGHwtcvfXep319pmoC8tRbX8dxfm4ULmYOjqrkMJEUZXhjkV9MUUX1+TX3u402reTT+5NfqeOWth4q+Fnj/xhqFh4RvvGei+J54tSRtJvLWK4srhLeKB4pUupolMbCJWV0YkZYFRgE4Pg/wCDniXw/rngLUr23gluv+Ek1nxDrS2s6tDYm8gn2xIW2tIFZ0TcF5OTgDp9A0Ulp91vl2/BfcvO6aurf1ezV/xf3+h4rq63vwy+IHxc+Ieq2pi8PP4f04Wk4lQtcS24ui8apksGzLEoyBuLgDPNdx8GfDF14L+Eng3Qr4YvtP0m1t7gekqxKHH4Nmuk1bQtN16O3j1PT7XUY7aeO6gW7gWURTIcpIoYHa6nkMOQelXqI6Jrvb8L/wCf4IctXf8ArZL9PxYUUUUAFFFFABRRRQAUUUUAFFFFABRRRQAUUUUAFFFFABRRRQAUUUUAFFFFABRRRQAUUUUAFFFFABRRRQAUUUUAFFFFABRRRQAUUUUAFFFFABRRRQAUUUUAFFFFABRRRQAUUUUAFFFFABRRRQAUUUUAFFFFABRRRQAUUUUAFFFFABRRRQAUUUUAFFFFABRRRQAUUUUAFFFFABRRRQAUUUUAFFFFABRRRQAUUUUAFFFcp8Rfin4W+Eul2OpeLdWTRrG9vY9PgnkikdWncMVU7FO0YVjubCjHJFHkB1dFct8RPif4X+FGhQ6x4r1aPSdOmuY7OKVo3kMkz52IqorMScE8DgAk4ArO1f40+FtG8WXnhqRtZvdZslhe5g0vw/qF+sAlBMZeSCB0XcATyw6H0oWu3p8+wf8AD/I7qiuZ1v4k+GvDnjLw/wCFNR1aK18Qa+Jm02xZWLTiJd0hyAQuB03EZwQMkGop/ip4VtfiRb+AZ9Yih8XXNidRg02RHVpYAxBZXK7GPysdgbdhScYBNC1tbr+m/wB1mD03OrorE03xpo2r6zr+lWt6JL7QXij1KNo3QW5kiEqZZgFbKMDlSQO+DWJonxn8GeJPhvd+PtM1yO88JWkVxNNqMcMuESEsJTs27zja3AXkYIyCMq6Sv5X+Xf0HZu3np8ztqK5zxV8QtA8F+Dn8Vavevb6Gqwt9ojtpZmIldUjxHGrOSzOgwFzzUPg34meH/Hlzf2ulXF0l/YbDc2GpafcafdRK4JRzBcRxybGwcPt2kqwByDirO7XYlNNKS2OpooopDCiqWtXElpo99PE2yWKCR0bGcEKSDzXh/wCxz8XvEXxP+HHkeNLpbvxdZR291NcrCkP2q0uohNbzBEAUcF4ztAG6Fu+aI+85JdEn991+gS91J97/AIW/zPfaK+e/hJ8aNf8AH/7QHjWznvUTwHb6WLnRoDAibljuZLaW5aTG4h5IZsc7dgQgZJr0nwz8cPBnjDXLXStL1SaS5vVlexln0+5t7bUFj++1rcSRrFcgA7sxM+V+YfLzRH3oxkuqv+LX6A9JSi+mn4J/qd3RXBx/HDwfJ4jtdFa9vre6u7xtOtbm60i8gsrm5XdmKK7eIQSMdjgBZDuKkDJqlqv7RfgDR7nV4J9ZuJH0a5e11RrTS7u4TTnXBJuXjiZYEwciSQqhCthjtbBv/X9d194PTf8Ar+rP7j0mimQzR3MMc0MiyxSKHSRCCrKRkEEdQa4aw+NnhHWteOjade319cNcvZLeW2k3klgZ0UloxeiL7PuG1gR5nDAr94YqZPlv3Dpfod5RXz9+z18ffD1z8Kfh9Z654gvb3WtQt4bN9Tura6nt5LxsgQSXxQwickY8tpA+SBjJAPo/i341+EvA+oXVprF3qEAs9hu7yDR7y4s7TcAR59zFC0MPDKx3uuFZWOAQa0kuV2+QHdUVx2sfF3wtofiVfD09/cXGuNBDdLYWGn3N5KYZWdUlCwxvlMowZuicbioZc1L343+ENO19NIur2+t5XvRpy3sukXi6ebkttEQvTF9n3b/kx5n3xt+9xU7uwPRXf9dfy1O8orhvFvxq8I+CtWudM1G9vZ7+0txdXdvpOk3eotaRHJV5/s0UnkggEgybcgEjIBrn/Cnx1h8RfGfxP4Max1FLWwhtPsdx/YF/GDI4mMplmaPy1j/dLsc7VfJ2s/YWuwP3d/6/q56zRXBaP8dPBOv69a6TY6vLLNeTSW1ndvYXMdjeSpnfHb3bRiCZhtf5Y3Y/I2PunGZ4h+NvhfU9C8WWmj+JbnTr7S7bUIrnWINEubuHSZrdZBI8v7ry9yFCwjdh5m35dwIzLdlf5/cUleXL52PUKK89vPjH4a8J6fo1tqeq32s6jc6bHfk6Tot3eTPBgD7TJDbRSNAjnON4UZDAZ2nGCfj/AGp+OFn4Njs9Rm0q50ZLxLqHQNQkYzvMiofNWMoINj5MhGxW4ZwQRWnL7/It9fwv/k/noZqS5Od+T++3+aPYKK808O/E3RtB8Fa3r2veNE1nT7TWbyz+2tpzWzROtwyLZJEq7pnQgRKVBaQgEAk11fg/x1pXjmC7l0xdRj+ySiGaLU9LutPmRioYfu7iONyCCCGAx78VK1V12T+9X/X/ACK2dvVfdp+n+Z0FFeJ2P7S2l2/xC+IOka1b6nY6J4aghnS9HhzUvkQQyyXDzP5RUKPLyhwocfcL5FejX/xK8M6ZrfhfSLnVoo9Q8TrK2kRbWYXYjjEjlWA2jCEH5iM54yaFrt/X9WYPTR/1bf7jpqK841T4jaXqnjrw7pumeMPsDxa1daVeaYNMaVdSnjs2ma3ExXEXlhllLqcEoUznIqxH8dPCFxqUlla3Gq37I88S3NjoV/cWs0kKu0scVxHAYpXXy5BsRmYsjKAWGKV7/n8t7+mo2rO39dVb8H/SZ39FeYfAP4xH4weEnv7izu7TUIbm5jlD6Rd2duUW5ljj2POgV22RrvCsSrZBCngen0xBRRRQAUUUUAFFFFABRRRQAUUUUAFFFFABRRRQAUUUUAFFFFABXjP7S3gc/ECH4d6TLpE+s6W/iqH+0oooWkVLU2t0jvJgHanzgbjgAsOelezUUmk2r9Gn9zuNNpO3VNferHxd8Rfhx4+8X/D/AFqx1zSNRvZPAltFouiNbxPJJrUj3MO6+VFGW22ixISM4eS5H8Nd1qZvfDP7SPjvVrvUfHWg6XeW+km3bw54Xk1O11Hy45PMSSQWNxt25A+RkPznnIBH0vRV8zdr9NfW+/3vX8NrCskmktH+G1rfd+u58teKPhl4++KF5408c6fcWWi3a3sQ0HTtX0Oc32zTJXe3MchuIxEs83nN80L5SUZ3DAF28+Htz8a/inqWt3elav4Ve78H6Td6VqtxZvFPpWpJPcuACwH72PeA8ZPKsVYbWr6YoqIrlsl029bNN+r0fqtLBL3r36/ldNL0Vreaetz4506w+JPimH4p6RqPhq98N+JPGesadolxqEdjLNYQwJZiO7vInBG6Bo4n25dSGlVNwYZra8XeBPGXgnw58WfDD2i+IrLxb4Xur2xbw1oc9vbW19Dbi3a38szTnfLH5BX5xuMT4XOc/VlFKS5ouPdWfpayXyfvevkVF8rTXR3X33/FaPy8z5s+K2uzfEb9na58P+G9G8RnXrUaOTBf+F9RtwGS8tixAmhj80LtZmCNnapOQOa9U8FfDXUdI8aar4x8S63b674lvrOHTEfT7A2Npb2kbM4RImllYsXkdmdpG/hACgHPf0VrKd5OXVtv71bT5GUYcsFDorfh/wAEKKKKgsoa9G82h6jHGrPI9tIqqoySSpwAK+Tofh94+8NfCP4S6z4Q0y5s/Flx4ag8H6xbz27LLZwzovl3MiMMqbaXcxBA4kbNfYFFSoq7v1t9y5k181Jod3pbpf8AGzX3OKZ8yeJfgxqMXirxf4X8K2Fxp2mv8L49A0u+2MkHnia5CxmXG3fhlLd8Nk9ad4E8Mp4svvA9pqmr/Er+0/DkyXkOi6x4dtrHTrCeGB4trXUWnxRyxgMUAhmbcGUjIBI+maKu76vX9eaUk/vl+C2IaWy9Plyxi/wj+d7nxhqdr4p8YaT4Fu9X0n4g6n8QofFulza9HNFe22laXFHdqH8mFAlpPCAvEiCVwrb3k4zXrfhjwrqFv4C+OVvLo9zHcarrWsS28T2rB7xHtY1RkGMyBsbQRnOMCvdKKiUVKE4fzJr7+Xb/AMB/Fmqk1KMuzT+7m/8AkvwR598NtE1J/gF4Y0ef7Rpernw1bWj+epSa2m+zKp3AjKsrdQRkEVzPwN8UDwz4H8J/D+/8LeIdJ8QaXZR6ZcxnR7hrFWhiw0y3oT7O6Pt3AiTcd4BUNkD2eirqP2spyf2t/wAbfmzKMeWEYr7P/A/yR8ty+Cdag/Yg8L6FBoN/HrluNJkfTI7NxcxuuoQSSMYgu4EAMzHGRyT3rP8AjVH4k8U6Z8W9K13TfHeq6wIrq38K6P4eivbfS5bVrVdsrz2wWKZy3mF4rmVySmyOPLhX+tKKmp+85r9b/jb8dPub9TSEuRprpb8OnoeJfCnw1qNn8WZ9Uv8ATLuBf+EH0SyF3cQOqmVZLlpYtxGN65QsvUZGeteNfEW18WeM/A99HrWk+P8AV/iLH4ggL2NpDfW2j2NnHqaFHhWIJa3SCIIwJM82W3EhYyY/tKitXNyqKfZ3/wDJub/gejZkoKMHBeS+6PL/AMH1PCvCmtzfBvxb8RLXXvD/AIiv31rW5Na0/UtH0e41KO9hkhjRYS8CN5MkZi2Ym2Lt2EMRkrJqen6jF8YfiLpxtNVsm8W+HrK20rV7ewnmtY5o47tXEk8aMkLKXQ/vCucjGTxXuNFYSipQVOW1rfK1l8zZSak5re9/ne/5/mfKHw08DtrWgeAPCfiXVfiXaal4fuLKZtAl8PWsOmWtzZkEYv49PWN4MocFbgs6sByxIrprHwfqlt+z18brBNGvY9T1XUPE81va/Zn867815hCyJjL712bSAdwxjNfRNFXP94p3+0nf58uv/kq3uTD3HFr7LTXy5tP/ACY+ZfGFpL4bstG1XQf+E20H4jW3hW0tIjpXh641DT9S2gtHaXS+S8SFZA4LF4HQTH94FJx1z3Or6J8dfCOva/ot+g1Xwn/Zc8uk2E97b2t+bmF2jkaJX8pPmbEj4TCNlhivbKKtzvU9p5t/epJ2/wDAn87PvfNRtDk8kvus1f05V8rrtb5T0Hwf4g0Cy0PxLdeHtVvLHw/8QNe1O70uG1Y3L2073McV3FCRum2eargJlmViUDHAr6O8I+MbTxpaXF1ZWOrWdvDL5QbV9MuNPeQ7QSVinRJNozjcVAJBxnFb1FQtIqPZJfckv0/4Jb1k5d7/AItv9TxvSLT7B8e/iFp2saRqUuneKrDTvsl2mmzzWMyxwzxzRyTohjiYY+7Iy5DrjOcV41oPw58Zx+CbjWtS0bUZde+Gj2el+H4Et3E1/BZXReeWFcEyC5tjHENudxT1r7JopWs+ZaPv5q9n8rv7xt8y5Xt+nVfOyfyPmjw34C1zTLj4D3lzpd49/LrOp67rrrbPi0nvLO6lcS8fuwJJhGN2OQB1q78Opb/w/wDEPQ9L8CL4uj8IXdxdza14e8UaDPbWmkKyFxJaXc0SEt5+B5SyTqRM5UIq7q+iqKrRS5lt28tNPTT/ACsJ+8td/wDgt39df+HPJP2b5J9J8H3vhjUNN1TTtW0nVNQMwvdOnhglSW9nkjeGdkEcysjKcxs2MjOM163RRS6IOrYUUUUAFFFFABRRRQAUUUUAFFFFABRRRQAUUUUAFFFFABRRRQAUUUUAFFFFABRRRQAUUUUAFFFFABRRRQAUVV1XUY9I0u8v5ldobWF53VACxVVLHGcc4FeVab+0to9/o+ga/L4Y8S6f4P1p7eODxNd29utnE82BGJUExnRTIRH5pi8ssVIcoyuRauy8vx2++2gPRXfn+G56/RXnfjz4yD4fNqdze+DvEt5oGlhXv9es4bY2tuhCs77HnWeRUVgWaKJwMMBkqwEmqfGOxs/HreD9P0LWde1pbG31MrpyQCIW0sjx+YZJZY1G0x8gncQw2h/mwLW1uoPRXf8AW3+a+9HoFFeca18aI/DmswQar4Q8S6fok+pJpUfiKaG2+xmZ5PKjJQTm4WNpMIJDCFO5TnaQ1ZniP9o3S9B1LxjZ2/hfxNrh8Isp1qbTbaAx20TQLOJQZJkMg2McrGGcbDlMFSyurX/rpv23W/cdne39f1oetUV5hoXx/wBF13WfDtuuja3ZaP4kLJofiG8giSy1FxGZAqASGaMsiuyGWJA4Q7ScrmHUP2itD0+S+u/7F1y48K2F+dMvPFkMMP8AZ1vOHEbggyidkSQhGkSJkBz82FYirO9uv9b9t1v3Xcm+l/667d9nt2fY9Vorxrwp8VvEeo/Hbxp4cvvDmsReH9PtrJobmV9PEFmGFwWncrceayS+Wu0AMy7fmWPPOlov7Q2i6zdaHKdD12w8Oa9ciz0jxLeQwrY30rZ8sKBKZkEm07GliRW4wfmXKWtrdf6X39F1G9L36f8AD/h17HqdFcB4J+MNp8QNe1PT9H0DWpLXS9Ru9LvtVmSCO1t7iByrJzN5j7sAqURsBl3bDwO+JwMnpR0T76h1a7aC0V5HcftNeF7O2Or3Nhq9t4LaZ7eHxhNDEumTyKrNhP3nnFSUZFlMQjdgArncpb0bwpr/APwlXhrTNY/s6+0gX0CXC2WpIqXMIYZAkVWYK2MZGTjoecihaq6/q4PR2ZrUUUUAFFFFABRRRQAUUUUAFFFFABRRRQAUUUUAFFFFABRRRQAUUUUAFFFFABRRRQAUUUUAFFFFABRRRQAUUUUAFFFFABRRRQAUUUUAFFFFABRRRQBieOP+RL1//sH3H/otq+c/DWneNPip+zp4C8ByeDZLCzvNP0kX3iOW/tzYCyjEUxaFFlNw0rKipsaJFDM3zlVBb6gvrKHUrK4tLlPMt7iNopEyRuVhgjI5HB7VX0HQ7Hwxoen6PpkH2bTtPt47W2h3s/lxIoVF3MSTgADJJNEPdcn35fw5v81+IS1UUul/xt/l+R8tfFr4O+LPGWnfFOw1H4ep468R6pJc/wDCM+IdUvrWSx060aFfLigjll32sykOMxwgO4jZ5MfMvr/gPwPrGjfFS/1q9sRDYyeFNJ0yO48xGJnhkuWljwCTwJIznGDngnBx6rRRH3FZeX4Jr9Xd9Qn77u/61i//AG1W7I+ONf8Agj4y8QeGLa11L4dJrnxBg8Q297e+ONVv7SczWkeoCTFi7StNCvlBf3GyGNR5u0FiA/tNt4D12OL43BrHB8R3Dvpf76P/AEhTpkEAP3vk/eIy/Njpnpg169RUOKcHT6NNffy//Ir8SlJxqKot00/uv/meEn4Z+JD4P+ANj/Zv+leF7yyl1ePz4/8ARVj06aFzndh8SOq/Ju65HHNcV4d+AMuj6NeeB/Efgnxb4o02S+njj1LT/G1xBo9xZyzNIjT2pvo2jKq+HSOBwShK7t1fVdFbOTlNzfVt/fb/ACM4rliorokvuv8A5njWqeCNab4p+N7c6LeXHhvxhoNrpo1qzngC6e8SXSOJY3lWQ5EqFTGr8nnGM1xfw1+Dc1taeEdB8V+A/Fdxe6HLbM+rS+N57nQzLakGK5it2vjJglFZYmtlCk7ThRmvpmioj7rut9Pwba+6/wDTKeq5en/ASf32R4t4bl1T4I/DLxxq2oaKbnUJvEmpX1hp0dwga+N1ekWih13bTIZIxyCRnlcjFekeO9E1DxT4A8QaRYXK6bqmo6ZcWsFyWJWCaSJlVsgZwrEHIGeK6GiplFSh7N7WS+SVioycZ863u3827ny74k8EfELxl8GPCfhaLwJFo1v4WGlT3mj391ZzDWmtJIibW22yuiRERs2+YoxIRSoDMy/T8MjSwxu0bQsygmNyCyHHQ4JGR7Ein0Vq5OTbfV3+b3/JfcZqKjZLorfL+r/eFFFFQUFFFFABRRRQAUUUUAFFFFABRRRQAUUUUAFFFFABRRRQAUUUUAFFFFABRRRQAUUUUAFFFFABRRRQAUUUUAFFFFABRRRQAUUUUAFFFFABRRRQAUUUUAFFFFABRRRQAUUUUAFFFFABRRRQAUUUUAFFFFABRRRQAUUUUAFFFFABRRRQAUUUUAFFFFABRRRQAUUUUAFFFFABRRRQAUUUUAFFFFABRRRQAUUUUAFFFFABRRRQAUUUUAFFFFABRRRQAUUUUAFFFFABRRRQAUUUUAFFFFABRRRQAUUUUAFFFFABRRRQAUUUUAFFFFABRRRQAUUUUAFFFFABRRRQAUUUUAFFFFABRRRQAUUUUAFFFFABRRRQAUUUUAFFFFABRRXz1+2V4PXx9oPw58Ptdzae1/4wtoo7y3bElvJ9luikin1VgrfhSb1S7tL72kNLRt9E39yufQtFfDfx98c6r8aPha9hdI9m3guOC48UwAMqnWPtSW0UAII3IMT3GORg25x81ehzeB4/F/7VHxFkl8A+EPGUVtb6LvufEs22ayBjlybdTaT7icZI3R8qvPcXbbXRt/d3+fTys76k9G+qX49vlf77q2h9Q0V8h/FbXfEPiL4n6p8QtF8Na7rGn/Du6S1029sJ7VbTERJ1kOklwkrl428kbInw0AK5JIF/xXpOpeMv2lr3xn4D1ATa7pfgzTdQ0yPzttrqtvLcXRe1l5xslUKVc/cdUboCDEXzKLfW/wAlZyT9Gl672Ttq5e7zeVvm7pNfJtX/ABsfVtFfFCfFiPXx8WfFWi3l/ouhal4l8P2us3qs1teaVaGCGG8DkfNC8ZV42YYKcsCMBq9XTQvCXwz+MfgjT9F+GHhKxttcW5XTvFOlTKl+DHaM8hlUWw3q4JG4ztuzuIzQ3yxcn0/PlUvu1sn1s9Bf8P8Ajb71bVeh9AUV8JfATwla6N4d+CWtal4T8P6Npery3GlS3+iYn1DXWuIZlWG/jMEY+z4V3f55/mSM4UBmHrvwj+EXgXTv2iPio1r4K8O2zaPLo8ummHSoENk7WzMzQ4T92SwBJXGSM1py2bXRfpb/ADQ3o7L1/P8AyPpCiiioAr6jd/YNPurrZ5nkRNJszjdgE4z+Feb/ALOnxztv2gfhzD4lj0t9CvRKYLvS5JxM1u21XQ79q7g8bxuDtHDe1d/4i/5F/U/+vWX/ANANfG/gPxRd/AD4bfDvxnp2ny6hZeMPB9npMllCOJNaigH2BmPbzVLQlun7uPOcCpi9Z310VvV8352sl3aHJaRtpvf0XL91r3b7Jn0P4O+O1t41+Nvi/wCH9npTrD4etY5m1c3AK3EpbbJGke3ojEqW3feV1x8tepV8fp4Z1b4NeJvGVloEjX3ifTfhZ9s+1KmXudQa8vJZZsAcs0rMwGD1ArU+G/w51OC6+Gvi3w7o3gzQId4mvvEOmeI573UPEdtJbu0sc2bGL7TK7ATZkclWjJGOatWUVzPbd9Pikr+nu+tu7Ib952+S6/DF29fe9L9kfVlFfD+r3lnew/DH4paTpvhDwk/iTxjYCwSzs5JtdvEmuCk/2jUBKm7cjSiSAxOqgBd5wCOzsvhV4Y8V+FPj1rGs6XFqmpwa/q72N1d/vH050to2V7Un/UPuAYvHhiVXJO1cQ3yxlKS+FNv5cn/yX4GqjzSjFfaaS+fN/wDIn1bRXAeAvEWsar8BvD+uKDqWv3HhuC8UN1uLk2yuM/7z/wA6+XPiF4V8A3P7Guk+NplsZ/GWppp7T+JC3/ExvdQe4j+0QyTf6x8MJVMLEqgjxtXyxt2cHGq6b6NL720rfd+XcxjLmpxn31+5X1+/8+x9xUV4Hofg/RNb/aO+Kesa1psOsHSINGuLOC6hWZbeZYJWE0aNwJRtAV8bl5AI3Nnx66mtDdfCD4laVpvg/wAJS+KvFVkbS206zkl1u6hnLC4+06h5iebuV38yNomCkqN7EAnOPvSUe7S9Luy+8uXupvsm/Wyu/u/rpf7M8R6jJpHh7VL+FUaa1tZZ0VwSpZULDOMcZFcX8KfiB4i8deGvA2q3mgQLY634ch1a91W2uQkUF26xMLdIGJcqweRg24gBMHJIrx2Lw54L8beA/iz4p8eW1hc+KtJ1HVbe41K8bN3o0ULv9kW3kPz26+V5ci+Xjc0hbksax/hjdahY3PwnudJhFxqsPwauJLSIjIeYGxKLjvlgBWcZ2TlLsn/5JUl+i+5brR243aiu7X3ShH9X8uzPr+ivjr4UeAdc8ReFfhl4z0PSvBul6nJd2d7f+NV8STz6rqyO3+mQXANinmvJmRfJeUhHVQPuDEknwx8Oap8EPjb4nvdOW88Q2OteJb7TdTnJefTJoJ5Xja0c82+HjVz5eNzZJzWk/wB3zc32b3+XLt/4F1tsTH33FL7TSXz5t/8AwHpfc+oD43sV+IKeD/KuP7TbSzqwl2r5PlCURbc7s7txBxtxjv2roa+avDfgzwx4l/aM8La5q3hvRLvWL7wPFrDXc+nwmWS9S4g/0gMVz5iAqA4+ZQVGQMV237Sl8Lfw94Ws7+6ksPCupeILWx8QXSTtbqtk6yfJJKpBSOSUQxscgFZCpOGNW4uKhF7ttf8Ak7j/AF9/kZqSlzSWySf/AJIpf193mev15v8ABXx1rvxP0S58U3jafa6FeXNxDpumwW0n2qFYZ5IS805lKyF/L3bVjTbnG58ZPB33gLwt4R/aA8MeG/CegaVp+la5omoDxT4fsLWNLKa0UKLeae2UCPcZWeMOVyys68hflufsYeFNE0D4J2F5pmj2Gm3d7d3ouri0tUikuBHe3Cx+YygFtq8DOcDgVK6S8n+dv0Le1vNflc9Y0vxtY6t4017wzDFcLf6NBa3FxI6qImWfzNgQhskjymzkDqMZ7dBXzvofgLw7pX7QnxV1TSvCmh/8JLZ6Rp+o6dINPiWYXMq3gkkVgu4GRgA7Dlu+a4bUfDPhAfsq2nxE01Leb4mvYwXNv4nRt+sTa2dq/ZzP/rWYzEwmAnAXMe0KMCU779Lfi3t32fzsuulNa2XXb7k9e26+V+2v1DaeNrG98d6n4TSK4Go6fYW+oyysq+S0czyogU7s7gYHyCAMEYJ5x0FfPeheBvCtp+094o1e88K6MNZh8M6bq6yJp8P2hbkz3gmnjbGfMOEUuDk4UE9K8muprQ3Xwg+JWlab4P8ACUvirxVZG0ttOs5JdbuoZywuPtOoeYnm7ld/MjaJgpKjexAJqKu4x7uz+cnFfl+F/SG/ia6K6+UVJ/n+nr9P/Cnx9qHjq88cxX8NtCuheI7nSLY2yspeGOOJlZ8scvmQ5IwOnFU9U8d6/qHxlPgzQxp1pa6bpUOsajcX1u88l0kszxpBCFljERxE5Mjbx8y/IcE1jfs6/wDIT+Lf/Y8X3/om3rmrbwD4Y/4a28Y6j/wjmk/2hF4Usr+O7+wxealy9xdq8wfbkSMqhS+ckAAnisnK0ab/ALqb9fZ8356/hsy5LWpbpKy9Oe35afjuj3HwnqWq6x4a0691vR/+Ef1eeFXutL+1Jc/ZnPVPNQBXx6jiuY+Knj7UPA+oeA4LCG2lTXvEcGj3JuFZikLwzOWTDDD5iXk5GCePT5e8ER6j4i8L/s/+GJ9F0TxHoN14VuLuLRfEepvZ2N/eoYxh1W2nWd44mZ0jZcDLP1QV1Nx4P1vwO/gPTdU/se0sP+FnwTaZo2i6hJewaTA1jMxtg7wxFQHLuqBAFWQAcYFdHL+9S6cyXy51Fr5699OtzJu1Nvryt/8Akjaf5dtemh9S+I9Rk0jw9ql/CqNNa2ss6K4JUsqFhnGOMisP4SeLbzx78LPCHiXUI4Ib7WNJtb+eO2UrEsksSuwQMSQuWOMknHc14LF4c8F+NvAfxZ8U+PLawufFWk6jqtvcaleNm70aKF3+yLbyH57dfK8uRfLxuaQtyWNewfs2/wDJvXw0/wCxb0//ANJ0rKGqk32g/vUn/l9xc9Gku819ziv8z0eiiimAUUUUAFFFFABRRRQAUUUUAFFFFABRRRQAUUUUAFUtR0XT9Xeze/sba9eynF1bNcQrIYJgCBImQdrgMw3DBwx9au0UAZN54R0LUbXUba70XT7q21KVZ72Ga1jdLqRQgV5QRh2AjjALZICL6CsbxJ8HfAPjLVW1TxB4I8Oa5qbKqNe6lpNvcTFVGFBd0JwO3NdfRR28gKGmaBpmiaadP07TbSw08tIxtbWBY4iXYs52KAMszMTxySSetV9H8I6F4eljl0rRdO0ySO1jsUeztI4itvGSY4QVAxGpZiF6DJwOa16KAM2w8N6RpV3qN1ZaXZWdzqUglvpre3RHunA2hpWAy5xxls8cVi+GPhJ4G8E6k+o+HfBfh7QNQeMxNd6XpUFtKyEglS6IDgkA4z2FdZRQByXhr4ReBfBeqnU/D/grw7oWpFGjN5pmlQW8xU/eXeiA4OBkZ7V0Froun2Oo3uoW1hbW9/fbPtV1FCqy3GwbU8xgMttHAznA6VdooDzCiiigBskaTRtHIqvG4KsrDIIPUEVmw+FtGt9L0/TItIsItO09o2s7NLZBDbGP/VmNMYQrgbcAYxxWpRQBSXRdPXWH1YWNsNVeAWrXwhXz2hDFhGXxuKBmJC5xkk96xdF+F3gzw34gn13SfCOhaXrlwXM2p2Wmww3Mhc5fdKqhjuPJyeT1rp6KNg3OUt/hN4Hs9SutRg8G+H4NQurhLu4u49LgWWadZPMWV3CZZw/zhichuc5rbh8PaVb22oW8WmWcdvqEjy3kSW6BLl3GHaQYw5YAAk5yBzWhRStpboHW5XsbC20qwt7KxtobOzt41hgt4IwkcSKMKqqMAKAAAB0ArwHVPgTrXjq4MWteCvh74Wk1C4hl13xH4fZ7jUdRjSVJniVXtIjGJXjTczyy7RkYc4YfQ1FUm1Lm6/1/XZ9bh9nl/r+vy6FS30ixs9QvL+Cyt4L68CC5uY4lWWcICE3sBltoJAz0ycVz9l8JvA+nahcX9p4M8P2t9cXKXs11DpcCSyTqxdZWYJkuGYsGPIJJzk11dFLrcN1Y5rVfhn4P13xDHr2peFNE1DXYlCJqd1p0MtyigEACVlLAYJGM9zWhYeE9D0qexmstG0+zmsLT7BaSW9qiNb22VPkxkD5I8onyDA+VeOBWrRQtNgeu5zFn8LfBmneKJPEtp4R0K18RyO8j6xDpsKXjM4IdjMF3ksCQTnnJzWoPDGjLpl/po0mxGnag0z3loLZPJuWlJMpkTGHLljuyDuyc5zWnRR0sHW5g6p4B8Ma5No8uo+HNJ1CXRmD6Y91YxSNYsNuDAWU+WRsTlcfdX0Fa2oada6vYXNjfW0N7ZXMbQz21xGJI5Y2GGRlOQykEgg8EGrFFD10YLTYwfCXgHwx4Bt7iDwx4c0nw5BcMHmi0mxitVkYDALCNQCcdzWjpGi6f4fsEsdLsLbTbKMsyW1nCsUalmLMQqgAEsST6kk1doo3DYxr7wX4e1PxFY+ILzQtMu9esUMdpqk9nG91bqc5WOUjcoO5uAR1PrVKL4Y+DoPFh8UR+E9Dj8TFi51pNNhF4WK7CfO278lSVznpxXTUULTYHruY2qeDPD+ua3p2s6joWmahq+mkmy1C6s45Li1J6+VIwLJ/wEis2y+E3gfTtQuL+08GeH7W+uLlL2a6h0uBJZJ1YusrMEyXDMWDHkEk5ya6uihabA9dylp2i6fo7XbWFhbWTXk7XVybaFYzPMwAaR8AbnIABY8nA9KQaHpy6rPqY0+1GpTwLbS3ghXzpIlJKxs+MlQWYhScAsfWr1FAHPah8OvCmr+Gbfw5feGNGvfD1vt8nSbjT4pLSLb93bEVKDGTjA4zT9P8AAPhjSdL0zTbHw5pNlp2lz/arC0t7GKOG0m+b95EgXCP87/MoB+ZvU1vUUB5HNar8M/B+u+IY9e1Lwpomoa7EoRNTutOhluUUAgASspYDBIxnua3NN02z0bTraw0+1gsbG1jWGC1toxHFDGowqIqgBVAAAA4AFWaKFpog31CiiigAooooAKKKKACiiigAooooAKKKKACiiigAooooAKKKKACiiigAooooAKKKKACiiigAooooAKKKKACiiigAooooAKKKKACiiigAooooAKKKKACiiigAooooAKKKKACiiigAooooAKKKKACiiigAooooAKKKKACiiigAooooAKKKKACiiigAooooAKKKKACiiigAooooAKKKKACiiigAooooAKKKKACiob26Sxs57mQMY4Y2kYL1IAycflXF/Bf4x6D8dvAdr4s8Ordw2E8jwtb38axzwup5V1VmAJBVhgnIYHvQtW0un6g9LN9TuqK4TQPjLoHib4r+JPh9YJdyaz4ftobm9nMai2HmAERq+7JcBlJG3A3DnORXd0LVKXRh1a6r/hwooooAKKKKACiuT8PePP7e+IHi/wAMfYfI/wCEfSyb7V527z/tEbv93aNu3Zjqc57V1lABRWf4h16w8K6DqWtapP8AZdM062ku7qfYz+XFGpZ22qCTgAnABPoKtWV5DqFnBdW7+ZBPGssb4I3KwyDg8jg0bht/X9dyaiiigAoork/hX48/4WZ4E07xH9h/s37W86/ZvO83Z5czxfe2rnOzPTjOPegDrKKKKACisbw/4k/t+71qD+y9S03+zL02Xmahb+Ul3iNH82A5O+L59u7j5lYY4rZo8wCiiigAooooAKKKKACiiuRk+Jul3HhBPEmj2mpeJLB7wWSx6TZtJOX+0/Z5G8ttp2RuGLN2VGYZHU8g8zrqKKKACiiigAooooAKKKKACiiigAooooAKKKKACiiigArwf9roeJrvw94F0vwl4ivfDGsan4pt7WO9s52iyfs1y6pJtI3xl0TcpyCB0r3isbxF4Q0jxXNo8uq2n2qTSL5NSsj5jp5Vwquiv8pG7CyOMNkc9OBStdx9U/kmmxp2T9H97TSPlL49fHLXvHfwy0z/AIRTUb3w5e6baxat4nfT7hoLiymF0totizLyN04uCRkZW2POG57G+e/8Q/tK+OdNutN8ca/ptjBpBt08PeJn06008yRyGR5IhfW+8MVBO1JD8h45wfYdQ+DXgzU7DxPZT6DD9n8TXcd9q6xSSRm7mTZtcsrAjHlocKQCckjLMTX1z4JeFdf8UX/iKZdastYv0ijurjSfEOoaeJ1iBEYdLedFO0E4yO59au/wu2t7v59vTZbaK+9xWVpLysvRPr66v522PD/i98ZNV0/4u3GtabfeIl8OeBJre3vLHTNLvZ9P1HzedRa4miiaEG3gaJkEjrtdZM4BFafj7xB42tv2jdQ1nwlql9q+l6H4WsdQn8KRTF7bVYJbi5ExiTlRcBY0aNwMsU2E4fI960TwJoXh7w/e6JZWAXTL2W5nuoZpXmM7zuzzM7uxZizO2cnvgYAAqp4V+F/hnwTfQXmjac1rcw6Xb6Kkj3M0pFnAWMMXzu2dpdvmPzHPJOBURvHl8tfm4tP5c1mlfZvbQJe9zW66fJNW+bV7+dj5g8c/Fq48S+CvjZr+g+KNWm0L+0vDjaXc6bd3CPDbzC0EyweWQ8ZYtIrKmG3FgRuyK3Nb8XeJvAWjeOdZ8I3Hiew8FtDpllZXnjNbyW4tb+a6WG4uIU1DM/kxwyRsfNHl71+UEb69sT4BeAYrPxLaReHYoLbxHfxapqkME8sa3FzG6yJJhXGw70ViEwCc5Byc9vqemWetadc6fqFpBf2F1G0M9rcxiSKVGGGVlYEMCDgg8GqVklZdv/SUrN9dn03130F0s/v+e/8An5XXmeI+P/DcnwTtfC+v6B4j8R3l/JrVhpN3aa3rl3qMWqRXM6QyDypnZI5BuMoaFUxsIxsJWs7Tvh/aR/tMX3h7+3PF7aLbeGLXVorN/GGrMguWvJkZzm5ywKoo2HK8dOTXp3hv4JeEPCmp2N/Z2d/cT6epSwTVNXvL+KxBXbm3iuJXSE7flBjVSFJUcEiuiTwhpEfjCbxStpjXZrFNNe78x+bdJGkVNmdvDOxzjPPXFEXyyT839zjZL5PX/ghL3otd0vwldv5rT/gGzRRRSGZ3iL/kX9T/AOvWX/0A18d/Bvxnbfs4+A/CPiC6ikfw74w8G210sESlmbWrW1ULEg/vXEARQO7QdsmvtG5t47u3lglXfFKpR1zjIIwRxXKj4TeEj4U8O+Gn0WKXRPD0ttPplpNI7i2kt/8AUsGZizFcfxE575qUrOTvvZfL3r/mmvNK4278vlf7/da/Kz8mfM2i2urfAnxV421aVU1HxZafDRte1B+Ss2oPe3c8p5PKq52j/ZQCus8D23juy1nwLrOnaP47dZ5A3ibU/EuvWVzp17ayQszzxW0d9MIWEvlsi28aAKWXkcV7/J4J0SXxTdeI5LBJNYutPXSpp3dmWS1V2cRmMnZjc7HOMnOCccVheFfgt4T8Fahb3WkW2oW62u/7LYy6xez2NruBB8m1kmaGLAZlGxF2qxAwDirTslbpt2+KTt6WaT16ehEldvz37v3Yq/rdNr19T561bxlrP2nwR8Q/DY1yy8O634rsbWO+1vxfcySalb3U3luq6VtktUhKuSmGjlURhiqkHPQweH9V8V+HfjVrd74y8URXei63qi6Illq89tFp3lW8brhI3AmXdg7Jt6ADCqu593qFv+zZ8O7aSyK6FM0NhfpqdhaS6ndvbWFwkvmq9tA0pjg+cnKxKqkHaQV4rrbTwDoNjpuv2EFjstNennudRj86Q+fJMoSVslsrlQBhcAdsVm0+SUY72kl5X5Lfdyy276LVmya54uW11fztzX++637avYrfDPxHdeLvhj4W1292i91LSLW8n2DC+ZJCrtgdhkmvmjSI9Wtf2QLL4o/8J14ku/Gen6R/aMF5JrU7W0kkbnbbS22/yZgxHlsXRpGJPzAhdv1fomg2Xhnw/Y6NpcH2bTrC2S0toN7P5caKFRdzEk4AAyST614v8Ef2atC0D4beDYPE+hzx63p8MU91pT6rPJp63a8+a1okptXkB+bfsJ3YbO7mtptSqTlHRXVvLV7L+u2zMaacYJS1dtfP5/133RR0LwMPHvx6+KR1LV9a020Wy0Umy0bUptPImNvL+8aaBkkbaMgJu2cksrEKVwPh3418QfFDRfhT4V1vX9StYNTtNWn1LUbC6Npd6kbC5SCOLzoyskZYN5jmIqx2YyFLA/SGneFdL0rxBq+t2tr5WqasIVvZ/Mc+aIlKx/KTtXAYj5QM55zXNzfBHwXN4SsPDX9jtFpen3TXtkYLyeK4tJ2kaRpIbhXE0bFnflXHDFfunFR10Wl9vv8Ayvfzsk9Cumr17/13t+b3PCvitpkul2Pxn8BHWdd1Tw3aeCT4itBd6zdSz2NyVuo2ga4MnmyxOIlfypnZeGGCpwOqi0g2+pfDL4d2ms69peg6zpdzrF9Omt3L3l08C2wW2S6kkaaJCZS5ETqcJgEKWB9b8P8Awv8ADPhnSNV02z05poNW3f2jLqFzLe3F7lNmJp5neSQBPlG5jheBgcVlj4F+Dv8AhEbDw29lfzaZp86XNg82sXsl1YyKAqm3ummM0OFG0CN1AUsMYYgkdN9dvnbm39Lq3flV7XFLVprS1/lfl29bP05nY8q12y8aaT4o+Ifw68Da9qN7nQLHWdPbVtTknuLKSS5kjntkvJfMkXzYoiUaQsY2JK4HTF8ZeKodH+Efje30HUPGngjxNp+o6LHfWvibWJ76fThLewqJop5J5leKRC4OyUoQhDBTuB91tvgv4StPD2o6NFZ3qwajcRXV5eHVbs3880bK0TteGX7QWQom0+Z8oUAYHFcZ8U/gPp8/wq1vQfDOjyape6xqWmT351S/kvZ7yKG8gZxLPdSMzqsSPhGYgDIUc4Ljpa/l/wClJ79ktOu19G2D77a/pb8Xr03tqQ65pNz8Lvi38OE0XX9dvovEl7d2Gq6fq+rz30UyLayz/aESZ2ELI8aj9yETEhXb93HkWh6TqHgz9k4fEGw8Ta7Hr+k3c93ZxR6jLFYpENTcG3e0RhDKrKXBeRGf5zhgFQL9NeFvg/4V8Ha3/bFhZ3c+qLAbaK71TU7rUHtoScmOA3EsnkoeMrHtB2rkHaMTS/CbwpN8PpvA76VnwvKGD2H2iXkNKZW/eb9/Lkn73t04o2tbp+H9fq1sNWb120v5/wBXt8k9zxLxHrXiD4h/FL4gaXJo/jzULDQGt9P06PwdrltpiWryWyTNcS7r63eZ2Mi7RIrxgR8AlnFWNBtPG/jLx98PtA8d6pqui3b+Dbm613TdJ1N7T7RdR3MCKxktXG0/NuJidT/DnYWU+v8Aib4P+F/FeuDWbq31Cy1cwC2kvtF1e80yaaIHKpK9rLGZQpztD525OMZOday8DaHp2s6fqttYLDf6fpx0q2kWR8R2pZGMYXO08xpyRnjryaUPd5b9P/kZK/zbTf8AwFdO7T+X5xf5Jpf8Fnzze+PPEtja/EDTLPXL22kvviTaeGoNSmn859KtJre0DGHzdwU/M4XggPLuwT1968GfDqw8C3F3JYanr96tzHFG8Wta3d6kqlC3zp9okcozb8NtIB2rxxTZ/hT4Tu9L8T6bc6JBd2Hia5a81a2uWaVLqYoiFyGJ2nbFHjbjBUEYPNTeD/h3o3gaS7l0xtTmmuljSWbVdXu9Rk2pu2qrXMshVQXY7VIGTRDSCT3stfSKVvS6bv1vsVKzbttd6f8Abzd/usvK3meW3vhe8+Inxx+Iuk3/AIp8R2Gi2OkaY1rY6Rq09isNxILnM6tC6tkBR8mdjcFlYqu3znwtq/iKL4NfCX4k3XizXr7xXquu6XZ3zTahKLK4tp7n7M8TWYbyB+7YHeED71Dbs5r6os/Cul6f4h1XXLe18vVNUihgu5/Mc+akO/yxtJ2jHmP0AznnOBWJb/CLwla+D9D8LRaTt0LRLmC8sLT7TMfJlhl82Jt+/c21xnDEg9CCOKIe60/OL+SbcvvTt6abCl71/RpfdZfjr+O58/8Ax08T6prGj/ErxV4NbXYG8JGWKXW7vxdc6ZaW91bRoxitbCJZI7kBh84uUQOZNqu642dr4YNx8c/H3i6DXNW1vS9P0C30+3stO0TWLnTfnuLVLiS5ka3dHkyWCIHJQCJsLktXaeIv2d/AHiy51uTVNFmuIdbZpNSsE1K6isrqQoEMr2ySiEy4VSJdm8MqsGDAEcx8RfBtt/wlKz23wt8Ta1Pa6dHZ22seGPEcWmC4hGSLa5/023kdVYDAdZVw5I5LCpj7qtLy+Ts7v59PvvdK7ldyvHz+7Sy+Wv8Akk2eY+D9W8S+I/AXwzsD461ySa++IGrafd6zFd5uLy0iOoYjLD5drLEoG0AJ8pQKVXGv458a658Cr74u6Z4f1LVNSs7DwzY63py6zfyajJYXEss1vIyy3LszRgRpLsd9oKt0DGvUPhD8DbDwR4B8L6XrFnZPqejajdazAmms8drZ3Nw85ZIQNu6NEuHjXcuCADtBxjtbr4f+Hr/XtU1m60uG7v8AVNOXSb03BaSO4tFZ2ETRMShXMsmflyQ2DkYp2aVvW/8A4DZf+TK/4oSavzLbp/4G3+MXb8GeJeFfDHjKPxn4dtrXQ/iFY+HL62uLPxNd+J/FEFwJVMJMVxb+TfyyW83mgD/RxGoEh4G1dvE6Bpj+Av2XF1fQ9V1yz1C68UxW0kra1eSgRjXjGVRXlZU3ISHKgF8nfuzX0h4O+EHhrwHdwXGkR6oPs8P2e2gvtbvb2C2jwBthhnmeOLAAUbFGF4HHFVR8C/BYtNVs/wCzbo2Gp36ancWJ1O7NsLlJ/tAkji83ZETL87CMKGP3gRxV3tKLWya/9KTt6b/lsS03Frr/AMBq/rt93c4vQtFn+NHjf4hPr2u69ptnoGqHRNN0zQ9auNNEKi3hla5kNvIjSSO0uV8wsqqq4UEtn26CLyII497ybFC75DlmwOpPc1xvij4NeFPF2tzaxe2d7bancQrb3NzpOq3enNdxrnak/wBmlj84DJAEm7AJAwCa7SONYY1jRQiIAqqBgADoKmOkFH+n5/Pf8OhUtZN+v/DfLb5X6sdRRRQAUUUUAFFFFABRRRQAUUUUAFFFFABRRRQAUUUUAFFFFABRRRQAUUUUAFFFFABRRRQAUUjHapJ6AZrzn4F+ONe+J/g238Yam2nW+lawpn03TbS2kWe0iDuoE0zSsszEBT8scYU5HzcGha3Doej0UUUAFFFFABRRRQAUUUUAFFFFABRRRQAUUUUAFFFFABRRRQAUUUUAFFFFABRRRQAUUUUAFFFFABRRRQAUUUUAFFFFABRRRQAUUUUAFFFFABRRRQAUUUUAFFFFABRRRQAUUUUAFFFFABRRRQBR1zR7DxBpF5p2qWNtqWn3MZjntLuJZYpVPVWRgQw9iK+M/APw/wBBm+AP7PVvb6XaacNY8T28mpSWUKwve4tr7IlZAC+5QUJJJ2kivtkjIwelZNt4P0GysdMsrfRNOgs9LkE1hbxWkax2kgDAPEoGI2w7jK4OGPqaI6Sv5xf/AIC72+YPWLXk196sfN/iXwamrfHjUPBdv4E8G674e0jw/az6J4Z12/awsYUkll+0XMFqllPG8gcKhcBSgKgf6w1i6n4f8W6cvwl8B+I4/Dvi7S5pdX/4luo6/P8A2ZeSRSg2dnNcNaSG4aGJnxG8Y3NBuPMfP1F4t8AeF/H0FvD4n8N6R4jht2Lwx6tYxXSxMRglRIpwSO4p+o+BfDer+GIvDd/4e0q98OxJHFHpFxZRSWiImPLUQlSgC4GBjjAxSV1v3v66t/er6b69thuzenb9Lfc+q0/C5wPwC8Fa34FbxfZX0Oh6Vo0upLPpvh7QdRkvINJDQoZYgXgh8tWc+aI1QKvmnAwefMPEHhrUPin8bviVpWreD/CvjT+zEtbbTbTxPrc1q9hZyWysZ7WJbKcKzymQNOjBt0SrxsGfpXw34V0XwbpSaZ4f0ew0PTY2Z0s9Ntkt4VYnLEIgABJ5PFZ/i34aeEPH8ltJ4o8K6J4kktQywNq+nQ3RiDY3BDIp25wM464FEtWn5W/C1/X9GxR0T/rr/XzPnvwd8Nj4m+KngjSfiHcWXjW5s/h8ftTCdruw1FvtqBJJA6gXAxtYGRSN2HxuAI5PU7vUNH8G33g/T47b/hEIfifNoclhfahJY2aWDQ+dHZPMkUpjt3nZY9uwgq4j4DcfY0Ohabb6hFfRadaRX0Vv9jjuUgUSJBkHygwGQmQDt6ZHSq0ng/QZtP1Wwk0TTnsdWd5NQtmtIzFeO4Cu0y4xIWAAJbOQBmqvqn6/O9Tn/LTruG6a9Pl7nL5ddemx8rfEP4c674J+HPxiZNM8L+C/D1/4chZfDPhnUpLqOG7EjL9rETWsCxCRAFO1fmMOTkg47nx14G8M6L4++Gfg240mxtfBOuTXtzqcEsYEWtanHFGbdLwn/j4dv3sn73dvaJSclRXsGkfC7wZ4e0S+0bS/COhabo98c3en2emwxW9wcAZkjVQr8ADkHpVD4p+H9T8S6Lb6dZ+GPC/i/TpJf9N0nxTM0UDqBlGUiCcblcA4aP3BBHKbtZ+n6/lfTtZdEFr/AI/kl+mvq+rPndvhN4c1/wCKnxu8G+CUtNJmt9B0eazgsjsg0zU45bm4h8tB8sQEgikKKAMuxIyzZ7z4QeK4/wBoH4h6Z42MbLp/hjRIrVIGHyw6vdIr3a4P8cMQijz285x61veAfhdr/wAP18R+ItP0Twva+I9ShtrKy8OadcvaaTp9pA8hSNZ1ti7MTNLIzCBQSwUKAN56/wCEXw7/AOFZeDU0ya5ivtVurqfUtTvooREtzeTyGSVwo6DLbVB6KqjtTj7uj6fm7/o9d9VGz0FL3m2uv5Wj+q07py7na0UUUhhRRRQAUUUUAFFFFABRRRQAUUUUAFFFFABRRRQAUUUUAFFFFABRRRQAUUUUAFFFFABRRRQAUUUUAFFFFABRRRQAUUUUAFFFFABRRRQAUUUUAFFFFABRRRQAUUUUAFFFFABRRRQAUUUUAFFFFABRRRQAUUUUAFFFFABRRRQAUUUUAFFFFABRRRQAUUUUAFFFFABRRRQAUUUUAFFFFABRRRQAUUUUAFFFFABRRRQAUUUUAFFFFABRRRQAUUUUAFFFFABRRRQAUVDe3SWNnPcyBjHDG0jBepAGTj8q4v4L/GPQfjt4DtfFnh1buGwnkeFre/jWOeF1PKuqswBIKsME5DA96Fq2l0/UHpZvqd1RXCaB8ZdA8TfFfxJ8PrBLuTWfD9tDc3s5jUWw8wAiNX3ZLgMpI24G4c5yK7uhapS6MOrXVf8ADhRRRQAUUVR1zUv7G0XUNQ8vzvslvJP5e7bv2qWxnBxnHWplJQi5S2RUYuTUVuy9RWD4C8Uf8Jv4H8PeIvs32L+1tPt7/wCzeZ5nlebGr7N2BuxuxnAzjoK3q0lFwk4y3RnGSklJbMKKKKkoKKKKACiiigAorjZfiH5Xxft/A39n587Q5NZ+3+d02zpF5fl7e+7O7d2xjvXZULVKXR3/AAbX5pg9G0+n6q/5MKKKKACiiigAooooAKKKKACiiigAooooAKKKKACiiigAooooAKKKKACiiigAooooAKKKKACvB/2uh4mu/D3gXS/CXiK98Maxqfim3tY72znaLJ+zXLqkm0jfGXRNynIIHSveKxvEXhDSPFc2jy6rafapNIvk1KyPmOnlXCq6K/ykbsLI4w2Rz04FK13H1T+SabGnZP0f3tNI+Uvj18cte8d/DLTP+EU1G98OXum2sWreJ30+4aC4sphdLaLYsy8jdOLgkZGVtjzhuexvnv8AxD+0r4502603xxr+m2MGkG3Tw94mfTrTTzJHIZHkiF9b7wxUE7UkPyHjnB9h1D4NeDNTsPE9lPoMP2fxNdx32rrFJJGbuZNm1yysCMeWhwpAJySMsxNfXPgl4V1/xRf+Ipl1qy1i/SKO6uNJ8Q6hp4nWIERh0t50U7QTjI7n1q7/AAu2t7v59vTZbaK+9xWVpLysvRPr66v522PD/i98ZNV0/wCLtxrWm33iJfDngSa3t7yx0zS72fT9R83nUWuJoomhBt4GiZBI67XWTOARWn4+8QeNrb9o3UNZ8Japfavpeh+FrHUJ/CkUxe21WCW4uRMYk5UXAWNGjcDLFNhOHyPetE8CaF4e8P3uiWVgF0y9luZ7qGaV5jO87s8zO7sWYsztnJ74GAAKqeFfhf4Z8E30F5o2nNa3MOl2+ipI9zNKRZwFjDF87tnaXb5j8xzyTgVEbx5fLX5uLT+XNZpX2b20CXvc1uunyTVvm1e/nY8EsvFPiT4wD4vXPgDX7rV7Fr3RrrTYItTktPPs/skMlzbW83JtZJcSJuAUq5OShyyt8VfEODSvAmiL4RTxnaarp/j3TtO1bQNW1aabU1csC1sZbi5ZHjlTYy4mMLB855bHs8HwG8EWK69/Z+kz6O+uX66nfy6RqV1ZSSXIBHmK8MqtGSC2QhUNuOQcmp7L4J+DbDTLexTSZJY4dVj1vzrm+uJ7iW9jOUnlneQySsMADzGYYAGMACqjZNdEuX105br00fq9dLsHtbykvvUkn66r8VrZHn8nxB8Ra1+0V4H0268P+IvB+nSaLq0sllqd3aNFeOpttj7LW5mUlMtgvgjf8ucmvKP2d9f1zXH+Ev8Ap/izTNd1FJ9Q1DUvE3iC4vbHXrONZFlitYDcTIsoZ4W+dIWVUZl3DIr63vvB+kal4o0zxFc2nmaxptvPa2tz5rjy45tnmrtB2nPlpyQSMcYyaw7f4NeD7TQPC+iwaQYdP8MXSXmkIl3MHtZV3YIkD72BDsCrEhgxBBHFEPdtf+tZP8mtNnaz01E1dSXf/JL+nut0drRRRSGZ3iL/AJF/U/8Ar1l/9ANfHfwb8Z237OPgPwj4guopH8O+MPBttdLBEpZm1q1tVCxIP71xAEUDu0HbJr7RubeO7t5YJV3xSqUdc4yCMEcVyo+E3hI+FPDvhp9Fil0Tw9LbT6ZaTSO4tpLf/UsGZizFcfxE575qUrOTvvZfL3r/AJprzSuNu/L5X+/3Wvys/JnzNotrq3wJ8VeNtWlVNR8WWnw0bXtQfkrNqD3t3PKeTyqudo/2UArrPA9t47stZ8C6zp2j+O3WeQN4m1PxLr1lc6de2skLM88VtHfTCFhL5bItvGgCll5HFe/yeCdEl8U3XiOSwSTWLrT10qad3ZlktVdnEZjJ2Y3OxzjJzgnHFYXhX4LeE/BWoW91pFtqFutrv+y2MusXs9ja7gQfJtZJmhiwGZRsRdqsQMA4q07JW6bdvik7elmk9enoRJXb89+792Kv63Ta9fU+etW8Zaz9p8EfEPw2NcsvDut+K7G1jvtb8X3MkmpW91N5bqulbZLVISrkpho5VEYYqpBz0MHh/VfFfh341a3e+MvFEV3out6ouiJZavPbRad5VvG64SNwJl3YOybegAwqrufd6hb/ALNnw7tpLIroUzQ2F+mp2FpLqd29tYXCS+ar20DSmOD5ycrEqqQdpBXiuttPAOg2Om6/YQWOy016ee51GPzpD58kyhJWyWyuVAGFwB2xWbT5JRjvaSXlfkt93LLbvotWbJrni5bXV/O3Nf77rftq9ij8Ptf1Lxn8JvDmtNJFDq+qaLb3Zk2/u1nkgVs49NzZxXiXgmS48PJqOh+NE8Xad8QZfDl88z6lrs2oaPrW3AmubVfNaKIqQjCPyoGRZ9oQr0+hdO8LaXpPha28OWlt5WjW9mthFbeYx2wKmwJuJ3H5RjJOffNc7oHwX8J+Hbi4uILXUL25mtHsPP1fWLzUZIrdvvxxPcTSGJWwu4Rlc7VznaMVXSqOpyaKSdvLe3pur916Iii3TUObVq1/w+/Z27fNngugaTqHw4+DnwS8W2XiXXrrVrm60GwvIrjUpTZXFrdBIGh+xhvIQIki7XWMPmMMzMxZjBcaz48+JFr471nSNG8eXPiez1i+sNAuNH1yytNKsGtZmjhjltXvoxMGZN0pmgYkSEL8qpX0lc/DTw3eeGND8PTabv0fRJbSbT7bz5R5L2rK1udwbc20ov3ic45zWXq3wR8Iazr17q8llfWl3fsr30em6veWVvesBjdcQQypFMSvykyKxZQFOQAK0nLmqSl0bdvJPlt81aX376siC5YRXVJX87c34ar7ttEeP/EzVtW8dt4nTS7bWrfXPDekIur3o8ZXOhadpVybYT7YUthJ9plAkDEzRmPCqN55Wm+CdT1r4w+M/h2us+INYttM1P4dW+s6jZ6VqM1iLm6aaLD7oGRk5YklCpPCk7Syn2HxF8DfBXivXNQ1bUtKmkudShSDUIodQuYLa/RFKoLm3jkWKfCsVBkRiAAOgGNTw38MvDXhG60q50nTfsk2l6Smh2jefK/lWSFWWLDMc4Kr8xy3HWpi7S5n6/Plmnb5tPvpq20hv4eVPW1r/OL/ACT+/ZJspfF/xRp/hDwBe3Govqqw3Tw6dEuiSLHeySzyLDGkUjMoRmZwN5Zduc7lIBHgul6x4t8E+PfGnhy8e60e2uPAdzrcOnv4uvNdmtZ45GRJRNcorwuQ5BVHZCYwQcjNfS/i7whpHjvw9d6Hrtkt/pl0AJIWZkOQQysrqQyMrAMrKQykAggiuY0v4D+CdI1K+1KLS7m41O+06TSbvUL/AFO6u7m4tXILRySyys7dAASSVAwpA4rKUW1LzTX3xaX3Sd/usrrXWMlFrTZr8JJv8Fb83Znjtvb6x4H8D/BXxgvizxFq2vaxqGj2OrPqGqTS217DdRBHU2pbyUK5Uq6IHJTLMxZizJIr/wCIPwJ8dfEi+8W+I9E8RRDWZLL7BrU9rb6WlrJNHFCbZGWFiBEN7Soz7nbDDCbff734ceHdQ0LQNHuNO8zTdBntbnTofPkHkSW+PIbcGy23A4YkHvmvDfiL8LZvFw8Y6bpnwo1ew1TXpriF9Rm8Qxp4emd/3S389nHd5kfywkmDal/MVRnIEg0r/vOdQ6uVvJNRsuy1T66X31ZNG0ORz6ct/O3Nf10a+5eRhr4y1Lw74k0XxWgk1XV7L4My6kPtDl3uJkeGTLsTliWHJ6nJrR8AQeP3vvh9rulaP47ubm8nik8R6n4g1+xn0u+s50LSyxWqX8qwFXKPGIIkwoKnIJB9z8O/C3QfD8ujXYtBcappmiJ4fju3d/mtF2koY9xXlkByQT2ziqnhf4KeEvBmpW15o9pqFotqzva2B1i8ksLUuGB8m0eUwRYDsAEQbQxC4BraUoqba2u7f+Bzl9zUkntt6GKTcEnvZJ/+Axj96adnrvc7qiiisTQKKKKACiiigAooooAKKKKACiiigAooooAKKKKACiiigAooooAKKKKACiiigAooooAKKKKACiiigAooooAKKKKACiiigAooooAKKKKACiiigAooooAKKKKACiiigAooooAKKKKACiiigAooooAKKKKACiiigAooooAKKKKACiiigAooooAKKKKACiiigAooooAKKKKACiiigAooooAKKKKACiiigAooooAKKKKACiiigAooooAKKKKACiiigAooooAKKKKACiiigAooooAKKKKACiiigAooooAKKKKACiiigAooooAKKKKACiiigAooooAKKKKACiiigAooooAKKKKACiiigAooooAKKKKACiiigArK8S+KtE8GaU+p+INYsNC01GVGvNSukt4VYnABdyACT05rVryb4+x6BCnhXVNT8c6X4A1nSdRN7pGpa35TWUkgjaOWKVJHQOGikcYWRHGdytwczJ2Glc73TfHXhrWbXSbnT/EOlX1vq7vHp01texSJesgYusJViJCoRyQucBTnoatXPiTSLO+ubK41SygvLa1+3T28lwiyRW+SPOZScrHlWG48fKeeK+YtS8beJvinP8Bdat49L8PeIbjXtUiS7ktZbzTrgR2N0v2mGPzIZHhmVd6EuCA6nLgZa3rVp4is/jD8S08S6rperXp+GZKTaVpsljGsfn3WFKSXE5LZyd24DBAxxkqpLkv5c34Rcv0KjHmaXp+M+X+v8j3rwp8VvBPjy+lsvDXjHQPEV5FH50lvpWqQXUiJkDcVjYkDJAz05FRaz8YPAXh3X20PVfG3hzTNbVkQ6beatbw3IZwCg8tnDZYMpAxzkY618y+Do/EcVn8JYdc1Gz+3yeC5v+EGvtOt2s4hqD2Kq1rd73lLyeVseN1aNW2y5TIXF5fjHp/w8+Bfh3SPCWpeGLDxfbw29pq/gTxHZO+r399M8UcwMH2iOXzGZ5HLskvmhgwODk9Dhao4dnb11a/C2u+66MwUrwUu/wCGif43022fZnvl1+0F8LbG7mtbn4leELe5hcxSQy67aq6ODgqymTIIIwQa5f8AaR+Ot/8ACDR9HTw/Y2ura3f3lv5sdzlo7WxM8UMtw4VlP3po0XB+9IDghSKl1f8A5O58M/8AYl6l/wCltnXjfxy8MfEnQPhx411nxFo3hfUL3WNY00vqdvr9x5kFtHqMP2S1jgNiAEXPzHzMlpJH5JC1jD3vZt9Xr8p8tvna/pdb2NJ6cyX9Xinf5X++3S57r4y8WeMLn4t6d4N8LahoelRvok2r3N1q2lTXzZWeOJEVY7mAAHcxzlvu+9eiaNFqMGl20erXVre6kq4nuLK2a2hdvVY2kkKj2Lt9a8h+KN/8G72SK1+MFt4Ht/E66Wsr22rPFPMkLmQFbWaWNJZBuSQDy1DZwdoLDPRfs6Q6/B8HdATxIL9dR/fmNNVLfa0tjPIbZZt/zeYIfKDbvmznPOaqKtGz6dfm/wAlZfIJfFddf8l+uvldHpNFFFICpqt09jpd5cxhTJDC8ihuhIUkZ/KvLvgd4i+IfxA8HeE/GGua54YGl6vp8V/Npen6BcQzJ5ke4Itw986/KSMkxHIBGBnI9L8Rf8i/qf8A16y/+gGvFv2Ufh3pWm/BT4ea/Fd6699JoFu7RXHiC/mtAXhGcWrzGFRzwAgC9sYqFLl9pLso/jz/AJ2QS+wl1v8Ahy/5s9Us/if4N1D7V9l8W6Fc/ZbL+0p/J1KF/JtMZ+0PhvlixzvPy+9TeEviF4W8fxXMnhjxLo/iOO2KrO+kX8V0Ii2doYxsdpODjPoa+evAOsn4Y/sQeFdT0rS7C4D29pLdvqFsbi2t0muV867mjUqXSJWMhG5eEHzADNcL4ju9T8VfEPxvbeCvHGofEHVb34b3CprFpDZrHNIt2oMNpLbRRq5UNIBlpCjSY3E5FaSVpygul/vScvu0Sv8APpYpK6T9PubS/W9v+HPqe4+OPw8gfVYh478MPdaWjve2/wDbNvvtgjBG8wb8phyqndjBIHU1y/gv48WvxS8HeCNe8Na14UtZdTvbaLVtNvdUE8tuJIXdrWIpjN1lQQrqMqrnHFX/AId+PPhp4l0jTvD/AIK1HR57ux011t9HstoudPiAVWSSHG+3IJVSrhTu4IyK8P8ADHiTStZ+En7OGn2Oo2t3qGj+JtMsNStIpVaayuEsrpWimT70bgqflYA8U4r3+Xzgvvk036bf5mV703LbST+6N0vXf/I+m/EXxP8AB3hDV7bSde8WaHomqXSq8FjqOpQ288qsxVSiOwZgWBAwOSCKt+IfHHhzwisja74g0vRVjh+0udRvY4AsW9Y/MO9hhd7ou7pllHUivB/CPjTwP4F074j6B8R7nTrDxPqWr6hNfafqSKLnW7SWRxaeRGctdIYNkSrHuIKlMBgRWb8FvBl7YfEL4P2/i6xD+ItF+H9yUF2A8to5uLeMDPZxE3lk9eWGTk5mHv8AKu9v/SZSt8uW3z2Rcvd5vL/5JRv8738vM+ltD17TPE+k2+qaNqNpq2mXILQXtjOs0MoBIJV1JDDII4Paszxd8RvCfgAWp8UeJ9G8Ni63fZzq+oRWvnbcbtnmMN2Ny5x0yPWvPv2eUW1134v2cKiO1g8a3JihUYVPMtbWV8Dtl3dj7sax9O8ZeGfhn8afiNdfEHU9N8O3uqtbNo2p61IltFdaalvErQQzOQrFJzMWiB3ZkDFcMDSvdRa0vFS+9J29dfuTY7WbT6Nr7m1f+urS8zS/aE+Ndh4CsPB1ja+L9K8OS+JdVgtn1Sa5t/MtbAo7yXUQlzGR8qIHdWQGQEg8A+t6IAujWAGovrC+QmNRlMZa6G0fvT5aqmW6/IoXngAV8oaRpF1o/g74To1lLpmj3HxSmu9FsZ4jC1vp0gvnt18sgGMFTuCHkBgMDoPoP44eP3+GPwr8Qa/bjzNSig8jToQu4zXkpEVugHfMroPpmm/dpt21vt1+GLS9bu3r8rL4qijfS2/T4pK/ppf0/Hk/A/xw1HxN8YdT0C6tbGHwpdtd2/h6/jDia7nsnSO9VyW2kb3fZtA+WFzzXo958QPC+naxHpN14k0i21WS5WzSxmvoknedkV1iCFtxcqysFxkhgcYIr5u8YfCzx78IvhN4S1k+INA1eD4cSxawbey0Ge3vLiJVZb3dcNeSKxeKWdm/dDc392vQPg/BY6t8XfjRr+mPDPcX1zpiW16uHVojpkDxlT/dJfPHXj0p/Cmt+VO9t3ZrX53aXoK95X2UtvLy+Ss33v0PTk+I3hN/FjeFl8T6M3ideuijUIjej5N/+p3b/u/N06c9Khu/il4L0/xSnhm68XaDbeJHdIl0ebU4UvGdwCiiEtvJYEEDHIIxXyZ8PNOfxH8OvDPgLWfiP4R8NeJ7TV7e7udBl0CUeIotTS5E0kgLX+5nkYsTOsO0xyMwwnSt8dfiR/wkvwy+Iaah4pj0DXLDWHhi8A6NY2v2jEV6vl3t35kck53KI5vPjMKAFB8xOWcUm4q+/b/t3Vff59H10b6/d89d/u8vw1+19W1nT9Bs/tep31tp1r5iRefdzLEm92CIu5iBlmZVA7kgDk0ja7pqa1Ho7aharq8kBuksDOv2hoQwUyCPO4oGIBbGMkCuc+LPgofEn4W+JPDbAGbUtPkihYnbsm25icHsVcK2e2K+V5PiHqE+i2H7SF3YzI+nSQ6I1mVJxafZWjnGOoP9oy7SRziFetZ31a7W/HRW+dr+TGldJrr+mv4q9vNH1BqnxDtbXxNpzxeJvCsPhlLXUJNRa6vwt2sluyKzRYbZ5cR8wTFuUOwcc15pcftL2Xjv4Uxa94S1nTLfWI/EFhYXVnZXsN9JBbyaqltucY+UTRBmUlRw/wApOA1Z3g7wdP4B+KPwM0O7cS6hbeFtZa9lH/LS5drOSd/fMjuc+9cfPe6D4i/ZpuvBt3c2V7qFl4zhtdY0V5VM0CS+IeFmizuVXUnBIwwPGa0StKEd9fynb7v0I5lKLktv843Xz/U+pvDPxA8L+Nbi+g8PeJNI16ewYJdxaZfxXLW7EkASBGJQkq3XH3T6VzPxP+IGq6B4m8IeE9AWxt9b8Ty3Cw6lqsby2tqkEYlkJiR0aaRhwsYkT+JicIQee8TW0OmftSfDk2kSW3n+G9XtZfKULvijktGjQ4/hUkkDtk461tfG3UfhZc2Gn+HPihqGj2Npfl7uyOsXX2MCSAoDJFcFl8uVfNXBV1fDNjIDYjeMX3v+Da/S/wCHmWvia/rZP8L/ANbGT4/8Q/EDwL4Dku9U1rRrjUH8QaTa215o2mvbK1rNeW8UySRTSz4Yh5F3B+hBG016H4Z+IHhfxrcX0Hh7xJpGvT2DBLuLTL+K5a3YkgCQIxKElW64+6fSvlzXZJfFXwd8UaFc6xceO/h/F4t0Sy0bXdUfz5NQtnvbX7REZsD7TGkhdBNzuyy7mKE16N8VLC8tPjz4Sj8NrHY6vd+Dtds7d41CglDatbqeg2o7ZA6DJ9TQ5Wi211frpBSt+nq279xK7ttt6fFb/g/K1u3rVh8RvCeq+J7nw3ZeJ9GvPEVtu8/SLfUInu4tuN26ENvXGRnI4zUSfFHwZJ4rPhdPF2hN4lDmM6MupQm83BdxXyd2/O3nGOnNfLfwrs7bxb4W+FvhdviN4Q0nVvD19aXo8L23h+aDX7a6hJNzDKHv2dGf98sshhwwdn6GsTx38SP+Ex8DadfXnimLTPEcPjGzY/D7RbC1UaSy6soM16Hje5WQncxn3wo7SoAnznfpy++oX3dvxSv+O2u2rV0Q3aMpW2V/z0/Dy66aH2RcePvDFnrMWkT+I9Jg1WW4+yR2Ml9Es7z7FfyhGW3F9jo20DOGU4wRW9Xj3wc0q1j+Lvxr1IRL9tm1y0t2lwN3lpp1syrnrjLsfxr2GoXwxfdJ/ekyurQUUUUAFFFFABRRRQAUUUUAFFFFABRRRQAUUUUAFFFFABRRRQAUUUUAFFFFABRRRQAUUUUAFFFFABRRRQAUUUUAFFFFABRRRQAUUUUAFFFFABRRRQAUUUUAFFFFABRRRQAUUUUAFFFFABRRRQAUUUUAFFFFABRRRQAUUUUAFFFFABRRRQAUUUUAFFFFABRRRQAUUUUAFFFFABRRRQAUUUUAFFFFABRRRQA1yVUkKWIGQo71x2jfFXSL7VYdH1WG78La9M2yHTNcjWF7huuIJVZopzgZIidyo+8AeK7GSRYo2d2CIoLMzHAAHUk15lrfir/haWmXGkeHvCcHifR7gbJdT8RReTpLjI5RXUyXPZlKJ5bY/wBappddNf6/D5j6anp9ef8Axv8AiXL8MPAl7f6dajUvEM8ckel2BPEsyxs5ZvSONEaRz/dQgckA6Hww8CXnw/0GSwvPEF7r0ksxmH2ksYbXI/1VuHZ5FiH8KvJIV6A4wB5v8f8Awj4ltY/E3i3TdVhvTLoU2j2Ojjwxd6pcReYjGQQm3nUqZWCBnaMgbEycDnKvdQfL2/T/AD0/E0o2c1zf1r/lqctN8bPHMX7MPws8V2et6DbeKNfmtY73U/EyCHT8PFM7tL5e3YP3Y5XGK7/TPFni+4+Dt5r58TaD4p1aeaFRe+DbUzWdnCZY452hBeVp3jQyyfNnJUDZ2PlHwim8a+H/AIC/Ca2vvCdvqlnouoQx6zbav4Xv4r7SYI4sq8FuQ0k8wYkCaJCvzfdADsO9/Z98M67H8Wvi94vksLzR/CHiS+tJdKstQtntZpZI4dk9yYHAePewH31Vmxkjpnrml7Soltdtenu2Xzu9vO3Vrmi3yU5Peyv5u8rv5aXv8+iPQPhlrd/qt94hgbWJvEuiW00X2DWp4okM5ZMyxq0SJHIqHGHVerMpJKGu8oorMtaBRRRSGFFFFABRRRQAUUUUAFFFFABRRRQAUUUUAFFFFABRRRQAUUUUAFFFFABRRRQAUUUUAFFFFABRRRQAUUUUAFFFFABRRRQAUUUUAFFFFABRRRQAUUUUAFFFFABRRRQAUUUUAFFFFABRRRQAUUUUAFFFFABRRRQAUUUUAFFFFABRRRQAUUUUAFFFFABRRRQAUUUUAFFFFABRRRQAUUUUAFFFFABRRRQAUUUUAFFFFABRRRQAUUUUAFFFFABRRRQAUUUUAFFFFABRRRQAUUUUAFFFFABRRRQAUUUUAFFFFABRRRQAUUUUAFFFFABRRRQAUUUUAFFFFABRRRQAUUUUAFFFFABRRRQAUUUUAFFFFABRRRQAUUUUAFFFFABRRRQAUUUUAFFFFABXN+LfiX4Q8ASW0fijxVonhuS6DNAur6jDamULjcUEjDdjIzjpkV0leWftUf8AJt/xK/7AN3/6LNRN8sXLsXCPNJR7nWaX8UfBmt+Hr7XtO8XaFf6FYEi71O11KGS2tyACRJKrFUwCDyRwRUVh8WvA2q+H7/XrLxn4evNDsGCXmp2+qQPbWzHGBJKH2oTkdSOorzb4veVp+rfCDXNdhEvgfSbx7jVZpYzJBZzm1K2lzMBkLHHIT+9YbY2ZWJXG4PsNf0f4h/tD+HNf8C39rrem2OjXtrr+taTMs1nIGeE2ts8yZSSVW81wgbcisScCQZ1a99wXn+Cv+Pb8XsYxleEZvrZ/e7W/r7lud5o3xv8Ahz4jvGtNJ8f+F9UuljeYwWWs20ziNFLO+1XJ2qoJJ6AAk1f8J/FDwb4+uZ7fwx4t0LxHPboJJotJ1KG6aNScBmEbEgZ4ya8b+H//ACS/4/8A/YxeIP8A0StY3w++Hvjjxt8O/h34iaPR9CuPD3g+SHQzpt9LcXN7NcWKxxmd3hiECLtRti+ZlsHcNnzZ83uudtoxl/4FGTt+CXnuauPvKN/tSX/gLS/W/ke9/wDC1PBR8Vf8Ix/wmGg/8JL5nlf2N/acH2zfjdt8ndvzjnGOlZ2rfHf4aaDqVzp2p/EPwpp2oWshintLvW7aKWJxwVdGcFSPQivCn8W+AZv2Vh8PLM2o8af2GLOPwbGBHrKauEzu+zH96sguP3xmK44Mu4r81d34rhvrb41fAKLU5BNqUdpqq3UgOQ0osYw5z7tmteXVq97dej0b0+78UZp3tpa/Tqrd/v8AwZ7dZXtvqVnBd2k8V1azxrLDPC4dJEYZVlYcEEEEEdamooqX5FBRRRSAo61DqU+lXMekXdrY6ky4guL21a5hRs9WjWSMsMZ4Dr9a8g8A+Kvid4k+JXi/w/f6/wCEhY+F72zhne38N3SSXsc1uk7bSdQYRMAxUEhxnnHavba+XvEWm61rF5+1JY+HUlm1m4Wxjgit/wDWyZ0yLcicj5mXco56kUk7OT7Jv7mv82UlzNR7s970T4n+DvEuvXWh6P4s0PVdatd/2jTbHUoZrmHY2198asWXaxAORweDXMfDv9oHwl8R/Gfifw3put6LNe6TeC3tktdWhnkv4hBHI8yRrztVpGjONwBjOSDkDzTxl4t8EfEPRvhz4e+Gl1pt74j0zW9OubLTtLVVuNEtYZFF0Z4h81qgh3xMsgXLOEwWIFWj48h8D+I/2gLSCC11TxYZBq+neGrhx52pQrpduoZIvvSoWjdTsB5Ujg0N8qlJ9FL525Xf8X32evaYrncYrd2+V7q34LtutO/svhn4p+DPHN1c2fhrxdoXiC9t4zLLb6VqUN1JGucbmVGJAyQMnuawP2cvF2rePPgh4Q8Qa7d/btXv7Pzbm48tI/MbewztQBRwB0ArwfRPFtl4j+O3wZvNP+ICeOJLiHVFnXSLO0j0vTlay3i2jMSGSM8IfKlmkYCME44z7B+yF/ybX4B/7B//ALUetOWylfy/OX+SIUuazR2ep/FzwLot1Ba6h408PWFzPPJbQw3OqwRvJKj7HjUM4JZX+UqOQeDzXN+K/iWvg74y2VjrOu2ei+Eh4audQupNQkighSdbu3ijdpXxt4lKgbgCWHBOK8b8CePvhv4b8H/GHR/EUthBq+p+J9cil0m7jDXWtBriRIkt4T81yCT5YVAcPuGAc53vhh4OuLL4ofB6DxRai58R6L8OpA0l2N8tvc+ZaxyEE5+fazoW64LeprOn70oPyv5a05u3/brX5bFz91TXZtfdOK/G/wCe59AWfi/QtR8NHxFaa1p1z4fEL3H9rQ3cb2nlJne/mg7dq7Wyc4GD6Vk6f8W/A+saBqOt6f4y8P3+jadj7ZqFtqkElvbZ6eZIrlUz/tEV803MMVhe+LJb+08/wJovxUe91u1W3M0MFsdPjl86SMZ/dJdSRyvwQOXPCkj0q013RviP+0Z4d1/wJf2Ou2Gn6Ff2mv6zpMqT2zrI8LWts0yEq8gdZXCA5QEk4DjdN3KHNHqr+nuKS9d7dO/kEvdlyvo/v95x/S/Xe3mdn8H/AI5+G/i58OrfxVbalpdrstVudTtItSjuP7MyCxWdxjZgKTlgvAPpXTeEviF4W8fxXMnhjxLo/iOO2KrO+kX8V0Ii2doYxsdpODjPoa+WdA1rStR/Zp+GVpPNBq2j+EtVsx420mFRcy2MMImDC6gXLBY51jkZSv3Yy2Cqmu48U+IPCvxK+Meja34X1i01XRNM8O6rb+KvEGhzLPDHZSIvkwNPHuVpBIHkWMEsoDNgBvm1nZOTj0bt8opp+jvb8bvYaWsYvrb8W1b1Vr/Nbbnsuk/FbwTr1/qNlpnjDQNRvdOjeW9trTU4JZLVEOHaVVYlAp4JbAB60th8UvBeq+IYdBsvF+g3muTRrLHplvqcL3LoYxIGWINuIKEOCBjac9K+efCvjCK38Pa94F0jxD4a+I/hnSPBV6LHxJoCILjS40XYlpdmNniLSIEKshiLG3cmLjIyl8TeDfF37Ovwx8E+EZrSTxuk2hz2ejWqA6hpk6TQyXF1LF9+ECPz2aZ8BhJ95vMG4ilKVv8AD+Lkr28rf8G2pDdop+v4KL/G/wDwOh7H4S+NWlaXrPjW18a+LtI0gW/iafTdJj1S7gsy8SW9s/lpuKmQhpiSeT8456V6N4r8beHfAlhHfeJdf0vw9ZSyCFLnVbyO1jdyCQoaRgCcAnHXg14p4M8LaRd2H7RNxPp1tLPqWs3lreSvGC08KafDtjY91HmPgdBub1NeYeEPEOr+H9T+GHifWfFvh/wrY3Xw702203XfF2myXVp9oIL3USzC7t0imdRA3zEl1T5futnODvCC68sPxg3994/j5a3JWcn5y/CSX/t34een1zfeOfDemaZZ6jeeINLtNPvIWuLa7nvY0iniWMys6OWwyiMFyQcBQT05rL8LeLn8TeK9WWz1rw5q3h4WNndaeNKu/OvAJfNLSTYJTynCp5TL97bJ1wK8B8OeA9O0zVfgrarrlh4s0mfxVrGr2dxp9ibaxXdb3EqJbxtJJ+6STLIwcg4VlJGCZvihpmuaz40/aFsvDiXMurT+FdFSOKz/ANfKm6881I+Qd7R71GOckY5qpe7/AF5X1+enyvrcEr/h+Mrflr87H0DoHxO8HeK9butG0TxZoes6vahmn0/T9ShnuIQrBWLxoxZcMQDkcEgVc8ReNfD3hBN2u69pmir5LXG7UbyO3HlKyqz/ADsPlDSICegLqO4rlPhp8Qvhn4oXStJ8Farot5NY6efs+nafs8/T7YeWpjkiA3W/PlgxuFOVxjKnGH410iy1P9p74aTXdtHcS2Oh6zcWzSLkxSb7NN6+h2u4z/tGnb3ox73/AATf6d/mSno2/wCtv62+R2jfF7wIi6OzeNfDqrrJxphOqwf6d8+z9x8/7z5vl+XPPHWrHi34m+DvAM9vD4n8WaH4cmuVLwR6tqUNq0qg4JUSMNwBI6V8zN4a0qz+B37VBh062jMmr6yWxEOdlqkifgru7gdmYkck1seIviKLzxDq3h/XPFMXgaCHw5p7WwtbG2n1fxR5kMhMcRuY5VnjVjInkRxM5d87xuKtm5WhzrtF/wDgSbt8rfPexpy+/wAr7yX/AIC0r/O/y7s+jvEfjHQPB+kDVde1zTdE0ssqC+1G7jt4CzfdG9yFye3PNVLH4k+EdU06a/s/FOi3dhC0Cy3UGoQvFGZtvkhmDYBk3ptz97cMZyK+Wfg14nsPCdv8CvEfje+t9N8LL4Hex0vVdTKx2trqJaMsrythIpHt49qEkbgkig8kHH8R/wDCOeLtG/aC/sq0hk8Pap4q8N7vLh8uG8WSWz82VcY3pKWZxIOHD7wSGBO7jafL5/8At6jr67mKldRfe34q+npt631PsLw54/8AC/jC9v7PQfEmka3eae2y8t9OvoriS2bJGJFRiUOVYYOOQfSo7b4j+ErzxPceG4PFGiz+IrcM02kR6hC13EFGWLQht4wCCcjoa8r+KGny6b8e/hvH4fjh0/UJ/DmvWMLRIFXakds0KEDA2K+CB0FeTfC2xi8U+Cfhv4OufiN4Q0PW9F1K0vT4Zj0CaLxDb30Mu+5Rw9+zhnPnCSXydrJI742nNZx95pf18TV16Wu15pX6ly92Ll/WivZ+uyfZN20se2eHf2j/AA98QNP8fW3hvxF4Ui1rQTdLYteazHNbTxxwI63koQhltw8m1mXIARvmzwO+v/HuieEvCmmav4s8RaFosFykStfz3yQWcszJuxFJIwDA4YrzkgZrwDWvEGmWfgv9p3w1cahaweIXOq6imlyTKty9q2lwbZ1jJ3NGTxuAxnjOavaLrei+B/iX4P8AEfjq9ttJ0NvBVjZ+H9W1VlisrW7O9ruPznOyKZ4xBjJUuqsBnawoh70Y+ag/m4yb/FW9fSwT91v1l9ylFL8Hf0+8+itG1vTvEel22p6Tf2uqabcrvgvLKZZoZV9VdSQw9wau1leGNT0jWtCtdQ0KS3n0m63TQT2q4ilDMSZEwMMGJLBhw2dwJBzWrTejEtUFFFFIYUUUUAFFFFABRRRQAUUUUAFFFFABRRRQAUUUUAFFFFABRRRQAUUUUAFFFFABRRRQAUUUUAFFFFABRRRQByfw48B/8K/07WLX7d9v/tDWb7V9/k+X5f2mdpfLxuOdu7G7jOM4HSusooo6Jdkl92iDq33bf36sKKKKACiiigDL8U6J/wAJL4Y1fR/O+zf2hZzWnnbN/l+YhXdtyM4znGRUXgzw9/wiPg/QtC+0fa/7MsILL7Rs2eb5capu25OM7c4ycZ6mtmihaXt1t+F7fmwetr9L/ja/5IKKKKACiiigAooooAKKKKAOX8YaT4vvryyn8LeJNL0WOOORLm21bRn1COYkoUddlxAyMu1x94gh+mQDVb4c/D5vBEesXl7qTa14g1y8+36pqJh8lJZAixosUWW8uNERFVSzHAyzMSSexooWm39a3B6hRRRQAUUUUAFFFFABRRRQAUUUUAFFFFABRRRQAUUUUAFFFFABRRRQAUUUUAFFFFABRRRQAUUUUAFFFFABRRRQBS1nWrDw7pV1qeqXttp2n2sZlnu7uZYoolHVmdiAo9ya8X/Z4+NGn+OPh/D4w1/4g6bc3WrSESaQbqzittJk/eutvHtUS7vKTcRM7sRGWAUZFe5S/wCqf6Gvj7wXpVrrXwA/ZltL2FZ7dvEts7RuMqxSC+cAjuMqOKI6yt3cV/4E2n/X/BB6Rb7Jv7lc+mNQ+LXgbSfD9hrt94z8PWeh6gxWz1O41SCO2uSM5Ecpfa5GD0J6GtbWPF2heHtAOu6rrWnaZogVHOpXl1HFbBXICHzGIXDEjBzzkY6189/ELWL7wZ+0jq+rap4s8L+C7K98P2trpGq+L9KkntZEWWQ3NvFP9st40k3mJ2Q5Z12EcIa5K88OXXwztfg/exeNdBfwbYSatcW/iXU9DmbRrK4uJA1qRGLtPKi8uSaKGVpWQAjH30NJO/zdvxf4u2m2rt5sa5Xby/S9/Rdd+/kfW+geIdK8VaTb6pomp2esaZcAmG9sJ0nhkAJB2uhIOCCOD1BrO8V/EXwp4EktI/EvifRvD0l4WFsuq6hFamfGN2wSMN2Ny5x6j1rgv2fdFt4X8Z+ILLxlo3jC18Qaqt28vhyxNtp0U6wxpKYszzBy+1Wdlc/PuB5BA8x8R6pP4V+N3xNXxH4y8GeDYNcjtYrKXxtpDzRahpy2yq0MExvoIyqSvNviClsybjwy4JOzSXa/4Xt/wbbJuwR1Tb/rXf8ArrofR/iHx54Z8IiU674i0nRRFCLmQ6hfRQbIi4jEh3sMKXZV3dMkDqang8XaFc+Gv+Eih1rTpfD/AJDXP9rJdRtaeUAS0nmg7doAOWzjivnz4T/D+y8N/GX4f2Nzer4mn0P4eMthq9zatC+1rtFDrG5Yxny22cnIUkZ5Irg9etb620HxGbWW1svDGjfFm4u9Sa80+S9s7O3EAlWaaCOWImFLl0kb5wFJ3twpqrapd7/cqnJt877rt5oeib7W/GHP+lvnf1+stK+JHhLXfDt1r+m+KdF1DQrVilxqlrqEMtrCQASHlViqkBhnJ7j1pJPiX4Qi0nVdUfxVoiaZpNwbTUL1tRhENnMCFMcz7sRvllG1iDkj1r5f+IGn2/ibwB8ZvGFt8RPDXjF7/wANwader4P0829qrxyOY5JJftVwHmCMVxkELsyMEZ9N+LLaX4E8e/CPUtaFvpfw80YXUDTyoFs9PvWhjjspJSRtiUL5yK5wFZ1GRkUPdJ6X/wCD+dtO7aQr/r+CX+evpex6bp3xX8E6xarc2HjHQL62YxATW2qQSIfNlaKLkMR88isi/wB5lKjJBFbt3rWn2F/Y2N1f21te3xdbS2lmVZLgou5xGpOWKrycZwOa+XbDQvC/xx+L3xv03w/Lbmx1rw1pKrrNkgMM92HujHdxSLxLsZYwJFJ+aEjOVrqv2ftfvfjR4wk8daxZyWtz4b0qPwz5EylTHqRCS6mVX0DCCMH/AKZv2PJH3t9Ovy1Xz1ST/wASYSdm7a/8Mn+Tb/7dZ7h4l8VaJ4M0p9T8QaxYaFpqMqNealdJbwqxOAC7kAEnpzXnfws+Jsvjr4n/ABJt7fXLTWPC+mrpkmlTWbRSQqktuzyMsqD5wWGcljjHGKy/ijrul+Dfj14G8QeMLm207wpFpV/a2WqahhLSy1J2iOZJWO2JngWVVZsZw6g5bB8Q8RiDxmP2j5vA1qLjTr2+0Ce5NnYvNHqFqQrXcsccbI06SR+YxMbDzRu2sdwYwn7rl5P5e8lr+d+xdveUf6el9Py9b9j648M/Erwh40t76fw94q0TXYLEA3cumajDcLbggkGQoxCcK3XHQ+lM034oeDdY16HQ7DxboV9rU0K3EWm22pQyXMkTRiRXWMMWKlCHBAwVIPSvBdJax8f+JpPFFj8T/BnimfSPC+oWb2Hg7SWgLW0qIUW5f7bPsCMoKIyqcmTHRsVbvQtP8Ofsy/AQ6ZZQ2JttZ8NTwmBApSSeWMTOPdxNLuPfe2etaJXlZ94r/wAClKP4Wv8AhfqZt+7ddpP/AMBSf62/HyPoe6+JfhCx8VR+GbnxXolv4klKqmjy6jCt45YZUCEtvORyOORXnfiX9oWw+Guh2d14q13wlcXV/wCJH0qBdP1dYY4rX7V5TSOZMkyQIymZRhVbIyori9L8X6Z4G+Jb6J4U8UeHvHVlr/i6V9R8JyIp1rSrl5D59yrIxJihkiL4liG1QMS4CA89bXcOlfBq61S8kW307TfixLd3l1IcR28K60d0jn+FRkZJ4A5PFRDVwb62v/4FBP8A9Kevbs72qfu8yXnb/wABm1+K2791a/1N4e8XaF4uhlm0LWtO1qKLYZJNPuo51TegdMlCcbkZWHqGBHBq1pOs6fr9kLzTL621G0LvEJ7SZZY96MUddykjKsrKR2IIPIr5z+Mfiqb4e+LR4y8Hzxalb/ETRl0KxnsWEtvJq4b/AIl8+9SQVZJpQWH8MK9a95+H3gyy+HfgfQvDOnj/AEPSrOO0Rj1faoBY+7HLH3Jqlqm9unz1v+j9JIT0aX9dP1bXyZ0FFFFIYUUUUAFFFFABRRRQAUUUUAFFFFABRRRQAUUUUAFFFFABRRRQAUUUUAFFFFABRRRQAUUUUAFFFFABRRRQAUUUUAFFFFABRRRQAUUUUAFFFFABRRRQAVzvjHTPE+oR2TeF9f0/RLiKRjONT0pr+GdCuANqTwspBwQQ+OoIOeOiopNXA820P4Z+IdCXxHraeJrG68e675KTavc6S5sYIYSwihitFuAwRVeQ/NMxLyMxJGEHR/DnwLafDfwhZ6FaXM995TSTT3t0QZrqeR2klmcjjc7uzcdM47V01FP+v6/rXqG/9f18uy0QUUUUAFFFFABRRRQBw2sfDu98TfEPR9e1jWIp9F0KRrrStGtrNoity0RiM1xKZGEpVWl2BUjC+Yc7iAR3NFFGysG7uFFFFABRRRQAUUUUAFFFFABRRRQAUUUUAFFFFABRRRQAUUUUAFFFFABRRRQAUUUUAFFFFABRRRQAUUUUAFFFFABRRRQAUUUUAFFFFABRRRQAUUUUAFFFFABRRRQAUUUUAFFFFABRRRQAUUUUAFFFFABRRRQAUUUUAFFFFABRRRQAUUUUAFFFFABRRRQAUUUUAFFFFABRRRQAUUUUAf/Z)\n",
        "\n",
        "![CME Screenshot 2.jpg](data:image/jpeg;base64,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)\n",
        "\n"
      ],
      "metadata": {
        "id": "7YErO6sm3OuD"
      }
    },
    {
      "cell_type": "markdown",
      "source": [
        "##Clutter"
      ],
      "metadata": {
        "id": "24pbRcVFuJrc"
      }
    },
    {
      "cell_type": "code",
      "source": [
        "import arviz as az\n",
        "!pip install pymc-bart\n",
        "!pip install preliz"
      ],
      "metadata": {
        "colab": {
          "base_uri": "https://localhost:8080/"
        },
        "collapsed": true,
        "id": "nAQgor7wk33s",
        "outputId": "9b4d0470-73ff-45d8-a216-ad9be447a05b"
      },
      "execution_count": null,
      "outputs": [
        {
          "output_type": "stream",
          "name": "stdout",
          "text": [
            "Requirement already satisfied: pymc-bart in /usr/local/lib/python3.11/dist-packages (0.9.0)\n",
            "Requirement already satisfied: pymc<=5.20.1,>=5.16.2 in /usr/local/lib/python3.11/dist-packages (from pymc-bart) (5.20.1)\n",
            "Requirement already satisfied: arviz>=0.18.0 in /usr/local/lib/python3.11/dist-packages (from pymc-bart) (0.21.0)\n",
            "Requirement already satisfied: numba in /usr/local/lib/python3.11/dist-packages (from pymc-bart) (0.60.0)\n",
            "Requirement already satisfied: matplotlib in /usr/local/lib/python3.11/dist-packages (from pymc-bart) (3.10.0)\n",
            "Requirement already satisfied: numpy in /usr/local/lib/python3.11/dist-packages (from pymc-bart) (1.26.4)\n",
            "Requirement already satisfied: setuptools>=60.0.0 in /usr/local/lib/python3.11/dist-packages (from arviz>=0.18.0->pymc-bart) (75.2.0)\n",
            "Requirement already satisfied: scipy>=1.9.0 in /usr/local/lib/python3.11/dist-packages (from arviz>=0.18.0->pymc-bart) (1.14.1)\n",
            "Requirement already satisfied: packaging in /usr/local/lib/python3.11/dist-packages (from arviz>=0.18.0->pymc-bart) (24.2)\n",
            "Requirement already satisfied: pandas>=1.5.0 in /usr/local/lib/python3.11/dist-packages (from arviz>=0.18.0->pymc-bart) (2.2.2)\n",
            "Requirement already satisfied: xarray>=2022.6.0 in /usr/local/lib/python3.11/dist-packages (from arviz>=0.18.0->pymc-bart) (2025.1.2)\n",
            "Requirement already satisfied: h5netcdf>=1.0.2 in /usr/local/lib/python3.11/dist-packages (from arviz>=0.18.0->pymc-bart) (1.6.1)\n",
            "Requirement already satisfied: typing-extensions>=4.1.0 in /usr/local/lib/python3.11/dist-packages (from arviz>=0.18.0->pymc-bart) (4.13.1)\n",
            "Requirement already satisfied: xarray-einstats>=0.3 in /usr/local/lib/python3.11/dist-packages (from arviz>=0.18.0->pymc-bart) (0.8.0)\n",
            "Requirement already satisfied: contourpy>=1.0.1 in /usr/local/lib/python3.11/dist-packages (from matplotlib->pymc-bart) (1.3.1)\n",
            "Requirement already satisfied: cycler>=0.10 in /usr/local/lib/python3.11/dist-packages (from matplotlib->pymc-bart) (0.12.1)\n",
            "Requirement already satisfied: fonttools>=4.22.0 in /usr/local/lib/python3.11/dist-packages (from matplotlib->pymc-bart) (4.57.0)\n",
            "Requirement already satisfied: kiwisolver>=1.3.1 in /usr/local/lib/python3.11/dist-packages (from matplotlib->pymc-bart) (1.4.8)\n",
            "Requirement already satisfied: pillow>=8 in /usr/local/lib/python3.11/dist-packages (from matplotlib->pymc-bart) (11.1.0)\n",
            "Requirement already satisfied: pyparsing>=2.3.1 in /usr/local/lib/python3.11/dist-packages (from matplotlib->pymc-bart) (3.2.3)\n",
            "Requirement already satisfied: python-dateutil>=2.7 in /usr/local/lib/python3.11/dist-packages (from matplotlib->pymc-bart) (2.8.2)\n",
            "Requirement already satisfied: cachetools>=4.2.1 in /usr/local/lib/python3.11/dist-packages (from pymc<=5.20.1,>=5.16.2->pymc-bart) (5.5.2)\n",
            "Requirement already satisfied: cloudpickle in /usr/local/lib/python3.11/dist-packages (from pymc<=5.20.1,>=5.16.2->pymc-bart) (3.1.1)\n",
            "Requirement already satisfied: pytensor<2.28,>=2.26.1 in /usr/local/lib/python3.11/dist-packages (from pymc<=5.20.1,>=5.16.2->pymc-bart) (2.27.1)\n",
            "Requirement already satisfied: rich>=13.7.1 in /usr/local/lib/python3.11/dist-packages (from pymc<=5.20.1,>=5.16.2->pymc-bart) (13.9.4)\n",
            "Requirement already satisfied: threadpoolctl<4.0.0,>=3.1.0 in /usr/local/lib/python3.11/dist-packages (from pymc<=5.20.1,>=5.16.2->pymc-bart) (3.6.0)\n",
            "Requirement already satisfied: llvmlite<0.44,>=0.43.0dev0 in /usr/local/lib/python3.11/dist-packages (from numba->pymc-bart) (0.43.0)\n",
            "Requirement already satisfied: h5py in /usr/local/lib/python3.11/dist-packages (from h5netcdf>=1.0.2->arviz>=0.18.0->pymc-bart) (3.13.0)\n",
            "Requirement already satisfied: pytz>=2020.1 in /usr/local/lib/python3.11/dist-packages (from pandas>=1.5.0->arviz>=0.18.0->pymc-bart) (2025.2)\n",
            "Requirement already satisfied: tzdata>=2022.7 in /usr/local/lib/python3.11/dist-packages (from pandas>=1.5.0->arviz>=0.18.0->pymc-bart) (2025.2)\n",
            "Requirement already satisfied: filelock>=3.15 in /usr/local/lib/python3.11/dist-packages (from pytensor<2.28,>=2.26.1->pymc<=5.20.1,>=5.16.2->pymc-bart) (3.18.0)\n",
            "Requirement already satisfied: etuples in /usr/local/lib/python3.11/dist-packages (from pytensor<2.28,>=2.26.1->pymc<=5.20.1,>=5.16.2->pymc-bart) (0.3.9)\n",
            "Requirement already satisfied: logical-unification in /usr/local/lib/python3.11/dist-packages (from pytensor<2.28,>=2.26.1->pymc<=5.20.1,>=5.16.2->pymc-bart) (0.4.6)\n",
            "Requirement already satisfied: miniKanren in /usr/local/lib/python3.11/dist-packages (from pytensor<2.28,>=2.26.1->pymc<=5.20.1,>=5.16.2->pymc-bart) (1.0.3)\n",
            "Requirement already satisfied: cons in /usr/local/lib/python3.11/dist-packages (from pytensor<2.28,>=2.26.1->pymc<=5.20.1,>=5.16.2->pymc-bart) (0.4.6)\n",
            "Requirement already satisfied: six>=1.5 in /usr/local/lib/python3.11/dist-packages (from python-dateutil>=2.7->matplotlib->pymc-bart) (1.17.0)\n",
            "Requirement already satisfied: markdown-it-py>=2.2.0 in /usr/local/lib/python3.11/dist-packages (from rich>=13.7.1->pymc<=5.20.1,>=5.16.2->pymc-bart) (3.0.0)\n",
            "Requirement already satisfied: pygments<3.0.0,>=2.13.0 in /usr/local/lib/python3.11/dist-packages (from rich>=13.7.1->pymc<=5.20.1,>=5.16.2->pymc-bart) (2.18.0)\n",
            "Requirement already satisfied: mdurl~=0.1 in /usr/local/lib/python3.11/dist-packages (from markdown-it-py>=2.2.0->rich>=13.7.1->pymc<=5.20.1,>=5.16.2->pymc-bart) (0.1.2)\n",
            "Requirement already satisfied: toolz in /usr/local/lib/python3.11/dist-packages (from logical-unification->pytensor<2.28,>=2.26.1->pymc<=5.20.1,>=5.16.2->pymc-bart) (0.12.1)\n",
            "Requirement already satisfied: multipledispatch in /usr/local/lib/python3.11/dist-packages (from logical-unification->pytensor<2.28,>=2.26.1->pymc<=5.20.1,>=5.16.2->pymc-bart) (1.0.0)\n",
            "Requirement already satisfied: preliz in /usr/local/lib/python3.11/dist-packages (0.16.0)\n",
            "Requirement already satisfied: matplotlib>=3.7 in /usr/local/lib/python3.11/dist-packages (from preliz) (3.10.0)\n",
            "Requirement already satisfied: numba>=0.59 in /usr/local/lib/python3.11/dist-packages (from preliz) (0.60.0)\n",
            "Requirement already satisfied: numpy>=1.24 in /usr/local/lib/python3.11/dist-packages (from preliz) (1.26.4)\n",
            "Requirement already satisfied: scipy<1.15,>=1.10 in /usr/local/lib/python3.11/dist-packages (from preliz) (1.14.1)\n",
            "Requirement already satisfied: contourpy>=1.0.1 in /usr/local/lib/python3.11/dist-packages (from matplotlib>=3.7->preliz) (1.3.1)\n",
            "Requirement already satisfied: cycler>=0.10 in /usr/local/lib/python3.11/dist-packages (from matplotlib>=3.7->preliz) (0.12.1)\n",
            "Requirement already satisfied: fonttools>=4.22.0 in /usr/local/lib/python3.11/dist-packages (from matplotlib>=3.7->preliz) (4.57.0)\n",
            "Requirement already satisfied: kiwisolver>=1.3.1 in /usr/local/lib/python3.11/dist-packages (from matplotlib>=3.7->preliz) (1.4.8)\n",
            "Requirement already satisfied: packaging>=20.0 in /usr/local/lib/python3.11/dist-packages (from matplotlib>=3.7->preliz) (24.2)\n",
            "Requirement already satisfied: pillow>=8 in /usr/local/lib/python3.11/dist-packages (from matplotlib>=3.7->preliz) (11.1.0)\n",
            "Requirement already satisfied: pyparsing>=2.3.1 in /usr/local/lib/python3.11/dist-packages (from matplotlib>=3.7->preliz) (3.2.3)\n",
            "Requirement already satisfied: python-dateutil>=2.7 in /usr/local/lib/python3.11/dist-packages (from matplotlib>=3.7->preliz) (2.8.2)\n",
            "Requirement already satisfied: llvmlite<0.44,>=0.43.0dev0 in /usr/local/lib/python3.11/dist-packages (from numba>=0.59->preliz) (0.43.0)\n",
            "Requirement already satisfied: six>=1.5 in /usr/local/lib/python3.11/dist-packages (from python-dateutil>=2.7->matplotlib>=3.7->preliz) (1.17.0)\n"
          ]
        }
      ]
    },
    {
      "cell_type": "code",
      "source": [
        "import matplotlib.pyplot as plt\n",
        "import numpy as np\n",
        "import pandas as pd\n",
        "import pymc as pm\n",
        "import pymc_bart as pmb\n",
        "import preliz as pz\n",
        "import seaborn as sns"
      ],
      "metadata": {
        "id": "eSI1r29lk51Y"
      },
      "execution_count": null,
      "outputs": []
    },
    {
      "cell_type": "code",
      "source": [
        "url=\"https://raw.githubusercontent.com/Dyl-cmyk/datascience/refs/heads/main/Unit%208%20Project%20Data%20-%20positive_class_events.csv\"\n",
        "CME=pd.read_csv(url)"
      ],
      "metadata": {
        "id": "FRIPlVGCk95i"
      },
      "execution_count": null,
      "outputs": []
    },
    {
      "cell_type": "code",
      "source": [
        "#I wanted some better names for these Columns\n",
        "CME.rename(columns={'Number':'Class','Class':'DateObs'}, inplace=True)\n"
      ],
      "metadata": {
        "id": "z5We4L66tT3f"
      },
      "execution_count": null,
      "outputs": []
    },
    {
      "cell_type": "code",
      "source": [
        "#Just Some Housekeeping stuff to convert these Numbers into Dates so that BART Recgonizes them as such\n",
        "datetime_series = pd.to_datetime(CME.DateObs)\n",
        "print(datetime_series)"
      ],
      "metadata": {
        "colab": {
          "base_uri": "https://localhost:8080/"
        },
        "id": "1vPop0b7AMx3",
        "outputId": "c44ebbfd-6714-4409-ef3a-430ed7d13721"
      },
      "execution_count": null,
      "outputs": [
        {
          "output_type": "stream",
          "name": "stdout",
          "text": [
            "0     2011-02-14 01:56:00\n",
            "1     2011-03-06 14:30:00\n",
            "2     2011-03-06 20:12:00\n",
            "3     2011-06-06 06:41:00\n",
            "4     2011-08-02 13:48:00\n",
            "              ...        \n",
            "415   2015-05-04 17:24:00\n",
            "416   2015-06-12 07:29:00\n",
            "417   2015-06-19 06:48:00\n",
            "418   2015-06-20 09:44:00\n",
            "419   2015-06-20 18:20:00\n",
            "Name: DateObs, Length: 420, dtype: datetime64[ns]\n"
          ]
        }
      ]
    },
    {
      "cell_type": "markdown",
      "source": [
        "##Data"
      ],
      "metadata": {
        "id": "iFvfEn9wTCMt"
      }
    },
    {
      "cell_type": "code",
      "source": [
        "#There are two \"classes\" present here. A \"Positive\" or 1 class which shows the conditions and location of the sun at the time when a magnetically active section produced a CME\n",
        "#The \"Negative\" or 0 class shows magnetically active section of the sun that did NOT produce a CME\n",
        "CME"
      ],
      "metadata": {
        "colab": {
          "base_uri": "https://localhost:8080/",
          "height": 634
        },
        "id": "1Tpxaatzlxgv",
        "outputId": "ce7973a8-e896-4651-91aa-ce2556eee434"
      },
      "execution_count": null,
      "outputs": [
        {
          "output_type": "execute_result",
          "data": {
            "text/plain": [
              "     HARPNUM   NOAA  Class           DateObs          Peak     Time    USFLUX  \\\n",
              "0        377  11158   22.0  2011.02.14 01:56  2.290000e+22  103.723  0.019589   \n",
              "1        401  11166    2.0  2011.03.06 14:30  2.350000e+22   90.899 -0.001738   \n",
              "2        393  11164    3.7  2011.03.06 20:12  6.350000e+22   89.238  0.006680   \n",
              "3        637  11226    2.5  2011.06.06 06:41  2.650000e+22  104.938  0.007635   \n",
              "4        750  11261    6.0  2011.08.02 13:48  2.170000e+22  105.247  0.026394   \n",
              "..       ...    ...    ...               ...           ...      ...       ...   \n",
              "415     5526  12335    2.6  2015.05.04 17:24  2.520000e+22  105.354  0.005802   \n",
              "416     5637  12360    1.3  2015.06.12 07:29  5.700000e+22   82.488  0.001285   \n",
              "417     5692  12371    1.0  2015.06.19 06:48  5.030000e+22   84.406 -0.010059   \n",
              "418     5673  12367    3.8  2015.06.20 09:44  4.340000e+22  109.424  0.005738   \n",
              "419     5673  12367    1.1  2015.06.20 18:20  4.860000e+22   99.811  0.004326   \n",
              "\n",
              "       MEANGBT  MEANJZH   MEANPOT  ...  MEANALP   MEANGAM       MEANGBZ  \\\n",
              "0    14129.660   56.345  3015.888  ...  111.241  0.106767  5.410000e+13   \n",
              "1     9597.931   45.475  1744.633  ...   95.061  0.132527  3.940000e+13   \n",
              "2     8901.316   28.829  4435.788  ...   97.150 -0.078173  8.580000e+13   \n",
              "3     3160.181   14.941  1671.507  ...  105.271  0.019029  3.910000e+13   \n",
              "4     9839.566   42.920  2712.405  ...  108.889  0.296319  5.150000e+13   \n",
              "..         ...      ...       ...  ...      ...       ...           ...   \n",
              "415   8447.712   40.166  2233.840  ...  109.442  0.124192  4.680000e+13   \n",
              "416   3897.788   12.100  2835.275  ...   87.984 -0.031624  5.650000e+13   \n",
              "417  18649.460   51.975  3790.262  ...   95.842 -0.135981  6.700000e+13   \n",
              "418   5334.497   18.022  2990.720  ...  114.836 -0.025103  5.860000e+13   \n",
              "419   4426.653   15.156  2896.809  ...  104.311 -0.054331  5.950000e+13   \n",
              "\n",
              "          MEANJZD       TOTUSJZ  SAVNCPP       TOTPOT  MEANSHR  AREA_ACR  \\\n",
              "0    1.200000e+13  7.140000e+23   51.393   945.314636    4.805   745.381   \n",
              "1    5.050000e+12  4.860000e+23   44.730   961.502686    4.303    66.343   \n",
              "2    3.420000e+13  1.100000e+24   36.080  1934.446167    4.842   619.857   \n",
              "3    1.930000e+13  2.000000e+23   29.753   970.551636    3.967   364.119   \n",
              "4    4.450000e+13  5.370000e+23   43.722  1259.099854    4.777  1084.488   \n",
              "..            ...           ...      ...          ...      ...       ...   \n",
              "415  9.590000e+12  4.510000e+23   42.409  1263.797485    4.498   233.215   \n",
              "416  1.700000e+12  4.490000e+23   26.183  1631.551880    4.462   111.481   \n",
              "417  2.360000e+13  1.590000e+24   47.933  1852.075806    4.995   644.160   \n",
              "418  2.130000e+13  4.430000e+23   31.039  1728.649536    4.532   358.677   \n",
              "419  2.040000e+13  4.290000e+23   29.415  1616.292358    4.443   315.878   \n",
              "\n",
              "     Class Value  \n",
              "0              1  \n",
              "1              1  \n",
              "2              1  \n",
              "3              1  \n",
              "4              1  \n",
              "..           ...  \n",
              "415            0  \n",
              "416            0  \n",
              "417            0  \n",
              "418            0  \n",
              "419            0  \n",
              "\n",
              "[420 rows x 23 columns]"
            ],
            "text/html": [
              "\n",
              "  <div id=\"df-099beb4d-f57c-4d4b-8705-6d6078144e40\" class=\"colab-df-container\">\n",
              "    <div>\n",
              "<style scoped>\n",
              "    .dataframe tbody tr th:only-of-type {\n",
              "        vertical-align: middle;\n",
              "    }\n",
              "\n",
              "    .dataframe tbody tr th {\n",
              "        vertical-align: top;\n",
              "    }\n",
              "\n",
              "    .dataframe thead th {\n",
              "        text-align: right;\n",
              "    }\n",
              "</style>\n",
              "<table border=\"1\" class=\"dataframe\">\n",
              "  <thead>\n",
              "    <tr style=\"text-align: right;\">\n",
              "      <th></th>\n",
              "      <th>HARPNUM</th>\n",
              "      <th>NOAA</th>\n",
              "      <th>Class</th>\n",
              "      <th>DateObs</th>\n",
              "      <th>Peak</th>\n",
              "      <th>Time</th>\n",
              "      <th>USFLUX</th>\n",
              "      <th>MEANGBT</th>\n",
              "      <th>MEANJZH</th>\n",
              "      <th>MEANPOT</th>\n",
              "      <th>...</th>\n",
              "      <th>MEANALP</th>\n",
              "      <th>MEANGAM</th>\n",
              "      <th>MEANGBZ</th>\n",
              "      <th>MEANJZD</th>\n",
              "      <th>TOTUSJZ</th>\n",
              "      <th>SAVNCPP</th>\n",
              "      <th>TOTPOT</th>\n",
              "      <th>MEANSHR</th>\n",
              "      <th>AREA_ACR</th>\n",
              "      <th>Class Value</th>\n",
              "    </tr>\n",
              "  </thead>\n",
              "  <tbody>\n",
              "    <tr>\n",
              "      <th>0</th>\n",
              "      <td>377</td>\n",
              "      <td>11158</td>\n",
              "      <td>22.0</td>\n",
              "      <td>2011.02.14 01:56</td>\n",
              "      <td>2.290000e+22</td>\n",
              "      <td>103.723</td>\n",
              "      <td>0.019589</td>\n",
              "      <td>14129.660</td>\n",
              "      <td>56.345</td>\n",
              "      <td>3015.888</td>\n",
              "      <td>...</td>\n",
              "      <td>111.241</td>\n",
              "      <td>0.106767</td>\n",
              "      <td>5.410000e+13</td>\n",
              "      <td>1.200000e+13</td>\n",
              "      <td>7.140000e+23</td>\n",
              "      <td>51.393</td>\n",
              "      <td>945.314636</td>\n",
              "      <td>4.805</td>\n",
              "      <td>745.381</td>\n",
              "      <td>1</td>\n",
              "    </tr>\n",
              "    <tr>\n",
              "      <th>1</th>\n",
              "      <td>401</td>\n",
              "      <td>11166</td>\n",
              "      <td>2.0</td>\n",
              "      <td>2011.03.06 14:30</td>\n",
              "      <td>2.350000e+22</td>\n",
              "      <td>90.899</td>\n",
              "      <td>-0.001738</td>\n",
              "      <td>9597.931</td>\n",
              "      <td>45.475</td>\n",
              "      <td>1744.633</td>\n",
              "      <td>...</td>\n",
              "      <td>95.061</td>\n",
              "      <td>0.132527</td>\n",
              "      <td>3.940000e+13</td>\n",
              "      <td>5.050000e+12</td>\n",
              "      <td>4.860000e+23</td>\n",
              "      <td>44.730</td>\n",
              "      <td>961.502686</td>\n",
              "      <td>4.303</td>\n",
              "      <td>66.343</td>\n",
              "      <td>1</td>\n",
              "    </tr>\n",
              "    <tr>\n",
              "      <th>2</th>\n",
              "      <td>393</td>\n",
              "      <td>11164</td>\n",
              "      <td>3.7</td>\n",
              "      <td>2011.03.06 20:12</td>\n",
              "      <td>6.350000e+22</td>\n",
              "      <td>89.238</td>\n",
              "      <td>0.006680</td>\n",
              "      <td>8901.316</td>\n",
              "      <td>28.829</td>\n",
              "      <td>4435.788</td>\n",
              "      <td>...</td>\n",
              "      <td>97.150</td>\n",
              "      <td>-0.078173</td>\n",
              "      <td>8.580000e+13</td>\n",
              "      <td>3.420000e+13</td>\n",
              "      <td>1.100000e+24</td>\n",
              "      <td>36.080</td>\n",
              "      <td>1934.446167</td>\n",
              "      <td>4.842</td>\n",
              "      <td>619.857</td>\n",
              "      <td>1</td>\n",
              "    </tr>\n",
              "    <tr>\n",
              "      <th>3</th>\n",
              "      <td>637</td>\n",
              "      <td>11226</td>\n",
              "      <td>2.5</td>\n",
              "      <td>2011.06.06 06:41</td>\n",
              "      <td>2.650000e+22</td>\n",
              "      <td>104.938</td>\n",
              "      <td>0.007635</td>\n",
              "      <td>3160.181</td>\n",
              "      <td>14.941</td>\n",
              "      <td>1671.507</td>\n",
              "      <td>...</td>\n",
              "      <td>105.271</td>\n",
              "      <td>0.019029</td>\n",
              "      <td>3.910000e+13</td>\n",
              "      <td>1.930000e+13</td>\n",
              "      <td>2.000000e+23</td>\n",
              "      <td>29.753</td>\n",
              "      <td>970.551636</td>\n",
              "      <td>3.967</td>\n",
              "      <td>364.119</td>\n",
              "      <td>1</td>\n",
              "    </tr>\n",
              "    <tr>\n",
              "      <th>4</th>\n",
              "      <td>750</td>\n",
              "      <td>11261</td>\n",
              "      <td>6.0</td>\n",
              "      <td>2011.08.02 13:48</td>\n",
              "      <td>2.170000e+22</td>\n",
              "      <td>105.247</td>\n",
              "      <td>0.026394</td>\n",
              "      <td>9839.566</td>\n",
              "      <td>42.920</td>\n",
              "      <td>2712.405</td>\n",
              "      <td>...</td>\n",
              "      <td>108.889</td>\n",
              "      <td>0.296319</td>\n",
              "      <td>5.150000e+13</td>\n",
              "      <td>4.450000e+13</td>\n",
              "      <td>5.370000e+23</td>\n",
              "      <td>43.722</td>\n",
              "      <td>1259.099854</td>\n",
              "      <td>4.777</td>\n",
              "      <td>1084.488</td>\n",
              "      <td>1</td>\n",
              "    </tr>\n",
              "    <tr>\n",
              "      <th>...</th>\n",
              "      <td>...</td>\n",
              "      <td>...</td>\n",
              "      <td>...</td>\n",
              "      <td>...</td>\n",
              "      <td>...</td>\n",
              "      <td>...</td>\n",
              "      <td>...</td>\n",
              "      <td>...</td>\n",
              "      <td>...</td>\n",
              "      <td>...</td>\n",
              "      <td>...</td>\n",
              "      <td>...</td>\n",
              "      <td>...</td>\n",
              "      <td>...</td>\n",
              "      <td>...</td>\n",
              "      <td>...</td>\n",
              "      <td>...</td>\n",
              "      <td>...</td>\n",
              "      <td>...</td>\n",
              "      <td>...</td>\n",
              "      <td>...</td>\n",
              "    </tr>\n",
              "    <tr>\n",
              "      <th>415</th>\n",
              "      <td>5526</td>\n",
              "      <td>12335</td>\n",
              "      <td>2.6</td>\n",
              "      <td>2015.05.04 17:24</td>\n",
              "      <td>2.520000e+22</td>\n",
              "      <td>105.354</td>\n",
              "      <td>0.005802</td>\n",
              "      <td>8447.712</td>\n",
              "      <td>40.166</td>\n",
              "      <td>2233.840</td>\n",
              "      <td>...</td>\n",
              "      <td>109.442</td>\n",
              "      <td>0.124192</td>\n",
              "      <td>4.680000e+13</td>\n",
              "      <td>9.590000e+12</td>\n",
              "      <td>4.510000e+23</td>\n",
              "      <td>42.409</td>\n",
              "      <td>1263.797485</td>\n",
              "      <td>4.498</td>\n",
              "      <td>233.215</td>\n",
              "      <td>0</td>\n",
              "    </tr>\n",
              "    <tr>\n",
              "      <th>416</th>\n",
              "      <td>5637</td>\n",
              "      <td>12360</td>\n",
              "      <td>1.3</td>\n",
              "      <td>2015.06.12 07:29</td>\n",
              "      <td>5.700000e+22</td>\n",
              "      <td>82.488</td>\n",
              "      <td>0.001285</td>\n",
              "      <td>3897.788</td>\n",
              "      <td>12.100</td>\n",
              "      <td>2835.275</td>\n",
              "      <td>...</td>\n",
              "      <td>87.984</td>\n",
              "      <td>-0.031624</td>\n",
              "      <td>5.650000e+13</td>\n",
              "      <td>1.700000e+12</td>\n",
              "      <td>4.490000e+23</td>\n",
              "      <td>26.183</td>\n",
              "      <td>1631.551880</td>\n",
              "      <td>4.462</td>\n",
              "      <td>111.481</td>\n",
              "      <td>0</td>\n",
              "    </tr>\n",
              "    <tr>\n",
              "      <th>417</th>\n",
              "      <td>5692</td>\n",
              "      <td>12371</td>\n",
              "      <td>1.0</td>\n",
              "      <td>2015.06.19 06:48</td>\n",
              "      <td>5.030000e+22</td>\n",
              "      <td>84.406</td>\n",
              "      <td>-0.010059</td>\n",
              "      <td>18649.460</td>\n",
              "      <td>51.975</td>\n",
              "      <td>3790.262</td>\n",
              "      <td>...</td>\n",
              "      <td>95.842</td>\n",
              "      <td>-0.135981</td>\n",
              "      <td>6.700000e+13</td>\n",
              "      <td>2.360000e+13</td>\n",
              "      <td>1.590000e+24</td>\n",
              "      <td>47.933</td>\n",
              "      <td>1852.075806</td>\n",
              "      <td>4.995</td>\n",
              "      <td>644.160</td>\n",
              "      <td>0</td>\n",
              "    </tr>\n",
              "    <tr>\n",
              "      <th>418</th>\n",
              "      <td>5673</td>\n",
              "      <td>12367</td>\n",
              "      <td>3.8</td>\n",
              "      <td>2015.06.20 09:44</td>\n",
              "      <td>4.340000e+22</td>\n",
              "      <td>109.424</td>\n",
              "      <td>0.005738</td>\n",
              "      <td>5334.497</td>\n",
              "      <td>18.022</td>\n",
              "      <td>2990.720</td>\n",
              "      <td>...</td>\n",
              "      <td>114.836</td>\n",
              "      <td>-0.025103</td>\n",
              "      <td>5.860000e+13</td>\n",
              "      <td>2.130000e+13</td>\n",
              "      <td>4.430000e+23</td>\n",
              "      <td>31.039</td>\n",
              "      <td>1728.649536</td>\n",
              "      <td>4.532</td>\n",
              "      <td>358.677</td>\n",
              "      <td>0</td>\n",
              "    </tr>\n",
              "    <tr>\n",
              "      <th>419</th>\n",
              "      <td>5673</td>\n",
              "      <td>12367</td>\n",
              "      <td>1.1</td>\n",
              "      <td>2015.06.20 18:20</td>\n",
              "      <td>4.860000e+22</td>\n",
              "      <td>99.811</td>\n",
              "      <td>0.004326</td>\n",
              "      <td>4426.653</td>\n",
              "      <td>15.156</td>\n",
              "      <td>2896.809</td>\n",
              "      <td>...</td>\n",
              "      <td>104.311</td>\n",
              "      <td>-0.054331</td>\n",
              "      <td>5.950000e+13</td>\n",
              "      <td>2.040000e+13</td>\n",
              "      <td>4.290000e+23</td>\n",
              "      <td>29.415</td>\n",
              "      <td>1616.292358</td>\n",
              "      <td>4.443</td>\n",
              "      <td>315.878</td>\n",
              "      <td>0</td>\n",
              "    </tr>\n",
              "  </tbody>\n",
              "</table>\n",
              "<p>420 rows × 23 columns</p>\n",
              "</div>\n",
              "    <div class=\"colab-df-buttons\">\n",
              "\n",
              "  <div class=\"colab-df-container\">\n",
              "    <button class=\"colab-df-convert\" onclick=\"convertToInteractive('df-099beb4d-f57c-4d4b-8705-6d6078144e40')\"\n",
              "            title=\"Convert this dataframe to an interactive table.\"\n",
              "            style=\"display:none;\">\n",
              "\n",
              "  <svg xmlns=\"http://www.w3.org/2000/svg\" height=\"24px\" viewBox=\"0 -960 960 960\">\n",
              "    <path d=\"M120-120v-720h720v720H120Zm60-500h600v-160H180v160Zm220 220h160v-160H400v160Zm0 220h160v-160H400v160ZM180-400h160v-160H180v160Zm440 0h160v-160H620v160ZM180-180h160v-160H180v160Zm440 0h160v-160H620v160Z\"/>\n",
              "  </svg>\n",
              "    </button>\n",
              "\n",
              "  <style>\n",
              "    .colab-df-container {\n",
              "      display:flex;\n",
              "      gap: 12px;\n",
              "    }\n",
              "\n",
              "    .colab-df-convert {\n",
              "      background-color: #E8F0FE;\n",
              "      border: none;\n",
              "      border-radius: 50%;\n",
              "      cursor: pointer;\n",
              "      display: none;\n",
              "      fill: #1967D2;\n",
              "      height: 32px;\n",
              "      padding: 0 0 0 0;\n",
              "      width: 32px;\n",
              "    }\n",
              "\n",
              "    .colab-df-convert:hover {\n",
              "      background-color: #E2EBFA;\n",
              "      box-shadow: 0px 1px 2px rgba(60, 64, 67, 0.3), 0px 1px 3px 1px rgba(60, 64, 67, 0.15);\n",
              "      fill: #174EA6;\n",
              "    }\n",
              "\n",
              "    .colab-df-buttons div {\n",
              "      margin-bottom: 4px;\n",
              "    }\n",
              "\n",
              "    [theme=dark] .colab-df-convert {\n",
              "      background-color: #3B4455;\n",
              "      fill: #D2E3FC;\n",
              "    }\n",
              "\n",
              "    [theme=dark] .colab-df-convert:hover {\n",
              "      background-color: #434B5C;\n",
              "      box-shadow: 0px 1px 3px 1px rgba(0, 0, 0, 0.15);\n",
              "      filter: drop-shadow(0px 1px 2px rgba(0, 0, 0, 0.3));\n",
              "      fill: #FFFFFF;\n",
              "    }\n",
              "  </style>\n",
              "\n",
              "    <script>\n",
              "      const buttonEl =\n",
              "        document.querySelector('#df-099beb4d-f57c-4d4b-8705-6d6078144e40 button.colab-df-convert');\n",
              "      buttonEl.style.display =\n",
              "        google.colab.kernel.accessAllowed ? 'block' : 'none';\n",
              "\n",
              "      async function convertToInteractive(key) {\n",
              "        const element = document.querySelector('#df-099beb4d-f57c-4d4b-8705-6d6078144e40');\n",
              "        const dataTable =\n",
              "          await google.colab.kernel.invokeFunction('convertToInteractive',\n",
              "                                                    [key], {});\n",
              "        if (!dataTable) return;\n",
              "\n",
              "        const docLinkHtml = 'Like what you see? Visit the ' +\n",
              "          '<a target=\"_blank\" href=https://colab.research.google.com/notebooks/data_table.ipynb>data table notebook</a>'\n",
              "          + ' to learn more about interactive tables.';\n",
              "        element.innerHTML = '';\n",
              "        dataTable['output_type'] = 'display_data';\n",
              "        await google.colab.output.renderOutput(dataTable, element);\n",
              "        const docLink = document.createElement('div');\n",
              "        docLink.innerHTML = docLinkHtml;\n",
              "        element.appendChild(docLink);\n",
              "      }\n",
              "    </script>\n",
              "  </div>\n",
              "\n",
              "\n",
              "<div id=\"df-88d73901-8df4-4a0e-99cb-6878a09c6c6e\">\n",
              "  <button class=\"colab-df-quickchart\" onclick=\"quickchart('df-88d73901-8df4-4a0e-99cb-6878a09c6c6e')\"\n",
              "            title=\"Suggest charts\"\n",
              "            style=\"display:none;\">\n",
              "\n",
              "<svg xmlns=\"http://www.w3.org/2000/svg\" height=\"24px\"viewBox=\"0 0 24 24\"\n",
              "     width=\"24px\">\n",
              "    <g>\n",
              "        <path d=\"M19 3H5c-1.1 0-2 .9-2 2v14c0 1.1.9 2 2 2h14c1.1 0 2-.9 2-2V5c0-1.1-.9-2-2-2zM9 17H7v-7h2v7zm4 0h-2V7h2v10zm4 0h-2v-4h2v4z\"/>\n",
              "    </g>\n",
              "</svg>\n",
              "  </button>\n",
              "\n",
              "<style>\n",
              "  .colab-df-quickchart {\n",
              "      --bg-color: #E8F0FE;\n",
              "      --fill-color: #1967D2;\n",
              "      --hover-bg-color: #E2EBFA;\n",
              "      --hover-fill-color: #174EA6;\n",
              "      --disabled-fill-color: #AAA;\n",
              "      --disabled-bg-color: #DDD;\n",
              "  }\n",
              "\n",
              "  [theme=dark] .colab-df-quickchart {\n",
              "      --bg-color: #3B4455;\n",
              "      --fill-color: #D2E3FC;\n",
              "      --hover-bg-color: #434B5C;\n",
              "      --hover-fill-color: #FFFFFF;\n",
              "      --disabled-bg-color: #3B4455;\n",
              "      --disabled-fill-color: #666;\n",
              "  }\n",
              "\n",
              "  .colab-df-quickchart {\n",
              "    background-color: var(--bg-color);\n",
              "    border: none;\n",
              "    border-radius: 50%;\n",
              "    cursor: pointer;\n",
              "    display: none;\n",
              "    fill: var(--fill-color);\n",
              "    height: 32px;\n",
              "    padding: 0;\n",
              "    width: 32px;\n",
              "  }\n",
              "\n",
              "  .colab-df-quickchart:hover {\n",
              "    background-color: var(--hover-bg-color);\n",
              "    box-shadow: 0 1px 2px rgba(60, 64, 67, 0.3), 0 1px 3px 1px rgba(60, 64, 67, 0.15);\n",
              "    fill: var(--button-hover-fill-color);\n",
              "  }\n",
              "\n",
              "  .colab-df-quickchart-complete:disabled,\n",
              "  .colab-df-quickchart-complete:disabled:hover {\n",
              "    background-color: var(--disabled-bg-color);\n",
              "    fill: var(--disabled-fill-color);\n",
              "    box-shadow: none;\n",
              "  }\n",
              "\n",
              "  .colab-df-spinner {\n",
              "    border: 2px solid var(--fill-color);\n",
              "    border-color: transparent;\n",
              "    border-bottom-color: var(--fill-color);\n",
              "    animation:\n",
              "      spin 1s steps(1) infinite;\n",
              "  }\n",
              "\n",
              "  @keyframes spin {\n",
              "    0% {\n",
              "      border-color: transparent;\n",
              "      border-bottom-color: var(--fill-color);\n",
              "      border-left-color: var(--fill-color);\n",
              "    }\n",
              "    20% {\n",
              "      border-color: transparent;\n",
              "      border-left-color: var(--fill-color);\n",
              "      border-top-color: var(--fill-color);\n",
              "    }\n",
              "    30% {\n",
              "      border-color: transparent;\n",
              "      border-left-color: var(--fill-color);\n",
              "      border-top-color: var(--fill-color);\n",
              "      border-right-color: var(--fill-color);\n",
              "    }\n",
              "    40% {\n",
              "      border-color: transparent;\n",
              "      border-right-color: var(--fill-color);\n",
              "      border-top-color: var(--fill-color);\n",
              "    }\n",
              "    60% {\n",
              "      border-color: transparent;\n",
              "      border-right-color: var(--fill-color);\n",
              "    }\n",
              "    80% {\n",
              "      border-color: transparent;\n",
              "      border-right-color: var(--fill-color);\n",
              "      border-bottom-color: var(--fill-color);\n",
              "    }\n",
              "    90% {\n",
              "      border-color: transparent;\n",
              "      border-bottom-color: var(--fill-color);\n",
              "    }\n",
              "  }\n",
              "</style>\n",
              "\n",
              "  <script>\n",
              "    async function quickchart(key) {\n",
              "      const quickchartButtonEl =\n",
              "        document.querySelector('#' + key + ' button');\n",
              "      quickchartButtonEl.disabled = true;  // To prevent multiple clicks.\n",
              "      quickchartButtonEl.classList.add('colab-df-spinner');\n",
              "      try {\n",
              "        const charts = await google.colab.kernel.invokeFunction(\n",
              "            'suggestCharts', [key], {});\n",
              "      } catch (error) {\n",
              "        console.error('Error during call to suggestCharts:', error);\n",
              "      }\n",
              "      quickchartButtonEl.classList.remove('colab-df-spinner');\n",
              "      quickchartButtonEl.classList.add('colab-df-quickchart-complete');\n",
              "    }\n",
              "    (() => {\n",
              "      let quickchartButtonEl =\n",
              "        document.querySelector('#df-88d73901-8df4-4a0e-99cb-6878a09c6c6e button');\n",
              "      quickchartButtonEl.style.display =\n",
              "        google.colab.kernel.accessAllowed ? 'block' : 'none';\n",
              "    })();\n",
              "  </script>\n",
              "</div>\n",
              "\n",
              "  <div id=\"id_f00eb653-73c8-4efd-9271-bb92cba8adb1\">\n",
              "    <style>\n",
              "      .colab-df-generate {\n",
              "        background-color: #E8F0FE;\n",
              "        border: none;\n",
              "        border-radius: 50%;\n",
              "        cursor: pointer;\n",
              "        display: none;\n",
              "        fill: #1967D2;\n",
              "        height: 32px;\n",
              "        padding: 0 0 0 0;\n",
              "        width: 32px;\n",
              "      }\n",
              "\n",
              "      .colab-df-generate:hover {\n",
              "        background-color: #E2EBFA;\n",
              "        box-shadow: 0px 1px 2px rgba(60, 64, 67, 0.3), 0px 1px 3px 1px rgba(60, 64, 67, 0.15);\n",
              "        fill: #174EA6;\n",
              "      }\n",
              "\n",
              "      [theme=dark] .colab-df-generate {\n",
              "        background-color: #3B4455;\n",
              "        fill: #D2E3FC;\n",
              "      }\n",
              "\n",
              "      [theme=dark] .colab-df-generate:hover {\n",
              "        background-color: #434B5C;\n",
              "        box-shadow: 0px 1px 3px 1px rgba(0, 0, 0, 0.15);\n",
              "        filter: drop-shadow(0px 1px 2px rgba(0, 0, 0, 0.3));\n",
              "        fill: #FFFFFF;\n",
              "      }\n",
              "    </style>\n",
              "    <button class=\"colab-df-generate\" onclick=\"generateWithVariable('CME')\"\n",
              "            title=\"Generate code using this dataframe.\"\n",
              "            style=\"display:none;\">\n",
              "\n",
              "  <svg xmlns=\"http://www.w3.org/2000/svg\" height=\"24px\"viewBox=\"0 0 24 24\"\n",
              "       width=\"24px\">\n",
              "    <path d=\"M7,19H8.4L18.45,9,17,7.55,7,17.6ZM5,21V16.75L18.45,3.32a2,2,0,0,1,2.83,0l1.4,1.43a1.91,1.91,0,0,1,.58,1.4,1.91,1.91,0,0,1-.58,1.4L9.25,21ZM18.45,9,17,7.55Zm-12,3A5.31,5.31,0,0,0,4.9,8.1,5.31,5.31,0,0,0,1,6.5,5.31,5.31,0,0,0,4.9,4.9,5.31,5.31,0,0,0,6.5,1,5.31,5.31,0,0,0,8.1,4.9,5.31,5.31,0,0,0,12,6.5,5.46,5.46,0,0,0,6.5,12Z\"/>\n",
              "  </svg>\n",
              "    </button>\n",
              "    <script>\n",
              "      (() => {\n",
              "      const buttonEl =\n",
              "        document.querySelector('#id_f00eb653-73c8-4efd-9271-bb92cba8adb1 button.colab-df-generate');\n",
              "      buttonEl.style.display =\n",
              "        google.colab.kernel.accessAllowed ? 'block' : 'none';\n",
              "\n",
              "      buttonEl.onclick = () => {\n",
              "        google.colab.notebook.generateWithVariable('CME');\n",
              "      }\n",
              "      })();\n",
              "    </script>\n",
              "  </div>\n",
              "\n",
              "    </div>\n",
              "  </div>\n"
            ],
            "application/vnd.google.colaboratory.intrinsic+json": {
              "type": "dataframe",
              "variable_name": "CME"
            }
          },
          "metadata": {},
          "execution_count": 6
        }
      ]
    },
    {
      "cell_type": "markdown",
      "source": [
        "##Setting UP BART"
      ],
      "metadata": {
        "id": "h6hcChXUuMR6"
      }
    },
    {
      "cell_type": "markdown",
      "source": [
        "While I was setting up my Causual diagram and doing some more research I begain to realize that I really don't know as much about CMEs and this data as I thought I did. So, all of the decisions I made are based on what I know and what im guessing is relevant so lets try our first model"
      ],
      "metadata": {
        "id": "dd5HR9Buzxqt"
      }
    },
    {
      "cell_type": "code",
      "source": [
        "# remidner to use Class Sizes, Time, USFULX, MEANSHR, TOTUSJZ, SAVNCPP to start\n",
        "\n",
        "#perdictor varible is the x\n",
        "X = CME[[\"Class\", \"Time\", \"USFLUX\", \"MEANSHR\", \"TOTUSJZ\", \"SAVNCPP\"]].to_numpy()\n",
        "#perdicted varible is the y\n",
        "Y = CME[\"Class Value\"].to_numpy()"
      ],
      "metadata": {
        "id": "wH-HK9UL8rsX"
      },
      "execution_count": null,
      "outputs": []
    },
    {
      "cell_type": "markdown",
      "source": [
        "##Attempt 1"
      ],
      "metadata": {
        "id": "PEzONWQoPwHn"
      }
    },
    {
      "cell_type": "code",
      "source": [
        "#CMEATT1 = CME attempt #1\n",
        "with pm.Model() as model_CMEATT1:\n",
        "    s = pm.HalfNormal('s',1000)\n",
        "    μ_ = pmb.BART(\"μ_\", X, Y, m=50)\n",
        "    μ = pm.Deterministic(\"μ\",pm.math.exp(μ_))\n",
        "    y = pm.Normal(\"y\", mu=μ, sigma=s,  observed=Y)\n",
        "    idata_CME1 = pm.sample(compute_convergence_checks=False)"
      ],
      "metadata": {
        "colab": {
          "base_uri": "https://localhost:8080/",
          "height": 113,
          "referenced_widgets": [
            "e74287dffb2b47488712a4600bf8f7d8",
            "0c0712d936f2472f85ee90a3079f17a5"
          ]
        },
        "id": "cG3GKfGz9Bw9",
        "outputId": "58bc39a5-d010-4c0f-8b0a-7ba211fa60b8"
      },
      "execution_count": null,
      "outputs": [
        {
          "output_type": "display_data",
          "data": {
            "text/plain": [
              "Output()"
            ],
            "application/vnd.jupyter.widget-view+json": {
              "version_major": 2,
              "version_minor": 0,
              "model_id": "e74287dffb2b47488712a4600bf8f7d8"
            }
          },
          "metadata": {}
        },
        {
          "output_type": "display_data",
          "data": {
            "text/plain": [],
            "text/html": [
              "<pre style=\"white-space:pre;overflow-x:auto;line-height:normal;font-family:Menlo,'DejaVu Sans Mono',consolas,'Courier New',monospace\"></pre>\n"
            ]
          },
          "metadata": {}
        }
      ]
    },
    {
      "cell_type": "code",
      "source": [
        "#generate the posterior predictive dist\n",
        "pm.sample_posterior_predictive(idata_CME1, model_CMEATT1, extend_inferencedata=True)\n",
        "az.plot_ppc(idata_CME1, num_pp_samples=100, colors=[\"C1\", \"C0\", \"C1\"])"
      ],
      "metadata": {
        "colab": {
          "base_uri": "https://localhost:8080/",
          "height": 493,
          "referenced_widgets": [
            "99327f92649643d6849bc2d5f503de15",
            "01145498719644338f7eed72aa92c12c"
          ]
        },
        "id": "bhIz6x5HIEkD",
        "outputId": "bcadb4aa-1212-4cd2-cde4-198ce0035773"
      },
      "execution_count": null,
      "outputs": [
        {
          "output_type": "display_data",
          "data": {
            "text/plain": [
              "Output()"
            ],
            "application/vnd.jupyter.widget-view+json": {
              "version_major": 2,
              "version_minor": 0,
              "model_id": "99327f92649643d6849bc2d5f503de15"
            }
          },
          "metadata": {}
        },
        {
          "output_type": "display_data",
          "data": {
            "text/plain": [],
            "text/html": [
              "<pre style=\"white-space:pre;overflow-x:auto;line-height:normal;font-family:Menlo,'DejaVu Sans Mono',consolas,'Courier New',monospace\"></pre>\n"
            ]
          },
          "metadata": {}
        },
        {
          "output_type": "execute_result",
          "data": {
            "text/plain": [
              "<Axes: xlabel='y'>"
            ]
          },
          "metadata": {},
          "execution_count": 10
        },
        {
          "output_type": "display_data",
          "data": {
            "text/plain": [
              "<Figure size 640x480 with 1 Axes>"
            ],
            "image/png": "[encoded data removed]"
          },
          "metadata": {}
        }
      ]
    },
    {
      "cell_type": "markdown",
      "source": [
        "OOP....so that didn't work. It turns out that this is more complicated than I expected.\n",
        "\n",
        "Mr.A Suggested that I use this excample and insert bart into Mu. Additionaly the Normal likelihood needs to be a Bernoulli"
      ],
      "metadata": {
        "id": "qXDPCm_jJJBr"
      }
    },
    {
      "cell_type": "markdown",
      "source": [
        "##Attempt 2"
      ],
      "metadata": {
        "id": "igy1_qXaS-Tw"
      }
    },
    {
      "cell_type": "code",
      "source": [
        "#lets try with these improvements\n",
        "with pm.Model() as model_CMEATT2:\n",
        "  # Bart Goes right here\n",
        "  μ = μ_ = pmb.BART(\"μ_\", X, Y, m=50)\n",
        "\n",
        "  #the linear part, mu, is transformed via a sigmoid curve\n",
        "  θ = pm.Deterministic(\"θ\", pm.math.sigmoid(μ))\n",
        "\n",
        "  #likelihood Mr A suggested\n",
        "  y = pm.Bernoulli(\"y\", p=θ, observed= Y)\n",
        "\n",
        "  idata_CME2 = pm.sample()"
      ],
      "metadata": {
        "colab": {
          "base_uri": "https://localhost:8080/",
          "height": 113,
          "referenced_widgets": [
            "58f305219e0e44a5aff70522f0ba215d",
            "d216221c3cbc40dcb63bf64e9bc2483a"
          ]
        },
        "id": "LeN73k1UJQ8d",
        "outputId": "48bfc4de-2de6-463e-992c-49c94e0f1a30"
      },
      "execution_count": null,
      "outputs": [
        {
          "output_type": "display_data",
          "data": {
            "text/plain": [
              "Output()"
            ],
            "application/vnd.jupyter.widget-view+json": {
              "version_major": 2,
              "version_minor": 0,
              "model_id": "58f305219e0e44a5aff70522f0ba215d"
            }
          },
          "metadata": {}
        },
        {
          "output_type": "display_data",
          "data": {
            "text/plain": [],
            "text/html": [
              "<pre style=\"white-space:pre;overflow-x:auto;line-height:normal;font-family:Menlo,'DejaVu Sans Mono',consolas,'Courier New',monospace\"></pre>\n"
            ]
          },
          "metadata": {}
        }
      ]
    },
    {
      "cell_type": "code",
      "source": [
        "#generate the posterior predictive dist\n",
        "pm.sample_posterior_predictive(idata_CME2, model_CMEATT2, extend_inferencedata=True)\n",
        "az.plot_ppc(idata_CME2, num_pp_samples=100, colors=[\"C1\", \"C0\", \"C1\"])"
      ],
      "metadata": {
        "colab": {
          "base_uri": "https://localhost:8080/",
          "height": 493,
          "referenced_widgets": [
            "c5e89fc2da3f4bc3acd7bae15ab5025c",
            "4739f128089640648d5d04a9b2d09799"
          ]
        },
        "id": "M_5DVKsxK8wE",
        "outputId": "4f153ccf-5515-4063-bb02-808597dbb448"
      },
      "execution_count": null,
      "outputs": [
        {
          "output_type": "display_data",
          "data": {
            "text/plain": [
              "Output()"
            ],
            "application/vnd.jupyter.widget-view+json": {
              "version_major": 2,
              "version_minor": 0,
              "model_id": "c5e89fc2da3f4bc3acd7bae15ab5025c"
            }
          },
          "metadata": {}
        },
        {
          "output_type": "display_data",
          "data": {
            "text/plain": [],
            "text/html": [
              "<pre style=\"white-space:pre;overflow-x:auto;line-height:normal;font-family:Menlo,'DejaVu Sans Mono',consolas,'Courier New',monospace\"></pre>\n"
            ]
          },
          "metadata": {}
        },
        {
          "output_type": "execute_result",
          "data": {
            "text/plain": [
              "<Axes: xlabel='y'>"
            ]
          },
          "metadata": {},
          "execution_count": 12
        },
        {
          "output_type": "display_data",
          "data": {
            "text/plain": [
              "<Figure size 640x480 with 1 Axes>"
            ],
            "image/png": "[encoded data removed]"
          },
          "metadata": {}
        }
      ]
    },
    {
      "cell_type": "markdown",
      "source": [
        "YAYYY IT worked. But we arent out of the woods yet. Now our goal is to determine what criteria is causisng BART to perdict a solar flare vs a CME"
      ],
      "metadata": {
        "id": "0KYCv7vOMpF3"
      }
    },
    {
      "cell_type": "code",
      "source": [
        "#starting with ice plots\n",
        "pmb.plot_ice( μ_, X, Y, grid=(1, 5), func=np.exp, figsize = (12,6))"
      ],
      "metadata": {
        "colab": {
          "base_uri": "https://localhost:8080/",
          "height": 646
        },
        "id": "vuTd-TVpMxgc",
        "outputId": "016f33bb-dfa4-4c8d-e4b9-3981040120e3"
      },
      "execution_count": null,
      "outputs": [
        {
          "output_type": "stream",
          "name": "stderr",
          "text": [
            "/usr/local/lib/python3.11/dist-packages/pymc_bart/utils.py:516: UserWarning: The grid is smaller than the number of available variables to plot.\n",
            "                Automatically adjusting the grid size.\n",
            "  warnings.warn(\n"
          ]
        },
        {
          "output_type": "execute_result",
          "data": {
            "text/plain": [
              "array([<Axes: xlabel='X_0'>, <Axes: xlabel='X_1'>, <Axes: xlabel='X_2'>,\n",
              "       <Axes: xlabel='X_3'>, <Axes: xlabel='X_4'>, <Axes: xlabel='X_5'>],\n",
              "      dtype=object)"
            ]
          },
          "metadata": {},
          "execution_count": 13
        },
        {
          "output_type": "display_data",
          "data": {
            "text/plain": [
              "<Figure size 1200x600 with 6 Axes>"
            ],
            "image/png": "[encoded data removed]"
          },
          "metadata": {}
        }
      ]
    },
    {
      "cell_type": "markdown",
      "source": [
        "This Ice Plot looks terrible so im gonna rerun the data to see if it helps at all"
      ],
      "metadata": {
        "id": "fG5VLPTZPi9H"
      }
    },
    {
      "cell_type": "markdown",
      "source": [
        "###Rerunning some stuff"
      ],
      "metadata": {
        "id": "mQiMkVfPYH5j"
      }
    },
    {
      "cell_type": "code",
      "source": [
        "# remidner to use Class Sizes, Time, USFULX, MEANSHR, TOTUSJZ, SAVNCPP to start\n",
        "\n",
        "#perdictor varible is the x\n",
        "X = CME[[\"Class\", \"Time\", \"USFLUX\", \"MEANSHR\", \"TOTUSJZ\", \"SAVNCPP\"]]\n",
        "#perdicted varible is the y\n",
        "Y = CME[\"Class Value\"]"
      ],
      "metadata": {
        "id": "m4YBOhYnPitQ"
      },
      "execution_count": null,
      "outputs": []
    },
    {
      "cell_type": "code",
      "source": [
        "#Att 25 = Attempt 2.5\n",
        "with pm.Model() as model_CMEATT25:\n",
        "  # Bart Goes right here\n",
        "  μ = μ_ = pmb.BART(\"μ_\", X, Y, m=50)\n",
        "\n",
        "  #the linear part, mu, is transformed via a sigmoid curve\n",
        "  θ = pm.Deterministic(\"θ\", pm.math.sigmoid(μ))\n",
        "\n",
        "  #likelihood Mr A suggested\n",
        "  y = pm.Bernoulli(\"y\", p=θ, observed= Y)\n",
        "\n",
        "  idata_CME25 = pm.sample()"
      ],
      "metadata": {
        "colab": {
          "base_uri": "https://localhost:8080/",
          "height": 150,
          "referenced_widgets": [
            "3b0c164d30bd42669886054a7f61f820",
            "376522c1dec14c3a82b1c5746f723efc"
          ]
        },
        "id": "1WAX_ZtYQYH0",
        "outputId": "1468370a-0149-445e-ec9a-1ff0070157e6"
      },
      "execution_count": null,
      "outputs": [
        {
          "output_type": "display_data",
          "data": {
            "text/plain": [
              "Output()"
            ],
            "application/vnd.jupyter.widget-view+json": {
              "version_major": 2,
              "version_minor": 0,
              "model_id": "3b0c164d30bd42669886054a7f61f820"
            }
          },
          "metadata": {}
        },
        {
          "output_type": "display_data",
          "data": {
            "text/plain": [],
            "text/html": [
              "<pre style=\"white-space:pre;overflow-x:auto;line-height:normal;font-family:Menlo,'DejaVu Sans Mono',consolas,'Courier New',monospace\"></pre>\n"
            ]
          },
          "metadata": {}
        },
        {
          "output_type": "stream",
          "name": "stderr",
          "text": [
            "ERROR:pymc.stats.convergence:The effective sample size per chain is smaller than 100 for some parameters.  A higher number is needed for reliable rhat and ess computation. See https://arxiv.org/abs/1903.08008 for details\n"
          ]
        }
      ]
    },
    {
      "cell_type": "markdown",
      "source": [
        "###Graphs and Plots"
      ],
      "metadata": {
        "id": "hob1_pJFYMMD"
      }
    },
    {
      "cell_type": "code",
      "source": [
        "#starting with ice plots\n",
        "pmb.plot_ice( μ_, X, Y, grid=(1, 5), func=np.exp, figsize = (12,6))"
      ],
      "metadata": {
        "colab": {
          "base_uri": "https://localhost:8080/",
          "height": 646
        },
        "id": "ohaeN3TZQq8S",
        "outputId": "6ced30b2-8a9d-4bd9-d473-e6158d8733ec"
      },
      "execution_count": null,
      "outputs": [
        {
          "output_type": "stream",
          "name": "stderr",
          "text": [
            "/usr/local/lib/python3.11/dist-packages/pymc_bart/utils.py:516: UserWarning: The grid is smaller than the number of available variables to plot.\n",
            "                Automatically adjusting the grid size.\n",
            "  warnings.warn(\n"
          ]
        },
        {
          "output_type": "execute_result",
          "data": {
            "text/plain": [
              "array([<Axes: xlabel='Class'>, <Axes: xlabel='Time'>,\n",
              "       <Axes: xlabel='USFLUX'>, <Axes: xlabel='MEANSHR'>,\n",
              "       <Axes: xlabel='TOTUSJZ'>, <Axes: xlabel='SAVNCPP'>], dtype=object)"
            ]
          },
          "metadata": {},
          "execution_count": 16
        },
        {
          "output_type": "display_data",
          "data": {
            "text/plain": [
              "<Figure size 1200x600 with 6 Axes>"
            ],
            "image/png": "[encoded data removed]"
          },
          "metadata": {}
        }
      ]
    },
    {
      "cell_type": "code",
      "source": [
        "\n",
        "vi_CME = pmb.compute_variable_importance(idata_CME25, μ_, X)\n",
        "pmb.plot_variable_importance(vi_CME)"
      ],
      "metadata": {
        "colab": {
          "base_uri": "https://localhost:8080/",
          "height": 314
        },
        "id": "HKdezb_pPKMu",
        "outputId": "73b903de-9f67-42a7-d0b4-e0c9bb0f6588"
      },
      "execution_count": null,
      "outputs": [
        {
          "output_type": "execute_result",
          "data": {
            "text/plain": [
              "<Axes: ylabel='R²'>"
            ]
          },
          "metadata": {},
          "execution_count": 17
        },
        {
          "output_type": "display_data",
          "data": {
            "text/plain": [
              "<Figure size 800x300 with 1 Axes>"
            ],
            "image/png": "[encoded data removed]"
          },
          "metadata": {}
        }
      ]
    },
    {
      "cell_type": "markdown",
      "source": [
        "Between the VI plot and the ICE plot we don't have a lot of information on what part of this model is the most important. Sooo lets drop a varible."
      ],
      "metadata": {
        "id": "BNrIarsgTPve"
      }
    },
    {
      "cell_type": "markdown",
      "source": [
        "##Attempt 3"
      ],
      "metadata": {
        "id": "RFaUcipoTH3w"
      }
    },
    {
      "cell_type": "code",
      "source": [
        "#I have decided to drop USFLUX\n",
        "\n",
        "#perdictor varible is the x\n",
        "X = CME[[\"Class\", \"MEANSHR\", \"TOTUSJZ\", \"SAVNCPP\"]]\n",
        "#perdicted varible is the y\n",
        "Y = CME[\"Class Value\"]"
      ],
      "metadata": {
        "id": "LTpiV4FzU2C6"
      },
      "execution_count": null,
      "outputs": []
    },
    {
      "cell_type": "code",
      "source": [
        "with pm.Model() as model_CMEATT3:\n",
        "  μ = μ_ = pmb.BART(\"μ_\", X, Y, m=50)\n",
        "\n",
        "  θ = pm.Deterministic(\"θ\", pm.math.sigmoid(μ))\n",
        "\n",
        "  y = pm.Bernoulli(\"y\", p=θ, observed= Y)\n",
        "\n",
        "  idata_CME3 = pm.sample()"
      ],
      "metadata": {
        "colab": {
          "base_uri": "https://localhost:8080/",
          "height": 113,
          "referenced_widgets": [
            "30e5ad739c7b4143a1ddbe5d0b46e778",
            "e31659d52e1b47a3b07f673713081366"
          ]
        },
        "id": "DGRRSfD9TJW4",
        "outputId": "7989b05b-7635-491b-dc0f-f381d4e04d85"
      },
      "execution_count": null,
      "outputs": [
        {
          "output_type": "display_data",
          "data": {
            "text/plain": [
              "Output()"
            ],
            "application/vnd.jupyter.widget-view+json": {
              "version_major": 2,
              "version_minor": 0,
              "model_id": "30e5ad739c7b4143a1ddbe5d0b46e778"
            }
          },
          "metadata": {}
        },
        {
          "output_type": "display_data",
          "data": {
            "text/plain": [],
            "text/html": [
              "<pre style=\"white-space:pre;overflow-x:auto;line-height:normal;font-family:Menlo,'DejaVu Sans Mono',consolas,'Courier New',monospace\"></pre>\n"
            ]
          },
          "metadata": {}
        }
      ]
    },
    {
      "cell_type": "code",
      "source": [
        "#generate the posterior predictive dist\n",
        "pm.sample_posterior_predictive(idata_CME3, model_CMEATT3, extend_inferencedata=True)\n",
        "az.plot_ppc(idata_CME3, num_pp_samples=100, colors=[\"C1\", \"C0\", \"C1\"])"
      ],
      "metadata": {
        "colab": {
          "base_uri": "https://localhost:8080/",
          "height": 493,
          "referenced_widgets": [
            "577e94af5b124feeb784c99da2ace67a",
            "32ea5c5ad7f64771bfa360256a28f5d9"
          ]
        },
        "id": "YBUa1EndXbAi",
        "outputId": "75f04b3c-6a73-4d80-dd57-7404e333d070"
      },
      "execution_count": null,
      "outputs": [
        {
          "output_type": "display_data",
          "data": {
            "text/plain": [
              "Output()"
            ],
            "application/vnd.jupyter.widget-view+json": {
              "version_major": 2,
              "version_minor": 0,
              "model_id": "577e94af5b124feeb784c99da2ace67a"
            }
          },
          "metadata": {}
        },
        {
          "output_type": "display_data",
          "data": {
            "text/plain": [],
            "text/html": [
              "<pre style=\"white-space:pre;overflow-x:auto;line-height:normal;font-family:Menlo,'DejaVu Sans Mono',consolas,'Courier New',monospace\"></pre>\n"
            ]
          },
          "metadata": {}
        },
        {
          "output_type": "execute_result",
          "data": {
            "text/plain": [
              "<Axes: xlabel='y'>"
            ]
          },
          "metadata": {},
          "execution_count": 20
        },
        {
          "output_type": "display_data",
          "data": {
            "text/plain": [
              "<Figure size 640x480 with 1 Axes>"
            ],
            "image/png": "[encoded data removed]"
          },
          "metadata": {}
        }
      ]
    },
    {
      "cell_type": "markdown",
      "source": [
        "Okay.....That seemed to have helped. Lets take a look at the ICE and VI Plots"
      ],
      "metadata": {
        "id": "UnlJh93MYAls"
      }
    },
    {
      "cell_type": "code",
      "source": [
        "#starting with ice plots\n",
        "pmb.plot_ice( μ_, X, Y, grid=(1, 5), func=np.exp, figsize = (12,6))"
      ],
      "metadata": {
        "colab": {
          "base_uri": "https://localhost:8080/",
          "height": 577
        },
        "id": "nIzA6jUbYfkD",
        "outputId": "1273cfe2-9753-484d-81d6-59755ee9b8c3"
      },
      "execution_count": null,
      "outputs": [
        {
          "output_type": "execute_result",
          "data": {
            "text/plain": [
              "array([<Axes: xlabel='Class'>, <Axes: xlabel='MEANSHR'>,\n",
              "       <Axes: xlabel='TOTUSJZ'>, <Axes: xlabel='SAVNCPP'>], dtype=object)"
            ]
          },
          "metadata": {},
          "execution_count": 21
        },
        {
          "output_type": "display_data",
          "data": {
            "text/plain": [
              "<Figure size 1200x600 with 4 Axes>"
            ],
            "image/png": "[encoded data removed]"
          },
          "metadata": {}
        }
      ]
    },
    {
      "cell_type": "code",
      "source": [
        "vi_CME = pmb.compute_variable_importance(idata_CME3, μ_, X)\n",
        "pmb.plot_variable_importance(vi_CME)"
      ],
      "metadata": {
        "colab": {
          "base_uri": "https://localhost:8080/",
          "height": 314
        },
        "id": "VjrJ_jfkYjGp",
        "outputId": "d7553f95-ee6f-4592-ba50-74cdd18bba87"
      },
      "execution_count": null,
      "outputs": [
        {
          "output_type": "execute_result",
          "data": {
            "text/plain": [
              "<Axes: ylabel='R²'>"
            ]
          },
          "metadata": {},
          "execution_count": 22
        },
        {
          "output_type": "display_data",
          "data": {
            "text/plain": [
              "<Figure size 800x300 with 1 Axes>"
            ],
            "image/png": "[encoded data removed]"
          },
          "metadata": {}
        }
      ]
    },
    {
      "cell_type": "markdown",
      "source": [
        "YES!! This is very good! We had A successful removal of stuff and and increase in R squared value. Lets try to get this higher"
      ],
      "metadata": {
        "id": "n307_YVpY56y"
      }
    },
    {
      "cell_type": "markdown",
      "source": [
        "##Attempt 4"
      ],
      "metadata": {
        "id": "1MdYL_7IZC86"
      }
    },
    {
      "cell_type": "code",
      "source": [
        "#I have decided to drop TOTUSJZ and MEANSHR due to their \"inactive\" ICE Plots...Lets see how this goes\n",
        "\n",
        "#perdictor varible is the x\n",
        "X = CME[[\"Class\", \"SAVNCPP\"]]\n",
        "#perdicted varible is the y\n",
        "Y = CME[\"Class Value\"]"
      ],
      "metadata": {
        "id": "5M2mhfyTZFNI"
      },
      "execution_count": null,
      "outputs": []
    },
    {
      "cell_type": "code",
      "source": [
        "with pm.Model() as model_CMEATT4:\n",
        "  # Bart Goes right here\n",
        "  μ = μ_ = pmb.BART(\"μ_\", X, Y, m=50)\n",
        "\n",
        "  #the linear part, mu, is transformed via a sigmoid curve\n",
        "  θ = pm.Deterministic(\"θ\", pm.math.sigmoid(μ))\n",
        "\n",
        "  #likelihood Mr A suggested\n",
        "  y = pm.Bernoulli(\"y\", p=θ, observed= Y)\n",
        "\n",
        "  idata_CME4 = pm.sample()"
      ],
      "metadata": {
        "colab": {
          "base_uri": "https://localhost:8080/",
          "height": 150,
          "referenced_widgets": [
            "03bea8dcb25546768f6ac41d8799d72f",
            "b41d29b1b3884a458e452f2cd3e62d52"
          ]
        },
        "id": "U5dbAEZ2ZkB-",
        "outputId": "574537b1-bb22-4f33-cc60-187f7cb5c3af"
      },
      "execution_count": null,
      "outputs": [
        {
          "output_type": "display_data",
          "data": {
            "text/plain": [
              "Output()"
            ],
            "application/vnd.jupyter.widget-view+json": {
              "version_major": 2,
              "version_minor": 0,
              "model_id": "03bea8dcb25546768f6ac41d8799d72f"
            }
          },
          "metadata": {}
        },
        {
          "output_type": "display_data",
          "data": {
            "text/plain": [],
            "text/html": [
              "<pre style=\"white-space:pre;overflow-x:auto;line-height:normal;font-family:Menlo,'DejaVu Sans Mono',consolas,'Courier New',monospace\"></pre>\n"
            ]
          },
          "metadata": {}
        },
        {
          "output_type": "stream",
          "name": "stderr",
          "text": [
            "ERROR:pymc.stats.convergence:The effective sample size per chain is smaller than 100 for some parameters.  A higher number is needed for reliable rhat and ess computation. See https://arxiv.org/abs/1903.08008 for details\n"
          ]
        }
      ]
    },
    {
      "cell_type": "code",
      "source": [
        "#generate the posterior predictive dist\n",
        "pm.sample_posterior_predictive(idata_CME4, model_CMEATT4, extend_inferencedata=True)\n",
        "az.plot_ppc(idata_CME4, num_pp_samples=100, colors=[\"C1\", \"C0\", \"C1\"])"
      ],
      "metadata": {
        "colab": {
          "base_uri": "https://localhost:8080/",
          "height": 493,
          "referenced_widgets": [
            "206134e5888e42dd9c9c4069ac399a9d",
            "9826a8990ae748bc89ad76301b82740f"
          ]
        },
        "id": "Ew2-nwUoZnxW",
        "outputId": "945751a5-14d4-41dc-f181-6b77fcb609bb"
      },
      "execution_count": null,
      "outputs": [
        {
          "output_type": "display_data",
          "data": {
            "text/plain": [
              "Output()"
            ],
            "application/vnd.jupyter.widget-view+json": {
              "version_major": 2,
              "version_minor": 0,
              "model_id": "206134e5888e42dd9c9c4069ac399a9d"
            }
          },
          "metadata": {}
        },
        {
          "output_type": "display_data",
          "data": {
            "text/plain": [],
            "text/html": [
              "<pre style=\"white-space:pre;overflow-x:auto;line-height:normal;font-family:Menlo,'DejaVu Sans Mono',consolas,'Courier New',monospace\"></pre>\n"
            ]
          },
          "metadata": {}
        },
        {
          "output_type": "execute_result",
          "data": {
            "text/plain": [
              "<Axes: xlabel='y'>"
            ]
          },
          "metadata": {},
          "execution_count": 25
        },
        {
          "output_type": "display_data",
          "data": {
            "text/plain": [
              "<Figure size 640x480 with 1 Axes>"
            ],
            "image/png": "[encoded data removed]"
          },
          "metadata": {}
        }
      ]
    },
    {
      "cell_type": "code",
      "source": [
        "vi_CME = pmb.compute_variable_importance(idata_CME4, μ_, X)\n",
        "pmb.plot_variable_importance(vi_CME)"
      ],
      "metadata": {
        "colab": {
          "base_uri": "https://localhost:8080/",
          "height": 314
        },
        "id": "wQCvfEFdaJv4",
        "outputId": "7372d347-b4cf-43e5-914a-5230f87813f4"
      },
      "execution_count": null,
      "outputs": [
        {
          "output_type": "execute_result",
          "data": {
            "text/plain": [
              "<Axes: ylabel='R²'>"
            ]
          },
          "metadata": {},
          "execution_count": 26
        },
        {
          "output_type": "display_data",
          "data": {
            "text/plain": [
              "<Figure size 800x300 with 1 Axes>"
            ],
            "image/png": "[encoded data removed]"
          },
          "metadata": {}
        }
      ]
    },
    {
      "cell_type": "markdown",
      "source": [
        "Not much change here...Lets try one varible"
      ],
      "metadata": {
        "id": "uk9bRVlEKYSY"
      }
    },
    {
      "cell_type": "markdown",
      "source": [
        "##Attempt 5"
      ],
      "metadata": {
        "id": "nDt5KsnK4Fo0"
      }
    },
    {
      "cell_type": "markdown",
      "source": [
        "Based on all of the previous R values going up every time I remove a varible. (exept the last one) I am going to assume that the best thing to do is have Class as the only varible...lets see"
      ],
      "metadata": {
        "id": "86SSR6r34H3o"
      }
    },
    {
      "cell_type": "code",
      "source": [
        "\n",
        "\n",
        "#perdictor varible is the x\n",
        "X = CME[[\"Class\"]]\n",
        "#perdicted varible is the y\n",
        "Y = CME[\"Class Value\"]"
      ],
      "metadata": {
        "id": "YmLL6DGe4Tws"
      },
      "execution_count": null,
      "outputs": []
    },
    {
      "cell_type": "code",
      "source": [
        "X"
      ],
      "metadata": {
        "colab": {
          "base_uri": "https://localhost:8080/",
          "height": 458
        },
        "id": "q2vC89uxNR1R",
        "outputId": "df5a5382-7dec-4a0b-f29d-cf9a7fe8a807"
      },
      "execution_count": null,
      "outputs": [
        {
          "output_type": "execute_result",
          "data": {
            "text/plain": [
              "0      22.0\n",
              "1       2.0\n",
              "2       3.7\n",
              "3       2.5\n",
              "4       6.0\n",
              "       ... \n",
              "415     2.6\n",
              "416     1.3\n",
              "417     1.0\n",
              "418     3.8\n",
              "419     1.1\n",
              "Name: Class, Length: 420, dtype: float64"
            ],
            "text/html": [
              "<div>\n",
              "<style scoped>\n",
              "    .dataframe tbody tr th:only-of-type {\n",
              "        vertical-align: middle;\n",
              "    }\n",
              "\n",
              "    .dataframe tbody tr th {\n",
              "        vertical-align: top;\n",
              "    }\n",
              "\n",
              "    .dataframe thead th {\n",
              "        text-align: right;\n",
              "    }\n",
              "</style>\n",
              "<table border=\"1\" class=\"dataframe\">\n",
              "  <thead>\n",
              "    <tr style=\"text-align: right;\">\n",
              "      <th></th>\n",
              "      <th>Class</th>\n",
              "    </tr>\n",
              "  </thead>\n",
              "  <tbody>\n",
              "    <tr>\n",
              "      <th>0</th>\n",
              "      <td>22.0</td>\n",
              "    </tr>\n",
              "    <tr>\n",
              "      <th>1</th>\n",
              "      <td>2.0</td>\n",
              "    </tr>\n",
              "    <tr>\n",
              "      <th>2</th>\n",
              "      <td>3.7</td>\n",
              "    </tr>\n",
              "    <tr>\n",
              "      <th>3</th>\n",
              "      <td>2.5</td>\n",
              "    </tr>\n",
              "    <tr>\n",
              "      <th>4</th>\n",
              "      <td>6.0</td>\n",
              "    </tr>\n",
              "    <tr>\n",
              "      <th>...</th>\n",
              "      <td>...</td>\n",
              "    </tr>\n",
              "    <tr>\n",
              "      <th>415</th>\n",
              "      <td>2.6</td>\n",
              "    </tr>\n",
              "    <tr>\n",
              "      <th>416</th>\n",
              "      <td>1.3</td>\n",
              "    </tr>\n",
              "    <tr>\n",
              "      <th>417</th>\n",
              "      <td>1.0</td>\n",
              "    </tr>\n",
              "    <tr>\n",
              "      <th>418</th>\n",
              "      <td>3.8</td>\n",
              "    </tr>\n",
              "    <tr>\n",
              "      <th>419</th>\n",
              "      <td>1.1</td>\n",
              "    </tr>\n",
              "  </tbody>\n",
              "</table>\n",
              "<p>420 rows × 1 columns</p>\n",
              "</div><br><label><b>dtype:</b> float64</label>"
            ]
          },
          "metadata": {},
          "execution_count": 23
        }
      ]
    },
    {
      "cell_type": "code",
      "source": [
        "with pm.Model() as model_CMEATT5:\n",
        "  # Bart Goes right here\n",
        "  μ = μ_ = pmb.BART(\"μ_\", X, Y, m=50)\n",
        "\n",
        "  #the linear part, mu, is transformed via a sigmoid curve\n",
        "  θ = pm.Deterministic(\"θ\", pm.math.sigmoid(μ))\n",
        "\n",
        "  #likelihood Mr A suggested\n",
        "  y = pm.Bernoulli(\"y\", p=θ, observed= Y)\n",
        "\n",
        "  idata_CME5 = pm.sample()"
      ],
      "metadata": {
        "colab": {
          "base_uri": "https://localhost:8080/",
          "height": 113,
          "referenced_widgets": [
            "60febda967fe40c98be9d95a98ca5527",
            "ff5b8e4523e5409e96e7d173e631d5ce"
          ]
        },
        "id": "lY5HqpIt4XDc",
        "outputId": "587647c1-458d-4dc8-b41b-af87edb7bc57"
      },
      "execution_count": null,
      "outputs": [
        {
          "output_type": "display_data",
          "data": {
            "text/plain": [
              "Output()"
            ],
            "application/vnd.jupyter.widget-view+json": {
              "version_major": 2,
              "version_minor": 0,
              "model_id": "60febda967fe40c98be9d95a98ca5527"
            }
          },
          "metadata": {}
        },
        {
          "output_type": "display_data",
          "data": {
            "text/plain": [],
            "text/html": [
              "<pre style=\"white-space:pre;overflow-x:auto;line-height:normal;font-family:Menlo,'DejaVu Sans Mono',consolas,'Courier New',monospace\"></pre>\n"
            ]
          },
          "metadata": {}
        }
      ]
    },
    {
      "cell_type": "code",
      "source": [
        "#generate the posterior predictive dist\n",
        "pm.sample_posterior_predictive(idata_CME5, model_CMEATT5, extend_inferencedata=True)\n",
        "az.plot_ppc(idata_CME5, num_pp_samples=100, colors=[\"C1\", \"C0\", \"C1\"])"
      ],
      "metadata": {
        "colab": {
          "base_uri": "https://localhost:8080/",
          "height": 493,
          "referenced_widgets": [
            "4026b3fe12fa47fa8fad645ab90664c1",
            "f9c851963ded446ab46972d894db416a"
          ]
        },
        "id": "i4DrNfU87oMo",
        "outputId": "fae249c7-a7d6-4048-b37f-51b627457b59"
      },
      "execution_count": null,
      "outputs": [
        {
          "output_type": "display_data",
          "data": {
            "text/plain": [
              "Output()"
            ],
            "application/vnd.jupyter.widget-view+json": {
              "version_major": 2,
              "version_minor": 0,
              "model_id": "4026b3fe12fa47fa8fad645ab90664c1"
            }
          },
          "metadata": {}
        },
        {
          "output_type": "display_data",
          "data": {
            "text/plain": [],
            "text/html": [
              "<pre style=\"white-space:pre;overflow-x:auto;line-height:normal;font-family:Menlo,'DejaVu Sans Mono',consolas,'Courier New',monospace\"></pre>\n"
            ]
          },
          "metadata": {}
        },
        {
          "output_type": "execute_result",
          "data": {
            "text/plain": [
              "<Axes: xlabel='y'>"
            ]
          },
          "metadata": {},
          "execution_count": 13
        },
        {
          "output_type": "display_data",
          "data": {
            "text/plain": [
              "<Figure size 640x480 with 1 Axes>"
            ],
            "image/png": "[encoded data removed]"
          },
          "metadata": {}
        }
      ]
    },
    {
      "cell_type": "code",
      "source": [
        "vi_CME = pmb.compute_variable_importance(idata_CME5, μ_, X)\n",
        "pmb.plot_variable_importance(vi_CME)"
      ],
      "metadata": {
        "colab": {
          "base_uri": "https://localhost:8080/",
          "height": 314
        },
        "id": "UUQRuXXy4axd",
        "outputId": "8480fe1e-129c-4054-9902-b6399804b8e6"
      },
      "execution_count": null,
      "outputs": [
        {
          "output_type": "execute_result",
          "data": {
            "text/plain": [
              "<Axes: ylabel='R²'>"
            ]
          },
          "metadata": {},
          "execution_count": 30
        },
        {
          "output_type": "display_data",
          "data": {
            "text/plain": [
              "<Figure size 800x300 with 1 Axes>"
            ],
            "image/png": "[encoded data removed]"
          },
          "metadata": {}
        }
      ]
    },
    {
      "cell_type": "markdown",
      "source": [
        "Okay, so the R value did go up, but not as high as possible...Im going to try to add one or two back in and see what happens"
      ],
      "metadata": {
        "id": "KNHiRtl96rzp"
      }
    },
    {
      "cell_type": "markdown",
      "source": [
        "##Attempt 6"
      ],
      "metadata": {
        "id": "bLJgRiuT6zBh"
      }
    },
    {
      "cell_type": "code",
      "source": [
        "#im gonna add TOTUSJZ back in\n",
        "\n",
        "#perdictor varible is the x\n",
        "X = CME[[\"Class\", \"TOTUSJZ\"]]\n",
        "#perdicted varible is the y\n",
        "Y = CME[\"Class Value\"]"
      ],
      "metadata": {
        "id": "9dCTjDxI6287"
      },
      "execution_count": null,
      "outputs": []
    },
    {
      "cell_type": "code",
      "source": [
        "with pm.Model() as model_CMEATT6:\n",
        "  # Bart Goes right here\n",
        "  μ = μ_ = pmb.BART(\"μ_\", X, Y, m=50)\n",
        "\n",
        "  #the linear part, mu, is transformed via a sigmoid curve\n",
        "  θ = pm.Deterministic(\"θ\", pm.math.sigmoid(μ))\n",
        "\n",
        "  #likelihood Mr A suggested\n",
        "  y = pm.Bernoulli(\"y\", p=θ, observed= Y)\n",
        "\n",
        "  idata_CME6 = pm.sample()"
      ],
      "metadata": {
        "colab": {
          "base_uri": "https://localhost:8080/",
          "referenced_widgets": [
            "0e89e92df6864f2abd5ac1df35df4fea",
            "b8d8414e140543aa9927fa586509d0e6"
          ]
        },
        "id": "NUkxwesB7WCz",
        "outputId": "85eac9de-be6b-4fd0-beb7-34b7f586e7af"
      },
      "execution_count": null,
      "outputs": [
        {
          "output_type": "display_data",
          "data": {
            "text/plain": [
              "Output()"
            ],
            "application/vnd.jupyter.widget-view+json": {
              "version_major": 2,
              "version_minor": 0,
              "model_id": "0e89e92df6864f2abd5ac1df35df4fea"
            }
          },
          "metadata": {}
        },
        {
          "output_type": "display_data",
          "data": {
            "text/plain": [],
            "text/html": [
              "<pre style=\"white-space:pre;overflow-x:auto;line-height:normal;font-family:Menlo,'DejaVu Sans Mono',consolas,'Courier New',monospace\"></pre>\n"
            ]
          },
          "metadata": {}
        }
      ]
    },
    {
      "cell_type": "code",
      "source": [
        "vi_CME = pmb.compute_variable_importance(idata_CME6, μ_, X)\n",
        "pmb.plot_variable_importance(vi_CME)"
      ],
      "metadata": {
        "colab": {
          "base_uri": "https://localhost:8080/"
        },
        "id": "MmvA0KS27kvN",
        "outputId": "31a90dc7-7757-4cee-c7ca-077dce0f9836"
      },
      "execution_count": null,
      "outputs": [
        {
          "output_type": "execute_result",
          "data": {
            "text/plain": [
              "<Axes: ylabel='R²'>"
            ]
          },
          "metadata": {},
          "execution_count": 47
        },
        {
          "output_type": "display_data",
          "data": {
            "text/plain": [
              "<Figure size 800x300 with 1 Axes>"
            ],
            "image/png": "[encoded data removed]"
          },
          "metadata": {}
        }
      ]
    },
    {
      "cell_type": "markdown",
      "source": [
        "I Mean it's not bad, but its not better than Just Class alone...\n",
        "\n",
        "I ended up trying a couple renditions trying to get the R squared value up but nothing worked.\n",
        "\n",
        "This actually does make my life a little easier though as I can simply use Class for my plot to see at what point a solar flare will become a CME"
      ],
      "metadata": {
        "id": "rDhVuPM_-8el"
      }
    },
    {
      "cell_type": "markdown",
      "source": [
        "##Conclusion"
      ],
      "metadata": {
        "id": "wmZgzKse_S5R"
      }
    },
    {
      "cell_type": "code",
      "source": [
        "posterior_mean = idata_CME5.posterior[\"μ_\"]\n",
        "\n",
        "μ_hdi = az.hdi(ary=idata_CME5, group=\"posterior\", var_names=[\"μ_\"], hdi_prob=0.74)\n",
        "\n",
        "pps = az.extract(\n",
        "    idata_CME5, group=\"posterior_predictive\", var_names=[\"y\"]\n",
        ").T"
      ],
      "metadata": {
        "id": "dud7TEooNsta"
      },
      "execution_count": null,
      "outputs": []
    },
    {
      "cell_type": "code",
      "source": [
        "X = CME[[\"Class\"]]\n",
        "idx = np.argsort(X)\n",
        "fig, ax = plt.subplots()\n",
        "\n",
        "az.plot_hdi(\n",
        "    x=X,\n",
        "    y=pps,\n",
        "    ax=ax,\n",
        "    hdi_prob=0.93,\n",
        "    fill_kwargs={\"alpha\": 0.3, \"label\": r\"Posterior Predictive $93\\%$ HDI\"},\n",
        ")\n",
        "\n",
        "az.plot_hdi(\n",
        "    x=X[X],\n",
        "    y=posterior_mean,\n",
        "    ax=ax,\n",
        "    hdi_prob=0.74,\n",
        "    fill_kwargs={\"alpha\": 0.6, \"label\": r\"Mean $74\\%$ HDI\"},\n",
        ")\n",
        "ax.plot(CME[\"Class Value\"], CME[\"Class\"], \"o\", c=\"C0\", label=\"Raw Data\")\n",
        "ax.legend(loc=\"lower right\")\n",
        "ax.set(\n",
        "    title=\"Posterior Predictive\",\n",
        "    xlabel=\"Class\",\n",
        "    ylabel=\"Class Value\",\n",
        ");"
      ],
      "metadata": {
        "colab": {
          "base_uri": "https://localhost:8080/",
          "height": 822
        },
        "id": "dOQ_uMhWE75P",
        "outputId": "bcebea4b-0b6b-4796-ce05-bdc381cb6541"
      },
      "execution_count": null,
      "outputs": [
        {
          "output_type": "stream",
          "name": "stderr",
          "text": [
            "/usr/local/lib/python3.11/dist-packages/arviz/plots/hdiplot.py:166: FutureWarning: hdi currently interprets 2d data as (draw, shape) but this will change in a future release to (chain, draw) for coherence with other functions\n",
            "  hdi_data = hdi(y, hdi_prob=hdi_prob, circular=circular, multimodal=False, **hdi_kwargs)\n"
          ]
        },
        {
          "output_type": "error",
          "ename": "TypeError",
          "evalue": "Dimension mismatch for x: (420, 1) and hdi: (420, 2). Check the dimensions of y andhdi_kwargs to make sure they are compatible",
          "traceback": [
            "\u001b[0;31m---------------------------------------------------------------------------\u001b[0m",
            "\u001b[0;31mTypeError\u001b[0m                                 Traceback (most recent call last)",
            "\u001b[0;32m<ipython-input-17-572b9d506c29>\u001b[0m in \u001b[0;36m<cell line: 0>\u001b[0;34m()\u001b[0m\n\u001b[1;32m      3\u001b[0m \u001b[0mfig\u001b[0m\u001b[0;34m,\u001b[0m \u001b[0max\u001b[0m \u001b[0;34m=\u001b[0m \u001b[0mplt\u001b[0m\u001b[0;34m.\u001b[0m\u001b[0msubplots\u001b[0m\u001b[0;34m(\u001b[0m\u001b[0;34m)\u001b[0m\u001b[0;34m\u001b[0m\u001b[0;34m\u001b[0m\u001b[0m\n\u001b[1;32m      4\u001b[0m \u001b[0;34m\u001b[0m\u001b[0m\n\u001b[0;32m----> 5\u001b[0;31m az.plot_hdi(\n\u001b[0m\u001b[1;32m      6\u001b[0m     \u001b[0mx\u001b[0m\u001b[0;34m=\u001b[0m\u001b[0mX\u001b[0m\u001b[0;34m,\u001b[0m\u001b[0;34m\u001b[0m\u001b[0;34m\u001b[0m\u001b[0m\n\u001b[1;32m      7\u001b[0m     \u001b[0my\u001b[0m\u001b[0;34m=\u001b[0m\u001b[0mpps\u001b[0m\u001b[0;34m,\u001b[0m\u001b[0;34m\u001b[0m\u001b[0;34m\u001b[0m\u001b[0m\n",
            "\u001b[0;32m/usr/local/lib/python3.11/dist-packages/arviz/plots/hdiplot.py\u001b[0m in \u001b[0;36mplot_hdi\u001b[0;34m(x, y, hdi_prob, hdi_data, color, circular, smooth, smooth_kwargs, figsize, fill_kwargs, plot_kwargs, hdi_kwargs, ax, backend, backend_kwargs, show)\u001b[0m\n\u001b[1;32m    172\u001b[0m             \u001b[0;34m\"hdi_kwargs to make sure they are compatible\"\u001b[0m\u001b[0;34m\u001b[0m\u001b[0;34m\u001b[0m\u001b[0m\n\u001b[1;32m    173\u001b[0m         )\n\u001b[0;32m--> 174\u001b[0;31m         \u001b[0;32mraise\u001b[0m \u001b[0mTypeError\u001b[0m\u001b[0;34m(\u001b[0m\u001b[0mmsg\u001b[0m\u001b[0;34m.\u001b[0m\u001b[0mformat\u001b[0m\u001b[0;34m(\u001b[0m\u001b[0mx_shape\u001b[0m\u001b[0;34m,\u001b[0m \u001b[0mhdi_shape\u001b[0m\u001b[0;34m)\u001b[0m\u001b[0;34m)\u001b[0m\u001b[0;34m\u001b[0m\u001b[0;34m\u001b[0m\u001b[0m\n\u001b[0m\u001b[1;32m    175\u001b[0m \u001b[0;34m\u001b[0m\u001b[0m\n\u001b[1;32m    176\u001b[0m     \u001b[0;32mif\u001b[0m \u001b[0msmooth\u001b[0m\u001b[0;34m:\u001b[0m\u001b[0;34m\u001b[0m\u001b[0;34m\u001b[0m\u001b[0m\n",
            "\u001b[0;31mTypeError\u001b[0m: Dimension mismatch for x: (420, 1) and hdi: (420, 2). Check the dimensions of y andhdi_kwargs to make sure they are compatible"
          ]
        },
        {
          "output_type": "display_data",
          "data": {
            "text/plain": [
              "<Figure size 640x480 with 1 Axes>"
            ],
            "image/png": "[encoded data removed]"
          },
          "metadata": {}
        }
      ]
    },
    {
      "cell_type": "markdown",
      "source": [
        "I have no idea why this isn't working, but I can't do anything about it. Kinda sucks I cant see the thing ive been working toward this whole time.\n",
        "\n",
        "But I can say that the likelihood of a CME occouring seems to be almost directly tied to how large the solar flare is."
      ],
      "metadata": {
        "id": "1_clLKuOW20K"
      }
    }
  ]
}